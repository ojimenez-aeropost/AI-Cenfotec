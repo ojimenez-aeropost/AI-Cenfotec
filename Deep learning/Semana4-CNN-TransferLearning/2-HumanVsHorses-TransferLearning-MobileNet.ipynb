{
 "cells": [
  {
   "cell_type": "markdown",
   "metadata": {},
   "source": [
    "### Human vs Horses - Transfer Learning"
   ]
  },
  {
   "cell_type": "code",
   "execution_count": null,
   "metadata": {},
   "outputs": [],
   "source": [
    "import warnings\n",
    "warnings.filterwarnings('ignore')\n",
    "\n",
    "import numpy as np\n",
    "import tensorflow as tf\n",
    "from tensorflow import keras\n",
    "import matplotlib.pyplot as plt\n",
    "from keras_preprocessing.image import ImageDataGenerator\n",
    "from tensorflow.keras.optimizers import RMSprop\n",
    "from tensorflow.keras.optimizers import Adam"
   ]
  },
  {
   "cell_type": "markdown",
   "metadata": {},
   "source": [
    "### Cargar Imagenes de Entrenamiento y Prueba"
   ]
  },
  {
   "cell_type": "code",
   "execution_count": null,
   "metadata": {},
   "outputs": [],
   "source": [
    "ENTRENAMIENTO_DIR = r\"C:\\Users\\XPC\\Desktop\\Datasets\\horse-or-human\\train\"\n",
    "PRUEBAS_DIR = r\"C:\\Users\\XPC\\Desktop\\Datasets\\horse-or-human\\validation\"\n",
    "\n",
    "IMG_SIZE = 100\n",
    "BATCH_SIZE = 32\n",
    "NUM_CLASES = 1\n",
    "\n",
    "# configuracion de entrenamiento\n",
    "entrenamiento_datagen = ImageDataGenerator(\n",
    "    rescale = 1./255, \n",
    "    rotation_range=25,\n",
    "    width_shift_range=0.1,\n",
    "    height_shift_range=0.1, \n",
    "    shear_range=0.2, \n",
    "    zoom_range=0.2,\n",
    "    horizontal_flip=True,\n",
    "    fill_mode=\"nearest\",\n",
    "    validation_split=0.2)\n",
    "\n",
    "# generador\n",
    "generador_entrenamiento = entrenamiento_datagen.flow_from_directory(\n",
    "    ENTRENAMIENTO_DIR,\n",
    "    target_size=(IMG_SIZE,IMG_SIZE),\n",
    "    batch_size=BATCH_SIZE,\n",
    "    class_mode='binary'\n",
    ")\n",
    "\n",
    "# configuacion de pruebas (test set)\n",
    "pruebas_datagen = ImageDataGenerator(rescale=1./255)\n",
    "\n",
    "# generador ()\n",
    "generator_pruebas = pruebas_datagen.flow_from_directory(\n",
    "        PRUEBAS_DIR,\n",
    "        target_size=(IMG_SIZE, IMG_SIZE),\n",
    "        batch_size=BATCH_SIZE,\n",
    "        class_mode='binary'\n",
    ")"
   ]
  },
  {
   "cell_type": "code",
   "execution_count": null,
   "metadata": {},
   "outputs": [],
   "source": [
    "# iterator\n",
    "aug_iter = entrenamiento_datagen.flow_from_directory(\n",
    "    ENTRENAMIENTO_DIR,\n",
    "    target_size=(IMG_SIZE,IMG_SIZE),\n",
    "    batch_size=1\n",
    ")\n",
    "\n",
    "# mostrar imagenes horizontales\n",
    "fig, ax = plt.subplots(nrows=1, ncols=3, figsize=(15,15))\n",
    "\n",
    "# obtiene los labels de las clases de flow from directory\n",
    "def getLabel(index):\n",
    "    return (list(aug_iter.class_indices.keys())[list(aug_iter.class_indices.values()).index(index)])\n",
    "\n",
    "# mostrar 3 imagenes\n",
    "for i in range(3):\n",
    "    \n",
    "    obj = next(aug_iter)\n",
    "    \n",
    "    # obtenemos el index de cada clase\n",
    "    class_index = np.argmax(obj[1])\n",
    "    \n",
    "    # obtener imagenes del generador\n",
    "    image = obj[0]\n",
    "\n",
    "    # mostar 3 imagenes\n",
    "    ax[i].imshow(image.reshape(IMG_SIZE, IMG_SIZE, 3))\n",
    "    ax[i].set_title(getLabel(class_index))\n",
    "    ax[i].axis('off')"
   ]
  },
  {
   "cell_type": "markdown",
   "metadata": {},
   "source": [
    "### Transfer Learning MobileNet\n",
    "\n",
    "https://keras.io/api/applications/"
   ]
  },
  {
   "cell_type": "code",
   "execution_count": null,
   "metadata": {},
   "outputs": [],
   "source": [
    "inputs = keras.Input(shape=(IMG_SIZE, IMG_SIZE, 3))\n",
    "\n",
    "# === DenseNet201 CNN Model ===================\n",
    "base_model = keras.applications.MobileNet(\n",
    "    weights = 'imagenet',\n",
    "    input_shape=(IMG_SIZE, IMG_SIZE, 3),\n",
    "    include_top=False)\n",
    "\n",
    "base_model.trainable = False\n",
    "# === DenseNet201 CNN Model ===================\n",
    "\n",
    "# === Arquitectura ===================\n",
    "x = base_model.output\n",
    "x = keras.layers.Flatten()(x)\n",
    "x = keras.layers.Dense(1024, activation='relu')(x)\n",
    "x = keras.layers.Dropout(0.2)(x)\n",
    "outputs = keras.layers.Dense(NUM_CLASES, activation='sigmoid')(x)\n",
    "\n",
    "# se acopla el modelo\n",
    "model = keras.Model(base_model.input, outputs)\n",
    "# === Arquitectura ===================\n",
    "\n",
    "# congelar capas\n",
    "for layer in base_model.layers:\n",
    "    layer.trainable = False\n",
    "\n",
    "# compilar el modelo.\n",
    "model.compile(loss='binary_crossentropy',\n",
    "              optimizer=RMSprop(lr=0.001),\n",
    "              metrics=['accuracy'])\n",
    "\n",
    "model.summary()"
   ]
  },
  {
   "cell_type": "markdown",
   "metadata": {},
   "source": [
    "### Inicio del Entrenamiento"
   ]
  },
  {
   "cell_type": "code",
   "execution_count": null,
   "metadata": {},
   "outputs": [],
   "source": [
    "history = model.fit(\n",
    "    generador_entrenamiento,\n",
    "    steps_per_epoch=80,  \n",
    "    epochs=5,\n",
    "    verbose=1,\n",
    "    validation_data=generator_pruebas,\n",
    "    validation_steps=50\n",
    ")"
   ]
  },
  {
   "cell_type": "code",
   "execution_count": null,
   "metadata": {},
   "outputs": [],
   "source": [
    "plt.plot(history.history['acc'])\n",
    "plt.plot(history.history['val_acc'])\n",
    "plt.title('model accuracy')\n",
    "plt.ylabel('accuracy')\n",
    "plt.xlabel('epoch')\n",
    "plt.legend(['train', 'test'], loc='upper left')\n",
    "plt.ylim([0, 1.1])\n",
    "plt.show()\n",
    "\n",
    "plt.plot(history.history['loss'])\n",
    "plt.plot(history.history['val_loss'])\n",
    "plt.title('model loss')\n",
    "plt.ylabel('loss')\n",
    "plt.xlabel('epoch')\n",
    "plt.legend(['train', 'test'], loc='upper left')\n",
    "plt.ylim([0, 1.1])\n",
    "plt.show()"
   ]
  },
  {
   "cell_type": "markdown",
   "metadata": {},
   "source": [
    "## Realizar algunas predicciones!"
   ]
  },
  {
   "cell_type": "code",
   "execution_count": null,
   "metadata": {},
   "outputs": [],
   "source": [
    "# mostrar imagenes horizontales\n",
    "fig, ax = plt.subplots(nrows=1, ncols=3, figsize=(15,15))\n",
    "\n",
    "# mostrar 3 imagenes\n",
    "for i in range(3):\n",
    "\n",
    "    obj = next(aug_iter)\n",
    "    \n",
    "    # obtenemos el index de cada clase\n",
    "    class_index = np.argmax(obj[1])\n",
    "    \n",
    "    # obtener imagenes del generador\n",
    "    image = obj[0]\n",
    "    \n",
    "    # valor real\n",
    "    real = getLabel(class_index)\n",
    "    # prediccion!\n",
    "    pred = model.predict([image])\n",
    "    if (pred[0][0]==0):\n",
    "        pred = \"horses\"\n",
    "    else:\n",
    "        pred = \"humans\"\n",
    "    # mostar 3 imagenes\n",
    "    ax[i].imshow(image.reshape(IMG_SIZE, IMG_SIZE, 3))\n",
    "    ax[i].set_title(real+\"\\n\\n\"+pred+\"\\n\")\n",
    "    ax[i].axis('off')"
   ]
  }
 ],
 "metadata": {
  "kernelspec": {
   "display_name": "Python 3",
   "language": "python",
   "name": "python3"
  },
  "language_info": {
   "codemirror_mode": {
    "name": "ipython",
    "version": 3
   },
   "file_extension": ".py",
   "mimetype": "text/x-python",
   "name": "python",
   "nbconvert_exporter": "python",
   "pygments_lexer": "ipython3",
   "version": "3.6.10"
  }
 },
 "nbformat": 4,
 "nbformat_minor": 4
}
