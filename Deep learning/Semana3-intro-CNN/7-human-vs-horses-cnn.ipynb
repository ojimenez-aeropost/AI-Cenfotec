{
 "cells": [
  {
   "cell_type": "code",
   "execution_count": 2,
   "metadata": {},
   "outputs": [],
   "source": [
    "import tensorflow as tf\n",
    "import keras_preprocessing\n",
    "from keras_preprocessing import image\n",
    "from keras_preprocessing.image import ImageDataGenerator\n",
    "from tensorflow import keras\n",
    "from tensorflow.keras import layers\n",
    "from tensorflow.keras.models import Sequential\n",
    "from tensorflow.keras.layers import Dense\n",
    "\n",
    "import warnings\n",
    "warnings.filterwarnings('ignore')"
   ]
  },
  {
   "cell_type": "code",
   "execution_count": 51,
   "metadata": {},
   "outputs": [
    {
     "name": "stdout",
     "output_type": "stream",
     "text": [
      "Found 1027 images belonging to 2 classes.\n",
      "Found 256 images belonging to 2 classes.\n"
     ]
    }
   ],
   "source": [
    "ENTRENAMIENTO_DIR = \"C:/Users/XPC/Desktop/horse-or-human/train\"\n",
    "PRUEBAS_DIR = \"C:/Users/XPC/Desktop/horse-or-human/validation\"\n",
    "\n",
    "SIZE = 150\n",
    "\n",
    "# configuracion de entrenamiento\n",
    "entrenamiento_datagen = ImageDataGenerator(rescale = 1./255)\n",
    "\n",
    "# generador\n",
    "generador_entrenamiento = entrenamiento_datagen.flow_from_directory(\n",
    "    ENTRENAMIENTO_DIR,\n",
    "    target_size=(SIZE,SIZE),\n",
    "    batch_size=128,\n",
    "    class_mode='binary'\n",
    ")\n",
    "\n",
    "# configuacion de pruebas (test set)\n",
    "pruebas_datagen = ImageDataGenerator(rescale=1./255)\n",
    "\n",
    "# generador\n",
    "generator_pruebas = pruebas_datagen.flow_from_directory(\n",
    "        PRUEBAS_DIR,\n",
    "        target_size=(SIZE, SIZE),\n",
    "        batch_size=32,\n",
    "        class_mode='binary')"
   ]
  },
  {
   "cell_type": "code",
   "execution_count": 56,
   "metadata": {},
   "outputs": [
    {
     "name": "stdout",
     "output_type": "stream",
     "text": [
      "Model: \"sequential_13\"\n",
      "_________________________________________________________________\n",
      "Layer (type)                 Output Shape              Param #   \n",
      "=================================================================\n",
      "conv2d_61 (Conv2D)           (None, 148, 148, 16)      448       \n",
      "_________________________________________________________________\n",
      "spatial_dropout2d_2 (Spatial (None, 148, 148, 16)      0         \n",
      "_________________________________________________________________\n",
      "max_pooling2d_61 (MaxPooling (None, 74, 74, 16)        0         \n",
      "_________________________________________________________________\n",
      "conv2d_62 (Conv2D)           (None, 72, 72, 32)        4640      \n",
      "_________________________________________________________________\n",
      "spatial_dropout2d_3 (Spatial (None, 72, 72, 32)        0         \n",
      "_________________________________________________________________\n",
      "max_pooling2d_62 (MaxPooling (None, 36, 36, 32)        0         \n",
      "_________________________________________________________________\n",
      "conv2d_63 (Conv2D)           (None, 34, 34, 64)        18496     \n",
      "_________________________________________________________________\n",
      "spatial_dropout2d_4 (Spatial (None, 34, 34, 64)        0         \n",
      "_________________________________________________________________\n",
      "max_pooling2d_63 (MaxPooling (None, 17, 17, 64)        0         \n",
      "_________________________________________________________________\n",
      "conv2d_64 (Conv2D)           (None, 15, 15, 64)        36928     \n",
      "_________________________________________________________________\n",
      "spatial_dropout2d_5 (Spatial (None, 15, 15, 64)        0         \n",
      "_________________________________________________________________\n",
      "max_pooling2d_64 (MaxPooling (None, 7, 7, 64)          0         \n",
      "_________________________________________________________________\n",
      "conv2d_65 (Conv2D)           (None, 5, 5, 64)          36928     \n",
      "_________________________________________________________________\n",
      "spatial_dropout2d_6 (Spatial (None, 5, 5, 64)          0         \n",
      "_________________________________________________________________\n",
      "max_pooling2d_65 (MaxPooling (None, 2, 2, 64)          0         \n",
      "_________________________________________________________________\n",
      "flatten_13 (Flatten)         (None, 256)               0         \n",
      "_________________________________________________________________\n",
      "dense_26 (Dense)             (None, 512)               131584    \n",
      "_________________________________________________________________\n",
      "dense_27 (Dense)             (None, 1)                 513       \n",
      "=================================================================\n",
      "Total params: 229,537\n",
      "Trainable params: 229,537\n",
      "Non-trainable params: 0\n",
      "_________________________________________________________________\n"
     ]
    }
   ],
   "source": [
    "model = tf.keras.models.Sequential([\n",
    "    # Note the input shape is the desired size of the image SIZExSIZE with 3 bytes color\n",
    "    # This is the first convolution\n",
    "    tf.keras.layers.Conv2D(16, (3,3), activation='relu', input_shape=(SIZE, SIZE, 3)),\n",
    "    tf.keras.layers.SpatialDropout2D(0.5),\n",
    "    tf.keras.layers.MaxPooling2D(2, 2),\n",
    "    # The second convolution\n",
    "    tf.keras.layers.Conv2D(32, (3,3), activation='relu'),\n",
    "    tf.keras.layers.SpatialDropout2D(0.5),\n",
    "    tf.keras.layers.MaxPooling2D(2,2),\n",
    "    # The third convolution\n",
    "    tf.keras.layers.Conv2D(64, (3,3), activation='relu'),\n",
    "    tf.keras.layers.SpatialDropout2D(0.5),\n",
    "    tf.keras.layers.MaxPooling2D(2,2),\n",
    "    # The fourth convolution\n",
    "    tf.keras.layers.Conv2D(64, (3,3), activation='relu'),\n",
    "    tf.keras.layers.SpatialDropout2D(0.5),\n",
    "    tf.keras.layers.MaxPooling2D(2,2),\n",
    "    # The fifth convolution\n",
    "    tf.keras.layers.Conv2D(64, (3,3), activation='relu'),\n",
    "    tf.keras.layers.SpatialDropout2D(0.5),\n",
    "    tf.keras.layers.MaxPooling2D(2,2),\n",
    "    # Flatten the results to feed into a DNN\n",
    "    tf.keras.layers.Flatten(),\n",
    "    # 512 neuron hidden layer\n",
    "    tf.keras.layers.Dense(512, activation='relu'),\n",
    "    # Only 1 output neuron. It will contain a value from 0-1 where 0 for 1 class ('horses') and 1 for the other ('humans')\n",
    "    tf.keras.layers.Dense(1, activation='sigmoid')\n",
    "])\n",
    "\n",
    "model.summary()"
   ]
  },
  {
   "cell_type": "code",
   "execution_count": 57,
   "metadata": {},
   "outputs": [
    {
     "name": "stdout",
     "output_type": "stream",
     "text": [
      "Epoch 1/15\n",
      "20/20 [==============================] - 8s 380ms/step - loss: 0.6939 - acc: 0.5666 - val_loss: 0.6423 - val_acc: 0.8203\n",
      "Epoch 2/15\n",
      "20/20 [==============================] - 8s 376ms/step - loss: 0.4476 - acc: 0.8127 - val_loss: 0.6452 - val_acc: 0.7984\n",
      "Epoch 3/15\n",
      "20/20 [==============================] - 7s 358ms/step - loss: 0.2774 - acc: 0.8861 - val_loss: 0.5840 - val_acc: 0.8562\n",
      "Epoch 4/15\n",
      "20/20 [==============================] - 7s 352ms/step - loss: 0.2952 - acc: 0.8906 - val_loss: 0.5718 - val_acc: 0.8109\n",
      "Epoch 5/15\n",
      "20/20 [==============================] - 8s 393ms/step - loss: 0.2517 - acc: 0.9152 - val_loss: 0.7318 - val_acc: 0.8141\n",
      "Epoch 6/15\n",
      "20/20 [==============================] - 7s 348ms/step - loss: 0.2383 - acc: 0.9227 - val_loss: 0.6776 - val_acc: 0.8172\n",
      "Epoch 7/15\n",
      "20/20 [==============================] - 8s 385ms/step - loss: 0.2076 - acc: 0.9310 - val_loss: 0.9499 - val_acc: 0.7984\n",
      "Epoch 8/15\n",
      "20/20 [==============================] - 7s 351ms/step - loss: 0.1806 - acc: 0.9312 - val_loss: 0.8020 - val_acc: 0.8313\n",
      "Epoch 9/15\n",
      "20/20 [==============================] - 8s 379ms/step - loss: 0.2189 - acc: 0.9149 - val_loss: 0.6570 - val_acc: 0.7953\n",
      "Epoch 10/15\n",
      "20/20 [==============================] - 7s 361ms/step - loss: 0.1918 - acc: 0.9385 - val_loss: 0.6814 - val_acc: 0.8125\n",
      "Epoch 11/15\n",
      "20/20 [==============================] - 7s 349ms/step - loss: 0.1807 - acc: 0.9359 - val_loss: 0.9066 - val_acc: 0.7891\n",
      "Epoch 12/15\n",
      "20/20 [==============================] - 7s 366ms/step - loss: 0.1607 - acc: 0.9403 - val_loss: 0.8893 - val_acc: 0.8078\n",
      "Epoch 13/15\n",
      "20/20 [==============================] - 7s 357ms/step - loss: 0.1505 - acc: 0.9468 - val_loss: 0.7666 - val_acc: 0.8469\n",
      "Epoch 14/15\n",
      "20/20 [==============================] - 8s 394ms/step - loss: 0.1784 - acc: 0.9338 - val_loss: 0.8241 - val_acc: 0.8203\n",
      "Epoch 15/15\n",
      "20/20 [==============================] - 7s 366ms/step - loss: 0.1313 - acc: 0.9563 - val_loss: 0.8914 - val_acc: 0.8078\n"
     ]
    }
   ],
   "source": [
    "from tensorflow.keras.optimizers import RMSprop\n",
    "\n",
    "model.compile(loss='binary_crossentropy',\n",
    "              optimizer=RMSprop(lr=0.001),\n",
    "              metrics=['accuracy'])\n",
    "\n",
    "history = model.fit(\n",
    "    generador_entrenamiento,\n",
    "    steps_per_epoch=20,  \n",
    "    epochs=15,\n",
    "    verbose=1,\n",
    "    validation_data=generator_pruebas,\n",
    "    validation_steps=20\n",
    ")"
   ]
  },
  {
   "cell_type": "code",
   "execution_count": 58,
   "metadata": {},
   "outputs": [
    {
     "data": {
      "image/png": "[encoded data removed]",
      "text/plain": [
       "<Figure size 432x288 with 1 Axes>"
      ]
     },
     "metadata": {
      "needs_background": "light"
     },
     "output_type": "display_data"
    },
    {
     "data": {
      "image/png": "[encoded data removed]",
      "text/plain": [
       "<Figure size 432x288 with 1 Axes>"
      ]
     },
     "metadata": {
      "needs_background": "light"
     },
     "output_type": "display_data"
    }
   ],
   "source": [
    "import matplotlib.pyplot as plt\n",
    "\n",
    "plt.plot(history.history['acc'])\n",
    "plt.plot(history.history['val_acc'])\n",
    "plt.title('model accuracy')\n",
    "plt.ylabel('accuracy')\n",
    "plt.xlabel('epoch')\n",
    "plt.legend(['train', 'test'], loc='upper left')\n",
    "plt.ylim([0, 1.1])\n",
    "plt.show()\n",
    "\n",
    "plt.plot(history.history['loss'])\n",
    "plt.plot(history.history['val_loss'])\n",
    "plt.title('model loss')\n",
    "plt.ylabel('loss')\n",
    "plt.xlabel('epoch')\n",
    "plt.legend(['train', 'test'], loc='upper left')\n",
    "plt.ylim([0, 1.1])\n",
    "plt.show()\n",
    "\n",
    "#https://colab.research.google.com/github/lmoroney/dlaicourse/blob/master/Course%201%20-%20Part%208%20-%20Lesson%202%20-%20Notebook.ipynb#scrollTo=PLy3pthUS0D2"
   ]
  },
  {
   "cell_type": "code",
   "execution_count": 37,
   "metadata": {},
   "outputs": [
    {
     "name": "stdout",
     "output_type": "stream",
     "text": [
      "Test loss: 1.5522472746670246\n",
      "Test accuracy: 0.8359375\n"
     ]
    }
   ],
   "source": [
    "score = model.evaluate_generator (generator_pruebas,verbose=0)\n",
    "print(\"Test loss:\", score[0])\n",
    "print(\"Test accuracy:\", score[1])"
   ]
  }
 ],
 "metadata": {
  "kernelspec": {
   "display_name": "Python 3",
   "language": "python",
   "name": "python3"
  },
  "language_info": {
   "codemirror_mode": {
    "name": "ipython",
    "version": 3
   },
   "file_extension": ".py",
   "mimetype": "text/x-python",
   "name": "python",
   "nbconvert_exporter": "python",
   "pygments_lexer": "ipython3",
   "version": "3.6.12"
  }
 },
 "nbformat": 4,
 "nbformat_minor": 4
}
