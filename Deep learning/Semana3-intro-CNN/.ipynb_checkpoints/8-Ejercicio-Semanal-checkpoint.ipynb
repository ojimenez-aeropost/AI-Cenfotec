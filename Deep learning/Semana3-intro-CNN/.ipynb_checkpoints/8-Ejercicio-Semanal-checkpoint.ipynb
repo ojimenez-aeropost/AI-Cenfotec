{
 "cells": [
  {
   "cell_type": "markdown",
   "metadata": {},
   "source": [
    "## Fruits 360 con Redes Neuronales Convolucionales\n",
    "\n",
    "Esta semana se encargara de entrenar un modelo con un dataset de 760Mb sobre diferentes frutas.\n",
    "Debe utilizar una red convolucional hecha por ud, para generar un clasificador de frutas.\n",
    "Debe crear un notebook en kaggle y entregar un archivo txt con la ruta del ejercicio.\n",
    "\n",
    "https://www.kaggle.com/moltean/fruits\n",
    "\n",
    "Informacion de kaggle del dataset:\n",
    "\n",
    "- Total number of images: 90483.\n",
    "- Training set size: 67692 images (one fruit or vegetable per image).\n",
    "- Test set size: 22688 images (one fruit or vegetable per image).\n",
    "- Multi-fruits set size: 103 images (more than one fruit (or fruit class) per image)\n",
    "- Number of classes: 131 (fruits and vegetables).\n",
    "- Image size: 100x100 pixels."
   ]
  }
 ],
 "metadata": {
  "kernelspec": {
   "display_name": "Python 3",
   "language": "python",
   "name": "python3"
  },
  "language_info": {
   "codemirror_mode": {
    "name": "ipython",
    "version": 3
   },
   "file_extension": ".py",
   "mimetype": "text/x-python",
   "name": "python",
   "nbconvert_exporter": "python",
   "pygments_lexer": "ipython3",
   "version": "3.6.10"
  }
 },
 "nbformat": 4,
 "nbformat_minor": 4
}
