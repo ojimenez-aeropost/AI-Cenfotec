{
 "cells": [
  {
   "cell_type": "markdown",
   "metadata": {},
   "source": [
    "## Backpropagation - Derivada del Error\n",
    "\n",
    "### Cálculo de Errores con Vectorización \n",
    "\n",
    "De forma similar al algoritmo de Gradient Descent para Logistic Regression, necesitamos calcular la derivada del error respecto a los pesos w, para determinar la pendiente y poder determinar, mas adelante, si el algoritmo ha llegado a convergir.\n",
    "\n",
    "Las siguientes ecuaciones detallan como se calcula la derivada del error y como se actualizan los pesos. Con esto, ya casi tenemos suficiente para la implementación completa del algoritmo de backpropagation.    \n",
    "\n",
    "\n",
    "<img src=\"img/f1.png\" />\n",
    "\n",
    "Importante:\n",
    "- (tk - ok) representa el error y - y’\n",
    "- Alpha ($\\alpha$) es el learning rate\n",
    "- En la última ecuación el wjk interno representa el valor anterior.\n",
    "\n",
    "### Ejemplo: Cálculo de peso w11\n",
    "\n",
    "<img src=\"img/bp3.png\" />\n"
   ]
  }
 ],
 "metadata": {
  "kernelspec": {
   "display_name": "Python 3",
   "language": "python",
   "name": "python3"
  },
  "language_info": {
   "codemirror_mode": {
    "name": "ipython",
    "version": 3
   },
   "file_extension": ".py",
   "mimetype": "text/x-python",
   "name": "python",
   "nbconvert_exporter": "python",
   "pygments_lexer": "ipython3",
   "version": "3.6.10"
  }
 },
 "nbformat": 4,
 "nbformat_minor": 4
}
