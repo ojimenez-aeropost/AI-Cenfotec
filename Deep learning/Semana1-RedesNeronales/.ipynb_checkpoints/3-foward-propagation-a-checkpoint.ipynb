{
 "cells": [
  {
   "cell_type": "markdown",
   "metadata": {},
   "source": [
    "## Forward Propagation\n",
    "\n",
    "Forward propagation es el algoritmo que explica como las señales de una red neuronal viajan desde el input hasta el output. Recuerde que los nodos de una red neuronal reciben de entrada los valores x y los pesos w, después de combinar ambos, debemos aplicar una función de activación. \n",
    "El siguiente ejemplo, vamos a tener una red neuronal de ejemplo con una capa de entrada, y dos capas escondidas o “hidden layers” que van a amplificar o degradar la señal de entrada utilizando la funcion sigmoid. \n",
    "El siguiente diagrama, muestra la arquitectura de nuestra red neuronal, donde los pesos w han sido inicializados aleatoriamente. Es recomendable utilizar valores entre ]0 y 1].  \n",
    "\n",
    "\n",
    "<img src=\"img/fp1.png\" width=\"600\" />\n",
    "\n",
    "Los cálculos se empiezan a realizar en el layer 2, ya que el layer 1 solamente tiene X, pero no tiene acceso a w. Entonces iniciemos calculando el valor de salida de la primera neurona del layer 2.  Nos vamos a enfocar en la neurona que esta coloreada de morado.\n",
    "\n",
    "<img src=\"img/fp2.png\" width=\"600\" />\n",
    "\n",
    "Para calcular el valor de salida, debemos calcular el de la siguiente forma:\n",
    "\n",
    "\n",
    "$$\\mathrm{sig} \\left(z \\right) = \\frac{1}{1 + e^{-z}}$$\n",
    "\n",
    "donde z es:\n",
    "\n",
    "$$z = (x_1w_{11}) + (x_2w_{21})$$\n",
    "\n",
    "El cálculo de la función sigmoid donde z son los pesos y los valores x de entrada, pueden ejemplificarse en la imagen de arriba.  Trate de comprender que la neurona “morada” utiliza los pesos y los valores x que únicamente le apuntan. El cálculo realizado ha transformado las señales en el valor *0.7408*.\n",
    "\n",
    "Ahora volvemos a realizar el mismo ejercicio con la neurona 2 del segundo hidden layer. El proceso es el mismo. El enfoque es en la segunda neurona color naranja.\n",
    "\n",
    "<img src=\"img/fp3.png\" width=\"600\" />"
   ]
  },
  {
   "cell_type": "markdown",
   "metadata": {},
   "source": [
    "## Vectorización \n",
    "\n",
    "El ejemplo anterior ha sido calculado paso a paso. Sin embargo, debemos escoger una implementación que permita ejecutar esto en la menor cantidad de pasos posible, ya que las redes neuronales pueden tener múltiples capas y cientos o miles de neuronas. Por tanto, es recomendable utilizar la vectorización, para mejorar el rendimiento y facilitar la codificación. \n"
   ]
  },
  {
   "cell_type": "code",
   "execution_count": null,
   "metadata": {},
   "outputs": [],
   "source": [
    "import numpy as np"
   ]
  },
  {
   "cell_type": "code",
   "execution_count": null,
   "metadata": {},
   "outputs": [],
   "source": [
    "# funcion Sigmoid\n",
    "def sig(x):\n",
    "    return 1.0 / (1.0 + np.exp(-x))\n",
    "\n",
    "# input X\n",
    "x = np.array([[1,0.5]]).T\n",
    "\n",
    "print(\"Entrada x\")\n",
    "print(x)\n",
    "print(\"\")\n",
    "\n",
    "# hidden layer w\n",
    "w = np.array([[0.9,0.3],[0.2, 0.8]])\n",
    "\n",
    "print(\"Pesos w\")\n",
    "print(w)\n",
    "print(\"\")\n",
    "\n",
    "# z = x * w\n",
    "z = np.dot(w,x)\n",
    "print(\"z:\")\n",
    "print(z)\n",
    "print(\"\")\n",
    "\n",
    "# salida\n",
    "o = sig(z)\n",
    "print(\"salida:\")\n",
    "print(o)"
   ]
  },
  {
   "cell_type": "markdown",
   "metadata": {},
   "source": [
    "## One Step:"
   ]
  },
  {
   "cell_type": "code",
   "execution_count": null,
   "metadata": {},
   "outputs": [],
   "source": [
    "# Entradas y pesos:\n",
    "x = np.array([[1,0.5]]).T\n",
    "w = np.array([[0.9,0.3],[0.2, 0.8]])\n",
    "\n",
    "# Todo el forward propagation\n",
    "o = sig(np.dot(w,x))\n",
    "\n",
    "# saLIDA\n",
    "print(\"salida:\")\n",
    "print(o)"
   ]
  }
 ],
 "metadata": {
  "kernelspec": {
   "display_name": "Python 3",
   "language": "python",
   "name": "python3"
  },
  "language_info": {
   "codemirror_mode": {
    "name": "ipython",
    "version": 3
   },
   "file_extension": ".py",
   "mimetype": "text/x-python",
   "name": "python",
   "nbconvert_exporter": "python",
   "pygments_lexer": "ipython3",
   "version": "3.6.10"
  }
 },
 "nbformat": 4,
 "nbformat_minor": 4
}
