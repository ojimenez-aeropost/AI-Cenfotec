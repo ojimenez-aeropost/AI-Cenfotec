{
 "cells": [
  {
   "cell_type": "markdown",
   "metadata": {},
   "source": [
    "## Ejemplo Feed Forward con 3 hidden layers\n",
    "\n",
    "<img src=\"img/fp4.png\" />"
   ]
  },
  {
   "cell_type": "code",
   "execution_count": null,
   "metadata": {},
   "outputs": [],
   "source": [
    "import numpy as np\n",
    "\n",
    "# funcion Sigmoid\n",
    "def sig(x):\n",
    "    return 1.0 / (1.0 + np.exp(-x))\n",
    "\n",
    "# Entradas y pesos:\n",
    "x = np.array([[0.9,0.1, 0.8]]).T\n",
    "wa = np.array([[0.9,0.3,0.4],[0.2, 0.8, 0.2],[0.1,0.5,0.6]])\n",
    "\n",
    "# output layer2\n",
    "oL2 = sig(np.dot(wa,x))\n",
    "\n",
    "# saLIDA\n",
    "print(\"Salida Layer 2:\")\n",
    "print(oL2)"
   ]
  },
  {
   "cell_type": "code",
   "execution_count": null,
   "metadata": {},
   "outputs": [],
   "source": [
    "wb = np.array([[0.3,0.7,0.5],[0.6, 0.5, 0.2],[0.8,0.1,0.9]])\n",
    "\n",
    "# output layer3\n",
    "output = sig(np.dot(wb,oL2))\n",
    " \n",
    "print(output)"
   ]
  },
  {
   "cell_type": "markdown",
   "metadata": {},
   "source": [
    "## One Step:"
   ]
  },
  {
   "cell_type": "code",
   "execution_count": null,
   "metadata": {},
   "outputs": [],
   "source": [
    "# datos de entrada\n",
    "x = np.array([[0.9,0.1, 0.8]]).T\n",
    "\n",
    "# pesos w\n",
    "wa = np.array([[0.9,0.3,0.4],[0.2, 0.8, 0.2],[0.1,0.5,0.6]])\n",
    "wb = np.array([[0.3,0.7,0.5],[0.6, 0.5, 0.2],[0.8,0.1,0.9]])\n",
    "\n",
    "# feed forward\n",
    "o = sig(np.dot(wb,sig(np.dot(wa,x)))) \n",
    "\n",
    "# imprimir salida\n",
    "print(output)"
   ]
  }
 ],
 "metadata": {
  "kernelspec": {
   "display_name": "Python 3",
   "language": "python",
   "name": "python3"
  },
  "language_info": {
   "codemirror_mode": {
    "name": "ipython",
    "version": 3
   },
   "file_extension": ".py",
   "mimetype": "text/x-python",
   "name": "python",
   "nbconvert_exporter": "python",
   "pygments_lexer": "ipython3",
   "version": "3.6.10"
  }
 },
 "nbformat": 4,
 "nbformat_minor": 4
}
