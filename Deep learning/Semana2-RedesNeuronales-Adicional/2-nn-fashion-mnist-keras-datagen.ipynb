{
 "cells": [
  {
   "cell_type": "code",
   "execution_count": 1,
   "metadata": {},
   "outputs": [],
   "source": [
    "import numpy as np\n",
    "import tensorflow as tf\n",
    "from tensorflow import keras\n",
    "from tensorflow.keras import layers\n",
    "from tensorflow.keras.models import Sequential\n",
    "from tensorflow.keras.layers import Dense\n",
    "from keras_preprocessing.image import ImageDataGenerator\n",
    "import scipy.ndimage\n",
    "import pandas as pd"
   ]
  },
  {
   "cell_type": "markdown",
   "metadata": {},
   "source": [
    "## Cargar Datos"
   ]
  },
  {
   "cell_type": "code",
   "execution_count": 2,
   "metadata": {},
   "outputs": [],
   "source": [
    "# Descargar el mnist de Keras\n",
    "(x_train, y_train), (x_test, y_test) = keras.datasets.fashion_mnist.load_data()"
   ]
  },
  {
   "cell_type": "code",
   "execution_count": 3,
   "metadata": {},
   "outputs": [],
   "source": [
    "labels = ['T-shirt/top','Trouser','Pullover','Dress','Coat','Sandal','Shirt','Sneaker','Bag','Ankle boot']\n",
    "y_train = pd.Series(y_train, dtype=\"category\")\n",
    "y_test = pd.Series(y_test, dtype=\"category\")"
   ]
  },
  {
   "cell_type": "markdown",
   "metadata": {},
   "source": [
    "## Keras Image Data Generator\n",
    "\n",
    "El DataGenerator de Keras permite en cada iteración, aplicar transformaciones al batch donde se pueden rotar, hacer zoom o bien mover las imágenes del dataset para generar variedad. Importante: Los datos “aumentados” utilizados para entrenar el modelo requieren un número mayor de epochs. El DataGenerator busca eliminar el overfitting."
   ]
  },
  {
   "cell_type": "code",
   "execution_count": 4,
   "metadata": {},
   "outputs": [
    {
     "data": {
      "text/plain": [
       "(60000, 28, 28, 1)"
      ]
     },
     "execution_count": 4,
     "metadata": {},
     "output_type": "execute_result"
    }
   ],
   "source": [
    "# creacion de Tensores 4D\n",
    "x_train = tf.keras.preprocessing.image.img_to_array(x_train, data_format=None, dtype=None)\n",
    "x_train = (np.expand_dims(x_train, axis=3))\n",
    "\n",
    "x_test = tf.keras.preprocessing.image.img_to_array(x_test, data_format=None, dtype=None)\n",
    "x_test = (np.expand_dims(x_test, axis=3))\n",
    "\n",
    "# configuracion de entrenamiento\n",
    "train_datagen = ImageDataGenerator(\n",
    "    rescale = 1./255,\n",
    "    rotation_range=10,\n",
    "    width_shift_range=0.2,\n",
    "    height_shift_range=0.2,\n",
    "    #shear_range=0.2,\n",
    "    #zoom_range=0.2,\n",
    "    #horizontal_flip=True,\n",
    "    fill_mode='nearest')\n",
    "\n",
    "\n",
    "test_datagen = ImageDataGenerator(rescale=1./255)\n",
    "\n",
    "x_train.shape"
   ]
  },
  {
   "cell_type": "markdown",
   "metadata": {},
   "source": [
    "## Arquitetura Perceptron"
   ]
  },
  {
   "cell_type": "code",
   "execution_count": 5,
   "metadata": {},
   "outputs": [
    {
     "name": "stdout",
     "output_type": "stream",
     "text": [
      "Model: \"sequential\"\n",
      "_________________________________________________________________\n",
      "Layer (type)                 Output Shape              Param #   \n",
      "=================================================================\n",
      "flatten (Flatten)            (None, 784)               0         \n",
      "_________________________________________________________________\n",
      "dense (Dense)                (None, 300)               235500    \n",
      "_________________________________________________________________\n",
      "dense_1 (Dense)              (None, 100)               30100     \n",
      "_________________________________________________________________\n",
      "dense_2 (Dense)              (None, 10)                1010      \n",
      "=================================================================\n",
      "Total params: 266,610\n",
      "Trainable params: 266,610\n",
      "Non-trainable params: 0\n",
      "_________________________________________________________________\n"
     ]
    }
   ],
   "source": [
    "# tamano de la imagen de entrada\n",
    "\n",
    "# definicion del modelo Perceptron\n",
    "model = keras.Sequential(\n",
    "    [\n",
    "        layers.Flatten(input_shape=(28,28,1)),\n",
    "        layers.Dense(300, activation=\"relu\"),\n",
    "        layers.Dense(100, activation=\"relu\"),\n",
    "        layers.Dense(10, activation=\"softmax\"),\n",
    "    ]\n",
    ")\n",
    "\n",
    "# Construir el modelo y ver la arquitectura\n",
    "model.build((28,28))\n",
    "model.summary()"
   ]
  },
  {
   "cell_type": "markdown",
   "metadata": {},
   "source": [
    "## Entrenar la Red Neuronal"
   ]
  },
  {
   "cell_type": "code",
   "execution_count": null,
   "metadata": {},
   "outputs": [
    {
     "name": "stdout",
     "output_type": "stream",
     "text": [
      "Train for 1875 steps, validate for 313 steps\n",
      "Epoch 1/100\n"
     ]
    }
   ],
   "source": [
    "# Definir los parametros de optimizacion y perdida del modelo (con CrossValidation)\n",
    "model.compile(loss='sparse_categorical_crossentropy', optimizer='adam', metrics=['accuracy'])\n",
    "\n",
    "# ejecutar training\n",
    "# se usan los datagens como parametros.\n",
    "history = model.fit(train_datagen.flow(x_train,y_train), \n",
    "                    epochs=100,\n",
    "                    verbose=1, \n",
    "                    shuffle=True,\n",
    "                    validation_data=test_datagen.flow(x_test,y_test)\n",
    "                   )"
   ]
  },
  {
   "cell_type": "code",
   "execution_count": 37,
   "metadata": {},
   "outputs": [
    {
     "data": {
      "image/png": "[encoded data removed]",
      "text/plain": [
       "<Figure size 432x288 with 1 Axes>"
      ]
     },
     "metadata": {
      "needs_background": "light"
     },
     "output_type": "display_data"
    },
    {
     "data": {
      "image/png": "[encoded data removed]",
      "text/plain": [
       "<Figure size 432x288 with 1 Axes>"
      ]
     },
     "metadata": {
      "needs_background": "light"
     },
     "output_type": "display_data"
    }
   ],
   "source": [
    "import matplotlib.pyplot as plt\n",
    "\n",
    "plt.plot(history.history['acc'])\n",
    "plt.plot(history.history['val_acc'])\n",
    "plt.title('model accuracy')\n",
    "plt.ylabel('accuracy')\n",
    "plt.xlabel('epoch')\n",
    "plt.legend(['train', 'test'], loc='upper left')\n",
    "plt.ylim([0, 1.1])\n",
    "plt.show()\n",
    "\n",
    "\n",
    "plt.plot(history.history['loss'])\n",
    "plt.plot(history.history['val_loss'])\n",
    "plt.title('model loss')\n",
    "plt.ylabel('loss')\n",
    "plt.xlabel('epoch')\n",
    "plt.legend(['train', 'test'], loc='upper left')\n",
    "plt.ylim([0, 1.1])\n",
    "plt.show()"
   ]
  },
  {
   "cell_type": "markdown",
   "metadata": {},
   "source": [
    "## Evaluar el Modelo"
   ]
  },
  {
   "cell_type": "code",
   "execution_count": 38,
   "metadata": {},
   "outputs": [
    {
     "name": "stdout",
     "output_type": "stream",
     "text": [
      "10000/10000 [==============================] - 0s 20us/sample - loss: 85.4751 - acc: 0.7395\n",
      "Test loss: 85.47508261413574\n",
      "Test accuracy: 0.7395\n"
     ]
    }
   ],
   "source": [
    "# Obtener el score obtenido del modelo\n",
    "score = model.evaluate(x_test, y_test, verbose=1)\n",
    "print(\"Test loss:\", score[0])\n",
    "print(\"Test accuracy:\", score[1])"
   ]
  },
  {
   "cell_type": "markdown",
   "metadata": {},
   "source": [
    "## Predecir una Imagen"
   ]
  },
  {
   "cell_type": "code",
   "execution_count": 40,
   "metadata": {},
   "outputs": [
    {
     "data": {
      "image/png": "[encoded data removed]",
      "text/plain": [
       "<Figure size 432x288 with 1 Axes>"
      ]
     },
     "metadata": {
      "needs_background": "light"
     },
     "output_type": "display_data"
    },
    {
     "name": "stdout",
     "output_type": "stream",
     "text": [
      "[[2.4328260e-03 9.9086738e-01 7.2838644e-05 6.1400114e-03 1.2114800e-04\n",
      "  7.4254530e-10 3.4703262e-04 2.7925893e-31 1.8683262e-05 7.1000139e-10]]\n",
      "\n",
      "Prediccion: Trouser\n"
     ]
    }
   ],
   "source": [
    "# obtener una imagen del dataset\n",
    "(_, _), (x_test, y_test) = keras.datasets.fashion_mnist.load_data()\n",
    "\n",
    "import random\n",
    "\n",
    "ind = random.randint(10,1000)\n",
    "\n",
    "img = x_test[ind]\n",
    "\n",
    "# imprimir\n",
    "plt.imshow(img, cmap='Greys')\n",
    "plt.show()\n",
    "\n",
    "# normalizar la imagen y expandirla\n",
    "img = img.astype(\"float32\") / 255\n",
    "img = img.reshape(28,28,1)\n",
    "\n",
    "# generar las probabilidades\n",
    "y_pred = model.predict(np.array([img]))\n",
    "\n",
    "# imprimir la lista de probabilidades\n",
    "print(y_pred)\n",
    "\n",
    "labels = ['T-shirt/top','Trouser','Pullover','Dress','Coat','Sandal','Shirt','Sneaker','Bag','Ankle boot']\n",
    "\n",
    "# argmax saca la clase con la probabilidad mas alta\n",
    "y_class = y_pred.argmax(axis=-1)\n",
    "\n",
    "# imprimir la clase\n",
    "print(\"\")\n",
    "print(\"Prediccion:\",labels[y_class[0]])"
   ]
  },
  {
   "cell_type": "code",
   "execution_count": null,
   "metadata": {},
   "outputs": [],
   "source": []
  }
 ],
 "metadata": {
  "kernelspec": {
   "display_name": "Python 3",
   "language": "python",
   "name": "python3"
  },
  "language_info": {
   "codemirror_mode": {
    "name": "ipython",
    "version": 3
   },
   "file_extension": ".py",
   "mimetype": "text/x-python",
   "name": "python",
   "nbconvert_exporter": "python",
   "pygments_lexer": "ipython3",
   "version": "3.6.12"
  }
 },
 "nbformat": 4,
 "nbformat_minor": 4
}
