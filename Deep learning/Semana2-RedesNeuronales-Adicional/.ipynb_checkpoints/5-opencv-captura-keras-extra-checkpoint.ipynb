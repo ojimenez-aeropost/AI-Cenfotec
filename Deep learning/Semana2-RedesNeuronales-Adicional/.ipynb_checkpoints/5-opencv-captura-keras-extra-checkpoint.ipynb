{
 "cells": [
  {
   "cell_type": "code",
   "execution_count": 8,
   "metadata": {},
   "outputs": [],
   "source": [
    "import numpy as np\n",
    "import cv2\n",
    "\n",
    "import tensorflow as tf\n",
    "import keras_preprocessing\n",
    "from keras_preprocessing import image\n",
    "\n",
    "# cargar clasificador pre-entrenado\n",
    "cascada_caras = cv2.CascadeClassifier('haarcascade_frontalface_default.xml')\n",
    "\n",
    "# cargar modelo pre-entrenado\n",
    "modelo = tf.keras.models.load_model('reconcedor-facial.h5')\n",
    "\n",
    "# emociones\n",
    "etiquetas = ['ira','contento','disgusto','miedo','feliz','tristeza','sorpresa']\n",
    "etiquetas = ['anger','contempt','disgust','fear','happy','sad','surprise']"
   ]
  },
  {
   "cell_type": "code",
   "execution_count": 9,
   "metadata": {},
   "outputs": [],
   "source": [
    "cap = cv2.VideoCapture(0)\n",
    "\n",
    "while(True):\n",
    "    # Capture frame-by-frame\n",
    "    ret, frame = cap.read()\n",
    "\n",
    "    # Our operations on the frame come here\n",
    "    gray = cv2.cvtColor(frame, cv2.COLOR_BGR2GRAY)\n",
    "\n",
    "    # Deteccion de caras\n",
    "    caras = cascada_caras.detectMultiScale(gray, 1.3, 5)\n",
    "\n",
    "    # Cara Actual\n",
    "    actual = None\n",
    "\n",
    "    # usamos cv2.rectangle para poner un rectangulo a cada\n",
    "    # cara registrada\n",
    "    for (x,y,w,h) in caras:\n",
    "        # se sobre escribe la image en cada ciclo\n",
    "        gray = cv2.rectangle(gray,(x,y),(x+w,y+h),(255,0,0),10)\n",
    "        actual = frame[y:y+h, x:x+w]\n",
    "\n",
    "    # Deteccion con Keras ===================================\n",
    "    if(actual is not None):\n",
    "\n",
    "        actual = cv2.resize(actual, (48,48), interpolation = cv2.INTER_AREA)\n",
    "        x = image.img_to_array(actual)\n",
    "        x = np.expand_dims(x, axis=0)\n",
    "        x = np.vstack([x])\n",
    "        clases = modelo.predict(x, batch_size=1)\n",
    "        indice = np.argmax(clases)\n",
    "                \n",
    "        # Escribir emocion en la pantalla\n",
    "        font = cv2.FONT_HERSHEY_SIMPLEX\n",
    "        cv2.putText(gray, etiquetas[indice], (10,450), font, 3, (0, 255, 0), 2, cv2.LINE_AA)\n",
    "\n",
    "    # =======================================================\n",
    "\n",
    "    # Display the resulting frame\n",
    "    cv2.imshow('frame',gray)\n",
    "    if cv2.waitKey(1) & 0xFF == ord('q'):\n",
    "        break\n",
    "\n",
    "# When everything done, release the capture\n",
    "cap.release()\n",
    "cv2.destroyAllWindows()"
   ]
  }
 ],
 "metadata": {
  "kernelspec": {
   "display_name": "Python 3",
   "language": "python",
   "name": "python3"
  },
  "language_info": {
   "codemirror_mode": {
    "name": "ipython",
    "version": 3
   },
   "file_extension": ".py",
   "mimetype": "text/x-python",
   "name": "python",
   "nbconvert_exporter": "python",
   "pygments_lexer": "ipython3",
   "version": "3.6.10"
  }
 },
 "nbformat": 4,
 "nbformat_minor": 4
}
