{
 "cells": [
  {
   "cell_type": "code",
   "execution_count": 7,
   "metadata": {},
   "outputs": [],
   "source": [
    "import numpy as np\n",
    "from tensorflow import keras\n",
    "from tensorflow.keras import layers\n",
    "from tensorflow.keras.models import Sequential\n",
    "from tensorflow.keras.layers import Dense\n",
    "from tensorflow.keras.layers import Dropout\n",
    "import scipy.ndimage\n",
    "import pandas as pd"
   ]
  },
  {
   "cell_type": "markdown",
   "metadata": {},
   "source": [
    "## Cargar Datos"
   ]
  },
  {
   "cell_type": "code",
   "execution_count": 14,
   "metadata": {},
   "outputs": [
    {
     "data": {
      "image/png": "[encoded data removed]",
      "text/plain": [
       "<Figure size 432x288 with 1 Axes>"
      ]
     },
     "metadata": {
      "needs_background": "light"
     },
     "output_type": "display_data"
    }
   ],
   "source": [
    "# Descargar el mnist de Keras\n",
    "(x_train, y_train), (x_test, y_test) = keras.datasets.fashion_mnist.load_data()\n",
    "\n",
    "# Imprimir un sample\n",
    "import matplotlib.pyplot as plt\n",
    "plt.imshow(x_train[89], cmap='Greys')\n",
    "plt.show()"
   ]
  },
  {
   "cell_type": "markdown",
   "metadata": {},
   "source": [
    "## Normalizar Imagenes"
   ]
  },
  {
   "cell_type": "code",
   "execution_count": 15,
   "metadata": {},
   "outputs": [
    {
     "data": {
      "text/plain": [
       "(60000, 28, 28)"
      ]
     },
     "execution_count": 15,
     "metadata": {},
     "output_type": "execute_result"
    }
   ],
   "source": [
    "# Scaling para que las imagenes queden de [0,1]\n",
    "x_train = x_train.astype(\"float32\") / 255\n",
    "x_test = x_test.astype(\"float32\") / 255\n",
    "\n",
    "x_train = x_train.reshape(len(x_train),28,28)\n",
    "x_test = x_test.reshape(len(x_test),28,28)\n",
    "\n",
    "x_train.shape"
   ]
  },
  {
   "cell_type": "code",
   "execution_count": 16,
   "metadata": {},
   "outputs": [],
   "source": [
    "labels = ['T-shirt/top','Trouser','Pullover','Dress','Coat','Sandal','Shirt','Sneaker','Bag','Ankle boot']\n",
    "y_train = pd.Series(y_train, dtype=\"category\")\n",
    "y_test = pd.Series(y_test, dtype=\"category\")"
   ]
  },
  {
   "cell_type": "markdown",
   "metadata": {},
   "source": [
    "## Arquitetura Perceptron\n",
    "\n",
    "#### Acerca de Dropout\n",
    "\n",
    "Aplica Dropout al input.\n",
    "\n",
    "La capa de Dropout establece aleatoriamente las unidades de entrada en 0 con una frecuencia de velocidad en cada paso durante el tiempo de entrenamiento, lo que ayuda a evitar el sobreajuste. Las entradas que no se establecen en 0 se escalan en 1 / (1 - tasa) de modo que la suma de todas las entradas no cambia.\n",
    "\n",
    "En el ejemplo siguiente se eliminan el 20% de los nodos en la primera capa."
   ]
  },
  {
   "cell_type": "code",
   "execution_count": 17,
   "metadata": {},
   "outputs": [
    {
     "name": "stdout",
     "output_type": "stream",
     "text": [
      "Model: \"sequential_2\"\n",
      "_________________________________________________________________\n",
      "Layer (type)                 Output Shape              Param #   \n",
      "=================================================================\n",
      "flatten_2 (Flatten)          (None, 784)               0         \n",
      "_________________________________________________________________\n",
      "dropout_2 (Dropout)          (None, 784)               0         \n",
      "_________________________________________________________________\n",
      "dense_6 (Dense)              (None, 300)               235500    \n",
      "_________________________________________________________________\n",
      "dense_7 (Dense)              (None, 100)               30100     \n",
      "_________________________________________________________________\n",
      "dense_8 (Dense)              (None, 10)                1010      \n",
      "=================================================================\n",
      "Total params: 266,610\n",
      "Trainable params: 266,610\n",
      "Non-trainable params: 0\n",
      "_________________________________________________________________\n"
     ]
    }
   ],
   "source": [
    "# tamano de la imagen de entrada\n",
    "\n",
    "# definicion del modelo Perceptron\n",
    "model = keras.Sequential(\n",
    "    [\n",
    "        layers.Flatten(input_shape=(28,28)),\n",
    "        layers.Dropout(0.2),\n",
    "        layers.Dense(300, activation=\"relu\"),\n",
    "        layers.Dense(100, activation=\"relu\"),\n",
    "        layers.Dense(10, activation=\"softmax\"),\n",
    "    ]\n",
    ")\n",
    "\n",
    "# Construir el modelo y ver la arquitectura\n",
    "model.build((28,28))\n",
    "model.summary()"
   ]
  },
  {
   "cell_type": "markdown",
   "metadata": {},
   "source": [
    "## Entrenar la Red Neuronal\n",
    "\n",
    "Hiperparametros:\n",
    "- learning-rate: 0.01\n",
    "- Algoritmo de optimizacion: Adam\n",
    "- epocs: 200\n",
    "- batch: 100"
   ]
  },
  {
   "cell_type": "code",
   "execution_count": 18,
   "metadata": {},
   "outputs": [
    {
     "name": "stdout",
     "output_type": "stream",
     "text": [
      "Train on 48000 samples, validate on 12000 samples\n",
      "Epoch 1/70\n",
      "48000/48000 [==============================] - 1s 16us/sample - loss: 0.5899 - acc: 0.7903 - val_loss: 0.4369 - val_acc: 0.8413\n",
      "Epoch 2/70\n",
      "48000/48000 [==============================] - 1s 14us/sample - loss: 0.4431 - acc: 0.8380 - val_loss: 0.4642 - val_acc: 0.8366\n",
      "Epoch 3/70\n",
      "48000/48000 [==============================] - 1s 14us/sample - loss: 0.4117 - acc: 0.8464 - val_loss: 0.3978 - val_acc: 0.8603\n",
      "Epoch 4/70\n",
      "48000/48000 [==============================] - 1s 14us/sample - loss: 0.4024 - acc: 0.8512 - val_loss: 0.3757 - val_acc: 0.8628\n",
      "Epoch 5/70\n",
      "48000/48000 [==============================] - 1s 14us/sample - loss: 0.3881 - acc: 0.8562 - val_loss: 0.3819 - val_acc: 0.8613\n",
      "Epoch 6/70\n",
      "48000/48000 [==============================] - 1s 14us/sample - loss: 0.3764 - acc: 0.8613 - val_loss: 0.3755 - val_acc: 0.8676\n",
      "Epoch 7/70\n",
      "48000/48000 [==============================] - 1s 14us/sample - loss: 0.3732 - acc: 0.8620 - val_loss: 0.4110 - val_acc: 0.8576\n",
      "Epoch 8/70\n",
      "48000/48000 [==============================] - 1s 14us/sample - loss: 0.3692 - acc: 0.8634 - val_loss: 0.3628 - val_acc: 0.8691\n",
      "Epoch 9/70\n",
      "48000/48000 [==============================] - 1s 14us/sample - loss: 0.3671 - acc: 0.8627 - val_loss: 0.3743 - val_acc: 0.8672\n",
      "Epoch 10/70\n",
      "48000/48000 [==============================] - 1s 14us/sample - loss: 0.3720 - acc: 0.8638 - val_loss: 0.3721 - val_acc: 0.8693\n",
      "Epoch 11/70\n",
      "48000/48000 [==============================] - 1s 14us/sample - loss: 0.3619 - acc: 0.8673 - val_loss: 0.3743 - val_acc: 0.8641\n",
      "Epoch 12/70\n",
      "48000/48000 [==============================] - 1s 14us/sample - loss: 0.3527 - acc: 0.8712 - val_loss: 0.3609 - val_acc: 0.8726\n",
      "Epoch 13/70\n",
      "48000/48000 [==============================] - 1s 14us/sample - loss: 0.3531 - acc: 0.8708 - val_loss: 0.3574 - val_acc: 0.8712\n",
      "Epoch 14/70\n",
      "48000/48000 [==============================] - 1s 14us/sample - loss: 0.3505 - acc: 0.8719 - val_loss: 0.3518 - val_acc: 0.8730\n",
      "Epoch 15/70\n",
      "48000/48000 [==============================] - 1s 14us/sample - loss: 0.3481 - acc: 0.8687 - val_loss: 0.3662 - val_acc: 0.8748\n",
      "Epoch 16/70\n",
      "48000/48000 [==============================] - 1s 14us/sample - loss: 0.3494 - acc: 0.8713 - val_loss: 0.3810 - val_acc: 0.8596\n",
      "Epoch 17/70\n",
      "48000/48000 [==============================] - 1s 14us/sample - loss: 0.3440 - acc: 0.8714 - val_loss: 0.3538 - val_acc: 0.8766\n",
      "Epoch 18/70\n",
      "48000/48000 [==============================] - 1s 14us/sample - loss: 0.3441 - acc: 0.8716 - val_loss: 0.3919 - val_acc: 0.8611\n",
      "Epoch 19/70\n",
      "48000/48000 [==============================] - 1s 14us/sample - loss: 0.3402 - acc: 0.8728 - val_loss: 0.3521 - val_acc: 0.8712\n",
      "Epoch 20/70\n",
      "48000/48000 [==============================] - 1s 14us/sample - loss: 0.3411 - acc: 0.8741 - val_loss: 0.3626 - val_acc: 0.8752\n",
      "Epoch 21/70\n",
      "48000/48000 [==============================] - 1s 14us/sample - loss: 0.3381 - acc: 0.8750 - val_loss: 0.3572 - val_acc: 0.8777\n",
      "Epoch 22/70\n",
      "48000/48000 [==============================] - 1s 14us/sample - loss: 0.3361 - acc: 0.8765 - val_loss: 0.3937 - val_acc: 0.8685\n",
      "Epoch 23/70\n",
      "48000/48000 [==============================] - 1s 14us/sample - loss: 0.3397 - acc: 0.8755 - val_loss: 0.3653 - val_acc: 0.8752\n",
      "Epoch 24/70\n",
      "48000/48000 [==============================] - 1s 14us/sample - loss: 0.3328 - acc: 0.8779 - val_loss: 0.3810 - val_acc: 0.8628\n",
      "Epoch 25/70\n",
      "48000/48000 [==============================] - 1s 14us/sample - loss: 0.3321 - acc: 0.8785 - val_loss: 0.3696 - val_acc: 0.8747\n",
      "Epoch 26/70\n",
      "48000/48000 [==============================] - 1s 14us/sample - loss: 0.3337 - acc: 0.8799 - val_loss: 0.3846 - val_acc: 0.8683\n",
      "Epoch 27/70\n",
      "48000/48000 [==============================] - 1s 14us/sample - loss: 0.3290 - acc: 0.8784 - val_loss: 0.3679 - val_acc: 0.8717\n",
      "Epoch 28/70\n",
      "48000/48000 [==============================] - 1s 14us/sample - loss: 0.3240 - acc: 0.8808 - val_loss: 0.3653 - val_acc: 0.8761\n",
      "Epoch 29/70\n",
      "48000/48000 [==============================] - 1s 14us/sample - loss: 0.3271 - acc: 0.8802 - val_loss: 0.3580 - val_acc: 0.8798\n",
      "Epoch 30/70\n",
      "48000/48000 [==============================] - 1s 14us/sample - loss: 0.3333 - acc: 0.8783 - val_loss: 0.3618 - val_acc: 0.8717\n",
      "Epoch 31/70\n",
      "48000/48000 [==============================] - 1s 14us/sample - loss: 0.3265 - acc: 0.8814 - val_loss: 0.3914 - val_acc: 0.8595\n",
      "Epoch 32/70\n",
      "48000/48000 [==============================] - 1s 14us/sample - loss: 0.3295 - acc: 0.8794 - val_loss: 0.3581 - val_acc: 0.8746\n",
      "Epoch 33/70\n",
      "48000/48000 [==============================] - 1s 14us/sample - loss: 0.3277 - acc: 0.8801 - val_loss: 0.3720 - val_acc: 0.8740\n",
      "Epoch 34/70\n",
      "48000/48000 [==============================] - 1s 14us/sample - loss: 0.3272 - acc: 0.8801 - val_loss: 0.3785 - val_acc: 0.8687\n",
      "Epoch 35/70\n",
      "48000/48000 [==============================] - 1s 14us/sample - loss: 0.3261 - acc: 0.8797 - val_loss: 0.3760 - val_acc: 0.8732\n",
      "Epoch 36/70\n",
      "48000/48000 [==============================] - 1s 14us/sample - loss: 0.3215 - acc: 0.8822 - val_loss: 0.3842 - val_acc: 0.8762\n",
      "Epoch 37/70\n",
      "48000/48000 [==============================] - 1s 14us/sample - loss: 0.3288 - acc: 0.8798 - val_loss: 0.3795 - val_acc: 0.8750\n",
      "Epoch 38/70\n",
      "48000/48000 [==============================] - 1s 14us/sample - loss: 0.3208 - acc: 0.8842 - val_loss: 0.3739 - val_acc: 0.8761\n",
      "Epoch 39/70\n",
      "48000/48000 [==============================] - 1s 14us/sample - loss: 0.3217 - acc: 0.8827 - val_loss: 0.3721 - val_acc: 0.8764\n",
      "Epoch 40/70\n",
      "48000/48000 [==============================] - 1s 14us/sample - loss: 0.3145 - acc: 0.8850 - val_loss: 0.3528 - val_acc: 0.8772\n",
      "Epoch 41/70\n",
      "48000/48000 [==============================] - 1s 14us/sample - loss: 0.3167 - acc: 0.8843 - val_loss: 0.3584 - val_acc: 0.8772\n",
      "Epoch 42/70\n",
      "48000/48000 [==============================] - 1s 14us/sample - loss: 0.3171 - acc: 0.8842 - val_loss: 0.3616 - val_acc: 0.8750\n",
      "Epoch 43/70\n",
      "48000/48000 [==============================] - 1s 14us/sample - loss: 0.3181 - acc: 0.8830 - val_loss: 0.3647 - val_acc: 0.8751\n",
      "Epoch 44/70\n",
      "48000/48000 [==============================] - 1s 14us/sample - loss: 0.3125 - acc: 0.8873 - val_loss: 0.3626 - val_acc: 0.8787\n",
      "Epoch 45/70\n",
      "48000/48000 [==============================] - 1s 14us/sample - loss: 0.3153 - acc: 0.8843 - val_loss: 0.3852 - val_acc: 0.8759\n",
      "Epoch 46/70\n",
      "48000/48000 [==============================] - 1s 14us/sample - loss: 0.3179 - acc: 0.8859 - val_loss: 0.3741 - val_acc: 0.8736\n",
      "Epoch 47/70\n",
      "48000/48000 [==============================] - 1s 14us/sample - loss: 0.3170 - acc: 0.8848 - val_loss: 0.3775 - val_acc: 0.8764\n",
      "Epoch 48/70\n",
      "48000/48000 [==============================] - 1s 14us/sample - loss: 0.3204 - acc: 0.8845 - val_loss: 0.3672 - val_acc: 0.8742\n",
      "Epoch 49/70\n",
      "48000/48000 [==============================] - 1s 14us/sample - loss: 0.3168 - acc: 0.8846 - val_loss: 0.3608 - val_acc: 0.8791\n",
      "Epoch 50/70\n",
      "48000/48000 [==============================] - 1s 14us/sample - loss: 0.3100 - acc: 0.8867 - val_loss: 0.3639 - val_acc: 0.8791\n",
      "Epoch 51/70\n",
      "48000/48000 [==============================] - 1s 14us/sample - loss: 0.3116 - acc: 0.8868 - val_loss: 0.3516 - val_acc: 0.8806\n",
      "Epoch 52/70\n",
      "48000/48000 [==============================] - 1s 14us/sample - loss: 0.3085 - acc: 0.8876 - val_loss: 0.3880 - val_acc: 0.8759\n",
      "Epoch 53/70\n",
      "48000/48000 [==============================] - 1s 14us/sample - loss: 0.3149 - acc: 0.8855 - val_loss: 0.3658 - val_acc: 0.8806\n",
      "Epoch 54/70\n",
      "48000/48000 [==============================] - 1s 14us/sample - loss: 0.3167 - acc: 0.8848 - val_loss: 0.3639 - val_acc: 0.8755\n",
      "Epoch 55/70\n",
      "48000/48000 [==============================] - 1s 14us/sample - loss: 0.3116 - acc: 0.8854 - val_loss: 0.3452 - val_acc: 0.8803\n",
      "Epoch 56/70\n",
      "48000/48000 [==============================] - 1s 14us/sample - loss: 0.3173 - acc: 0.8853 - val_loss: 0.3782 - val_acc: 0.8756\n",
      "Epoch 57/70\n",
      "48000/48000 [==============================] - 1s 14us/sample - loss: 0.3042 - acc: 0.8881 - val_loss: 0.3528 - val_acc: 0.8801\n",
      "Epoch 58/70\n",
      "48000/48000 [==============================] - 1s 14us/sample - loss: 0.3165 - acc: 0.8865 - val_loss: 0.3517 - val_acc: 0.8862\n",
      "Epoch 59/70\n",
      "48000/48000 [==============================] - 1s 14us/sample - loss: 0.3068 - acc: 0.8874 - val_loss: 0.3747 - val_acc: 0.8709\n",
      "Epoch 60/70\n",
      "48000/48000 [==============================] - 1s 14us/sample - loss: 0.3115 - acc: 0.8872 - val_loss: 0.3612 - val_acc: 0.8802\n",
      "Epoch 61/70\n",
      "48000/48000 [==============================] - 1s 14us/sample - loss: 0.3081 - acc: 0.8895 - val_loss: 0.3855 - val_acc: 0.8768\n",
      "Epoch 62/70\n",
      "48000/48000 [==============================] - 1s 14us/sample - loss: 0.3086 - acc: 0.8879 - val_loss: 0.3650 - val_acc: 0.8746\n",
      "Epoch 63/70\n",
      "48000/48000 [==============================] - 1s 14us/sample - loss: 0.3084 - acc: 0.8893 - val_loss: 0.3614 - val_acc: 0.8792\n",
      "Epoch 64/70\n",
      "48000/48000 [==============================] - 1s 14us/sample - loss: 0.3099 - acc: 0.8889 - val_loss: 0.3795 - val_acc: 0.8798\n",
      "Epoch 65/70\n",
      "48000/48000 [==============================] - 1s 14us/sample - loss: 0.3218 - acc: 0.8849 - val_loss: 0.3567 - val_acc: 0.8819\n",
      "Epoch 66/70\n",
      "48000/48000 [==============================] - 1s 14us/sample - loss: 0.3050 - acc: 0.8900 - val_loss: 0.3738 - val_acc: 0.8782\n",
      "Epoch 67/70\n",
      "48000/48000 [==============================] - 1s 14us/sample - loss: 0.3055 - acc: 0.8906 - val_loss: 0.3998 - val_acc: 0.8717\n",
      "Epoch 68/70\n",
      "48000/48000 [==============================] - 1s 14us/sample - loss: 0.3133 - acc: 0.8882 - val_loss: 0.3697 - val_acc: 0.8819\n",
      "Epoch 69/70\n",
      "48000/48000 [==============================] - 1s 14us/sample - loss: 0.3130 - acc: 0.8878 - val_loss: 0.3950 - val_acc: 0.8724\n",
      "Epoch 70/70\n",
      "48000/48000 [==============================] - 1s 14us/sample - loss: 0.3078 - acc: 0.8874 - val_loss: 0.3991 - val_acc: 0.8713\n"
     ]
    }
   ],
   "source": [
    "# Definir los parametros de optimizacion y perdida del modelo (con CrossValidation)\n",
    "optimizer = keras.optimizers.Adam(learning_rate=0.01)\n",
    "model.compile(loss='sparse_categorical_crossentropy', optimizer=optimizer, metrics=['accuracy'])\n",
    "# ejecutar training\n",
    "history = model.fit(x_train, y_train, epochs=70, batch_size=100, verbose=1, validation_split=0.2, shuffle=True)"
   ]
  },
  {
   "cell_type": "code",
   "execution_count": 19,
   "metadata": {},
   "outputs": [
    {
     "data": {
      "image/png": "[encoded data removed]",
      "text/plain": [
       "<Figure size 432x288 with 1 Axes>"
      ]
     },
     "metadata": {
      "needs_background": "light"
     },
     "output_type": "display_data"
    },
    {
     "data": {
      "image/png": "[encoded data removed]",
      "text/plain": [
       "<Figure size 432x288 with 1 Axes>"
      ]
     },
     "metadata": {
      "needs_background": "light"
     },
     "output_type": "display_data"
    }
   ],
   "source": [
    "import matplotlib.pyplot as plt\n",
    "\n",
    "plt.plot(history.history['acc'])\n",
    "plt.plot(history.history['val_acc'])\n",
    "plt.title('model accuracy')\n",
    "plt.ylabel('accuracy')\n",
    "plt.xlabel('epoch')\n",
    "plt.legend(['train', 'test'], loc='upper left')\n",
    "plt.ylim([0, 1.1])\n",
    "plt.show()\n",
    "\n",
    "\n",
    "plt.plot(history.history['loss'])\n",
    "plt.plot(history.history['val_loss'])\n",
    "plt.title('model loss')\n",
    "plt.ylabel('loss')\n",
    "plt.xlabel('epoch')\n",
    "plt.legend(['train', 'test'], loc='upper left')\n",
    "plt.ylim([0, 1.1])\n",
    "plt.show()"
   ]
  },
  {
   "cell_type": "markdown",
   "metadata": {},
   "source": [
    "## Evaluar el Modelo"
   ]
  },
  {
   "cell_type": "code",
   "execution_count": 20,
   "metadata": {},
   "outputs": [
    {
     "name": "stdout",
     "output_type": "stream",
     "text": [
      "10000/10000 [==============================] - 0s 22us/sample - loss: 0.4279 - acc: 0.8655\n",
      "Test loss: 0.4279445987224579\n",
      "Test accuracy: 0.8655\n"
     ]
    }
   ],
   "source": [
    "# Obtener el score obtenido del modelo\n",
    "score = model.evaluate(x_test, y_test, verbose=1)\n",
    "print(\"Test loss:\", score[0])\n",
    "print(\"Test accuracy:\", score[1])"
   ]
  },
  {
   "cell_type": "markdown",
   "metadata": {},
   "source": [
    "## Predecir una Imagen"
   ]
  },
  {
   "cell_type": "code",
   "execution_count": 22,
   "metadata": {},
   "outputs": [
    {
     "data": {
      "image/png": "[encoded data removed]",
      "text/plain": [
       "<Figure size 432x288 with 1 Axes>"
      ]
     },
     "metadata": {
      "needs_background": "light"
     },
     "output_type": "display_data"
    },
    {
     "name": "stdout",
     "output_type": "stream",
     "text": [
      "[[2.4093705e-27 0.0000000e+00 0.0000000e+00 0.0000000e+00 0.0000000e+00\n",
      "  0.0000000e+00 0.0000000e+00 0.0000000e+00 1.0000000e+00 0.0000000e+00]]\n",
      "\n",
      "Prediccion: Bag\n"
     ]
    }
   ],
   "source": [
    "# obtener una imagen del dataset\n",
    "(_, _), (x_test, y_test) = keras.datasets.fashion_mnist.load_data()\n",
    "\n",
    "import random\n",
    "\n",
    "ind = random.randint(10,1000)\n",
    "\n",
    "img = x_test[ind]\n",
    "\n",
    "# imprimir\n",
    "plt.imshow(img, cmap='Greys')\n",
    "plt.show()\n",
    "\n",
    "# normalizar la imagen y expandirla\n",
    "img = img.astype(\"float32\") / 255\n",
    "img = img.reshape(28,28)\n",
    "\n",
    "# generar las probabilidades\n",
    "y_pred = model.predict(np.array([img]))\n",
    "\n",
    "# imprimir la lista de probabilidades\n",
    "print(y_pred)\n",
    "\n",
    "labels = ['T-shirt/top','Trouser','Pullover','Dress','Coat','Sandal','Shirt','Sneaker','Bag','Ankle boot']\n",
    "\n",
    "# argmax saca la clase con la probabilidad mas alta\n",
    "y_class = y_pred.argmax(axis=-1)\n",
    "\n",
    "# imprimir la clase\n",
    "print(\"\")\n",
    "print(\"Prediccion:\",labels[y_class[0]])"
   ]
  },
  {
   "cell_type": "code",
   "execution_count": null,
   "metadata": {},
   "outputs": [],
   "source": []
  }
 ],
 "metadata": {
  "kernelspec": {
   "display_name": "Python 3",
   "language": "python",
   "name": "python3"
  },
  "language_info": {
   "codemirror_mode": {
    "name": "ipython",
    "version": 3
   },
   "file_extension": ".py",
   "mimetype": "text/x-python",
   "name": "python",
   "nbconvert_exporter": "python",
   "pygments_lexer": "ipython3",
   "version": "3.6.10"
  }
 },
 "nbformat": 4,
 "nbformat_minor": 4
}
