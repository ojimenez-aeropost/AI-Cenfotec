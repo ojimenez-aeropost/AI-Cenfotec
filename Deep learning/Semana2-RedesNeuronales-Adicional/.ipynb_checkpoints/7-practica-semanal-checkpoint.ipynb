{
 "cells": [
  {
   "cell_type": "markdown",
   "metadata": {},
   "source": [
    "## Horses vs Humans\n",
    "\n",
    "Van a crear un notebook de kaggle para probar su clasificador neuronal binario a partir del dataset (https://www.kaggle.com/sanikamal/horses-or-humans-dataset) \n",
    "\n",
    "Indicaciones:\n",
    "\n",
    "- Considere una arquitectura neuronal simple primero.\n",
    "- Deben utilizar Image Augmentation (ImageDataGenerator de Keras).\n",
    "- Considere utilizar BatchNormalization y Dropout\n",
    "- Los optimizadores de moda son SGD, Adam, Adamax, RMSprop\n",
    "- Considere modificar el learning rate comno hyperparametro del optimizador\n",
    "- Debe probar el clasificadfor con imagenes de personas reales y caballos reales.\n",
    "- https://www.kindpng.com/picc/m/154-1542577_full-body-guy-in-suit-png-transparent-png.png\n",
    "- https://www.winnerscircle-equine.com/storage/app/media/3j.jpg\n",
    "\n",
    "Debe entregar en un txt la ruta de su cuaderno de Kaggle. Recuerde probar primero que su ruta es accesible en otro browser.\n",
    "\n",
    "Su clasificador es binario, considere utilizar softmax o sigmoid para comparar su utilidad."
   ]
  }
 ],
 "metadata": {
  "kernelspec": {
   "display_name": "Python 3",
   "language": "python",
   "name": "python3"
  },
  "language_info": {
   "codemirror_mode": {
    "name": "ipython",
    "version": 3
   },
   "file_extension": ".py",
   "mimetype": "text/x-python",
   "name": "python",
   "nbconvert_exporter": "python",
   "pygments_lexer": "ipython3",
   "version": "3.6.10"
  }
 },
 "nbformat": 4,
 "nbformat_minor": 4
}
