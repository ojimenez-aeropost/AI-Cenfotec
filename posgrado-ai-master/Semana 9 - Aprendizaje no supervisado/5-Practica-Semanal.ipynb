{
 "cells": [
  {
   "cell_type": "markdown",
   "metadata": {},
   "source": [
    "## Ejercicio Semanal - Tipos de Clientes"
   ]
  },
  {
   "cell_type": "markdown",
   "metadata": {},
   "source": [
    "Te encargarás de categorizar a algunos de tus clientes en base a datos históricos. No hay noción de qué tipo de clientes hay. ¡Se le pide que lo averigüe!\n",
    "\n",
    "* cargar datos / customers.csv\n",
    "* recuerde que la transformación y la normalización pueden ayudar.\n",
    "* ¿Hay valores atípicos?\n",
    "* considere usar PCA para reducir las dimensiones\n",
    "* Utilice k-means para crear los grupos que le resulten más útiles.\n",
    "* Utilice visualizaciones para describir sus grupos.\n",
    "\n",
    "Cuales grupos hizo y porque? Esto lo discutimos en clase!\n",
    "\n",
    "### Atributos:\n",
    "\n",
    "- FRESH: gasto anual (m.u.) en productos frescos (Continuo);\n",
    "- LECHE: gasto anual (m.u.) en productos lácteos (Continuo);\n",
    "- ALIMENTOS: gasto anual (m.u.) en productos alimenticios (Continuo);\n",
    "- CONGELADOS: gasto anual (m.u.) en productos congelados (Continuo)\n",
    "- DETERGENTS_PAPER: gasto anual (m.u.) en detergentes y productos de papel (Continuo)\n",
    "- DELICATESSEN: gasto anual (m.u.) en productos delicatessen (Continuo);\n",
    "- CANAL: Canal de clientes - Horeca (Hotel / Restaurante / Cafetería) o Canal Minorista (Nominal)\n",
    "- REGIÓN: clientes Región Lisnon, Oporto u Otro (Nominal)"
   ]
  },
  {
   "cell_type": "code",
   "execution_count": 12,
   "metadata": {},
   "outputs": [
    {
     "data": {
      "text/html": [
       "<div>\n",
       "<style scoped>\n",
       "    .dataframe tbody tr th:only-of-type {\n",
       "        vertical-align: middle;\n",
       "    }\n",
       "\n",
       "    .dataframe tbody tr th {\n",
       "        vertical-align: top;\n",
       "    }\n",
       "\n",
       "    .dataframe thead th {\n",
       "        text-align: right;\n",
       "    }\n",
       "</style>\n",
       "<table border=\"1\" class=\"dataframe\">\n",
       "  <thead>\n",
       "    <tr style=\"text-align: right;\">\n",
       "      <th></th>\n",
       "      <th>Channel</th>\n",
       "      <th>Region</th>\n",
       "      <th>Fresh</th>\n",
       "      <th>Milk</th>\n",
       "      <th>Grocery</th>\n",
       "      <th>Frozen</th>\n",
       "      <th>Detergents_Paper</th>\n",
       "      <th>Delicassen</th>\n",
       "    </tr>\n",
       "  </thead>\n",
       "  <tbody>\n",
       "    <tr>\n",
       "      <th>0</th>\n",
       "      <td>2</td>\n",
       "      <td>3</td>\n",
       "      <td>12669</td>\n",
       "      <td>9656</td>\n",
       "      <td>7561</td>\n",
       "      <td>214</td>\n",
       "      <td>2674</td>\n",
       "      <td>1338</td>\n",
       "    </tr>\n",
       "    <tr>\n",
       "      <th>1</th>\n",
       "      <td>2</td>\n",
       "      <td>3</td>\n",
       "      <td>7057</td>\n",
       "      <td>9810</td>\n",
       "      <td>9568</td>\n",
       "      <td>1762</td>\n",
       "      <td>3293</td>\n",
       "      <td>1776</td>\n",
       "    </tr>\n",
       "    <tr>\n",
       "      <th>2</th>\n",
       "      <td>2</td>\n",
       "      <td>3</td>\n",
       "      <td>6353</td>\n",
       "      <td>8808</td>\n",
       "      <td>7684</td>\n",
       "      <td>2405</td>\n",
       "      <td>3516</td>\n",
       "      <td>7844</td>\n",
       "    </tr>\n",
       "    <tr>\n",
       "      <th>3</th>\n",
       "      <td>1</td>\n",
       "      <td>3</td>\n",
       "      <td>13265</td>\n",
       "      <td>1196</td>\n",
       "      <td>4221</td>\n",
       "      <td>6404</td>\n",
       "      <td>507</td>\n",
       "      <td>1788</td>\n",
       "    </tr>\n",
       "    <tr>\n",
       "      <th>4</th>\n",
       "      <td>2</td>\n",
       "      <td>3</td>\n",
       "      <td>22615</td>\n",
       "      <td>5410</td>\n",
       "      <td>7198</td>\n",
       "      <td>3915</td>\n",
       "      <td>1777</td>\n",
       "      <td>5185</td>\n",
       "    </tr>\n",
       "    <tr>\n",
       "      <th>...</th>\n",
       "      <td>...</td>\n",
       "      <td>...</td>\n",
       "      <td>...</td>\n",
       "      <td>...</td>\n",
       "      <td>...</td>\n",
       "      <td>...</td>\n",
       "      <td>...</td>\n",
       "      <td>...</td>\n",
       "    </tr>\n",
       "    <tr>\n",
       "      <th>435</th>\n",
       "      <td>1</td>\n",
       "      <td>3</td>\n",
       "      <td>29703</td>\n",
       "      <td>12051</td>\n",
       "      <td>16027</td>\n",
       "      <td>13135</td>\n",
       "      <td>182</td>\n",
       "      <td>2204</td>\n",
       "    </tr>\n",
       "    <tr>\n",
       "      <th>436</th>\n",
       "      <td>1</td>\n",
       "      <td>3</td>\n",
       "      <td>39228</td>\n",
       "      <td>1431</td>\n",
       "      <td>764</td>\n",
       "      <td>4510</td>\n",
       "      <td>93</td>\n",
       "      <td>2346</td>\n",
       "    </tr>\n",
       "    <tr>\n",
       "      <th>437</th>\n",
       "      <td>2</td>\n",
       "      <td>3</td>\n",
       "      <td>14531</td>\n",
       "      <td>15488</td>\n",
       "      <td>30243</td>\n",
       "      <td>437</td>\n",
       "      <td>14841</td>\n",
       "      <td>1867</td>\n",
       "    </tr>\n",
       "    <tr>\n",
       "      <th>438</th>\n",
       "      <td>1</td>\n",
       "      <td>3</td>\n",
       "      <td>10290</td>\n",
       "      <td>1981</td>\n",
       "      <td>2232</td>\n",
       "      <td>1038</td>\n",
       "      <td>168</td>\n",
       "      <td>2125</td>\n",
       "    </tr>\n",
       "    <tr>\n",
       "      <th>439</th>\n",
       "      <td>1</td>\n",
       "      <td>3</td>\n",
       "      <td>2787</td>\n",
       "      <td>1698</td>\n",
       "      <td>2510</td>\n",
       "      <td>65</td>\n",
       "      <td>477</td>\n",
       "      <td>52</td>\n",
       "    </tr>\n",
       "  </tbody>\n",
       "</table>\n",
       "<p>440 rows × 8 columns</p>\n",
       "</div>"
      ],
      "text/plain": [
       "     Channel  Region  Fresh   Milk  Grocery  Frozen  Detergents_Paper  \\\n",
       "0          2       3  12669   9656     7561     214              2674   \n",
       "1          2       3   7057   9810     9568    1762              3293   \n",
       "2          2       3   6353   8808     7684    2405              3516   \n",
       "3          1       3  13265   1196     4221    6404               507   \n",
       "4          2       3  22615   5410     7198    3915              1777   \n",
       "..       ...     ...    ...    ...      ...     ...               ...   \n",
       "435        1       3  29703  12051    16027   13135               182   \n",
       "436        1       3  39228   1431      764    4510                93   \n",
       "437        2       3  14531  15488    30243     437             14841   \n",
       "438        1       3  10290   1981     2232    1038               168   \n",
       "439        1       3   2787   1698     2510      65               477   \n",
       "\n",
       "     Delicassen  \n",
       "0          1338  \n",
       "1          1776  \n",
       "2          7844  \n",
       "3          1788  \n",
       "4          5185  \n",
       "..          ...  \n",
       "435        2204  \n",
       "436        2346  \n",
       "437        1867  \n",
       "438        2125  \n",
       "439          52  \n",
       "\n",
       "[440 rows x 8 columns]"
      ]
     },
     "execution_count": 12,
     "metadata": {},
     "output_type": "execute_result"
    }
   ],
   "source": [
    "import pandas as pd\n",
    "import numpy as np\n",
    "import matplotlib.pyplot as plt\n",
    "from sklearn.cluster import KMeans\n",
    "from sklearn import decomposition\n",
    "from mpl_toolkits.mplot3d import Axes3D\n",
    "import plotly.express as px\n",
    "import plotly.graph_objects as go\n",
    "data = pd.read_csv(\"data/customers.csv\")\n",
    "data"
   ]
  },
  {
   "cell_type": "code",
   "execution_count": 13,
   "metadata": {},
   "outputs": [
    {
     "data": {
      "text/html": [
       "<div>\n",
       "<style scoped>\n",
       "    .dataframe tbody tr th:only-of-type {\n",
       "        vertical-align: middle;\n",
       "    }\n",
       "\n",
       "    .dataframe tbody tr th {\n",
       "        vertical-align: top;\n",
       "    }\n",
       "\n",
       "    .dataframe thead th {\n",
       "        text-align: right;\n",
       "    }\n",
       "</style>\n",
       "<table border=\"1\" class=\"dataframe\">\n",
       "  <thead>\n",
       "    <tr style=\"text-align: right;\">\n",
       "      <th></th>\n",
       "      <th>Channel</th>\n",
       "      <th>Region</th>\n",
       "      <th>Fresh</th>\n",
       "      <th>Milk</th>\n",
       "      <th>Grocery</th>\n",
       "      <th>Frozen</th>\n",
       "      <th>Detergents_Paper</th>\n",
       "      <th>Delicassen</th>\n",
       "      <th>total_spends</th>\n",
       "    </tr>\n",
       "  </thead>\n",
       "  <tbody>\n",
       "    <tr>\n",
       "      <th>0</th>\n",
       "      <td>2</td>\n",
       "      <td>3</td>\n",
       "      <td>12669</td>\n",
       "      <td>9656</td>\n",
       "      <td>7561</td>\n",
       "      <td>214</td>\n",
       "      <td>2674</td>\n",
       "      <td>1338</td>\n",
       "      <td>34112</td>\n",
       "    </tr>\n",
       "    <tr>\n",
       "      <th>1</th>\n",
       "      <td>2</td>\n",
       "      <td>3</td>\n",
       "      <td>7057</td>\n",
       "      <td>9810</td>\n",
       "      <td>9568</td>\n",
       "      <td>1762</td>\n",
       "      <td>3293</td>\n",
       "      <td>1776</td>\n",
       "      <td>33266</td>\n",
       "    </tr>\n",
       "    <tr>\n",
       "      <th>2</th>\n",
       "      <td>2</td>\n",
       "      <td>3</td>\n",
       "      <td>6353</td>\n",
       "      <td>8808</td>\n",
       "      <td>7684</td>\n",
       "      <td>2405</td>\n",
       "      <td>3516</td>\n",
       "      <td>7844</td>\n",
       "      <td>36610</td>\n",
       "    </tr>\n",
       "    <tr>\n",
       "      <th>3</th>\n",
       "      <td>1</td>\n",
       "      <td>3</td>\n",
       "      <td>13265</td>\n",
       "      <td>1196</td>\n",
       "      <td>4221</td>\n",
       "      <td>6404</td>\n",
       "      <td>507</td>\n",
       "      <td>1788</td>\n",
       "      <td>27381</td>\n",
       "    </tr>\n",
       "    <tr>\n",
       "      <th>4</th>\n",
       "      <td>2</td>\n",
       "      <td>3</td>\n",
       "      <td>22615</td>\n",
       "      <td>5410</td>\n",
       "      <td>7198</td>\n",
       "      <td>3915</td>\n",
       "      <td>1777</td>\n",
       "      <td>5185</td>\n",
       "      <td>46100</td>\n",
       "    </tr>\n",
       "    <tr>\n",
       "      <th>...</th>\n",
       "      <td>...</td>\n",
       "      <td>...</td>\n",
       "      <td>...</td>\n",
       "      <td>...</td>\n",
       "      <td>...</td>\n",
       "      <td>...</td>\n",
       "      <td>...</td>\n",
       "      <td>...</td>\n",
       "      <td>...</td>\n",
       "    </tr>\n",
       "    <tr>\n",
       "      <th>435</th>\n",
       "      <td>1</td>\n",
       "      <td>3</td>\n",
       "      <td>29703</td>\n",
       "      <td>12051</td>\n",
       "      <td>16027</td>\n",
       "      <td>13135</td>\n",
       "      <td>182</td>\n",
       "      <td>2204</td>\n",
       "      <td>73302</td>\n",
       "    </tr>\n",
       "    <tr>\n",
       "      <th>436</th>\n",
       "      <td>1</td>\n",
       "      <td>3</td>\n",
       "      <td>39228</td>\n",
       "      <td>1431</td>\n",
       "      <td>764</td>\n",
       "      <td>4510</td>\n",
       "      <td>93</td>\n",
       "      <td>2346</td>\n",
       "      <td>48372</td>\n",
       "    </tr>\n",
       "    <tr>\n",
       "      <th>437</th>\n",
       "      <td>2</td>\n",
       "      <td>3</td>\n",
       "      <td>14531</td>\n",
       "      <td>15488</td>\n",
       "      <td>30243</td>\n",
       "      <td>437</td>\n",
       "      <td>14841</td>\n",
       "      <td>1867</td>\n",
       "      <td>77407</td>\n",
       "    </tr>\n",
       "    <tr>\n",
       "      <th>438</th>\n",
       "      <td>1</td>\n",
       "      <td>3</td>\n",
       "      <td>10290</td>\n",
       "      <td>1981</td>\n",
       "      <td>2232</td>\n",
       "      <td>1038</td>\n",
       "      <td>168</td>\n",
       "      <td>2125</td>\n",
       "      <td>17834</td>\n",
       "    </tr>\n",
       "    <tr>\n",
       "      <th>439</th>\n",
       "      <td>1</td>\n",
       "      <td>3</td>\n",
       "      <td>2787</td>\n",
       "      <td>1698</td>\n",
       "      <td>2510</td>\n",
       "      <td>65</td>\n",
       "      <td>477</td>\n",
       "      <td>52</td>\n",
       "      <td>7589</td>\n",
       "    </tr>\n",
       "  </tbody>\n",
       "</table>\n",
       "<p>440 rows × 9 columns</p>\n",
       "</div>"
      ],
      "text/plain": [
       "     Channel  Region  Fresh   Milk  Grocery  Frozen  Detergents_Paper  \\\n",
       "0          2       3  12669   9656     7561     214              2674   \n",
       "1          2       3   7057   9810     9568    1762              3293   \n",
       "2          2       3   6353   8808     7684    2405              3516   \n",
       "3          1       3  13265   1196     4221    6404               507   \n",
       "4          2       3  22615   5410     7198    3915              1777   \n",
       "..       ...     ...    ...    ...      ...     ...               ...   \n",
       "435        1       3  29703  12051    16027   13135               182   \n",
       "436        1       3  39228   1431      764    4510                93   \n",
       "437        2       3  14531  15488    30243     437             14841   \n",
       "438        1       3  10290   1981     2232    1038               168   \n",
       "439        1       3   2787   1698     2510      65               477   \n",
       "\n",
       "     Delicassen  total_spends  \n",
       "0          1338         34112  \n",
       "1          1776         33266  \n",
       "2          7844         36610  \n",
       "3          1788         27381  \n",
       "4          5185         46100  \n",
       "..          ...           ...  \n",
       "435        2204         73302  \n",
       "436        2346         48372  \n",
       "437        1867         77407  \n",
       "438        2125         17834  \n",
       "439          52          7589  \n",
       "\n",
       "[440 rows x 9 columns]"
      ]
     },
     "execution_count": 13,
     "metadata": {},
     "output_type": "execute_result"
    }
   ],
   "source": [
    "data['total_spends'] = data['Fresh'] + data['Milk'] + data['Grocery'] + data['Frozen'] + data['Detergents_Paper'] + data['Delicassen']\n",
    "data"
   ]
  },
  {
   "cell_type": "markdown",
   "metadata": {},
   "source": [
    "# Obtener valor de K"
   ]
  },
  {
   "cell_type": "code",
   "execution_count": 14,
   "metadata": {},
   "outputs": [
    {
     "name": "stdout",
     "output_type": "stream",
     "text": [
      "[462549244870.7799, 259253976501.92776, 162229332046.85703, 131589953572.8099, 105168093122.49847, 88403275499.99048, 76528691717.5222, 67002221168.57092, 59488303616.30729]\n"
     ]
    },
    {
     "data": {
      "image/png": "[encoded data removed]",
      "text/plain": [
       "<Figure size 432x288 with 1 Axes>"
      ]
     },
     "metadata": {
      "needs_background": "light"
     },
     "output_type": "display_data"
    }
   ],
   "source": [
    "distortions = []\n",
    "K = range(1,10)\n",
    "for k in K:\n",
    "    model = KMeans(n_clusters=k)\n",
    "    model.fit(data)\n",
    "    distortions.append(model.inertia_)\n",
    "    \n",
    "print(distortions)\n",
    "\n",
    "plt.plot(K, distortions, 'bx-')\n",
    "plt.xlabel('k')\n",
    "plt.ylabel('Distortion')\n",
    "plt.show()"
   ]
  },
  {
   "cell_type": "code",
   "execution_count": 15,
   "metadata": {},
   "outputs": [],
   "source": [
    "pca = decomposition.PCA(n_components=3)\n",
    "X = pca.fit_transform(data)"
   ]
  },
  {
   "cell_type": "code",
   "execution_count": 16,
   "metadata": {},
   "outputs": [],
   "source": [
    "model = KMeans(n_clusters=3,init=\"k-means++\")\n",
    "predictions = model.fit_predict(X)"
   ]
  },
  {
   "cell_type": "code",
   "execution_count": 17,
   "metadata": {},
   "outputs": [],
   "source": [
    "clusters = pd.DataFrame(data=X,columns=['Component1','Component2','Component3'])\n",
    "clusters['class']=predictions"
   ]
  },
  {
   "cell_type": "code",
   "execution_count": 18,
   "metadata": {},
   "outputs": [
    {
     "data": {
      "text/html": [
       "<div>\n",
       "<style scoped>\n",
       "    .dataframe tbody tr th:only-of-type {\n",
       "        vertical-align: middle;\n",
       "    }\n",
       "\n",
       "    .dataframe tbody tr th {\n",
       "        vertical-align: top;\n",
       "    }\n",
       "\n",
       "    .dataframe thead th {\n",
       "        text-align: right;\n",
       "    }\n",
       "</style>\n",
       "<table border=\"1\" class=\"dataframe\">\n",
       "  <thead>\n",
       "    <tr style=\"text-align: right;\">\n",
       "      <th></th>\n",
       "      <th>Component1</th>\n",
       "      <th>Component2</th>\n",
       "      <th>Component3</th>\n",
       "      <th>class</th>\n",
       "    </tr>\n",
       "  </thead>\n",
       "  <tbody>\n",
       "    <tr>\n",
       "      <th>0</th>\n",
       "      <td>1428.322978</td>\n",
       "      <td>-590.329546</td>\n",
       "      <td>-882.319301</td>\n",
       "      <td>1</td>\n",
       "    </tr>\n",
       "    <tr>\n",
       "      <th>1</th>\n",
       "      <td>-86.617405</td>\n",
       "      <td>-5996.216514</td>\n",
       "      <td>1152.050155</td>\n",
       "      <td>1</td>\n",
       "    </tr>\n",
       "    <tr>\n",
       "      <th>2</th>\n",
       "      <td>2457.570786</td>\n",
       "      <td>-5446.703163</td>\n",
       "      <td>4279.787537</td>\n",
       "      <td>1</td>\n",
       "    </tr>\n",
       "    <tr>\n",
       "      <th>3</th>\n",
       "      <td>-6796.997959</td>\n",
       "      <td>5084.683938</td>\n",
       "      <td>2186.585664</td>\n",
       "      <td>1</td>\n",
       "    </tr>\n",
       "    <tr>\n",
       "      <th>4</th>\n",
       "      <td>14243.889358</td>\n",
       "      <td>8992.242576</td>\n",
       "      <td>-58.102319</td>\n",
       "      <td>0</td>\n",
       "    </tr>\n",
       "    <tr>\n",
       "      <th>...</th>\n",
       "      <td>...</td>\n",
       "      <td>...</td>\n",
       "      <td>...</td>\n",
       "      <td>...</td>\n",
       "    </tr>\n",
       "    <tr>\n",
       "      <th>435</th>\n",
       "      <td>44404.768741</td>\n",
       "      <td>9568.801079</td>\n",
       "      <td>4868.597264</td>\n",
       "      <td>0</td>\n",
       "    </tr>\n",
       "    <tr>\n",
       "      <th>436</th>\n",
       "      <td>17973.602636</td>\n",
       "      <td>26702.925989</td>\n",
       "      <td>-3701.027549</td>\n",
       "      <td>0</td>\n",
       "    </tr>\n",
       "    <tr>\n",
       "      <th>437</th>\n",
       "      <td>49039.004780</td>\n",
       "      <td>-15363.198010</td>\n",
       "      <td>-7206.890597</td>\n",
       "      <td>0</td>\n",
       "    </tr>\n",
       "    <tr>\n",
       "      <th>438</th>\n",
       "      <td>-16888.498670</td>\n",
       "      <td>3140.926636</td>\n",
       "      <td>-431.736228</td>\n",
       "      <td>1</td>\n",
       "    </tr>\n",
       "    <tr>\n",
       "      <th>439</th>\n",
       "      <td>-28212.439566</td>\n",
       "      <td>-2844.706253</td>\n",
       "      <td>-580.323286</td>\n",
       "      <td>1</td>\n",
       "    </tr>\n",
       "  </tbody>\n",
       "</table>\n",
       "<p>440 rows × 4 columns</p>\n",
       "</div>"
      ],
      "text/plain": [
       "       Component1    Component2   Component3  class\n",
       "0     1428.322978   -590.329546  -882.319301      1\n",
       "1      -86.617405  -5996.216514  1152.050155      1\n",
       "2     2457.570786  -5446.703163  4279.787537      1\n",
       "3    -6796.997959   5084.683938  2186.585664      1\n",
       "4    14243.889358   8992.242576   -58.102319      0\n",
       "..            ...           ...          ...    ...\n",
       "435  44404.768741   9568.801079  4868.597264      0\n",
       "436  17973.602636  26702.925989 -3701.027549      0\n",
       "437  49039.004780 -15363.198010 -7206.890597      0\n",
       "438 -16888.498670   3140.926636  -431.736228      1\n",
       "439 -28212.439566  -2844.706253  -580.323286      1\n",
       "\n",
       "[440 rows x 4 columns]"
      ]
     },
     "execution_count": 18,
     "metadata": {},
     "output_type": "execute_result"
    }
   ],
   "source": [
    "clusters"
   ]
  },
  {
   "cell_type": "code",
   "execution_count": 19,
   "metadata": {},
   "outputs": [
    {
     "data": {
      "application/vnd.plotly.v1+json": {
       "config": {
        "plotlyServerURL": "https://plot.ly"
       },
       "data": [
        {
         "hovertemplate": "Component1=%{x}<br>Component2=%{y}<br>Component3=%{z}<br>class=%{marker.color}<extra></extra>",
         "legendgroup": "",
         "marker": {
          "color": [
           1,
           1,
           1,
           1,
           0,
           1,
           1,
           1,
           1,
           0,
           1,
           1,
           0,
           0,
           0,
           1,
           1,
           1,
           0,
           1,
           1,
           1,
           0,
           2,
           0,
           1,
           1,
           1,
           0,
           0,
           0,
           1,
           1,
           0,
           1,
           1,
           0,
           0,
           0,
           0,
           0,
           1,
           0,
           0,
           1,
           0,
           0,
           2,
           1,
           0,
           1,
           1,
           0,
           1,
           1,
           1,
           0,
           1,
           1,
           1,
           1,
           2,
           1,
           0,
           1,
           0,
           1,
           0,
           1,
           1,
           1,
           0,
           1,
           0,
           1,
           1,
           1,
           0,
           1,
           1,
           1,
           1,
           1,
           1,
           1,
           2,
           2,
           0,
           1,
           0,
           1,
           1,
           0,
           0,
           1,
           1,
           1,
           1,
           1,
           1,
           0,
           1,
           1,
           0,
           1,
           1,
           1,
           0,
           1,
           0,
           1,
           0,
           1,
           1,
           1,
           1,
           1,
           1,
           1,
           1,
           1,
           1,
           1,
           1,
           0,
           0,
           1,
           0,
           1,
           0,
           1,
           1,
           1,
           1,
           1,
           1,
           1,
           1,
           1,
           1,
           1,
           0,
           0,
           1,
           1,
           0,
           1,
           1,
           1,
           0,
           1,
           1,
           1,
           1,
           1,
           0,
           1,
           1,
           1,
           1,
           1,
           1,
           1,
           0,
           1,
           0,
           1,
           1,
           1,
           1,
           1,
           0,
           1,
           1,
           1,
           1,
           0,
           1,
           1,
           1,
           1,
           2,
           1,
           2,
           1,
           1,
           1,
           1,
           1,
           1,
           1,
           1,
           1,
           1,
           1,
           1,
           0,
           1,
           1,
           1,
           0,
           0,
           0,
           1,
           1,
           0,
           1,
           1,
           1,
           0,
           1,
           2,
           1,
           1,
           1,
           1,
           0,
           1,
           1,
           1,
           1,
           1,
           1,
           1,
           1,
           1,
           0,
           1,
           1,
           1,
           1,
           1,
           1,
           1,
           1,
           1,
           1,
           1,
           1,
           0,
           0,
           1,
           1,
           1,
           1,
           1,
           1,
           1,
           1,
           1,
           1,
           0,
           1,
           0,
           0,
           0,
           1,
           1,
           0,
           0,
           1,
           1,
           1,
           1,
           1,
           0,
           0,
           1,
           0,
           1,
           1,
           1,
           1,
           0,
           1,
           1,
           0,
           1,
           1,
           0,
           1,
           1,
           0,
           0,
           0,
           0,
           1,
           1,
           1,
           0,
           1,
           1,
           1,
           1,
           1,
           1,
           1,
           1,
           1,
           1,
           1,
           0,
           1,
           1,
           0,
           1,
           0,
           1,
           1,
           0,
           1,
           0,
           0,
           1,
           1,
           1,
           1,
           1,
           1,
           0,
           1,
           1,
           1,
           1,
           1,
           2,
           1,
           1,
           1,
           1,
           1,
           0,
           1,
           2,
           1,
           0,
           1,
           1,
           1,
           1,
           1,
           1,
           1,
           0,
           1,
           1,
           1,
           0,
           1,
           0,
           1,
           0,
           1,
           1,
           1,
           1,
           1,
           1,
           1,
           1,
           1,
           1,
           1,
           1,
           1,
           1,
           1,
           1,
           1,
           1,
           0,
           1,
           1,
           1,
           1,
           1,
           1,
           0,
           1,
           1,
           1,
           1,
           0,
           1,
           0,
           1,
           1,
           1,
           1,
           1,
           1,
           1,
           1,
           0,
           1,
           1,
           1,
           1,
           1,
           1,
           1,
           0,
           0,
           0,
           1,
           1,
           0,
           0,
           1,
           1,
           1,
           1,
           1,
           1,
           1,
           1,
           1,
           1,
           1,
           1,
           1,
           1,
           1,
           1,
           1,
           1,
           0,
           0,
           1,
           1,
           1,
           1,
           1,
           1,
           1,
           0,
           0,
           0,
           1,
           1
          ],
          "coloraxis": "coloraxis",
          "symbol": "circle"
         },
         "mode": "markers",
         "name": "",
         "scene": "scene",
         "showlegend": false,
         "type": "scatter3d",
         "x": [
          1428.3229782479827,
          -86.61740504486718,
          2457.5707858573933,
          -6796.997959229532,
          14243.889358365223,
          -7032.986731489239,
          -7015.753568930337,
          -4298.42982288185,
          -15882.687314148237,
          14681.736087006264,
          -95.02039129793692,
          -12679.252112121403,
          34132.44816830973,
          22243.16560087134,
          23627.30195009507,
          -17512.488723743143,
          -6286.519946824759,
          -14365.236521377274,
          11348.618760912896,
          -10477.478524331758,
          -798.0114826758291,
          -22862.938099208317,
          22454.0437185579,
          84363.08124780237,
          28982.32429251207,
          -334.99151549610366,
          -16857.578369343577,
          -14752.186387979616,
          35091.85205022538,
          21685.727018189747,
          7891.400116165784,
          -21599.23443817522,
          -5305.669657600587,
          18784.13684492561,
          -29000.731012407246,
          -11725.393116575753,
          16024.217266635183,
          15890.238861094485,
          12501.80332093826,
          42837.202836255165,
          17319.887020577462,
          2950.133036732021,
          8496.026558176127,
          14134.976441912275,
          -551.4384944314806,
          32065.054691102785,
          17348.19086925453,
          176525.01711147683,
          2984.1606459129257,
          42301.09225606606,
          -19618.744273108594,
          -18346.452375530956,
          25961.762969371142,
          -4863.974454048928,
          2650.9430471179,
          -16734.267952340088,
          53430.26366156884,
          1375.6977471266414,
          -15489.827344420983,
          -9767.555634465118,
          -10002.179242426506,
          147661.33136577846,
          -4261.974259743003,
          16791.49215830523,
          -20227.987274341132,
          64809.36399923675,
          -22893.277088433126,
          16450.32345512209,
          -11950.149164666052,
          -20940.79144265483,
          266.2762951325494,
          33208.03429162466,
          -12851.29639571869,
          11473.625735373183,
          -4191.51799980264,
          -6620.470793095054,
          -15846.037141184583,
          38073.09014170428,
          -18119.08779960556,
          -23479.35638006883,
          -22749.505040316453,
          -1197.7992363300327,
          4567.195102614307,
          -5216.693639523407,
          -8680.833539475449,
          184276.8512801694,
          129740.51943325752,
          49743.31245066409,
          -12785.453896050323,
          9325.277192034358,
          -17345.40864760333,
          -5908.973793970254,
          68008.35338971783,
          18654.19215666674,
          1713.0353771343698,
          -25079.218983891173,
          -20319.189792107747,
          -34485.75923474311,
          -34148.292098529775,
          -14989.047562199674,
          13330.237360350271,
          5544.622684454423,
          -9051.101487336951,
          63827.26898584292,
          -10777.856416482799,
          -10663.89501241555,
          -7079.774453463387,
          15052.03140138252,
          -13813.977255073225,
          18015.12866279131,
          -15351.529341942078,
          18973.399753362366,
          2873.052048843816,
          -10295.26989444196,
          -8529.30673215603,
          -16059.471835571601,
          -15184.369585642049,
          -15201.015355389602,
          -2211.978247179309,
          -17504.04747306359,
          -8006.351280633745,
          -24013.9740863225,
          -19320.353844511326,
          2421.594768152317,
          17018.34653206075,
          81509.56007752765,
          -1772.2122039128496,
          14282.459034170397,
          -21291.618216627245,
          18975.853748898764,
          -17627.24676859462,
          -32644.176635728825,
          -12548.361046366153,
          -22203.063748397868,
          -22382.004639505485,
          -23434.342778595063,
          -5537.137339333516,
          -13404.180850529063,
          -7071.621737620309,
          -18886.216000057506,
          2460.5346866958585,
          20829.039202753287,
          26545.26648291048,
          -12821.128620244692,
          -7743.046626633332,
          54952.70302166617,
          -21666.533965971208,
          -16435.19524480656,
          -24021.915206323738,
          5934.562442433933,
          -11878.154417115344,
          -26851.668227285623,
          -6343.8412893445875,
          -17255.489215308033,
          -35769.191837889244,
          13577.096829627944,
          621.17775692595,
          -7297.542907100947,
          -8655.59236697457,
          -2229.2282711433245,
          -8742.86198048707,
          -18229.42365260711,
          -9151.008979491598,
          34352.840199168095,
          -6106.0782247978295,
          31805.431545491956,
          -3820.945311230243,
          -23378.243601646318,
          -26473.982866423965,
          -24132.942683911693,
          -3064.397817800372,
          30094.550684120815,
          -18291.26690580395,
          6493.468179786496,
          -25159.879112510724,
          -5907.22925353892,
          40343.56071322194,
          -4461.44411589428,
          -8923.063475825104,
          -18202.70886565078,
          -1137.2742243261775,
          176441.3689728349,
          -6976.0276904383145,
          158880.3605140231,
          -29583.717072511005,
          -16481.37051431441,
          -26735.643194686905,
          -4322.084282325445,
          4332.2306297576515,
          -3758.4510708034663,
          -666.7065535030271,
          -18057.998006194182,
          -25090.887372973968,
          -2237.862913184103,
          -21778.97021178094,
          4300.811486567024,
          33997.40146578783,
          -7393.395172675443,
          -8330.030016168887,
          -19376.82119976155,
          22447.266748765716,
          32027.40454939588,
          27773.219578331176,
          -31388.90380800465,
          -24937.484704725794,
          15411.048824014786,
          -26024.44616651028,
          -13307.890212325228,
          -18204.603198795692,
          17045.319870918705,
          -7527.635395858876,
          80945.03483268722,
          -21654.855892815136,
          -11354.8554582239,
          -6147.887948658073,
          5635.995952632917,
          40535.33040721899,
          -8154.460313486146,
          1087.7361619731466,
          -27523.853721629443,
          -14582.634296225227,
          -5522.295843624414,
          -18559.79650450752,
          -17206.969455192353,
          -24434.74038534732,
          -11553.170411955018,
          10237.114048165975,
          -24741.46223679627,
          -27412.660084355382,
          -12577.511714621196,
          171.16763017637703,
          -14477.655234023832,
          1460.2052106068843,
          -25056.02213196504,
          -4383.192220871296,
          -21705.276976885398,
          -19485.0491437248,
          -4479.021387339745,
          -25684.98292548507,
          33659.138082301426,
          14759.79660830856,
          577.5975472030315,
          -6757.436702251257,
          -9423.023221517473,
          -2416.8178539701194,
          1398.0164875112266,
          -19015.77302674146,
          -17391.505336604972,
          -8342.854817642503,
          -13551.884176042755,
          -26240.293198479303,
          64522.87489201927,
          -12352.828298238566,
          27885.020167562918,
          9724.498611210187,
          6060.885729860012,
          -11169.434519139162,
          -13243.61277893848,
          46009.57049644027,
          43632.063427629815,
          -16624.23183946167,
          -18259.182656122914,
          -4305.5993229548685,
          -17900.23281139694,
          130.32258467212517,
          25835.53498175208,
          9587.302154457206,
          -149.31795009770622,
          16824.01451041454,
          -14542.902054723048,
          -23477.567119689695,
          -24357.620983197794,
          -17555.2229550482,
          17687.026899907858,
          -29185.44546222492,
          -32685.25886193814,
          15099.646159376876,
          -7428.899314725613,
          -10452.699976124097,
          7888.257474412546,
          -24751.315538036768,
          -2193.4715769860813,
          37677.521683417115,
          11066.978159584114,
          74183.02614514854,
          16321.100160350488,
          -21656.601371455126,
          -3915.6169871177626,
          -14229.411199176313,
          15217.447610486075,
          -25328.102353510967,
          -19064.37114106248,
          -19574.452743541362,
          1971.0796806323624,
          1140.2458918716682,
          -17004.12038031441,
          -4463.482138140347,
          -10189.659904989845,
          -6010.709261295771,
          -32154.86694088478,
          1899.9183720469903,
          18164.687588536734,
          -9200.170516787162,
          -3152.4173180049356,
          14812.319783915771,
          -7187.533041438873,
          20522.545818250343,
          -8422.313924930568,
          -22811.213197350356,
          11681.827393632393,
          -10683.97240781862,
          13174.476039224446,
          10446.513608294925,
          -16868.829654185847,
          -10224.774427179218,
          3014.660952250103,
          -20783.53726441734,
          -21672.877524479198,
          -13189.390824788754,
          37575.28864347435,
          -26477.987952676238,
          -14215.651740642988,
          -8452.94870657362,
          -3793.906902013014,
          3667.6221102311056,
          100910.46699984513,
          -23678.27157259862,
          -32281.31267286947,
          -1512.7167290293344,
          -17793.973542794105,
          -12950.586580357649,
          35376.47250273833,
          -838.882530106009,
          95595.17555665514,
          1780.4368526230116,
          22096.068965843595,
          -15841.782752003095,
          -12262.765911901293,
          -12735.324021270613,
          -14624.758360216889,
          -11806.97428906553,
          -6850.787815844353,
          -17122.777037810378,
          20085.130492487635,
          -27202.80191222582,
          -18419.7061929578,
          2227.2910794691843,
          25439.958498657576,
          -24736.08642948053,
          24524.254178706073,
          -26340.312998657944,
          18678.32600445007,
          -32033.698854318205,
          4604.296270573493,
          353.38809596135644,
          -32923.915349508985,
          -6428.039838794388,
          -2752.8132799576824,
          -3087.436374988197,
          -25675.12850186166,
          -4897.97906844134,
          -27918.396710356803,
          -28352.27330315749,
          -23395.253721247274,
          -29014.14418239048,
          -6302.118157502222,
          -19541.373323992764,
          -29166.02674181383,
          -4129.27751655571,
          -27041.77014013292,
          23357.68403929626,
          265.29353386847913,
          -20362.00693587437,
          2471.001595252839,
          -22616.15985494651,
          -25948.975413609212,
          3469.0254591567264,
          17114.123969534343,
          -25833.5514610768,
          -13363.999384829272,
          4187.810457959667,
          1144.7475515585998,
          28121.367067356423,
          -24597.825171395856,
          26051.414562904734,
          -16687.110749971023,
          -24970.058947980273,
          -5507.929359131927,
          -20926.753861869667,
          -18763.06431579282,
          -23483.273929886072,
          -25310.082221024426,
          -26076.97680445483,
          12020.108673775918,
          -15839.976234549684,
          -18779.236157302872,
          459.1979767591087,
          -12518.059280874866,
          -16158.89597751094,
          -21529.924673000645,
          -24627.171247062055,
          15028.115404370536,
          5691.86637976067,
          11424.272910231297,
          -956.727394392284,
          -23339.066562289656,
          15147.309292257134,
          18591.408304006243,
          -10893.985461866923,
          -6358.928295685763,
          -16515.53338049694,
          -21057.082821856486,
          -15337.14741562069,
          2490.444327097379,
          -16825.28669629271,
          -4211.368314701563,
          1428.964721195882,
          -7284.777556015238,
          2360.163616515511,
          -16117.99347222465,
          -2407.5725561153704,
          4916.63722191019,
          3130.718114820016,
          -3484.493103236677,
          4486.483883394219,
          -1334.6192763318265,
          15167.852509196882,
          40028.31419716075,
          -17757.792402865078,
          -18239.707913651386,
          -6846.100422582115,
          980.035208275642,
          -3526.363258626012,
          -26003.862832732524,
          9.784683206682361,
          44404.768740901636,
          17973.60263623019,
          49039.00478022586,
          -16888.498669707882,
          -28212.439566292804
         ],
         "y": [
          -590.3295459246249,
          -5996.216513997245,
          -5446.70316266566,
          5084.683937941815,
          8992.242576139548,
          -1223.6274073064849,
          1027.814214002695,
          -4172.396799058849,
          -3086.661045049334,
          -12972.624847749965,
          -9774.741104082777,
          4422.149882943447,
          10932.040100248449,
          2492.231694171047,
          5815.140953718346,
          2329.384210054245,
          -12106.63288259823,
          -1922.3013534677802,
          3808.827368112924,
          -3163.244522127825,
          6275.007955539182,
          105.76592476333994,
          18370.77091749151,
          -5057.427858467381,
          3669.381607957602,
          3291.815717602263,
          3016.2502218664686,
          6153.490988802638,
          -20983.335984447436,
          28029.12044790501,
          4334.822476109471,
          -3967.3987975576774,
          11520.65804125459,
          15276.394948736277,
          -3770.2911697507425,
          -10757.515817185395,
          15896.785478468413,
          -2236.8388460185106,
          -14255.720647916196,
          40417.6904168209,
          12264.975522797264,
          7268.132945508614,
          -6195.580160612488,
          -20226.322022158878,
          -4077.8127386839146,
          -18016.56909356193,
          -17341.546055089064,
          -17778.128397236265,
          -2759.54285170158,
          -23296.907389943743,
          546.6483508794587,
          -5576.6584630030675,
          23592.766629376583,
          -12931.346995823154,
          16724.714665323096,
          -3086.8352772410713,
          -26455.301982589295,
          -9088.899632920868,
          6102.072815584901,
          -4774.408494315774,
          -2386.7645183948216,
          -22851.95989457428,
          -2882.3932857920804,
          -8864.710985250127,
          -1452.3186639713422,
          -38396.504404120926,
          -8182.600863702528,
          2340.2327208070196,
          -5037.277079893728,
          1746.8288801076978,
          8508.310445129358,
          -700.6983789093707,
          -2070.097330630208,
          6925.345927717232,
          -3901.7611180966137,
          12661.755114930436,
          -6311.309326352158,
          -14688.757226435728,
          3916.873672631123,
          -4898.373984537851,
          401.5073352310358,
          -14945.043207192777,
          -4161.75047550672,
          11692.003623387862,
          1734.2344713984853,
          -60891.742747264885,
          -27707.694317609123,
          24693.752457067672,
          1621.3121053631294,
          12492.223515395483,
          4961.774536650459,
          5266.0982289816875,
          -24715.131869353558,
          6820.853942002439,
          -9250.403126220323,
          -7094.209392238683,
          -8944.649963356545,
          -3156.1811908543477,
          -3112.1210772135414,
          3197.0505039896575,
          -4390.330002169689,
          -14917.724810219594,
          -7571.347459926994,
          35963.73860156654,
          5132.307416668337,
          6661.488819496578,
          -11027.834184019783,
          -9018.322966231712,
          -8495.63513729579,
          -21280.098383361732,
          4802.988740620638,
          -7007.910044512208,
          10176.992172203656,
          6595.122035133442,
          9669.198277554648,
          3911.042721288001,
          3156.77965749482,
          -1467.1333179659746,
          10988.073927382677,
          1772.9295736888105,
          8230.936801827018,
          -1562.955072312758,
          6262.4737272972025,
          -2284.069851607409,
          23032.155847576596,
          52516.216882637185,
          10995.114523043692,
          5464.24871814073,
          -7726.413667794644,
          28527.648839116773,
          1786.0064559719794,
          -1842.7542088754938,
          6340.759772534667,
          3192.3749762818834,
          991.8063709113775,
          117.90315567569142,
          -5776.344521856243,
          -7287.467205016089,
          3494.403101311265,
          -2173.521592544621,
          5533.434178669595,
          13968.604697888964,
          19618.039190638185,
          4544.972778713384,
          9227.347973628182,
          -9243.048283950699,
          1281.1137203645912,
          1470.3257916149353,
          1275.8558507843647,
          20210.92741440856,
          8001.865189522764,
          -4154.203729421528,
          9638.39787197315,
          -4319.72693916586,
          -2747.087660167986,
          -17486.02339346928,
          -10911.744567726906,
          9043.754960963777,
          -8610.679294522715,
          -14519.016602443551,
          -10371.098127223775,
          6216.090608606987,
          6285.456102911719,
          -20205.50499133835,
          -6303.645300574802,
          -6096.162958097306,
          -7220.042872525967,
          -3853.0697237766335,
          829.2312431600986,
          -48.30434036164577,
          -13891.355495955293,
          -22624.47607880328,
          -7965.359524689343,
          -17360.722730991052,
          -5695.002486550984,
          -10619.322390696,
          27138.697598566552,
          2487.3655728492818,
          960.6080501751893,
          -3043.2101910970623,
          -106.06958794422782,
          66072.91005255641,
          -12109.21060875699,
          5200.594457202124,
          -5564.968751711661,
          941.5192203126156,
          -1355.2291282517185,
          -8772.126197422116,
          -6531.741146109663,
          -12609.684391070654,
          7810.490923734062,
          6675.767438550853,
          -429.6354451019384,
          -15488.586516448064,
          538.8770405518329,
          6552.420719958071,
          17477.964903095624,
          -9540.881877561902,
          2044.349253234741,
          2557.9871817938906,
          -18369.9932497783,
          -19628.321845525315,
          8619.234437752059,
          -4208.569948203654,
          -4367.745243687318,
          -19758.819325099652,
          1077.1189811807537,
          -6747.538819519813,
          -6691.952402016891,
          -14140.34001915031,
          10020.015719830435,
          -26435.79869409862,
          1194.4331412070046,
          -6851.7631594962695,
          -10378.523737732534,
          -13245.065704944964,
          -27596.260308442786,
          9530.694430486958,
          -14103.736407157765,
          -545.2593628394648,
          7440.243377458562,
          -7519.3341160556465,
          -373.961323038141,
          -4040.619670723882,
          1581.7204141200948,
          3505.1559984853616,
          6091.837695238296,
          -1302.7448065579365,
          -3393.499188597521,
          1935.2442190541296,
          1383.211490875833,
          -6579.2366545714885,
          14466.057047409044,
          -5485.953185037057,
          6491.971525272531,
          -5170.460089222501,
          1876.2990976686742,
          10293.550195427773,
          2191.1734311585974,
          31141.088515433505,
          10327.043156160184,
          14438.414837118553,
          9471.816607813309,
          1504.723782859567,
          -6707.356758970536,
          -11911.025667231546,
          2176.699331759956,
          7155.39390769367,
          6148.243189579762,
          1277.994277828909,
          -2059.3079144139524,
          -26202.294528055932,
          -286.82324864033217,
          8938.33843423914,
          -2655.9049172250297,
          20643.40943830938,
          1329.814128302385,
          1357.2293345175126,
          38136.38913049311,
          32903.67310145217,
          1298.94628192517,
          2668.4334602266786,
          13552.566711617817,
          -5514.855886152037,
          -14368.953333056583,
          -11407.983089987329,
          -17621.41316298619,
          11457.176516324342,
          -7713.76492210007,
          8102.686570973306,
          168.69425123951262,
          -3704.7808750255062,
          -8504.285932890614,
          24026.38745204886,
          -4016.054800826195,
          -3147.4672314133163,
          14092.694369971176,
          4647.074606105515,
          4399.2530572862215,
          2793.7015368118637,
          -2547.0877931189198,
          618.0399844520113,
          31745.996532257053,
          15557.190441422475,
          43170.49887334902,
          25955.722931212465,
          924.6213283493776,
          7354.016891257122,
          8549.198666546088,
          29697.572479467206,
          -3226.5012920997106,
          -903.3121841365538,
          -3868.211881923796,
          -10955.997136756,
          9300.742232015436,
          -989.0710863845308,
          9488.581402326432,
          -2164.2251608081874,
          -5335.429307139066,
          -4132.98829866462,
          3937.9874189369407,
          -15184.486333600671,
          -8963.409093647277,
          -11762.910870715326,
          -20622.906574723394,
          -12025.915409834328,
          -14409.96034748415,
          8145.3690270821435,
          428.6611630873098,
          -16792.651164171486,
          1717.4687885980427,
          15165.684877052483,
          -16657.70515629616,
          3308.3686187461517,
          644.6102116868589,
          -13237.97139006538,
          1080.2936555703343,
          -6298.626759151189,
          3434.6583856716697,
          -14825.579270207529,
          -4000.5330175490217,
          998.2424747021105,
          7204.236029952023,
          793.2108896594956,
          14833.358806253651,
          15725.99736810041,
          -707.7716932274142,
          -3803.062425442445,
          8258.464010704854,
          -1564.1518981885717,
          1641.217357635368,
          -14524.002899007153,
          12562.219228399123,
          -41721.6424821073,
          9124.097333498406,
          9447.972381204254,
          6557.834215107276,
          3009.5456679061463,
          -5289.634069752927,
          -3414.2860890676643,
          -10779.109014962809,
          -9943.078758288197,
          -8782.075354477682,
          -20964.69062896319,
          -1864.8811477546801,
          -8109.7047414493145,
          -12253.641092398077,
          8835.875887889226,
          -2398.2624427276314,
          -16034.344209582287,
          -1629.933351620471,
          -19476.3136001368,
          -3702.7097920463934,
          -17705.18880591149,
          4499.937740248543,
          -4231.913344342983,
          14500.725379844385,
          -16323.711870568679,
          -8365.109772408041,
          -5295.75425959564,
          10391.927807927143,
          -33.45315208718266,
          -3187.9375680859143,
          -2406.2619109483917,
          -2180.226414098419,
          -6392.515656063695,
          2820.3155637996947,
          -925.044612211901,
          12721.827669070579,
          1297.5002199735193,
          23865.580521070275,
          11416.664654888986,
          -2164.072767972064,
          2611.2733874252904,
          317.9833665155708,
          297.1877056253705,
          -10688.604721522968,
          24650.795926428436,
          -2548.2705628378026,
          -6830.954037251655,
          17529.60175355111,
          9298.913626750811,
          16869.236620731543,
          -3582.236577063504,
          -8556.177959308006,
          4940.666860421715,
          -4595.299644746431,
          11781.108825786754,
          3678.5524137167836,
          3162.042594616714,
          -1153.8937758596003,
          -3009.5176749860743,
          -5699.436317365006,
          11956.896592089417,
          4662.04308114847,
          3296.76533673362,
          -8422.00568610431,
          5174.041175808435,
          5574.03762638705,
          3657.7203101643154,
          -318.7420766217951,
          17131.610094767453,
          13495.21352240362,
          11053.45604916869,
          7924.943152328166,
          1311.3151822300886,
          12879.791085720592,
          -12269.121846775432,
          -1649.6720052014064,
          -939.5003666994368,
          -1298.6274618563011,
          -4069.726128922314,
          -11028.794569032041,
          -2620.2656058617677,
          -591.8327033645877,
          -3894.5975427319304,
          -10062.6023981734,
          -7207.048389987852,
          -16111.195103231687,
          1110.49863523141,
          -9645.677657400942,
          3297.3184483194145,
          14579.942376743706,
          6654.111959193623,
          2297.352014602936,
          4906.801688508284,
          -3883.700294419906,
          14607.918713472702,
          -4956.867318363031,
          1168.306172069696,
          -10137.964345426231,
          151.21347512444106,
          10133.384639429127,
          -3256.5414542586936,
          4103.43940223452,
          9568.801079309547,
          26702.925989133917,
          -15363.198010160188,
          3140.9266363535885,
          -2844.7062533074777
         ],
         "z": [
          -882.3193010858615,
          1152.0501553624154,
          4279.787537146614,
          2186.58566386839,
          -58.1023192293998,
          566.4090943854845,
          -3265.1748548159007,
          -608.1677053148885,
          -1256.5329190502575,
          -1888.163319624579,
          971.4835033695264,
          -2459.9072103464464,
          -4849.333030462287,
          -4882.446651976441,
          -4946.769218864075,
          -2527.643025468276,
          -432.6243385198037,
          2674.6245247155857,
          -1978.7108404260716,
          -3118.378127937114,
          -2030.1001660745633,
          1541.7500112811115,
          1552.4572581712557,
          11704.883684517277,
          -1323.4471533908,
          -4474.419728451828,
          283.91305734331763,
          -3077.166653788236,
          1070.2912019067203,
          -8267.673665871638,
          -4260.324641659244,
          2259.236282816539,
          -4790.144593292151,
          -1478.5940160277269,
          313.30383550866225,
          -987.9746946103869,
          -3425.2942103224746,
          -1951.5936144844059,
          -570.7832166581506,
          -3174.2998391101814,
          4850.594521141657,
          -2376.6182805391168,
          -4648.707548875172,
          -3613.3733356960365,
          -2617.4825485297474,
          3360.3487119379806,
          -760.618707305537,
          87.55520987421359,
          -2992.40438301707,
          -1340.244441126351,
          2442.4103366099116,
          -1061.0268542853278,
          -8600.394949919228,
          540.7707213623255,
          -3501.73715408024,
          -107.22487016087071,
          2987.2474402587154,
          -883.5158075386647,
          -2038.2085763559592,
          -1291.0885694048436,
          -3372.184108499897,
          -11206.078351071797,
          2043.076897721724,
          -413.0084617281654,
          1859.1028148831247,
          -8382.014245920873,
          -1853.3699267270913,
          -5109.928733538719,
          7062.055809131861,
          -410.0015228891064,
          5409.817980038842,
          -589.7774562540754,
          7469.281890588754,
          1904.6000651670658,
          -730.3571112190195,
          6.179447447623618,
          5779.415537682625,
          -6860.4578580726575,
          -700.3437498040097,
          1098.596811799817,
          -1551.1889839192788,
          -1342.8175995289369,
          -903.4328504246157,
          -2327.013726622098,
          -2181.713107839544,
          -17257.11210571717,
          12527.761225572092,
          369.8413004192723,
          5282.975895073665,
          -1577.7225627651237,
          184.56822461152248,
          5027.13825444298,
          1099.4220778942201,
          27719.83375514254,
          -202.09643475236305,
          -40.300642914755805,
          -1653.2873500405465,
          601.8482135203852,
          596.7566210915884,
          2945.1370785581657,
          -393.0825047256665,
          162.98037518676432,
          1661.145528087126,
          1756.6375434166762,
          -2121.3802557703275,
          -2902.558687029481,
          -1098.2829134309975,
          -848.8506541146829,
          1284.101612483584,
          -2048.7380584851862,
          90.19311071065518,
          -3314.0696463095733,
          4403.568606120664,
          431.0235341393231,
          -1518.7459800914112,
          -539.2730284131567,
          -1108.2046764676259,
          193.41582766751642,
          348.76592236491314,
          1938.51694920852,
          -1876.8815988766517,
          2062.0580264247546,
          -632.2794182656353,
          758.2589235881464,
          -3688.926429655341,
          -3893.241794802269,
          2889.041862535579,
          -3625.0234686968865,
          2379.3126382944433,
          -7327.858518785816,
          4718.690348983369,
          189.94485841608883,
          -2672.960388845562,
          -1461.1381837222436,
          -651.8326947318403,
          -504.8416951513405,
          4301.454182806407,
          539.1381373411926,
          -1412.9861751576111,
          805.4173812867778,
          -1620.3545718670237,
          -2191.7700702560774,
          -5370.142047754289,
          5039.967489314008,
          -3109.200407204734,
          -12107.4089279532,
          -558.2982704080373,
          -314.74686536177717,
          2305.41783169808,
          -5691.9223833547585,
          -2218.4219245353897,
          1602.5501575443138,
          -2006.2030468472733,
          3480.704905486174,
          36.270942500322874,
          -2624.141141846917,
          -2628.9689832131658,
          -1235.1866207936175,
          -13.500872020426666,
          -2065.4247792883652,
          -1852.664242695334,
          -769.8795263842645,
          -1239.626348283136,
          -2898.303389131668,
          993.8351675503704,
          -899.1560567884609,
          407.8914704374398,
          102.16055142385387,
          170.77188800533338,
          779.190089289243,
          -544.2673964638526,
          5891.816344851067,
          226.7078609617441,
          -3321.994665368991,
          1510.0893680490365,
          -823.6116931627745,
          -3387.274862110982,
          1209.6808029562833,
          25.782498179520175,
          5012.922788334462,
          -1763.6587496136813,
          -2479.4555400504523,
          -401.16593989614,
          50887.83370930566,
          -1003.4237633702005,
          2363.985372156548,
          2379.437804612992,
          4367.252019221105,
          -753.1261507471056,
          1349.8626397071657,
          4199.461648077768,
          -2449.0644646360374,
          -631.8362740490843,
          -4477.308259211452,
          -918.9290747551995,
          3812.236048836702,
          10886.785512557195,
          90.91234220860116,
          -650.3663510881393,
          -1265.505415335196,
          -285.3183780766861,
          -1164.1439474766755,
          2821.492212918271,
          -147.12753699691993,
          74.49845057807764,
          -2940.537719222471,
          -483.69120687716156,
          1292.5031964820537,
          838.3962564003436,
          -1901.150245090449,
          -1444.2754030796816,
          -1257.22191795074,
          -30.69903959517002,
          896.3085268037751,
          -1058.5476938900104,
          216.80110154406603,
          -6473.786098836009,
          -1438.8263696095441,
          1229.2660032740102,
          842.9790083731701,
          -1500.9267526323754,
          -1775.2570061514243,
          4786.998349695194,
          3870.432773715174,
          -805.148030065112,
          -1949.9338952499427,
          -3302.6961961603874,
          1708.0876949073213,
          -22.39854177812276,
          4373.815306781428,
          5762.179466351131,
          3780.3451268029753,
          -5310.902878381158,
          1570.6925090614652,
          950.286576332293,
          2304.941555379909,
          -484.45332968368194,
          1537.5924899306403,
          -517.9768819349786,
          -5549.973484119588,
          4698.799697156877,
          -3307.6830794430784,
          -1352.9513196217645,
          -1382.4187716110612,
          -218.12092198451225,
          -2354.5198803662443,
          188.70661506217397,
          -959.8003962736279,
          -1414.0619078597515,
          4352.801442297621,
          1300.9259818113997,
          2499.4121224638757,
          4809.050998405754,
          -7661.991424720908,
          8276.529406244154,
          -4294.344885199354,
          -1513.4940828241263,
          2396.4916707951866,
          -4788.626258767282,
          -9345.475872672783,
          -281.9519914721988,
          4141.873278893496,
          -4016.0074083788277,
          1331.4226772263937,
          -1310.9448725050972,
          13399.874824402668,
          -832.6272346696973,
          -305.65636567778125,
          -5149.741666648408,
          -1412.669669739458,
          3663.769912324926,
          2635.965429410201,
          1995.2025357273103,
          -2730.3591371393204,
          978.0050798905579,
          1377.1359295271754,
          -2209.3302884985687,
          11982.243181328242,
          2922.7418975939995,
          -3038.5937726194206,
          963.4472804615274,
          -339.10699733282485,
          -5251.825830633937,
          4085.2831845657615,
          -9416.392654332252,
          -8858.466648438518,
          248.75191386282663,
          3831.5611778905068,
          -2913.1964671998994,
          -8263.672435414544,
          424.3273346953907,
          1386.035302659808,
          2803.1387563770495,
          1.548272165685865,
          -4473.651896964029,
          -2272.077988112504,
          -1985.296522364432,
          -1661.010112852826,
          -2087.037762094957,
          21.296616854139668,
          -1943.7338922471633,
          -1696.821028893358,
          -1755.808687406808,
          -4163.948976396038,
          -4732.442243024339,
          2654.401084705995,
          -1790.5380009798912,
          -2414.2277794053484,
          -1387.4069692499033,
          4464.0655706801235,
          9036.398306642985,
          -5590.694305432323,
          -5959.326213666909,
          1295.2734130142971,
          -2303.5106282381057,
          3379.4652744744444,
          986.3299441890301,
          514.7676803899874,
          -860.2642124062555,
          2274.340043980905,
          1188.467989689388,
          -137.73206556435647,
          -1224.8529210329814,
          -5277.969163546847,
          -2657.044970031429,
          46803.4013248015,
          2457.594734772646,
          377.4587843226286,
          3145.7134030484644,
          2564.7476993475707,
          372.1959572953355,
          -4604.311073351538,
          -1244.9980744319435,
          -24985.94669558146,
          6607.326837298264,
          -5139.305452694401,
          -1979.3525202668206,
          4706.665663307793,
          11020.71000606018,
          6845.511557821497,
          -1477.4373187856324,
          -815.1968608667161,
          691.1097282744914,
          -6449.304562151921,
          1309.755542677376,
          -1740.1127484570586,
          -790.7948276930248,
          -4842.321040474197,
          868.6103588642248,
          -1572.1876450873806,
          985.5137330506094,
          -2115.770797719351,
          699.0684320876514,
          -4489.815096834458,
          5045.168284372389,
          -18.459269152194793,
          -2141.723087410481,
          -6951.768532136225,
          13244.162196706162,
          2157.3857818135816,
          -1492.507488345804,
          168.31663845887456,
          239.60219534030577,
          -1768.4570860026517,
          433.2368944545441,
          924.6365247034106,
          -535.1010566807827,
          829.2096715583396,
          -3229.9189999672262,
          -330.7955457229362,
          -6758.891893737763,
          2666.230550297745,
          2746.0792711487015,
          -878.5016845742277,
          532.5790900716563,
          -502.7037759771262,
          3169.6414953017957,
          -6752.782973160408,
          769.0357348196353,
          -1856.4358153837027,
          -3245.7369620130075,
          5746.773194662997,
          -4257.198180337677,
          2551.621547059686,
          6489.382148033826,
          -101.98111396597123,
          2312.9844046605554,
          -2312.509798345808,
          -574.1577945925569,
          900.2485222382759,
          4261.11730378364,
          1336.9526368766287,
          1323.7528507134732,
          3630.062146868731,
          -1968.0971458237887,
          505.2771077362254,
          3513.4911865285226,
          3628.5139589242526,
          2291.208438770088,
          -679.4526364835076,
          2396.0791173861385,
          6023.676842662052,
          -5144.970661431717,
          -2511.0926784683347,
          545.5873487543793,
          404.83459845935187,
          3197.247487953492,
          -706.2724084957939,
          -1036.224205937862,
          1327.5984686869538,
          -318.7020642277708,
          2815.8268500600852,
          -2567.79548105477,
          14248.68623540167,
          3123.0054428886237,
          -243.86035996528253,
          275.23568713333884,
          -1988.7202962420415,
          -2886.41245549507,
          -151.9987451461682,
          -3210.1014161723165,
          -3469.851094983942,
          -5456.572745956965,
          -2873.3438909091533,
          -5877.385229107421,
          10983.73880760413,
          -905.8369395486229,
          10802.388957632704,
          2092.1731132860414,
          -1215.1991298444862,
          -2719.8795098740625,
          10182.613497218797,
          -5365.73780895506,
          2253.433638549512,
          -3931.751312306189,
          4868.597264361776,
          -3701.0275494349535,
          -7206.890596586633,
          -431.73622810788015,
          -580.3232862588559
         ]
        }
       ],
       "layout": {
        "coloraxis": {
         "colorbar": {
          "title": {
           "text": "class"
          }
         },
         "colorscale": [
          [
           0,
           "#0d0887"
          ],
          [
           0.1111111111111111,
           "#46039f"
          ],
          [
           0.2222222222222222,
           "#7201a8"
          ],
          [
           0.3333333333333333,
           "#9c179e"
          ],
          [
           0.4444444444444444,
           "#bd3786"
          ],
          [
           0.5555555555555556,
           "#d8576b"
          ],
          [
           0.6666666666666666,
           "#ed7953"
          ],
          [
           0.7777777777777778,
           "#fb9f3a"
          ],
          [
           0.8888888888888888,
           "#fdca26"
          ],
          [
           1,
           "#f0f921"
          ]
         ]
        },
        "legend": {
         "tracegroupgap": 0
        },
        "margin": {
         "t": 60
        },
        "scene": {
         "domain": {
          "x": [
           0,
           1
          ],
          "y": [
           0,
           1
          ]
         },
         "xaxis": {
          "title": {
           "text": "Component1"
          }
         },
         "yaxis": {
          "title": {
           "text": "Component2"
          }
         },
         "zaxis": {
          "title": {
           "text": "Component3"
          }
         }
        },
        "template": {
         "data": {
          "bar": [
           {
            "error_x": {
             "color": "#2a3f5f"
            },
            "error_y": {
             "color": "#2a3f5f"
            },
            "marker": {
             "line": {
              "color": "#E5ECF6",
              "width": 0.5
             }
            },
            "type": "bar"
           }
          ],
          "barpolar": [
           {
            "marker": {
             "line": {
              "color": "#E5ECF6",
              "width": 0.5
             }
            },
            "type": "barpolar"
           }
          ],
          "carpet": [
           {
            "aaxis": {
             "endlinecolor": "#2a3f5f",
             "gridcolor": "white",
             "linecolor": "white",
             "minorgridcolor": "white",
             "startlinecolor": "#2a3f5f"
            },
            "baxis": {
             "endlinecolor": "#2a3f5f",
             "gridcolor": "white",
             "linecolor": "white",
             "minorgridcolor": "white",
             "startlinecolor": "#2a3f5f"
            },
            "type": "carpet"
           }
          ],
          "choropleth": [
           {
            "colorbar": {
             "outlinewidth": 0,
             "ticks": ""
            },
            "type": "choropleth"
           }
          ],
          "contour": [
           {
            "colorbar": {
             "outlinewidth": 0,
             "ticks": ""
            },
            "colorscale": [
             [
              0,
              "#0d0887"
             ],
             [
              0.1111111111111111,
              "#46039f"
             ],
             [
              0.2222222222222222,
              "#7201a8"
             ],
             [
              0.3333333333333333,
              "#9c179e"
             ],
             [
              0.4444444444444444,
              "#bd3786"
             ],
             [
              0.5555555555555556,
              "#d8576b"
             ],
             [
              0.6666666666666666,
              "#ed7953"
             ],
             [
              0.7777777777777778,
              "#fb9f3a"
             ],
             [
              0.8888888888888888,
              "#fdca26"
             ],
             [
              1,
              "#f0f921"
             ]
            ],
            "type": "contour"
           }
          ],
          "contourcarpet": [
           {
            "colorbar": {
             "outlinewidth": 0,
             "ticks": ""
            },
            "type": "contourcarpet"
           }
          ],
          "heatmap": [
           {
            "colorbar": {
             "outlinewidth": 0,
             "ticks": ""
            },
            "colorscale": [
             [
              0,
              "#0d0887"
             ],
             [
              0.1111111111111111,
              "#46039f"
             ],
             [
              0.2222222222222222,
              "#7201a8"
             ],
             [
              0.3333333333333333,
              "#9c179e"
             ],
             [
              0.4444444444444444,
              "#bd3786"
             ],
             [
              0.5555555555555556,
              "#d8576b"
             ],
             [
              0.6666666666666666,
              "#ed7953"
             ],
             [
              0.7777777777777778,
              "#fb9f3a"
             ],
             [
              0.8888888888888888,
              "#fdca26"
             ],
             [
              1,
              "#f0f921"
             ]
            ],
            "type": "heatmap"
           }
          ],
          "heatmapgl": [
           {
            "colorbar": {
             "outlinewidth": 0,
             "ticks": ""
            },
            "colorscale": [
             [
              0,
              "#0d0887"
             ],
             [
              0.1111111111111111,
              "#46039f"
             ],
             [
              0.2222222222222222,
              "#7201a8"
             ],
             [
              0.3333333333333333,
              "#9c179e"
             ],
             [
              0.4444444444444444,
              "#bd3786"
             ],
             [
              0.5555555555555556,
              "#d8576b"
             ],
             [
              0.6666666666666666,
              "#ed7953"
             ],
             [
              0.7777777777777778,
              "#fb9f3a"
             ],
             [
              0.8888888888888888,
              "#fdca26"
             ],
             [
              1,
              "#f0f921"
             ]
            ],
            "type": "heatmapgl"
           }
          ],
          "histogram": [
           {
            "marker": {
             "colorbar": {
              "outlinewidth": 0,
              "ticks": ""
             }
            },
            "type": "histogram"
           }
          ],
          "histogram2d": [
           {
            "colorbar": {
             "outlinewidth": 0,
             "ticks": ""
            },
            "colorscale": [
             [
              0,
              "#0d0887"
             ],
             [
              0.1111111111111111,
              "#46039f"
             ],
             [
              0.2222222222222222,
              "#7201a8"
             ],
             [
              0.3333333333333333,
              "#9c179e"
             ],
             [
              0.4444444444444444,
              "#bd3786"
             ],
             [
              0.5555555555555556,
              "#d8576b"
             ],
             [
              0.6666666666666666,
              "#ed7953"
             ],
             [
              0.7777777777777778,
              "#fb9f3a"
             ],
             [
              0.8888888888888888,
              "#fdca26"
             ],
             [
              1,
              "#f0f921"
             ]
            ],
            "type": "histogram2d"
           }
          ],
          "histogram2dcontour": [
           {
            "colorbar": {
             "outlinewidth": 0,
             "ticks": ""
            },
            "colorscale": [
             [
              0,
              "#0d0887"
             ],
             [
              0.1111111111111111,
              "#46039f"
             ],
             [
              0.2222222222222222,
              "#7201a8"
             ],
             [
              0.3333333333333333,
              "#9c179e"
             ],
             [
              0.4444444444444444,
              "#bd3786"
             ],
             [
              0.5555555555555556,
              "#d8576b"
             ],
             [
              0.6666666666666666,
              "#ed7953"
             ],
             [
              0.7777777777777778,
              "#fb9f3a"
             ],
             [
              0.8888888888888888,
              "#fdca26"
             ],
             [
              1,
              "#f0f921"
             ]
            ],
            "type": "histogram2dcontour"
           }
          ],
          "mesh3d": [
           {
            "colorbar": {
             "outlinewidth": 0,
             "ticks": ""
            },
            "type": "mesh3d"
           }
          ],
          "parcoords": [
           {
            "line": {
             "colorbar": {
              "outlinewidth": 0,
              "ticks": ""
             }
            },
            "type": "parcoords"
           }
          ],
          "pie": [
           {
            "automargin": true,
            "type": "pie"
           }
          ],
          "scatter": [
           {
            "marker": {
             "colorbar": {
              "outlinewidth": 0,
              "ticks": ""
             }
            },
            "type": "scatter"
           }
          ],
          "scatter3d": [
           {
            "line": {
             "colorbar": {
              "outlinewidth": 0,
              "ticks": ""
             }
            },
            "marker": {
             "colorbar": {
              "outlinewidth": 0,
              "ticks": ""
             }
            },
            "type": "scatter3d"
           }
          ],
          "scattercarpet": [
           {
            "marker": {
             "colorbar": {
              "outlinewidth": 0,
              "ticks": ""
             }
            },
            "type": "scattercarpet"
           }
          ],
          "scattergeo": [
           {
            "marker": {
             "colorbar": {
              "outlinewidth": 0,
              "ticks": ""
             }
            },
            "type": "scattergeo"
           }
          ],
          "scattergl": [
           {
            "marker": {
             "colorbar": {
              "outlinewidth": 0,
              "ticks": ""
             }
            },
            "type": "scattergl"
           }
          ],
          "scattermapbox": [
           {
            "marker": {
             "colorbar": {
              "outlinewidth": 0,
              "ticks": ""
             }
            },
            "type": "scattermapbox"
           }
          ],
          "scatterpolar": [
           {
            "marker": {
             "colorbar": {
              "outlinewidth": 0,
              "ticks": ""
             }
            },
            "type": "scatterpolar"
           }
          ],
          "scatterpolargl": [
           {
            "marker": {
             "colorbar": {
              "outlinewidth": 0,
              "ticks": ""
             }
            },
            "type": "scatterpolargl"
           }
          ],
          "scatterternary": [
           {
            "marker": {
             "colorbar": {
              "outlinewidth": 0,
              "ticks": ""
             }
            },
            "type": "scatterternary"
           }
          ],
          "surface": [
           {
            "colorbar": {
             "outlinewidth": 0,
             "ticks": ""
            },
            "colorscale": [
             [
              0,
              "#0d0887"
             ],
             [
              0.1111111111111111,
              "#46039f"
             ],
             [
              0.2222222222222222,
              "#7201a8"
             ],
             [
              0.3333333333333333,
              "#9c179e"
             ],
             [
              0.4444444444444444,
              "#bd3786"
             ],
             [
              0.5555555555555556,
              "#d8576b"
             ],
             [
              0.6666666666666666,
              "#ed7953"
             ],
             [
              0.7777777777777778,
              "#fb9f3a"
             ],
             [
              0.8888888888888888,
              "#fdca26"
             ],
             [
              1,
              "#f0f921"
             ]
            ],
            "type": "surface"
           }
          ],
          "table": [
           {
            "cells": {
             "fill": {
              "color": "#EBF0F8"
             },
             "line": {
              "color": "white"
             }
            },
            "header": {
             "fill": {
              "color": "#C8D4E3"
             },
             "line": {
              "color": "white"
             }
            },
            "type": "table"
           }
          ]
         },
         "layout": {
          "annotationdefaults": {
           "arrowcolor": "#2a3f5f",
           "arrowhead": 0,
           "arrowwidth": 1
          },
          "coloraxis": {
           "colorbar": {
            "outlinewidth": 0,
            "ticks": ""
           }
          },
          "colorscale": {
           "diverging": [
            [
             0,
             "#8e0152"
            ],
            [
             0.1,
             "#c51b7d"
            ],
            [
             0.2,
             "#de77ae"
            ],
            [
             0.3,
             "#f1b6da"
            ],
            [
             0.4,
             "#fde0ef"
            ],
            [
             0.5,
             "#f7f7f7"
            ],
            [
             0.6,
             "#e6f5d0"
            ],
            [
             0.7,
             "#b8e186"
            ],
            [
             0.8,
             "#7fbc41"
            ],
            [
             0.9,
             "#4d9221"
            ],
            [
             1,
             "#276419"
            ]
           ],
           "sequential": [
            [
             0,
             "#0d0887"
            ],
            [
             0.1111111111111111,
             "#46039f"
            ],
            [
             0.2222222222222222,
             "#7201a8"
            ],
            [
             0.3333333333333333,
             "#9c179e"
            ],
            [
             0.4444444444444444,
             "#bd3786"
            ],
            [
             0.5555555555555556,
             "#d8576b"
            ],
            [
             0.6666666666666666,
             "#ed7953"
            ],
            [
             0.7777777777777778,
             "#fb9f3a"
            ],
            [
             0.8888888888888888,
             "#fdca26"
            ],
            [
             1,
             "#f0f921"
            ]
           ],
           "sequentialminus": [
            [
             0,
             "#0d0887"
            ],
            [
             0.1111111111111111,
             "#46039f"
            ],
            [
             0.2222222222222222,
             "#7201a8"
            ],
            [
             0.3333333333333333,
             "#9c179e"
            ],
            [
             0.4444444444444444,
             "#bd3786"
            ],
            [
             0.5555555555555556,
             "#d8576b"
            ],
            [
             0.6666666666666666,
             "#ed7953"
            ],
            [
             0.7777777777777778,
             "#fb9f3a"
            ],
            [
             0.8888888888888888,
             "#fdca26"
            ],
            [
             1,
             "#f0f921"
            ]
           ]
          },
          "colorway": [
           "#636efa",
           "#EF553B",
           "#00cc96",
           "#ab63fa",
           "#FFA15A",
           "#19d3f3",
           "#FF6692",
           "#B6E880",
           "#FF97FF",
           "#FECB52"
          ],
          "font": {
           "color": "#2a3f5f"
          },
          "geo": {
           "bgcolor": "white",
           "lakecolor": "white",
           "landcolor": "#E5ECF6",
           "showlakes": true,
           "showland": true,
           "subunitcolor": "white"
          },
          "hoverlabel": {
           "align": "left"
          },
          "hovermode": "closest",
          "mapbox": {
           "style": "light"
          },
          "paper_bgcolor": "white",
          "plot_bgcolor": "#E5ECF6",
          "polar": {
           "angularaxis": {
            "gridcolor": "white",
            "linecolor": "white",
            "ticks": ""
           },
           "bgcolor": "#E5ECF6",
           "radialaxis": {
            "gridcolor": "white",
            "linecolor": "white",
            "ticks": ""
           }
          },
          "scene": {
           "xaxis": {
            "backgroundcolor": "#E5ECF6",
            "gridcolor": "white",
            "gridwidth": 2,
            "linecolor": "white",
            "showbackground": true,
            "ticks": "",
            "zerolinecolor": "white"
           },
           "yaxis": {
            "backgroundcolor": "#E5ECF6",
            "gridcolor": "white",
            "gridwidth": 2,
            "linecolor": "white",
            "showbackground": true,
            "ticks": "",
            "zerolinecolor": "white"
           },
           "zaxis": {
            "backgroundcolor": "#E5ECF6",
            "gridcolor": "white",
            "gridwidth": 2,
            "linecolor": "white",
            "showbackground": true,
            "ticks": "",
            "zerolinecolor": "white"
           }
          },
          "shapedefaults": {
           "line": {
            "color": "#2a3f5f"
           }
          },
          "ternary": {
           "aaxis": {
            "gridcolor": "white",
            "linecolor": "white",
            "ticks": ""
           },
           "baxis": {
            "gridcolor": "white",
            "linecolor": "white",
            "ticks": ""
           },
           "bgcolor": "#E5ECF6",
           "caxis": {
            "gridcolor": "white",
            "linecolor": "white",
            "ticks": ""
           }
          },
          "title": {
           "x": 0.05
          },
          "xaxis": {
           "automargin": true,
           "gridcolor": "white",
           "linecolor": "white",
           "ticks": "",
           "title": {
            "standoff": 15
           },
           "zerolinecolor": "white",
           "zerolinewidth": 2
          },
          "yaxis": {
           "automargin": true,
           "gridcolor": "white",
           "linecolor": "white",
           "ticks": "",
           "title": {
            "standoff": 15
           },
           "zerolinecolor": "white",
           "zerolinewidth": 2
          }
         }
        }
       }
      },
      "text/html": [
       "<div>\n",
       "        \n",
       "        \n",
       "            <div id=\"6c513414-aa47-4997-999a-f4447c6b8157\" class=\"plotly-graph-div\" style=\"height:525px; width:100%;\"></div>\n",
       "            <script type=\"text/javascript\">\n",
       "                require([\"plotly\"], function(Plotly) {\n",
       "                    window.PLOTLYENV=window.PLOTLYENV || {};\n",
       "                    \n",
       "                if (document.getElementById(\"6c513414-aa47-4997-999a-f4447c6b8157\")) {\n",
       "                    Plotly.newPlot(\n",
       "                        '6c513414-aa47-4997-999a-f4447c6b8157',\n",
       "                        [{\"hovertemplate\": \"Component1=%{x}<br>Component2=%{y}<br>Component3=%{z}<br>class=%{marker.color}<extra></extra>\", \"legendgroup\": \"\", \"marker\": {\"color\": [1, 1, 1, 1, 0, 1, 1, 1, 1, 0, 1, 1, 0, 0, 0, 1, 1, 1, 0, 1, 1, 1, 0, 2, 0, 1, 1, 1, 0, 0, 0, 1, 1, 0, 1, 1, 0, 0, 0, 0, 0, 1, 0, 0, 1, 0, 0, 2, 1, 0, 1, 1, 0, 1, 1, 1, 0, 1, 1, 1, 1, 2, 1, 0, 1, 0, 1, 0, 1, 1, 1, 0, 1, 0, 1, 1, 1, 0, 1, 1, 1, 1, 1, 1, 1, 2, 2, 0, 1, 0, 1, 1, 0, 0, 1, 1, 1, 1, 1, 1, 0, 1, 1, 0, 1, 1, 1, 0, 1, 0, 1, 0, 1, 1, 1, 1, 1, 1, 1, 1, 1, 1, 1, 1, 0, 0, 1, 0, 1, 0, 1, 1, 1, 1, 1, 1, 1, 1, 1, 1, 1, 0, 0, 1, 1, 0, 1, 1, 1, 0, 1, 1, 1, 1, 1, 0, 1, 1, 1, 1, 1, 1, 1, 0, 1, 0, 1, 1, 1, 1, 1, 0, 1, 1, 1, 1, 0, 1, 1, 1, 1, 2, 1, 2, 1, 1, 1, 1, 1, 1, 1, 1, 1, 1, 1, 1, 0, 1, 1, 1, 0, 0, 0, 1, 1, 0, 1, 1, 1, 0, 1, 2, 1, 1, 1, 1, 0, 1, 1, 1, 1, 1, 1, 1, 1, 1, 0, 1, 1, 1, 1, 1, 1, 1, 1, 1, 1, 1, 1, 0, 0, 1, 1, 1, 1, 1, 1, 1, 1, 1, 1, 0, 1, 0, 0, 0, 1, 1, 0, 0, 1, 1, 1, 1, 1, 0, 0, 1, 0, 1, 1, 1, 1, 0, 1, 1, 0, 1, 1, 0, 1, 1, 0, 0, 0, 0, 1, 1, 1, 0, 1, 1, 1, 1, 1, 1, 1, 1, 1, 1, 1, 0, 1, 1, 0, 1, 0, 1, 1, 0, 1, 0, 0, 1, 1, 1, 1, 1, 1, 0, 1, 1, 1, 1, 1, 2, 1, 1, 1, 1, 1, 0, 1, 2, 1, 0, 1, 1, 1, 1, 1, 1, 1, 0, 1, 1, 1, 0, 1, 0, 1, 0, 1, 1, 1, 1, 1, 1, 1, 1, 1, 1, 1, 1, 1, 1, 1, 1, 1, 1, 0, 1, 1, 1, 1, 1, 1, 0, 1, 1, 1, 1, 0, 1, 0, 1, 1, 1, 1, 1, 1, 1, 1, 0, 1, 1, 1, 1, 1, 1, 1, 0, 0, 0, 1, 1, 0, 0, 1, 1, 1, 1, 1, 1, 1, 1, 1, 1, 1, 1, 1, 1, 1, 1, 1, 1, 0, 0, 1, 1, 1, 1, 1, 1, 1, 0, 0, 0, 1, 1], \"coloraxis\": \"coloraxis\", \"symbol\": \"circle\"}, \"mode\": \"markers\", \"name\": \"\", \"scene\": \"scene\", \"showlegend\": false, \"type\": \"scatter3d\", \"x\": [1428.3229782479827, -86.61740504486718, 2457.5707858573933, -6796.997959229532, 14243.889358365223, -7032.986731489239, -7015.753568930337, -4298.42982288185, -15882.687314148237, 14681.736087006264, -95.02039129793692, -12679.252112121403, 34132.44816830973, 22243.16560087134, 23627.30195009507, -17512.488723743143, -6286.519946824759, -14365.236521377274, 11348.618760912896, -10477.478524331758, -798.0114826758291, -22862.938099208317, 22454.0437185579, 84363.08124780237, 28982.32429251207, -334.99151549610366, -16857.578369343577, -14752.186387979616, 35091.85205022538, 21685.727018189747, 7891.400116165784, -21599.23443817522, -5305.669657600587, 18784.13684492561, -29000.731012407246, -11725.393116575753, 16024.217266635183, 15890.238861094485, 12501.80332093826, 42837.202836255165, 17319.887020577462, 2950.133036732021, 8496.026558176127, 14134.976441912275, -551.4384944314806, 32065.054691102785, 17348.19086925453, 176525.01711147683, 2984.1606459129257, 42301.09225606606, -19618.744273108594, -18346.452375530956, 25961.762969371142, -4863.974454048928, 2650.9430471179, -16734.267952340088, 53430.26366156884, 1375.6977471266414, -15489.827344420983, -9767.555634465118, -10002.179242426506, 147661.33136577846, -4261.974259743003, 16791.49215830523, -20227.987274341132, 64809.36399923675, -22893.277088433126, 16450.32345512209, -11950.149164666052, -20940.79144265483, 266.2762951325494, 33208.03429162466, -12851.29639571869, 11473.625735373183, -4191.51799980264, -6620.470793095054, -15846.037141184583, 38073.09014170428, -18119.08779960556, -23479.35638006883, -22749.505040316453, -1197.7992363300327, 4567.195102614307, -5216.693639523407, -8680.833539475449, 184276.8512801694, 129740.51943325752, 49743.31245066409, -12785.453896050323, 9325.277192034358, -17345.40864760333, -5908.973793970254, 68008.35338971783, 18654.19215666674, 1713.0353771343698, -25079.218983891173, -20319.189792107747, -34485.75923474311, -34148.292098529775, -14989.047562199674, 13330.237360350271, 5544.622684454423, -9051.101487336951, 63827.26898584292, -10777.856416482799, -10663.89501241555, -7079.774453463387, 15052.03140138252, -13813.977255073225, 18015.12866279131, -15351.529341942078, 18973.399753362366, 2873.052048843816, -10295.26989444196, -8529.30673215603, -16059.471835571601, -15184.369585642049, -15201.015355389602, -2211.978247179309, -17504.04747306359, -8006.351280633745, -24013.9740863225, -19320.353844511326, 2421.594768152317, 17018.34653206075, 81509.56007752765, -1772.2122039128496, 14282.459034170397, -21291.618216627245, 18975.853748898764, -17627.24676859462, -32644.176635728825, -12548.361046366153, -22203.063748397868, -22382.004639505485, -23434.342778595063, -5537.137339333516, -13404.180850529063, -7071.621737620309, -18886.216000057506, 2460.5346866958585, 20829.039202753287, 26545.26648291048, -12821.128620244692, -7743.046626633332, 54952.70302166617, -21666.533965971208, -16435.19524480656, -24021.915206323738, 5934.562442433933, -11878.154417115344, -26851.668227285623, -6343.8412893445875, -17255.489215308033, -35769.191837889244, 13577.096829627944, 621.17775692595, -7297.542907100947, -8655.59236697457, -2229.2282711433245, -8742.86198048707, -18229.42365260711, -9151.008979491598, 34352.840199168095, -6106.0782247978295, 31805.431545491956, -3820.945311230243, -23378.243601646318, -26473.982866423965, -24132.942683911693, -3064.397817800372, 30094.550684120815, -18291.26690580395, 6493.468179786496, -25159.879112510724, -5907.22925353892, 40343.56071322194, -4461.44411589428, -8923.063475825104, -18202.70886565078, -1137.2742243261775, 176441.3689728349, -6976.0276904383145, 158880.3605140231, -29583.717072511005, -16481.37051431441, -26735.643194686905, -4322.084282325445, 4332.2306297576515, -3758.4510708034663, -666.7065535030271, -18057.998006194182, -25090.887372973968, -2237.862913184103, -21778.97021178094, 4300.811486567024, 33997.40146578783, -7393.395172675443, -8330.030016168887, -19376.82119976155, 22447.266748765716, 32027.40454939588, 27773.219578331176, -31388.90380800465, -24937.484704725794, 15411.048824014786, -26024.44616651028, -13307.890212325228, -18204.603198795692, 17045.319870918705, -7527.635395858876, 80945.03483268722, -21654.855892815136, -11354.8554582239, -6147.887948658073, 5635.995952632917, 40535.33040721899, -8154.460313486146, 1087.7361619731466, -27523.853721629443, -14582.634296225227, -5522.295843624414, -18559.79650450752, -17206.969455192353, -24434.74038534732, -11553.170411955018, 10237.114048165975, -24741.46223679627, -27412.660084355382, -12577.511714621196, 171.16763017637703, -14477.655234023832, 1460.2052106068843, -25056.02213196504, -4383.192220871296, -21705.276976885398, -19485.0491437248, -4479.021387339745, -25684.98292548507, 33659.138082301426, 14759.79660830856, 577.5975472030315, -6757.436702251257, -9423.023221517473, -2416.8178539701194, 1398.0164875112266, -19015.77302674146, -17391.505336604972, -8342.854817642503, -13551.884176042755, -26240.293198479303, 64522.87489201927, -12352.828298238566, 27885.020167562918, 9724.498611210187, 6060.885729860012, -11169.434519139162, -13243.61277893848, 46009.57049644027, 43632.063427629815, -16624.23183946167, -18259.182656122914, -4305.5993229548685, -17900.23281139694, 130.32258467212517, 25835.53498175208, 9587.302154457206, -149.31795009770622, 16824.01451041454, -14542.902054723048, -23477.567119689695, -24357.620983197794, -17555.2229550482, 17687.026899907858, -29185.44546222492, -32685.25886193814, 15099.646159376876, -7428.899314725613, -10452.699976124097, 7888.257474412546, -24751.315538036768, -2193.4715769860813, 37677.521683417115, 11066.978159584114, 74183.02614514854, 16321.100160350488, -21656.601371455126, -3915.6169871177626, -14229.411199176313, 15217.447610486075, -25328.102353510967, -19064.37114106248, -19574.452743541362, 1971.0796806323624, 1140.2458918716682, -17004.12038031441, -4463.482138140347, -10189.659904989845, -6010.709261295771, -32154.86694088478, 1899.9183720469903, 18164.687588536734, -9200.170516787162, -3152.4173180049356, 14812.319783915771, -7187.533041438873, 20522.545818250343, -8422.313924930568, -22811.213197350356, 11681.827393632393, -10683.97240781862, 13174.476039224446, 10446.513608294925, -16868.829654185847, -10224.774427179218, 3014.660952250103, -20783.53726441734, -21672.877524479198, -13189.390824788754, 37575.28864347435, -26477.987952676238, -14215.651740642988, -8452.94870657362, -3793.906902013014, 3667.6221102311056, 100910.46699984513, -23678.27157259862, -32281.31267286947, -1512.7167290293344, -17793.973542794105, -12950.586580357649, 35376.47250273833, -838.882530106009, 95595.17555665514, 1780.4368526230116, 22096.068965843595, -15841.782752003095, -12262.765911901293, -12735.324021270613, -14624.758360216889, -11806.97428906553, -6850.787815844353, -17122.777037810378, 20085.130492487635, -27202.80191222582, -18419.7061929578, 2227.2910794691843, 25439.958498657576, -24736.08642948053, 24524.254178706073, -26340.312998657944, 18678.32600445007, -32033.698854318205, 4604.296270573493, 353.38809596135644, -32923.915349508985, -6428.039838794388, -2752.8132799576824, -3087.436374988197, -25675.12850186166, -4897.97906844134, -27918.396710356803, -28352.27330315749, -23395.253721247274, -29014.14418239048, -6302.118157502222, -19541.373323992764, -29166.02674181383, -4129.27751655571, -27041.77014013292, 23357.68403929626, 265.29353386847913, -20362.00693587437, 2471.001595252839, -22616.15985494651, -25948.975413609212, 3469.0254591567264, 17114.123969534343, -25833.5514610768, -13363.999384829272, 4187.810457959667, 1144.7475515585998, 28121.367067356423, -24597.825171395856, 26051.414562904734, -16687.110749971023, -24970.058947980273, -5507.929359131927, -20926.753861869667, -18763.06431579282, -23483.273929886072, -25310.082221024426, -26076.97680445483, 12020.108673775918, -15839.976234549684, -18779.236157302872, 459.1979767591087, -12518.059280874866, -16158.89597751094, -21529.924673000645, -24627.171247062055, 15028.115404370536, 5691.86637976067, 11424.272910231297, -956.727394392284, -23339.066562289656, 15147.309292257134, 18591.408304006243, -10893.985461866923, -6358.928295685763, -16515.53338049694, -21057.082821856486, -15337.14741562069, 2490.444327097379, -16825.28669629271, -4211.368314701563, 1428.964721195882, -7284.777556015238, 2360.163616515511, -16117.99347222465, -2407.5725561153704, 4916.63722191019, 3130.718114820016, -3484.493103236677, 4486.483883394219, -1334.6192763318265, 15167.852509196882, 40028.31419716075, -17757.792402865078, -18239.707913651386, -6846.100422582115, 980.035208275642, -3526.363258626012, -26003.862832732524, 9.784683206682361, 44404.768740901636, 17973.60263623019, 49039.00478022586, -16888.498669707882, -28212.439566292804], \"y\": [-590.3295459246249, -5996.216513997245, -5446.70316266566, 5084.683937941815, 8992.242576139548, -1223.6274073064849, 1027.814214002695, -4172.396799058849, -3086.661045049334, -12972.624847749965, -9774.741104082777, 4422.149882943447, 10932.040100248449, 2492.231694171047, 5815.140953718346, 2329.384210054245, -12106.63288259823, -1922.3013534677802, 3808.827368112924, -3163.244522127825, 6275.007955539182, 105.76592476333994, 18370.77091749151, -5057.427858467381, 3669.381607957602, 3291.815717602263, 3016.2502218664686, 6153.490988802638, -20983.335984447436, 28029.12044790501, 4334.822476109471, -3967.3987975576774, 11520.65804125459, 15276.394948736277, -3770.2911697507425, -10757.515817185395, 15896.785478468413, -2236.8388460185106, -14255.720647916196, 40417.6904168209, 12264.975522797264, 7268.132945508614, -6195.580160612488, -20226.322022158878, -4077.8127386839146, -18016.56909356193, -17341.546055089064, -17778.128397236265, -2759.54285170158, -23296.907389943743, 546.6483508794587, -5576.6584630030675, 23592.766629376583, -12931.346995823154, 16724.714665323096, -3086.8352772410713, -26455.301982589295, -9088.899632920868, 6102.072815584901, -4774.408494315774, -2386.7645183948216, -22851.95989457428, -2882.3932857920804, -8864.710985250127, -1452.3186639713422, -38396.504404120926, -8182.600863702528, 2340.2327208070196, -5037.277079893728, 1746.8288801076978, 8508.310445129358, -700.6983789093707, -2070.097330630208, 6925.345927717232, -3901.7611180966137, 12661.755114930436, -6311.309326352158, -14688.757226435728, 3916.873672631123, -4898.373984537851, 401.5073352310358, -14945.043207192777, -4161.75047550672, 11692.003623387862, 1734.2344713984853, -60891.742747264885, -27707.694317609123, 24693.752457067672, 1621.3121053631294, 12492.223515395483, 4961.774536650459, 5266.0982289816875, -24715.131869353558, 6820.853942002439, -9250.403126220323, -7094.209392238683, -8944.649963356545, -3156.1811908543477, -3112.1210772135414, 3197.0505039896575, -4390.330002169689, -14917.724810219594, -7571.347459926994, 35963.73860156654, 5132.307416668337, 6661.488819496578, -11027.834184019783, -9018.322966231712, -8495.63513729579, -21280.098383361732, 4802.988740620638, -7007.910044512208, 10176.992172203656, 6595.122035133442, 9669.198277554648, 3911.042721288001, 3156.77965749482, -1467.1333179659746, 10988.073927382677, 1772.9295736888105, 8230.936801827018, -1562.955072312758, 6262.4737272972025, -2284.069851607409, 23032.155847576596, 52516.216882637185, 10995.114523043692, 5464.24871814073, -7726.413667794644, 28527.648839116773, 1786.0064559719794, -1842.7542088754938, 6340.759772534667, 3192.3749762818834, 991.8063709113775, 117.90315567569142, -5776.344521856243, -7287.467205016089, 3494.403101311265, -2173.521592544621, 5533.434178669595, 13968.604697888964, 19618.039190638185, 4544.972778713384, 9227.347973628182, -9243.048283950699, 1281.1137203645912, 1470.3257916149353, 1275.8558507843647, 20210.92741440856, 8001.865189522764, -4154.203729421528, 9638.39787197315, -4319.72693916586, -2747.087660167986, -17486.02339346928, -10911.744567726906, 9043.754960963777, -8610.679294522715, -14519.016602443551, -10371.098127223775, 6216.090608606987, 6285.456102911719, -20205.50499133835, -6303.645300574802, -6096.162958097306, -7220.042872525967, -3853.0697237766335, 829.2312431600986, -48.30434036164577, -13891.355495955293, -22624.47607880328, -7965.359524689343, -17360.722730991052, -5695.002486550984, -10619.322390696, 27138.697598566552, 2487.3655728492818, 960.6080501751893, -3043.2101910970623, -106.06958794422782, 66072.91005255641, -12109.21060875699, 5200.594457202124, -5564.968751711661, 941.5192203126156, -1355.2291282517185, -8772.126197422116, -6531.741146109663, -12609.684391070654, 7810.490923734062, 6675.767438550853, -429.6354451019384, -15488.586516448064, 538.8770405518329, 6552.420719958071, 17477.964903095624, -9540.881877561902, 2044.349253234741, 2557.9871817938906, -18369.9932497783, -19628.321845525315, 8619.234437752059, -4208.569948203654, -4367.745243687318, -19758.819325099652, 1077.1189811807537, -6747.538819519813, -6691.952402016891, -14140.34001915031, 10020.015719830435, -26435.79869409862, 1194.4331412070046, -6851.7631594962695, -10378.523737732534, -13245.065704944964, -27596.260308442786, 9530.694430486958, -14103.736407157765, -545.2593628394648, 7440.243377458562, -7519.3341160556465, -373.961323038141, -4040.619670723882, 1581.7204141200948, 3505.1559984853616, 6091.837695238296, -1302.7448065579365, -3393.499188597521, 1935.2442190541296, 1383.211490875833, -6579.2366545714885, 14466.057047409044, -5485.953185037057, 6491.971525272531, -5170.460089222501, 1876.2990976686742, 10293.550195427773, 2191.1734311585974, 31141.088515433505, 10327.043156160184, 14438.414837118553, 9471.816607813309, 1504.723782859567, -6707.356758970536, -11911.025667231546, 2176.699331759956, 7155.39390769367, 6148.243189579762, 1277.994277828909, -2059.3079144139524, -26202.294528055932, -286.82324864033217, 8938.33843423914, -2655.9049172250297, 20643.40943830938, 1329.814128302385, 1357.2293345175126, 38136.38913049311, 32903.67310145217, 1298.94628192517, 2668.4334602266786, 13552.566711617817, -5514.855886152037, -14368.953333056583, -11407.983089987329, -17621.41316298619, 11457.176516324342, -7713.76492210007, 8102.686570973306, 168.69425123951262, -3704.7808750255062, -8504.285932890614, 24026.38745204886, -4016.054800826195, -3147.4672314133163, 14092.694369971176, 4647.074606105515, 4399.2530572862215, 2793.7015368118637, -2547.0877931189198, 618.0399844520113, 31745.996532257053, 15557.190441422475, 43170.49887334902, 25955.722931212465, 924.6213283493776, 7354.016891257122, 8549.198666546088, 29697.572479467206, -3226.5012920997106, -903.3121841365538, -3868.211881923796, -10955.997136756, 9300.742232015436, -989.0710863845308, 9488.581402326432, -2164.2251608081874, -5335.429307139066, -4132.98829866462, 3937.9874189369407, -15184.486333600671, -8963.409093647277, -11762.910870715326, -20622.906574723394, -12025.915409834328, -14409.96034748415, 8145.3690270821435, 428.6611630873098, -16792.651164171486, 1717.4687885980427, 15165.684877052483, -16657.70515629616, 3308.3686187461517, 644.6102116868589, -13237.97139006538, 1080.2936555703343, -6298.626759151189, 3434.6583856716697, -14825.579270207529, -4000.5330175490217, 998.2424747021105, 7204.236029952023, 793.2108896594956, 14833.358806253651, 15725.99736810041, -707.7716932274142, -3803.062425442445, 8258.464010704854, -1564.1518981885717, 1641.217357635368, -14524.002899007153, 12562.219228399123, -41721.6424821073, 9124.097333498406, 9447.972381204254, 6557.834215107276, 3009.5456679061463, -5289.634069752927, -3414.2860890676643, -10779.109014962809, -9943.078758288197, -8782.075354477682, -20964.69062896319, -1864.8811477546801, -8109.7047414493145, -12253.641092398077, 8835.875887889226, -2398.2624427276314, -16034.344209582287, -1629.933351620471, -19476.3136001368, -3702.7097920463934, -17705.18880591149, 4499.937740248543, -4231.913344342983, 14500.725379844385, -16323.711870568679, -8365.109772408041, -5295.75425959564, 10391.927807927143, -33.45315208718266, -3187.9375680859143, -2406.2619109483917, -2180.226414098419, -6392.515656063695, 2820.3155637996947, -925.044612211901, 12721.827669070579, 1297.5002199735193, 23865.580521070275, 11416.664654888986, -2164.072767972064, 2611.2733874252904, 317.9833665155708, 297.1877056253705, -10688.604721522968, 24650.795926428436, -2548.2705628378026, -6830.954037251655, 17529.60175355111, 9298.913626750811, 16869.236620731543, -3582.236577063504, -8556.177959308006, 4940.666860421715, -4595.299644746431, 11781.108825786754, 3678.5524137167836, 3162.042594616714, -1153.8937758596003, -3009.5176749860743, -5699.436317365006, 11956.896592089417, 4662.04308114847, 3296.76533673362, -8422.00568610431, 5174.041175808435, 5574.03762638705, 3657.7203101643154, -318.7420766217951, 17131.610094767453, 13495.21352240362, 11053.45604916869, 7924.943152328166, 1311.3151822300886, 12879.791085720592, -12269.121846775432, -1649.6720052014064, -939.5003666994368, -1298.6274618563011, -4069.726128922314, -11028.794569032041, -2620.2656058617677, -591.8327033645877, -3894.5975427319304, -10062.6023981734, -7207.048389987852, -16111.195103231687, 1110.49863523141, -9645.677657400942, 3297.3184483194145, 14579.942376743706, 6654.111959193623, 2297.352014602936, 4906.801688508284, -3883.700294419906, 14607.918713472702, -4956.867318363031, 1168.306172069696, -10137.964345426231, 151.21347512444106, 10133.384639429127, -3256.5414542586936, 4103.43940223452, 9568.801079309547, 26702.925989133917, -15363.198010160188, 3140.9266363535885, -2844.7062533074777], \"z\": [-882.3193010858615, 1152.0501553624154, 4279.787537146614, 2186.58566386839, -58.1023192293998, 566.4090943854845, -3265.1748548159007, -608.1677053148885, -1256.5329190502575, -1888.163319624579, 971.4835033695264, -2459.9072103464464, -4849.333030462287, -4882.446651976441, -4946.769218864075, -2527.643025468276, -432.6243385198037, 2674.6245247155857, -1978.7108404260716, -3118.378127937114, -2030.1001660745633, 1541.7500112811115, 1552.4572581712557, 11704.883684517277, -1323.4471533908, -4474.419728451828, 283.91305734331763, -3077.166653788236, 1070.2912019067203, -8267.673665871638, -4260.324641659244, 2259.236282816539, -4790.144593292151, -1478.5940160277269, 313.30383550866225, -987.9746946103869, -3425.2942103224746, -1951.5936144844059, -570.7832166581506, -3174.2998391101814, 4850.594521141657, -2376.6182805391168, -4648.707548875172, -3613.3733356960365, -2617.4825485297474, 3360.3487119379806, -760.618707305537, 87.55520987421359, -2992.40438301707, -1340.244441126351, 2442.4103366099116, -1061.0268542853278, -8600.394949919228, 540.7707213623255, -3501.73715408024, -107.22487016087071, 2987.2474402587154, -883.5158075386647, -2038.2085763559592, -1291.0885694048436, -3372.184108499897, -11206.078351071797, 2043.076897721724, -413.0084617281654, 1859.1028148831247, -8382.014245920873, -1853.3699267270913, -5109.928733538719, 7062.055809131861, -410.0015228891064, 5409.817980038842, -589.7774562540754, 7469.281890588754, 1904.6000651670658, -730.3571112190195, 6.179447447623618, 5779.415537682625, -6860.4578580726575, -700.3437498040097, 1098.596811799817, -1551.1889839192788, -1342.8175995289369, -903.4328504246157, -2327.013726622098, -2181.713107839544, -17257.11210571717, 12527.761225572092, 369.8413004192723, 5282.975895073665, -1577.7225627651237, 184.56822461152248, 5027.13825444298, 1099.4220778942201, 27719.83375514254, -202.09643475236305, -40.300642914755805, -1653.2873500405465, 601.8482135203852, 596.7566210915884, 2945.1370785581657, -393.0825047256665, 162.98037518676432, 1661.145528087126, 1756.6375434166762, -2121.3802557703275, -2902.558687029481, -1098.2829134309975, -848.8506541146829, 1284.101612483584, -2048.7380584851862, 90.19311071065518, -3314.0696463095733, 4403.568606120664, 431.0235341393231, -1518.7459800914112, -539.2730284131567, -1108.2046764676259, 193.41582766751642, 348.76592236491314, 1938.51694920852, -1876.8815988766517, 2062.0580264247546, -632.2794182656353, 758.2589235881464, -3688.926429655341, -3893.241794802269, 2889.041862535579, -3625.0234686968865, 2379.3126382944433, -7327.858518785816, 4718.690348983369, 189.94485841608883, -2672.960388845562, -1461.1381837222436, -651.8326947318403, -504.8416951513405, 4301.454182806407, 539.1381373411926, -1412.9861751576111, 805.4173812867778, -1620.3545718670237, -2191.7700702560774, -5370.142047754289, 5039.967489314008, -3109.200407204734, -12107.4089279532, -558.2982704080373, -314.74686536177717, 2305.41783169808, -5691.9223833547585, -2218.4219245353897, 1602.5501575443138, -2006.2030468472733, 3480.704905486174, 36.270942500322874, -2624.141141846917, -2628.9689832131658, -1235.1866207936175, -13.500872020426666, -2065.4247792883652, -1852.664242695334, -769.8795263842645, -1239.626348283136, -2898.303389131668, 993.8351675503704, -899.1560567884609, 407.8914704374398, 102.16055142385387, 170.77188800533338, 779.190089289243, -544.2673964638526, 5891.816344851067, 226.7078609617441, -3321.994665368991, 1510.0893680490365, -823.6116931627745, -3387.274862110982, 1209.6808029562833, 25.782498179520175, 5012.922788334462, -1763.6587496136813, -2479.4555400504523, -401.16593989614, 50887.83370930566, -1003.4237633702005, 2363.985372156548, 2379.437804612992, 4367.252019221105, -753.1261507471056, 1349.8626397071657, 4199.461648077768, -2449.0644646360374, -631.8362740490843, -4477.308259211452, -918.9290747551995, 3812.236048836702, 10886.785512557195, 90.91234220860116, -650.3663510881393, -1265.505415335196, -285.3183780766861, -1164.1439474766755, 2821.492212918271, -147.12753699691993, 74.49845057807764, -2940.537719222471, -483.69120687716156, 1292.5031964820537, 838.3962564003436, -1901.150245090449, -1444.2754030796816, -1257.22191795074, -30.69903959517002, 896.3085268037751, -1058.5476938900104, 216.80110154406603, -6473.786098836009, -1438.8263696095441, 1229.2660032740102, 842.9790083731701, -1500.9267526323754, -1775.2570061514243, 4786.998349695194, 3870.432773715174, -805.148030065112, -1949.9338952499427, -3302.6961961603874, 1708.0876949073213, -22.39854177812276, 4373.815306781428, 5762.179466351131, 3780.3451268029753, -5310.902878381158, 1570.6925090614652, 950.286576332293, 2304.941555379909, -484.45332968368194, 1537.5924899306403, -517.9768819349786, -5549.973484119588, 4698.799697156877, -3307.6830794430784, -1352.9513196217645, -1382.4187716110612, -218.12092198451225, -2354.5198803662443, 188.70661506217397, -959.8003962736279, -1414.0619078597515, 4352.801442297621, 1300.9259818113997, 2499.4121224638757, 4809.050998405754, -7661.991424720908, 8276.529406244154, -4294.344885199354, -1513.4940828241263, 2396.4916707951866, -4788.626258767282, -9345.475872672783, -281.9519914721988, 4141.873278893496, -4016.0074083788277, 1331.4226772263937, -1310.9448725050972, 13399.874824402668, -832.6272346696973, -305.65636567778125, -5149.741666648408, -1412.669669739458, 3663.769912324926, 2635.965429410201, 1995.2025357273103, -2730.3591371393204, 978.0050798905579, 1377.1359295271754, -2209.3302884985687, 11982.243181328242, 2922.7418975939995, -3038.5937726194206, 963.4472804615274, -339.10699733282485, -5251.825830633937, 4085.2831845657615, -9416.392654332252, -8858.466648438518, 248.75191386282663, 3831.5611778905068, -2913.1964671998994, -8263.672435414544, 424.3273346953907, 1386.035302659808, 2803.1387563770495, 1.548272165685865, -4473.651896964029, -2272.077988112504, -1985.296522364432, -1661.010112852826, -2087.037762094957, 21.296616854139668, -1943.7338922471633, -1696.821028893358, -1755.808687406808, -4163.948976396038, -4732.442243024339, 2654.401084705995, -1790.5380009798912, -2414.2277794053484, -1387.4069692499033, 4464.0655706801235, 9036.398306642985, -5590.694305432323, -5959.326213666909, 1295.2734130142971, -2303.5106282381057, 3379.4652744744444, 986.3299441890301, 514.7676803899874, -860.2642124062555, 2274.340043980905, 1188.467989689388, -137.73206556435647, -1224.8529210329814, -5277.969163546847, -2657.044970031429, 46803.4013248015, 2457.594734772646, 377.4587843226286, 3145.7134030484644, 2564.7476993475707, 372.1959572953355, -4604.311073351538, -1244.9980744319435, -24985.94669558146, 6607.326837298264, -5139.305452694401, -1979.3525202668206, 4706.665663307793, 11020.71000606018, 6845.511557821497, -1477.4373187856324, -815.1968608667161, 691.1097282744914, -6449.304562151921, 1309.755542677376, -1740.1127484570586, -790.7948276930248, -4842.321040474197, 868.6103588642248, -1572.1876450873806, 985.5137330506094, -2115.770797719351, 699.0684320876514, -4489.815096834458, 5045.168284372389, -18.459269152194793, -2141.723087410481, -6951.768532136225, 13244.162196706162, 2157.3857818135816, -1492.507488345804, 168.31663845887456, 239.60219534030577, -1768.4570860026517, 433.2368944545441, 924.6365247034106, -535.1010566807827, 829.2096715583396, -3229.9189999672262, -330.7955457229362, -6758.891893737763, 2666.230550297745, 2746.0792711487015, -878.5016845742277, 532.5790900716563, -502.7037759771262, 3169.6414953017957, -6752.782973160408, 769.0357348196353, -1856.4358153837027, -3245.7369620130075, 5746.773194662997, -4257.198180337677, 2551.621547059686, 6489.382148033826, -101.98111396597123, 2312.9844046605554, -2312.509798345808, -574.1577945925569, 900.2485222382759, 4261.11730378364, 1336.9526368766287, 1323.7528507134732, 3630.062146868731, -1968.0971458237887, 505.2771077362254, 3513.4911865285226, 3628.5139589242526, 2291.208438770088, -679.4526364835076, 2396.0791173861385, 6023.676842662052, -5144.970661431717, -2511.0926784683347, 545.5873487543793, 404.83459845935187, 3197.247487953492, -706.2724084957939, -1036.224205937862, 1327.5984686869538, -318.7020642277708, 2815.8268500600852, -2567.79548105477, 14248.68623540167, 3123.0054428886237, -243.86035996528253, 275.23568713333884, -1988.7202962420415, -2886.41245549507, -151.9987451461682, -3210.1014161723165, -3469.851094983942, -5456.572745956965, -2873.3438909091533, -5877.385229107421, 10983.73880760413, -905.8369395486229, 10802.388957632704, 2092.1731132860414, -1215.1991298444862, -2719.8795098740625, 10182.613497218797, -5365.73780895506, 2253.433638549512, -3931.751312306189, 4868.597264361776, -3701.0275494349535, -7206.890596586633, -431.73622810788015, -580.3232862588559]}],\n",
       "                        {\"coloraxis\": {\"colorbar\": {\"title\": {\"text\": \"class\"}}, \"colorscale\": [[0.0, \"#0d0887\"], [0.1111111111111111, \"#46039f\"], [0.2222222222222222, \"#7201a8\"], [0.3333333333333333, \"#9c179e\"], [0.4444444444444444, \"#bd3786\"], [0.5555555555555556, \"#d8576b\"], [0.6666666666666666, \"#ed7953\"], [0.7777777777777778, \"#fb9f3a\"], [0.8888888888888888, \"#fdca26\"], [1.0, \"#f0f921\"]]}, \"legend\": {\"tracegroupgap\": 0}, \"margin\": {\"t\": 60}, \"scene\": {\"domain\": {\"x\": [0.0, 1.0], \"y\": [0.0, 1.0]}, \"xaxis\": {\"title\": {\"text\": \"Component1\"}}, \"yaxis\": {\"title\": {\"text\": \"Component2\"}}, \"zaxis\": {\"title\": {\"text\": \"Component3\"}}}, \"template\": {\"data\": {\"bar\": [{\"error_x\": {\"color\": \"#2a3f5f\"}, \"error_y\": {\"color\": \"#2a3f5f\"}, \"marker\": {\"line\": {\"color\": \"#E5ECF6\", \"width\": 0.5}}, \"type\": \"bar\"}], \"barpolar\": [{\"marker\": {\"line\": {\"color\": \"#E5ECF6\", \"width\": 0.5}}, \"type\": \"barpolar\"}], \"carpet\": [{\"aaxis\": {\"endlinecolor\": \"#2a3f5f\", \"gridcolor\": \"white\", \"linecolor\": \"white\", \"minorgridcolor\": \"white\", \"startlinecolor\": \"#2a3f5f\"}, \"baxis\": {\"endlinecolor\": \"#2a3f5f\", \"gridcolor\": \"white\", \"linecolor\": \"white\", \"minorgridcolor\": \"white\", \"startlinecolor\": \"#2a3f5f\"}, \"type\": \"carpet\"}], \"choropleth\": [{\"colorbar\": {\"outlinewidth\": 0, \"ticks\": \"\"}, \"type\": \"choropleth\"}], \"contour\": [{\"colorbar\": {\"outlinewidth\": 0, \"ticks\": \"\"}, \"colorscale\": [[0.0, \"#0d0887\"], [0.1111111111111111, \"#46039f\"], [0.2222222222222222, \"#7201a8\"], [0.3333333333333333, \"#9c179e\"], [0.4444444444444444, \"#bd3786\"], [0.5555555555555556, \"#d8576b\"], [0.6666666666666666, \"#ed7953\"], [0.7777777777777778, \"#fb9f3a\"], [0.8888888888888888, \"#fdca26\"], [1.0, \"#f0f921\"]], \"type\": \"contour\"}], \"contourcarpet\": [{\"colorbar\": {\"outlinewidth\": 0, \"ticks\": \"\"}, \"type\": \"contourcarpet\"}], \"heatmap\": [{\"colorbar\": {\"outlinewidth\": 0, \"ticks\": \"\"}, \"colorscale\": [[0.0, \"#0d0887\"], [0.1111111111111111, \"#46039f\"], [0.2222222222222222, \"#7201a8\"], [0.3333333333333333, \"#9c179e\"], [0.4444444444444444, \"#bd3786\"], [0.5555555555555556, \"#d8576b\"], [0.6666666666666666, \"#ed7953\"], [0.7777777777777778, \"#fb9f3a\"], [0.8888888888888888, \"#fdca26\"], [1.0, \"#f0f921\"]], \"type\": \"heatmap\"}], \"heatmapgl\": [{\"colorbar\": {\"outlinewidth\": 0, \"ticks\": \"\"}, \"colorscale\": [[0.0, \"#0d0887\"], [0.1111111111111111, \"#46039f\"], [0.2222222222222222, \"#7201a8\"], [0.3333333333333333, \"#9c179e\"], [0.4444444444444444, \"#bd3786\"], [0.5555555555555556, \"#d8576b\"], [0.6666666666666666, \"#ed7953\"], [0.7777777777777778, \"#fb9f3a\"], [0.8888888888888888, \"#fdca26\"], [1.0, \"#f0f921\"]], \"type\": \"heatmapgl\"}], \"histogram\": [{\"marker\": {\"colorbar\": {\"outlinewidth\": 0, \"ticks\": \"\"}}, \"type\": \"histogram\"}], \"histogram2d\": [{\"colorbar\": {\"outlinewidth\": 0, \"ticks\": \"\"}, \"colorscale\": [[0.0, \"#0d0887\"], [0.1111111111111111, \"#46039f\"], [0.2222222222222222, \"#7201a8\"], [0.3333333333333333, \"#9c179e\"], [0.4444444444444444, \"#bd3786\"], [0.5555555555555556, \"#d8576b\"], [0.6666666666666666, \"#ed7953\"], [0.7777777777777778, \"#fb9f3a\"], [0.8888888888888888, \"#fdca26\"], [1.0, \"#f0f921\"]], \"type\": \"histogram2d\"}], \"histogram2dcontour\": [{\"colorbar\": {\"outlinewidth\": 0, \"ticks\": \"\"}, \"colorscale\": [[0.0, \"#0d0887\"], [0.1111111111111111, \"#46039f\"], [0.2222222222222222, \"#7201a8\"], [0.3333333333333333, \"#9c179e\"], [0.4444444444444444, \"#bd3786\"], [0.5555555555555556, \"#d8576b\"], [0.6666666666666666, \"#ed7953\"], [0.7777777777777778, \"#fb9f3a\"], [0.8888888888888888, \"#fdca26\"], [1.0, \"#f0f921\"]], \"type\": \"histogram2dcontour\"}], \"mesh3d\": [{\"colorbar\": {\"outlinewidth\": 0, \"ticks\": \"\"}, \"type\": \"mesh3d\"}], \"parcoords\": [{\"line\": {\"colorbar\": {\"outlinewidth\": 0, \"ticks\": \"\"}}, \"type\": \"parcoords\"}], \"pie\": [{\"automargin\": true, \"type\": \"pie\"}], \"scatter\": [{\"marker\": {\"colorbar\": {\"outlinewidth\": 0, \"ticks\": \"\"}}, \"type\": \"scatter\"}], \"scatter3d\": [{\"line\": {\"colorbar\": {\"outlinewidth\": 0, \"ticks\": \"\"}}, \"marker\": {\"colorbar\": {\"outlinewidth\": 0, \"ticks\": \"\"}}, \"type\": \"scatter3d\"}], \"scattercarpet\": [{\"marker\": {\"colorbar\": {\"outlinewidth\": 0, \"ticks\": \"\"}}, \"type\": \"scattercarpet\"}], \"scattergeo\": [{\"marker\": {\"colorbar\": {\"outlinewidth\": 0, \"ticks\": \"\"}}, \"type\": \"scattergeo\"}], \"scattergl\": [{\"marker\": {\"colorbar\": {\"outlinewidth\": 0, \"ticks\": \"\"}}, \"type\": \"scattergl\"}], \"scattermapbox\": [{\"marker\": {\"colorbar\": {\"outlinewidth\": 0, \"ticks\": \"\"}}, \"type\": \"scattermapbox\"}], \"scatterpolar\": [{\"marker\": {\"colorbar\": {\"outlinewidth\": 0, \"ticks\": \"\"}}, \"type\": \"scatterpolar\"}], \"scatterpolargl\": [{\"marker\": {\"colorbar\": {\"outlinewidth\": 0, \"ticks\": \"\"}}, \"type\": \"scatterpolargl\"}], \"scatterternary\": [{\"marker\": {\"colorbar\": {\"outlinewidth\": 0, \"ticks\": \"\"}}, \"type\": \"scatterternary\"}], \"surface\": [{\"colorbar\": {\"outlinewidth\": 0, \"ticks\": \"\"}, \"colorscale\": [[0.0, \"#0d0887\"], [0.1111111111111111, \"#46039f\"], [0.2222222222222222, \"#7201a8\"], [0.3333333333333333, \"#9c179e\"], [0.4444444444444444, \"#bd3786\"], [0.5555555555555556, \"#d8576b\"], [0.6666666666666666, \"#ed7953\"], [0.7777777777777778, \"#fb9f3a\"], [0.8888888888888888, \"#fdca26\"], [1.0, \"#f0f921\"]], \"type\": \"surface\"}], \"table\": [{\"cells\": {\"fill\": {\"color\": \"#EBF0F8\"}, \"line\": {\"color\": \"white\"}}, \"header\": {\"fill\": {\"color\": \"#C8D4E3\"}, \"line\": {\"color\": \"white\"}}, \"type\": \"table\"}]}, \"layout\": {\"annotationdefaults\": {\"arrowcolor\": \"#2a3f5f\", \"arrowhead\": 0, \"arrowwidth\": 1}, \"coloraxis\": {\"colorbar\": {\"outlinewidth\": 0, \"ticks\": \"\"}}, \"colorscale\": {\"diverging\": [[0, \"#8e0152\"], [0.1, \"#c51b7d\"], [0.2, \"#de77ae\"], [0.3, \"#f1b6da\"], [0.4, \"#fde0ef\"], [0.5, \"#f7f7f7\"], [0.6, \"#e6f5d0\"], [0.7, \"#b8e186\"], [0.8, \"#7fbc41\"], [0.9, \"#4d9221\"], [1, \"#276419\"]], \"sequential\": [[0.0, \"#0d0887\"], [0.1111111111111111, \"#46039f\"], [0.2222222222222222, \"#7201a8\"], [0.3333333333333333, \"#9c179e\"], [0.4444444444444444, \"#bd3786\"], [0.5555555555555556, \"#d8576b\"], [0.6666666666666666, \"#ed7953\"], [0.7777777777777778, \"#fb9f3a\"], [0.8888888888888888, \"#fdca26\"], [1.0, \"#f0f921\"]], \"sequentialminus\": [[0.0, \"#0d0887\"], [0.1111111111111111, \"#46039f\"], [0.2222222222222222, \"#7201a8\"], [0.3333333333333333, \"#9c179e\"], [0.4444444444444444, \"#bd3786\"], [0.5555555555555556, \"#d8576b\"], [0.6666666666666666, \"#ed7953\"], [0.7777777777777778, \"#fb9f3a\"], [0.8888888888888888, \"#fdca26\"], [1.0, \"#f0f921\"]]}, \"colorway\": [\"#636efa\", \"#EF553B\", \"#00cc96\", \"#ab63fa\", \"#FFA15A\", \"#19d3f3\", \"#FF6692\", \"#B6E880\", \"#FF97FF\", \"#FECB52\"], \"font\": {\"color\": \"#2a3f5f\"}, \"geo\": {\"bgcolor\": \"white\", \"lakecolor\": \"white\", \"landcolor\": \"#E5ECF6\", \"showlakes\": true, \"showland\": true, \"subunitcolor\": \"white\"}, \"hoverlabel\": {\"align\": \"left\"}, \"hovermode\": \"closest\", \"mapbox\": {\"style\": \"light\"}, \"paper_bgcolor\": \"white\", \"plot_bgcolor\": \"#E5ECF6\", \"polar\": {\"angularaxis\": {\"gridcolor\": \"white\", \"linecolor\": \"white\", \"ticks\": \"\"}, \"bgcolor\": \"#E5ECF6\", \"radialaxis\": {\"gridcolor\": \"white\", \"linecolor\": \"white\", \"ticks\": \"\"}}, \"scene\": {\"xaxis\": {\"backgroundcolor\": \"#E5ECF6\", \"gridcolor\": \"white\", \"gridwidth\": 2, \"linecolor\": \"white\", \"showbackground\": true, \"ticks\": \"\", \"zerolinecolor\": \"white\"}, \"yaxis\": {\"backgroundcolor\": \"#E5ECF6\", \"gridcolor\": \"white\", \"gridwidth\": 2, \"linecolor\": \"white\", \"showbackground\": true, \"ticks\": \"\", \"zerolinecolor\": \"white\"}, \"zaxis\": {\"backgroundcolor\": \"#E5ECF6\", \"gridcolor\": \"white\", \"gridwidth\": 2, \"linecolor\": \"white\", \"showbackground\": true, \"ticks\": \"\", \"zerolinecolor\": \"white\"}}, \"shapedefaults\": {\"line\": {\"color\": \"#2a3f5f\"}}, \"ternary\": {\"aaxis\": {\"gridcolor\": \"white\", \"linecolor\": \"white\", \"ticks\": \"\"}, \"baxis\": {\"gridcolor\": \"white\", \"linecolor\": \"white\", \"ticks\": \"\"}, \"bgcolor\": \"#E5ECF6\", \"caxis\": {\"gridcolor\": \"white\", \"linecolor\": \"white\", \"ticks\": \"\"}}, \"title\": {\"x\": 0.05}, \"xaxis\": {\"automargin\": true, \"gridcolor\": \"white\", \"linecolor\": \"white\", \"ticks\": \"\", \"title\": {\"standoff\": 15}, \"zerolinecolor\": \"white\", \"zerolinewidth\": 2}, \"yaxis\": {\"automargin\": true, \"gridcolor\": \"white\", \"linecolor\": \"white\", \"ticks\": \"\", \"title\": {\"standoff\": 15}, \"zerolinecolor\": \"white\", \"zerolinewidth\": 2}}}},\n",
       "                        {\"responsive\": true}\n",
       "                    ).then(function(){\n",
       "                            \n",
       "var gd = document.getElementById('6c513414-aa47-4997-999a-f4447c6b8157');\n",
       "var x = new MutationObserver(function (mutations, observer) {{\n",
       "        var display = window.getComputedStyle(gd).display;\n",
       "        if (!display || display === 'none') {{\n",
       "            console.log([gd, 'removed!']);\n",
       "            Plotly.purge(gd);\n",
       "            observer.disconnect();\n",
       "        }}\n",
       "}});\n",
       "\n",
       "// Listen for the removal of the full notebook cells\n",
       "var notebookContainer = gd.closest('#notebook-container');\n",
       "if (notebookContainer) {{\n",
       "    x.observe(notebookContainer, {childList: true});\n",
       "}}\n",
       "\n",
       "// Listen for the clearing of the current output cell\n",
       "var outputEl = gd.closest('.output');\n",
       "if (outputEl) {{\n",
       "    x.observe(outputEl, {childList: true});\n",
       "}}\n",
       "\n",
       "                        })\n",
       "                };\n",
       "                });\n",
       "            </script>\n",
       "        </div>"
      ]
     },
     "metadata": {},
     "output_type": "display_data"
    }
   ],
   "source": [
    "fig = px.scatter_3d(clusters, x='Component1', y='Component2', z='Component3',\n",
    "              color='class')\n",
    "fig.show()"
   ]
  },
  {
   "cell_type": "markdown",
   "metadata": {},
   "source": [
    "A este punto tenemos un dataset etiquetado y podemos analizarlo mejor"
   ]
  },
  {
   "cell_type": "code",
   "execution_count": 20,
   "metadata": {},
   "outputs": [],
   "source": [
    "data['class']= predictions\n",
    "\n",
    "class_0 = data[data['class']==0]\n",
    "class_1 = data[data['class']==1]\n",
    "class_2 = data[data['class']==2]"
   ]
  },
  {
   "cell_type": "code",
   "execution_count": 30,
   "metadata": {},
   "outputs": [
    {
     "data": {
      "application/vnd.plotly.v1+json": {
       "config": {
        "plotlyServerURL": "https://plot.ly"
       },
       "data": [
        {
         "hovertemplate": "=%{x}<br>Total gatado al año=%{y}<br>Clases=%{marker.color}<extra></extra>",
         "legendgroup": "",
         "marker": {
          "color": [
           1,
           1,
           1,
           1,
           0,
           1,
           1,
           1,
           1,
           0,
           1,
           1,
           0,
           0,
           0,
           1,
           1,
           1,
           0,
           1,
           1,
           1,
           0,
           2,
           0,
           1,
           1,
           1,
           0,
           0,
           0,
           1,
           1,
           0,
           1,
           1,
           0,
           0,
           0,
           0,
           0,
           1,
           0,
           0,
           1,
           0,
           0,
           2,
           1,
           0,
           1,
           1,
           0,
           1,
           1,
           1,
           0,
           1,
           1,
           1,
           1,
           2,
           1,
           0,
           1,
           0,
           1,
           0,
           1,
           1,
           1,
           0,
           1,
           0,
           1,
           1,
           1,
           0,
           1,
           1,
           1,
           1,
           1,
           1,
           1,
           2,
           2,
           0,
           1,
           0,
           1,
           1,
           0,
           0,
           1,
           1,
           1,
           1,
           1,
           1,
           0,
           1,
           1,
           0,
           1,
           1,
           1,
           0,
           1,
           0,
           1,
           0,
           1,
           1,
           1,
           1,
           1,
           1,
           1,
           1,
           1,
           1,
           1,
           1,
           0,
           0,
           1,
           0,
           1,
           0,
           1,
           1,
           1,
           1,
           1,
           1,
           1,
           1,
           1,
           1,
           1,
           0,
           0,
           1,
           1,
           0,
           1,
           1,
           1,
           0,
           1,
           1,
           1,
           1,
           1,
           0,
           1,
           1,
           1,
           1,
           1,
           1,
           1,
           0,
           1,
           0,
           1,
           1,
           1,
           1,
           1,
           0,
           1,
           1,
           1,
           1,
           0,
           1,
           1,
           1,
           1,
           2,
           1,
           2,
           1,
           1,
           1,
           1,
           1,
           1,
           1,
           1,
           1,
           1,
           1,
           1,
           0,
           1,
           1,
           1,
           0,
           0,
           0,
           1,
           1,
           0,
           1,
           1,
           1,
           0,
           1,
           2,
           1,
           1,
           1,
           1,
           0,
           1,
           1,
           1,
           1,
           1,
           1,
           1,
           1,
           1,
           0,
           1,
           1,
           1,
           1,
           1,
           1,
           1,
           1,
           1,
           1,
           1,
           1,
           0,
           0,
           1,
           1,
           1,
           1,
           1,
           1,
           1,
           1,
           1,
           1,
           0,
           1,
           0,
           0,
           0,
           1,
           1,
           0,
           0,
           1,
           1,
           1,
           1,
           1,
           0,
           0,
           1,
           0,
           1,
           1,
           1,
           1,
           0,
           1,
           1,
           0,
           1,
           1,
           0,
           1,
           1,
           0,
           0,
           0,
           0,
           1,
           1,
           1,
           0,
           1,
           1,
           1,
           1,
           1,
           1,
           1,
           1,
           1,
           1,
           1,
           0,
           1,
           1,
           0,
           1,
           0,
           1,
           1,
           0,
           1,
           0,
           0,
           1,
           1,
           1,
           1,
           1,
           1,
           0,
           1,
           1,
           1,
           1,
           1,
           2,
           1,
           1,
           1,
           1,
           1,
           0,
           1,
           2,
           1,
           0,
           1,
           1,
           1,
           1,
           1,
           1,
           1,
           0,
           1,
           1,
           1,
           0,
           1,
           0,
           1,
           0,
           1,
           1,
           1,
           1,
           1,
           1,
           1,
           1,
           1,
           1,
           1,
           1,
           1,
           1,
           1,
           1,
           1,
           1,
           0,
           1,
           1,
           1,
           1,
           1,
           1,
           0,
           1,
           1,
           1,
           1,
           0,
           1,
           0,
           1,
           1,
           1,
           1,
           1,
           1,
           1,
           1,
           0,
           1,
           1,
           1,
           1,
           1,
           1,
           1,
           0,
           0,
           0,
           1,
           1,
           0,
           0,
           1,
           1,
           1,
           1,
           1,
           1,
           1,
           1,
           1,
           1,
           1,
           1,
           1,
           1,
           1,
           1,
           1,
           1,
           0,
           0,
           1,
           1,
           1,
           1,
           1,
           1,
           1,
           0,
           0,
           0,
           1,
           1
          ],
          "coloraxis": "coloraxis",
          "symbol": "circle"
         },
         "mode": "markers",
         "name": "",
         "orientation": "v",
         "showlegend": false,
         "type": "scatter",
         "x": [
          0,
          1,
          2,
          3,
          4,
          5,
          6,
          7,
          8,
          9,
          10,
          11,
          12,
          13,
          14,
          15,
          16,
          17,
          18,
          19,
          20,
          21,
          22,
          23,
          24,
          25,
          26,
          27,
          28,
          29,
          30,
          31,
          32,
          33,
          34,
          35,
          36,
          37,
          38,
          39,
          40,
          41,
          42,
          43,
          44,
          45,
          46,
          47,
          48,
          49,
          50,
          51,
          52,
          53,
          54,
          55,
          56,
          57,
          58,
          59,
          60,
          61,
          62,
          63,
          64,
          65,
          66,
          67,
          68,
          69,
          70,
          71,
          72,
          73,
          74,
          75,
          76,
          77,
          78,
          79,
          80,
          81,
          82,
          83,
          84,
          85,
          86,
          87,
          88,
          89,
          90,
          91,
          92,
          93,
          94,
          95,
          96,
          97,
          98,
          99,
          100,
          101,
          102,
          103,
          104,
          105,
          106,
          107,
          108,
          109,
          110,
          111,
          112,
          113,
          114,
          115,
          116,
          117,
          118,
          119,
          120,
          121,
          122,
          123,
          124,
          125,
          126,
          127,
          128,
          129,
          130,
          131,
          132,
          133,
          134,
          135,
          136,
          137,
          138,
          139,
          140,
          141,
          142,
          143,
          144,
          145,
          146,
          147,
          148,
          149,
          150,
          151,
          152,
          153,
          154,
          155,
          156,
          157,
          158,
          159,
          160,
          161,
          162,
          163,
          164,
          165,
          166,
          167,
          168,
          169,
          170,
          171,
          172,
          173,
          174,
          175,
          176,
          177,
          178,
          179,
          180,
          181,
          182,
          183,
          184,
          185,
          186,
          187,
          188,
          189,
          190,
          191,
          192,
          193,
          194,
          195,
          196,
          197,
          198,
          199,
          200,
          201,
          202,
          203,
          204,
          205,
          206,
          207,
          208,
          209,
          210,
          211,
          212,
          213,
          214,
          215,
          216,
          217,
          218,
          219,
          220,
          221,
          222,
          223,
          224,
          225,
          226,
          227,
          228,
          229,
          230,
          231,
          232,
          233,
          234,
          235,
          236,
          237,
          238,
          239,
          240,
          241,
          242,
          243,
          244,
          245,
          246,
          247,
          248,
          249,
          250,
          251,
          252,
          253,
          254,
          255,
          256,
          257,
          258,
          259,
          260,
          261,
          262,
          263,
          264,
          265,
          266,
          267,
          268,
          269,
          270,
          271,
          272,
          273,
          274,
          275,
          276,
          277,
          278,
          279,
          280,
          281,
          282,
          283,
          284,
          285,
          286,
          287,
          288,
          289,
          290,
          291,
          292,
          293,
          294,
          295,
          296,
          297,
          298,
          299,
          300,
          301,
          302,
          303,
          304,
          305,
          306,
          307,
          308,
          309,
          310,
          311,
          312,
          313,
          314,
          315,
          316,
          317,
          318,
          319,
          320,
          321,
          322,
          323,
          324,
          325,
          326,
          327,
          328,
          329,
          330,
          331,
          332,
          333,
          334,
          335,
          336,
          337,
          338,
          339,
          340,
          341,
          342,
          343,
          344,
          345,
          346,
          347,
          348,
          349,
          350,
          351,
          352,
          353,
          354,
          355,
          356,
          357,
          358,
          359,
          360,
          361,
          362,
          363,
          364,
          365,
          366,
          367,
          368,
          369,
          370,
          371,
          372,
          373,
          374,
          375,
          376,
          377,
          378,
          379,
          380,
          381,
          382,
          383,
          384,
          385,
          386,
          387,
          388,
          389,
          390,
          391,
          392,
          393,
          394,
          395,
          396,
          397,
          398,
          399,
          400,
          401,
          402,
          403,
          404,
          405,
          406,
          407,
          408,
          409,
          410,
          411,
          412,
          413,
          414,
          415,
          416,
          417,
          418,
          419,
          420,
          421,
          422,
          423,
          424,
          425,
          426,
          427,
          428,
          429,
          430,
          431,
          432,
          433,
          434,
          435,
          436,
          437,
          438,
          439
         ],
         "xaxis": "x",
         "y": [
          34112,
          33266,
          36610,
          27381,
          46100,
          26710,
          26465,
          29517,
          18694,
          46662,
          33864,
          21259,
          62889,
          52811,
          53729,
          16961,
          27679,
          20653,
          43180,
          23427,
          32116,
          12775,
          53785,
          110829,
          59390,
          32251,
          17946,
          19227,
          65522,
          50927,
          39777,
          13977,
          27425,
          49415,
          7046,
          22778,
          46962,
          47341,
          44451,
          70746,
          49633,
          35607,
          40499,
          46111,
          32392,
          62834,
          49039,
          192714,
          35720,
          71844,
          15975,
          16472,
          54910,
          29075,
          34698,
          18163,
          82552,
          34729,
          18656,
          24353,
          23905,
          165881,
          29804,
          48640,
          15353,
          92562,
          12630,
          47365,
          23452,
          14044,
          34068,
          64617,
          22594,
          43488,
          29293,
          26923,
          19789,
          67354,
          16572,
          12277,
          12412,
          32419,
          37219,
          27862,
          25143,
          199891,
          150497,
          78649,
          22394,
          41145,
          17415,
          28483,
          95972,
          54244,
          34657,
          10547,
          14993,
          2158,
          2476,
          19926,
          45833,
          38694,
          25588,
          90498,
          23052,
          22998,
          27289,
          47207,
          20897,
          48633,
          19252,
          50043,
          36329,
          23832,
          25063,
          18516,
          19098,
          19376,
          30989,
          17546,
          25499,
          11666,
          15534,
          35066,
          47561,
          105046,
          31744,
          45408,
          14017,
          48695,
          17898,
          3730,
          21273,
          12799,
          12748,
          11875,
          28798,
          20867,
          26503,
          16100,
          35063,
          50642,
          55459,
          22239,
          25327,
          82278,
          13401,
          18177,
          11819,
          37249,
          21905,
          9199,
          26883,
          17789,
          904,
          46102,
          34169,
          26220,
          25665,
          31519,
          25603,
          16585,
          24518,
          64666,
          27863,
          62038,
          30316,
          12167,
          9248,
          11504,
          30819,
          61552,
          16850,
          39485,
          10845,
          28007,
          68264,
          29025,
          24689,
          17460,
          31857,
          190169,
          27251,
          185683,
          6374,
          18243,
          9530,
          29990,
          37367,
          30091,
          32681,
          16317,
          10364,
          31200,
          13396,
          37365,
          65080,
          26824,
          25480,
          15331,
          54065,
          63056,
          58383,
          4925,
          10789,
          47344,
          9554,
          21749,
          17169,
          49127,
          26000,
          107155,
          13671,
          23285,
          27938,
          38699,
          69778,
          25385,
          35181,
          8434,
          19606,
          28042,
          17139,
          18342,
          10945,
          22287,
          41795,
          11047,
          8933,
          22422,
          34089,
          20345,
          33336,
          10617,
          29287,
          13771,
          15454,
          29000,
          9823,
          62163,
          47041,
          32880,
          26715,
          24546,
          31090,
          35079,
          15907,
          17184,
          25049,
          21454,
          9657,
          93314,
          22804,
          56639,
          42597,
          37566,
          22567,
          21873,
          73243,
          70297,
          17890,
          17216,
          28372,
          17581,
          33503,
          57756,
          42183,
          33031,
          47949,
          19667,
          12480,
          11470,
          17368,
          48191,
          7094,
          3850,
          46199,
          28252,
          24081,
          39888,
          10929,
          31081,
          65695,
          43394,
          97820,
          45990,
          13611,
          30063,
          19701,
          44985,
          10499,
          16042,
          15976,
          35163,
          33410,
          17598,
          28687,
          23973,
          27792,
          4196,
          34542,
          49731,
          25128,
          30736,
          47204,
          26953,
          51846,
          24968,
          12343,
          44257,
          24916,
          43784,
          43582,
          18041,
          23632,
          36446,
          14524,
          13820,
          20949,
          67636,
          9373,
          20274,
          25311,
          29064,
          35629,
          130877,
          12174,
          4129,
          32124,
          17540,
          21480,
          64885,
          31972,
          120291,
          35871,
          52304,
          18385,
          22789,
          23523,
          21236,
          23106,
          27408,
          18208,
          51931,
          8808,
          16683,
          35659,
          55327,
          11026,
          55811,
          9581,
          51064,
          4362,
          37605,
          34040,
          3485,
          26752,
          30578,
          31833,
          10131,
          28196,
          7975,
          7626,
          11902,
          7097,
          28084,
          15284,
          6956,
          28642,
          8657,
          52700,
          33601,
          15428,
          35264,
          12751,
          9596,
          37085,
          46967,
          9885,
          20725,
          36098,
          34683,
          57502,
          11399,
          56978,
          18014,
          10948,
          27559,
          14088,
          16267,
          12674,
          10550,
          9733,
          44028,
          18445,
          16233,
          34086,
          22274,
          18767,
          13569,
          11333,
          47313,
          36953,
          42263,
          32083,
          12137,
          46960,
          50179,
          23264,
          28051,
          18433,
          14831,
          19232,
          37688,
          18480,
          29545,
          34806,
          26531,
          35425,
          18601,
          31185,
          37193,
          34945,
          29438,
          36432,
          33586,
          46911,
          69812,
          17292,
          16569,
          26706,
          35560,
          29025,
          10039,
          32544,
          73302,
          48372,
          77407,
          17834,
          7589
         ],
         "yaxis": "y"
        }
       ],
       "layout": {
        "coloraxis": {
         "colorbar": {
          "title": {
           "text": "Clases"
          }
         },
         "colorscale": [
          [
           0,
           "#0d0887"
          ],
          [
           0.1111111111111111,
           "#46039f"
          ],
          [
           0.2222222222222222,
           "#7201a8"
          ],
          [
           0.3333333333333333,
           "#9c179e"
          ],
          [
           0.4444444444444444,
           "#bd3786"
          ],
          [
           0.5555555555555556,
           "#d8576b"
          ],
          [
           0.6666666666666666,
           "#ed7953"
          ],
          [
           0.7777777777777778,
           "#fb9f3a"
          ],
          [
           0.8888888888888888,
           "#fdca26"
          ],
          [
           1,
           "#f0f921"
          ]
         ]
        },
        "legend": {
         "tracegroupgap": 0
        },
        "template": {
         "data": {
          "bar": [
           {
            "error_x": {
             "color": "#2a3f5f"
            },
            "error_y": {
             "color": "#2a3f5f"
            },
            "marker": {
             "line": {
              "color": "#E5ECF6",
              "width": 0.5
             }
            },
            "type": "bar"
           }
          ],
          "barpolar": [
           {
            "marker": {
             "line": {
              "color": "#E5ECF6",
              "width": 0.5
             }
            },
            "type": "barpolar"
           }
          ],
          "carpet": [
           {
            "aaxis": {
             "endlinecolor": "#2a3f5f",
             "gridcolor": "white",
             "linecolor": "white",
             "minorgridcolor": "white",
             "startlinecolor": "#2a3f5f"
            },
            "baxis": {
             "endlinecolor": "#2a3f5f",
             "gridcolor": "white",
             "linecolor": "white",
             "minorgridcolor": "white",
             "startlinecolor": "#2a3f5f"
            },
            "type": "carpet"
           }
          ],
          "choropleth": [
           {
            "colorbar": {
             "outlinewidth": 0,
             "ticks": ""
            },
            "type": "choropleth"
           }
          ],
          "contour": [
           {
            "colorbar": {
             "outlinewidth": 0,
             "ticks": ""
            },
            "colorscale": [
             [
              0,
              "#0d0887"
             ],
             [
              0.1111111111111111,
              "#46039f"
             ],
             [
              0.2222222222222222,
              "#7201a8"
             ],
             [
              0.3333333333333333,
              "#9c179e"
             ],
             [
              0.4444444444444444,
              "#bd3786"
             ],
             [
              0.5555555555555556,
              "#d8576b"
             ],
             [
              0.6666666666666666,
              "#ed7953"
             ],
             [
              0.7777777777777778,
              "#fb9f3a"
             ],
             [
              0.8888888888888888,
              "#fdca26"
             ],
             [
              1,
              "#f0f921"
             ]
            ],
            "type": "contour"
           }
          ],
          "contourcarpet": [
           {
            "colorbar": {
             "outlinewidth": 0,
             "ticks": ""
            },
            "type": "contourcarpet"
           }
          ],
          "heatmap": [
           {
            "colorbar": {
             "outlinewidth": 0,
             "ticks": ""
            },
            "colorscale": [
             [
              0,
              "#0d0887"
             ],
             [
              0.1111111111111111,
              "#46039f"
             ],
             [
              0.2222222222222222,
              "#7201a8"
             ],
             [
              0.3333333333333333,
              "#9c179e"
             ],
             [
              0.4444444444444444,
              "#bd3786"
             ],
             [
              0.5555555555555556,
              "#d8576b"
             ],
             [
              0.6666666666666666,
              "#ed7953"
             ],
             [
              0.7777777777777778,
              "#fb9f3a"
             ],
             [
              0.8888888888888888,
              "#fdca26"
             ],
             [
              1,
              "#f0f921"
             ]
            ],
            "type": "heatmap"
           }
          ],
          "heatmapgl": [
           {
            "colorbar": {
             "outlinewidth": 0,
             "ticks": ""
            },
            "colorscale": [
             [
              0,
              "#0d0887"
             ],
             [
              0.1111111111111111,
              "#46039f"
             ],
             [
              0.2222222222222222,
              "#7201a8"
             ],
             [
              0.3333333333333333,
              "#9c179e"
             ],
             [
              0.4444444444444444,
              "#bd3786"
             ],
             [
              0.5555555555555556,
              "#d8576b"
             ],
             [
              0.6666666666666666,
              "#ed7953"
             ],
             [
              0.7777777777777778,
              "#fb9f3a"
             ],
             [
              0.8888888888888888,
              "#fdca26"
             ],
             [
              1,
              "#f0f921"
             ]
            ],
            "type": "heatmapgl"
           }
          ],
          "histogram": [
           {
            "marker": {
             "colorbar": {
              "outlinewidth": 0,
              "ticks": ""
             }
            },
            "type": "histogram"
           }
          ],
          "histogram2d": [
           {
            "colorbar": {
             "outlinewidth": 0,
             "ticks": ""
            },
            "colorscale": [
             [
              0,
              "#0d0887"
             ],
             [
              0.1111111111111111,
              "#46039f"
             ],
             [
              0.2222222222222222,
              "#7201a8"
             ],
             [
              0.3333333333333333,
              "#9c179e"
             ],
             [
              0.4444444444444444,
              "#bd3786"
             ],
             [
              0.5555555555555556,
              "#d8576b"
             ],
             [
              0.6666666666666666,
              "#ed7953"
             ],
             [
              0.7777777777777778,
              "#fb9f3a"
             ],
             [
              0.8888888888888888,
              "#fdca26"
             ],
             [
              1,
              "#f0f921"
             ]
            ],
            "type": "histogram2d"
           }
          ],
          "histogram2dcontour": [
           {
            "colorbar": {
             "outlinewidth": 0,
             "ticks": ""
            },
            "colorscale": [
             [
              0,
              "#0d0887"
             ],
             [
              0.1111111111111111,
              "#46039f"
             ],
             [
              0.2222222222222222,
              "#7201a8"
             ],
             [
              0.3333333333333333,
              "#9c179e"
             ],
             [
              0.4444444444444444,
              "#bd3786"
             ],
             [
              0.5555555555555556,
              "#d8576b"
             ],
             [
              0.6666666666666666,
              "#ed7953"
             ],
             [
              0.7777777777777778,
              "#fb9f3a"
             ],
             [
              0.8888888888888888,
              "#fdca26"
             ],
             [
              1,
              "#f0f921"
             ]
            ],
            "type": "histogram2dcontour"
           }
          ],
          "mesh3d": [
           {
            "colorbar": {
             "outlinewidth": 0,
             "ticks": ""
            },
            "type": "mesh3d"
           }
          ],
          "parcoords": [
           {
            "line": {
             "colorbar": {
              "outlinewidth": 0,
              "ticks": ""
             }
            },
            "type": "parcoords"
           }
          ],
          "pie": [
           {
            "automargin": true,
            "type": "pie"
           }
          ],
          "scatter": [
           {
            "marker": {
             "colorbar": {
              "outlinewidth": 0,
              "ticks": ""
             }
            },
            "type": "scatter"
           }
          ],
          "scatter3d": [
           {
            "line": {
             "colorbar": {
              "outlinewidth": 0,
              "ticks": ""
             }
            },
            "marker": {
             "colorbar": {
              "outlinewidth": 0,
              "ticks": ""
             }
            },
            "type": "scatter3d"
           }
          ],
          "scattercarpet": [
           {
            "marker": {
             "colorbar": {
              "outlinewidth": 0,
              "ticks": ""
             }
            },
            "type": "scattercarpet"
           }
          ],
          "scattergeo": [
           {
            "marker": {
             "colorbar": {
              "outlinewidth": 0,
              "ticks": ""
             }
            },
            "type": "scattergeo"
           }
          ],
          "scattergl": [
           {
            "marker": {
             "colorbar": {
              "outlinewidth": 0,
              "ticks": ""
             }
            },
            "type": "scattergl"
           }
          ],
          "scattermapbox": [
           {
            "marker": {
             "colorbar": {
              "outlinewidth": 0,
              "ticks": ""
             }
            },
            "type": "scattermapbox"
           }
          ],
          "scatterpolar": [
           {
            "marker": {
             "colorbar": {
              "outlinewidth": 0,
              "ticks": ""
             }
            },
            "type": "scatterpolar"
           }
          ],
          "scatterpolargl": [
           {
            "marker": {
             "colorbar": {
              "outlinewidth": 0,
              "ticks": ""
             }
            },
            "type": "scatterpolargl"
           }
          ],
          "scatterternary": [
           {
            "marker": {
             "colorbar": {
              "outlinewidth": 0,
              "ticks": ""
             }
            },
            "type": "scatterternary"
           }
          ],
          "surface": [
           {
            "colorbar": {
             "outlinewidth": 0,
             "ticks": ""
            },
            "colorscale": [
             [
              0,
              "#0d0887"
             ],
             [
              0.1111111111111111,
              "#46039f"
             ],
             [
              0.2222222222222222,
              "#7201a8"
             ],
             [
              0.3333333333333333,
              "#9c179e"
             ],
             [
              0.4444444444444444,
              "#bd3786"
             ],
             [
              0.5555555555555556,
              "#d8576b"
             ],
             [
              0.6666666666666666,
              "#ed7953"
             ],
             [
              0.7777777777777778,
              "#fb9f3a"
             ],
             [
              0.8888888888888888,
              "#fdca26"
             ],
             [
              1,
              "#f0f921"
             ]
            ],
            "type": "surface"
           }
          ],
          "table": [
           {
            "cells": {
             "fill": {
              "color": "#EBF0F8"
             },
             "line": {
              "color": "white"
             }
            },
            "header": {
             "fill": {
              "color": "#C8D4E3"
             },
             "line": {
              "color": "white"
             }
            },
            "type": "table"
           }
          ]
         },
         "layout": {
          "annotationdefaults": {
           "arrowcolor": "#2a3f5f",
           "arrowhead": 0,
           "arrowwidth": 1
          },
          "coloraxis": {
           "colorbar": {
            "outlinewidth": 0,
            "ticks": ""
           }
          },
          "colorscale": {
           "diverging": [
            [
             0,
             "#8e0152"
            ],
            [
             0.1,
             "#c51b7d"
            ],
            [
             0.2,
             "#de77ae"
            ],
            [
             0.3,
             "#f1b6da"
            ],
            [
             0.4,
             "#fde0ef"
            ],
            [
             0.5,
             "#f7f7f7"
            ],
            [
             0.6,
             "#e6f5d0"
            ],
            [
             0.7,
             "#b8e186"
            ],
            [
             0.8,
             "#7fbc41"
            ],
            [
             0.9,
             "#4d9221"
            ],
            [
             1,
             "#276419"
            ]
           ],
           "sequential": [
            [
             0,
             "#0d0887"
            ],
            [
             0.1111111111111111,
             "#46039f"
            ],
            [
             0.2222222222222222,
             "#7201a8"
            ],
            [
             0.3333333333333333,
             "#9c179e"
            ],
            [
             0.4444444444444444,
             "#bd3786"
            ],
            [
             0.5555555555555556,
             "#d8576b"
            ],
            [
             0.6666666666666666,
             "#ed7953"
            ],
            [
             0.7777777777777778,
             "#fb9f3a"
            ],
            [
             0.8888888888888888,
             "#fdca26"
            ],
            [
             1,
             "#f0f921"
            ]
           ],
           "sequentialminus": [
            [
             0,
             "#0d0887"
            ],
            [
             0.1111111111111111,
             "#46039f"
            ],
            [
             0.2222222222222222,
             "#7201a8"
            ],
            [
             0.3333333333333333,
             "#9c179e"
            ],
            [
             0.4444444444444444,
             "#bd3786"
            ],
            [
             0.5555555555555556,
             "#d8576b"
            ],
            [
             0.6666666666666666,
             "#ed7953"
            ],
            [
             0.7777777777777778,
             "#fb9f3a"
            ],
            [
             0.8888888888888888,
             "#fdca26"
            ],
            [
             1,
             "#f0f921"
            ]
           ]
          },
          "colorway": [
           "#636efa",
           "#EF553B",
           "#00cc96",
           "#ab63fa",
           "#FFA15A",
           "#19d3f3",
           "#FF6692",
           "#B6E880",
           "#FF97FF",
           "#FECB52"
          ],
          "font": {
           "color": "#2a3f5f"
          },
          "geo": {
           "bgcolor": "white",
           "lakecolor": "white",
           "landcolor": "#E5ECF6",
           "showlakes": true,
           "showland": true,
           "subunitcolor": "white"
          },
          "hoverlabel": {
           "align": "left"
          },
          "hovermode": "closest",
          "mapbox": {
           "style": "light"
          },
          "paper_bgcolor": "white",
          "plot_bgcolor": "#E5ECF6",
          "polar": {
           "angularaxis": {
            "gridcolor": "white",
            "linecolor": "white",
            "ticks": ""
           },
           "bgcolor": "#E5ECF6",
           "radialaxis": {
            "gridcolor": "white",
            "linecolor": "white",
            "ticks": ""
           }
          },
          "scene": {
           "xaxis": {
            "backgroundcolor": "#E5ECF6",
            "gridcolor": "white",
            "gridwidth": 2,
            "linecolor": "white",
            "showbackground": true,
            "ticks": "",
            "zerolinecolor": "white"
           },
           "yaxis": {
            "backgroundcolor": "#E5ECF6",
            "gridcolor": "white",
            "gridwidth": 2,
            "linecolor": "white",
            "showbackground": true,
            "ticks": "",
            "zerolinecolor": "white"
           },
           "zaxis": {
            "backgroundcolor": "#E5ECF6",
            "gridcolor": "white",
            "gridwidth": 2,
            "linecolor": "white",
            "showbackground": true,
            "ticks": "",
            "zerolinecolor": "white"
           }
          },
          "shapedefaults": {
           "line": {
            "color": "#2a3f5f"
           }
          },
          "ternary": {
           "aaxis": {
            "gridcolor": "white",
            "linecolor": "white",
            "ticks": ""
           },
           "baxis": {
            "gridcolor": "white",
            "linecolor": "white",
            "ticks": ""
           },
           "bgcolor": "#E5ECF6",
           "caxis": {
            "gridcolor": "white",
            "linecolor": "white",
            "ticks": ""
           }
          },
          "title": {
           "x": 0.05
          },
          "xaxis": {
           "automargin": true,
           "gridcolor": "white",
           "linecolor": "white",
           "ticks": "",
           "title": {
            "standoff": 15
           },
           "zerolinecolor": "white",
           "zerolinewidth": 2
          },
          "yaxis": {
           "automargin": true,
           "gridcolor": "white",
           "linecolor": "white",
           "ticks": "",
           "title": {
            "standoff": 15
           },
           "zerolinecolor": "white",
           "zerolinewidth": 2
          }
         }
        },
        "title": {
         "text": "Customers total spends by class"
        },
        "xaxis": {
         "anchor": "y",
         "domain": [
          0,
          1
         ],
         "title": {
          "text": ""
         }
        },
        "yaxis": {
         "anchor": "x",
         "domain": [
          0,
          1
         ],
         "title": {
          "text": "Total gatado al año"
         }
        }
       }
      },
      "text/html": [
       "<div>\n",
       "        \n",
       "        \n",
       "            <div id=\"c251dadb-b978-49ab-bc81-d179a19a9a0d\" class=\"plotly-graph-div\" style=\"height:525px; width:100%;\"></div>\n",
       "            <script type=\"text/javascript\">\n",
       "                require([\"plotly\"], function(Plotly) {\n",
       "                    window.PLOTLYENV=window.PLOTLYENV || {};\n",
       "                    \n",
       "                if (document.getElementById(\"c251dadb-b978-49ab-bc81-d179a19a9a0d\")) {\n",
       "                    Plotly.newPlot(\n",
       "                        'c251dadb-b978-49ab-bc81-d179a19a9a0d',\n",
       "                        [{\"hovertemplate\": \"=%{x}<br>Total gatado al a\\u00f1o=%{y}<br>Clases=%{marker.color}<extra></extra>\", \"legendgroup\": \"\", \"marker\": {\"color\": [1, 1, 1, 1, 0, 1, 1, 1, 1, 0, 1, 1, 0, 0, 0, 1, 1, 1, 0, 1, 1, 1, 0, 2, 0, 1, 1, 1, 0, 0, 0, 1, 1, 0, 1, 1, 0, 0, 0, 0, 0, 1, 0, 0, 1, 0, 0, 2, 1, 0, 1, 1, 0, 1, 1, 1, 0, 1, 1, 1, 1, 2, 1, 0, 1, 0, 1, 0, 1, 1, 1, 0, 1, 0, 1, 1, 1, 0, 1, 1, 1, 1, 1, 1, 1, 2, 2, 0, 1, 0, 1, 1, 0, 0, 1, 1, 1, 1, 1, 1, 0, 1, 1, 0, 1, 1, 1, 0, 1, 0, 1, 0, 1, 1, 1, 1, 1, 1, 1, 1, 1, 1, 1, 1, 0, 0, 1, 0, 1, 0, 1, 1, 1, 1, 1, 1, 1, 1, 1, 1, 1, 0, 0, 1, 1, 0, 1, 1, 1, 0, 1, 1, 1, 1, 1, 0, 1, 1, 1, 1, 1, 1, 1, 0, 1, 0, 1, 1, 1, 1, 1, 0, 1, 1, 1, 1, 0, 1, 1, 1, 1, 2, 1, 2, 1, 1, 1, 1, 1, 1, 1, 1, 1, 1, 1, 1, 0, 1, 1, 1, 0, 0, 0, 1, 1, 0, 1, 1, 1, 0, 1, 2, 1, 1, 1, 1, 0, 1, 1, 1, 1, 1, 1, 1, 1, 1, 0, 1, 1, 1, 1, 1, 1, 1, 1, 1, 1, 1, 1, 0, 0, 1, 1, 1, 1, 1, 1, 1, 1, 1, 1, 0, 1, 0, 0, 0, 1, 1, 0, 0, 1, 1, 1, 1, 1, 0, 0, 1, 0, 1, 1, 1, 1, 0, 1, 1, 0, 1, 1, 0, 1, 1, 0, 0, 0, 0, 1, 1, 1, 0, 1, 1, 1, 1, 1, 1, 1, 1, 1, 1, 1, 0, 1, 1, 0, 1, 0, 1, 1, 0, 1, 0, 0, 1, 1, 1, 1, 1, 1, 0, 1, 1, 1, 1, 1, 2, 1, 1, 1, 1, 1, 0, 1, 2, 1, 0, 1, 1, 1, 1, 1, 1, 1, 0, 1, 1, 1, 0, 1, 0, 1, 0, 1, 1, 1, 1, 1, 1, 1, 1, 1, 1, 1, 1, 1, 1, 1, 1, 1, 1, 0, 1, 1, 1, 1, 1, 1, 0, 1, 1, 1, 1, 0, 1, 0, 1, 1, 1, 1, 1, 1, 1, 1, 0, 1, 1, 1, 1, 1, 1, 1, 0, 0, 0, 1, 1, 0, 0, 1, 1, 1, 1, 1, 1, 1, 1, 1, 1, 1, 1, 1, 1, 1, 1, 1, 1, 0, 0, 1, 1, 1, 1, 1, 1, 1, 0, 0, 0, 1, 1], \"coloraxis\": \"coloraxis\", \"symbol\": \"circle\"}, \"mode\": \"markers\", \"name\": \"\", \"orientation\": \"v\", \"showlegend\": false, \"type\": \"scatter\", \"x\": [0, 1, 2, 3, 4, 5, 6, 7, 8, 9, 10, 11, 12, 13, 14, 15, 16, 17, 18, 19, 20, 21, 22, 23, 24, 25, 26, 27, 28, 29, 30, 31, 32, 33, 34, 35, 36, 37, 38, 39, 40, 41, 42, 43, 44, 45, 46, 47, 48, 49, 50, 51, 52, 53, 54, 55, 56, 57, 58, 59, 60, 61, 62, 63, 64, 65, 66, 67, 68, 69, 70, 71, 72, 73, 74, 75, 76, 77, 78, 79, 80, 81, 82, 83, 84, 85, 86, 87, 88, 89, 90, 91, 92, 93, 94, 95, 96, 97, 98, 99, 100, 101, 102, 103, 104, 105, 106, 107, 108, 109, 110, 111, 112, 113, 114, 115, 116, 117, 118, 119, 120, 121, 122, 123, 124, 125, 126, 127, 128, 129, 130, 131, 132, 133, 134, 135, 136, 137, 138, 139, 140, 141, 142, 143, 144, 145, 146, 147, 148, 149, 150, 151, 152, 153, 154, 155, 156, 157, 158, 159, 160, 161, 162, 163, 164, 165, 166, 167, 168, 169, 170, 171, 172, 173, 174, 175, 176, 177, 178, 179, 180, 181, 182, 183, 184, 185, 186, 187, 188, 189, 190, 191, 192, 193, 194, 195, 196, 197, 198, 199, 200, 201, 202, 203, 204, 205, 206, 207, 208, 209, 210, 211, 212, 213, 214, 215, 216, 217, 218, 219, 220, 221, 222, 223, 224, 225, 226, 227, 228, 229, 230, 231, 232, 233, 234, 235, 236, 237, 238, 239, 240, 241, 242, 243, 244, 245, 246, 247, 248, 249, 250, 251, 252, 253, 254, 255, 256, 257, 258, 259, 260, 261, 262, 263, 264, 265, 266, 267, 268, 269, 270, 271, 272, 273, 274, 275, 276, 277, 278, 279, 280, 281, 282, 283, 284, 285, 286, 287, 288, 289, 290, 291, 292, 293, 294, 295, 296, 297, 298, 299, 300, 301, 302, 303, 304, 305, 306, 307, 308, 309, 310, 311, 312, 313, 314, 315, 316, 317, 318, 319, 320, 321, 322, 323, 324, 325, 326, 327, 328, 329, 330, 331, 332, 333, 334, 335, 336, 337, 338, 339, 340, 341, 342, 343, 344, 345, 346, 347, 348, 349, 350, 351, 352, 353, 354, 355, 356, 357, 358, 359, 360, 361, 362, 363, 364, 365, 366, 367, 368, 369, 370, 371, 372, 373, 374, 375, 376, 377, 378, 379, 380, 381, 382, 383, 384, 385, 386, 387, 388, 389, 390, 391, 392, 393, 394, 395, 396, 397, 398, 399, 400, 401, 402, 403, 404, 405, 406, 407, 408, 409, 410, 411, 412, 413, 414, 415, 416, 417, 418, 419, 420, 421, 422, 423, 424, 425, 426, 427, 428, 429, 430, 431, 432, 433, 434, 435, 436, 437, 438, 439], \"xaxis\": \"x\", \"y\": [34112, 33266, 36610, 27381, 46100, 26710, 26465, 29517, 18694, 46662, 33864, 21259, 62889, 52811, 53729, 16961, 27679, 20653, 43180, 23427, 32116, 12775, 53785, 110829, 59390, 32251, 17946, 19227, 65522, 50927, 39777, 13977, 27425, 49415, 7046, 22778, 46962, 47341, 44451, 70746, 49633, 35607, 40499, 46111, 32392, 62834, 49039, 192714, 35720, 71844, 15975, 16472, 54910, 29075, 34698, 18163, 82552, 34729, 18656, 24353, 23905, 165881, 29804, 48640, 15353, 92562, 12630, 47365, 23452, 14044, 34068, 64617, 22594, 43488, 29293, 26923, 19789, 67354, 16572, 12277, 12412, 32419, 37219, 27862, 25143, 199891, 150497, 78649, 22394, 41145, 17415, 28483, 95972, 54244, 34657, 10547, 14993, 2158, 2476, 19926, 45833, 38694, 25588, 90498, 23052, 22998, 27289, 47207, 20897, 48633, 19252, 50043, 36329, 23832, 25063, 18516, 19098, 19376, 30989, 17546, 25499, 11666, 15534, 35066, 47561, 105046, 31744, 45408, 14017, 48695, 17898, 3730, 21273, 12799, 12748, 11875, 28798, 20867, 26503, 16100, 35063, 50642, 55459, 22239, 25327, 82278, 13401, 18177, 11819, 37249, 21905, 9199, 26883, 17789, 904, 46102, 34169, 26220, 25665, 31519, 25603, 16585, 24518, 64666, 27863, 62038, 30316, 12167, 9248, 11504, 30819, 61552, 16850, 39485, 10845, 28007, 68264, 29025, 24689, 17460, 31857, 190169, 27251, 185683, 6374, 18243, 9530, 29990, 37367, 30091, 32681, 16317, 10364, 31200, 13396, 37365, 65080, 26824, 25480, 15331, 54065, 63056, 58383, 4925, 10789, 47344, 9554, 21749, 17169, 49127, 26000, 107155, 13671, 23285, 27938, 38699, 69778, 25385, 35181, 8434, 19606, 28042, 17139, 18342, 10945, 22287, 41795, 11047, 8933, 22422, 34089, 20345, 33336, 10617, 29287, 13771, 15454, 29000, 9823, 62163, 47041, 32880, 26715, 24546, 31090, 35079, 15907, 17184, 25049, 21454, 9657, 93314, 22804, 56639, 42597, 37566, 22567, 21873, 73243, 70297, 17890, 17216, 28372, 17581, 33503, 57756, 42183, 33031, 47949, 19667, 12480, 11470, 17368, 48191, 7094, 3850, 46199, 28252, 24081, 39888, 10929, 31081, 65695, 43394, 97820, 45990, 13611, 30063, 19701, 44985, 10499, 16042, 15976, 35163, 33410, 17598, 28687, 23973, 27792, 4196, 34542, 49731, 25128, 30736, 47204, 26953, 51846, 24968, 12343, 44257, 24916, 43784, 43582, 18041, 23632, 36446, 14524, 13820, 20949, 67636, 9373, 20274, 25311, 29064, 35629, 130877, 12174, 4129, 32124, 17540, 21480, 64885, 31972, 120291, 35871, 52304, 18385, 22789, 23523, 21236, 23106, 27408, 18208, 51931, 8808, 16683, 35659, 55327, 11026, 55811, 9581, 51064, 4362, 37605, 34040, 3485, 26752, 30578, 31833, 10131, 28196, 7975, 7626, 11902, 7097, 28084, 15284, 6956, 28642, 8657, 52700, 33601, 15428, 35264, 12751, 9596, 37085, 46967, 9885, 20725, 36098, 34683, 57502, 11399, 56978, 18014, 10948, 27559, 14088, 16267, 12674, 10550, 9733, 44028, 18445, 16233, 34086, 22274, 18767, 13569, 11333, 47313, 36953, 42263, 32083, 12137, 46960, 50179, 23264, 28051, 18433, 14831, 19232, 37688, 18480, 29545, 34806, 26531, 35425, 18601, 31185, 37193, 34945, 29438, 36432, 33586, 46911, 69812, 17292, 16569, 26706, 35560, 29025, 10039, 32544, 73302, 48372, 77407, 17834, 7589], \"yaxis\": \"y\"}],\n",
       "                        {\"coloraxis\": {\"colorbar\": {\"title\": {\"text\": \"Clases\"}}, \"colorscale\": [[0.0, \"#0d0887\"], [0.1111111111111111, \"#46039f\"], [0.2222222222222222, \"#7201a8\"], [0.3333333333333333, \"#9c179e\"], [0.4444444444444444, \"#bd3786\"], [0.5555555555555556, \"#d8576b\"], [0.6666666666666666, \"#ed7953\"], [0.7777777777777778, \"#fb9f3a\"], [0.8888888888888888, \"#fdca26\"], [1.0, \"#f0f921\"]]}, \"legend\": {\"tracegroupgap\": 0}, \"template\": {\"data\": {\"bar\": [{\"error_x\": {\"color\": \"#2a3f5f\"}, \"error_y\": {\"color\": \"#2a3f5f\"}, \"marker\": {\"line\": {\"color\": \"#E5ECF6\", \"width\": 0.5}}, \"type\": \"bar\"}], \"barpolar\": [{\"marker\": {\"line\": {\"color\": \"#E5ECF6\", \"width\": 0.5}}, \"type\": \"barpolar\"}], \"carpet\": [{\"aaxis\": {\"endlinecolor\": \"#2a3f5f\", \"gridcolor\": \"white\", \"linecolor\": \"white\", \"minorgridcolor\": \"white\", \"startlinecolor\": \"#2a3f5f\"}, \"baxis\": {\"endlinecolor\": \"#2a3f5f\", \"gridcolor\": \"white\", \"linecolor\": \"white\", \"minorgridcolor\": \"white\", \"startlinecolor\": \"#2a3f5f\"}, \"type\": \"carpet\"}], \"choropleth\": [{\"colorbar\": {\"outlinewidth\": 0, \"ticks\": \"\"}, \"type\": \"choropleth\"}], \"contour\": [{\"colorbar\": {\"outlinewidth\": 0, \"ticks\": \"\"}, \"colorscale\": [[0.0, \"#0d0887\"], [0.1111111111111111, \"#46039f\"], [0.2222222222222222, \"#7201a8\"], [0.3333333333333333, \"#9c179e\"], [0.4444444444444444, \"#bd3786\"], [0.5555555555555556, \"#d8576b\"], [0.6666666666666666, \"#ed7953\"], [0.7777777777777778, \"#fb9f3a\"], [0.8888888888888888, \"#fdca26\"], [1.0, \"#f0f921\"]], \"type\": \"contour\"}], \"contourcarpet\": [{\"colorbar\": {\"outlinewidth\": 0, \"ticks\": \"\"}, \"type\": \"contourcarpet\"}], \"heatmap\": [{\"colorbar\": {\"outlinewidth\": 0, \"ticks\": \"\"}, \"colorscale\": [[0.0, \"#0d0887\"], [0.1111111111111111, \"#46039f\"], [0.2222222222222222, \"#7201a8\"], [0.3333333333333333, \"#9c179e\"], [0.4444444444444444, \"#bd3786\"], [0.5555555555555556, \"#d8576b\"], [0.6666666666666666, \"#ed7953\"], [0.7777777777777778, \"#fb9f3a\"], [0.8888888888888888, \"#fdca26\"], [1.0, \"#f0f921\"]], \"type\": \"heatmap\"}], \"heatmapgl\": [{\"colorbar\": {\"outlinewidth\": 0, \"ticks\": \"\"}, \"colorscale\": [[0.0, \"#0d0887\"], [0.1111111111111111, \"#46039f\"], [0.2222222222222222, \"#7201a8\"], [0.3333333333333333, \"#9c179e\"], [0.4444444444444444, \"#bd3786\"], [0.5555555555555556, \"#d8576b\"], [0.6666666666666666, \"#ed7953\"], [0.7777777777777778, \"#fb9f3a\"], [0.8888888888888888, \"#fdca26\"], [1.0, \"#f0f921\"]], \"type\": \"heatmapgl\"}], \"histogram\": [{\"marker\": {\"colorbar\": {\"outlinewidth\": 0, \"ticks\": \"\"}}, \"type\": \"histogram\"}], \"histogram2d\": [{\"colorbar\": {\"outlinewidth\": 0, \"ticks\": \"\"}, \"colorscale\": [[0.0, \"#0d0887\"], [0.1111111111111111, \"#46039f\"], [0.2222222222222222, \"#7201a8\"], [0.3333333333333333, \"#9c179e\"], [0.4444444444444444, \"#bd3786\"], [0.5555555555555556, \"#d8576b\"], [0.6666666666666666, \"#ed7953\"], [0.7777777777777778, \"#fb9f3a\"], [0.8888888888888888, \"#fdca26\"], [1.0, \"#f0f921\"]], \"type\": \"histogram2d\"}], \"histogram2dcontour\": [{\"colorbar\": {\"outlinewidth\": 0, \"ticks\": \"\"}, \"colorscale\": [[0.0, \"#0d0887\"], [0.1111111111111111, \"#46039f\"], [0.2222222222222222, \"#7201a8\"], [0.3333333333333333, \"#9c179e\"], [0.4444444444444444, \"#bd3786\"], [0.5555555555555556, \"#d8576b\"], [0.6666666666666666, \"#ed7953\"], [0.7777777777777778, \"#fb9f3a\"], [0.8888888888888888, \"#fdca26\"], [1.0, \"#f0f921\"]], \"type\": \"histogram2dcontour\"}], \"mesh3d\": [{\"colorbar\": {\"outlinewidth\": 0, \"ticks\": \"\"}, \"type\": \"mesh3d\"}], \"parcoords\": [{\"line\": {\"colorbar\": {\"outlinewidth\": 0, \"ticks\": \"\"}}, \"type\": \"parcoords\"}], \"pie\": [{\"automargin\": true, \"type\": \"pie\"}], \"scatter\": [{\"marker\": {\"colorbar\": {\"outlinewidth\": 0, \"ticks\": \"\"}}, \"type\": \"scatter\"}], \"scatter3d\": [{\"line\": {\"colorbar\": {\"outlinewidth\": 0, \"ticks\": \"\"}}, \"marker\": {\"colorbar\": {\"outlinewidth\": 0, \"ticks\": \"\"}}, \"type\": \"scatter3d\"}], \"scattercarpet\": [{\"marker\": {\"colorbar\": {\"outlinewidth\": 0, \"ticks\": \"\"}}, \"type\": \"scattercarpet\"}], \"scattergeo\": [{\"marker\": {\"colorbar\": {\"outlinewidth\": 0, \"ticks\": \"\"}}, \"type\": \"scattergeo\"}], \"scattergl\": [{\"marker\": {\"colorbar\": {\"outlinewidth\": 0, \"ticks\": \"\"}}, \"type\": \"scattergl\"}], \"scattermapbox\": [{\"marker\": {\"colorbar\": {\"outlinewidth\": 0, \"ticks\": \"\"}}, \"type\": \"scattermapbox\"}], \"scatterpolar\": [{\"marker\": {\"colorbar\": {\"outlinewidth\": 0, \"ticks\": \"\"}}, \"type\": \"scatterpolar\"}], \"scatterpolargl\": [{\"marker\": {\"colorbar\": {\"outlinewidth\": 0, \"ticks\": \"\"}}, \"type\": \"scatterpolargl\"}], \"scatterternary\": [{\"marker\": {\"colorbar\": {\"outlinewidth\": 0, \"ticks\": \"\"}}, \"type\": \"scatterternary\"}], \"surface\": [{\"colorbar\": {\"outlinewidth\": 0, \"ticks\": \"\"}, \"colorscale\": [[0.0, \"#0d0887\"], [0.1111111111111111, \"#46039f\"], [0.2222222222222222, \"#7201a8\"], [0.3333333333333333, \"#9c179e\"], [0.4444444444444444, \"#bd3786\"], [0.5555555555555556, \"#d8576b\"], [0.6666666666666666, \"#ed7953\"], [0.7777777777777778, \"#fb9f3a\"], [0.8888888888888888, \"#fdca26\"], [1.0, \"#f0f921\"]], \"type\": \"surface\"}], \"table\": [{\"cells\": {\"fill\": {\"color\": \"#EBF0F8\"}, \"line\": {\"color\": \"white\"}}, \"header\": {\"fill\": {\"color\": \"#C8D4E3\"}, \"line\": {\"color\": \"white\"}}, \"type\": \"table\"}]}, \"layout\": {\"annotationdefaults\": {\"arrowcolor\": \"#2a3f5f\", \"arrowhead\": 0, \"arrowwidth\": 1}, \"coloraxis\": {\"colorbar\": {\"outlinewidth\": 0, \"ticks\": \"\"}}, \"colorscale\": {\"diverging\": [[0, \"#8e0152\"], [0.1, \"#c51b7d\"], [0.2, \"#de77ae\"], [0.3, \"#f1b6da\"], [0.4, \"#fde0ef\"], [0.5, \"#f7f7f7\"], [0.6, \"#e6f5d0\"], [0.7, \"#b8e186\"], [0.8, \"#7fbc41\"], [0.9, \"#4d9221\"], [1, \"#276419\"]], \"sequential\": [[0.0, \"#0d0887\"], [0.1111111111111111, \"#46039f\"], [0.2222222222222222, \"#7201a8\"], [0.3333333333333333, \"#9c179e\"], [0.4444444444444444, \"#bd3786\"], [0.5555555555555556, \"#d8576b\"], [0.6666666666666666, \"#ed7953\"], [0.7777777777777778, \"#fb9f3a\"], [0.8888888888888888, \"#fdca26\"], [1.0, \"#f0f921\"]], \"sequentialminus\": [[0.0, \"#0d0887\"], [0.1111111111111111, \"#46039f\"], [0.2222222222222222, \"#7201a8\"], [0.3333333333333333, \"#9c179e\"], [0.4444444444444444, \"#bd3786\"], [0.5555555555555556, \"#d8576b\"], [0.6666666666666666, \"#ed7953\"], [0.7777777777777778, \"#fb9f3a\"], [0.8888888888888888, \"#fdca26\"], [1.0, \"#f0f921\"]]}, \"colorway\": [\"#636efa\", \"#EF553B\", \"#00cc96\", \"#ab63fa\", \"#FFA15A\", \"#19d3f3\", \"#FF6692\", \"#B6E880\", \"#FF97FF\", \"#FECB52\"], \"font\": {\"color\": \"#2a3f5f\"}, \"geo\": {\"bgcolor\": \"white\", \"lakecolor\": \"white\", \"landcolor\": \"#E5ECF6\", \"showlakes\": true, \"showland\": true, \"subunitcolor\": \"white\"}, \"hoverlabel\": {\"align\": \"left\"}, \"hovermode\": \"closest\", \"mapbox\": {\"style\": \"light\"}, \"paper_bgcolor\": \"white\", \"plot_bgcolor\": \"#E5ECF6\", \"polar\": {\"angularaxis\": {\"gridcolor\": \"white\", \"linecolor\": \"white\", \"ticks\": \"\"}, \"bgcolor\": \"#E5ECF6\", \"radialaxis\": {\"gridcolor\": \"white\", \"linecolor\": \"white\", \"ticks\": \"\"}}, \"scene\": {\"xaxis\": {\"backgroundcolor\": \"#E5ECF6\", \"gridcolor\": \"white\", \"gridwidth\": 2, \"linecolor\": \"white\", \"showbackground\": true, \"ticks\": \"\", \"zerolinecolor\": \"white\"}, \"yaxis\": {\"backgroundcolor\": \"#E5ECF6\", \"gridcolor\": \"white\", \"gridwidth\": 2, \"linecolor\": \"white\", \"showbackground\": true, \"ticks\": \"\", \"zerolinecolor\": \"white\"}, \"zaxis\": {\"backgroundcolor\": \"#E5ECF6\", \"gridcolor\": \"white\", \"gridwidth\": 2, \"linecolor\": \"white\", \"showbackground\": true, \"ticks\": \"\", \"zerolinecolor\": \"white\"}}, \"shapedefaults\": {\"line\": {\"color\": \"#2a3f5f\"}}, \"ternary\": {\"aaxis\": {\"gridcolor\": \"white\", \"linecolor\": \"white\", \"ticks\": \"\"}, \"baxis\": {\"gridcolor\": \"white\", \"linecolor\": \"white\", \"ticks\": \"\"}, \"bgcolor\": \"#E5ECF6\", \"caxis\": {\"gridcolor\": \"white\", \"linecolor\": \"white\", \"ticks\": \"\"}}, \"title\": {\"x\": 0.05}, \"xaxis\": {\"automargin\": true, \"gridcolor\": \"white\", \"linecolor\": \"white\", \"ticks\": \"\", \"title\": {\"standoff\": 15}, \"zerolinecolor\": \"white\", \"zerolinewidth\": 2}, \"yaxis\": {\"automargin\": true, \"gridcolor\": \"white\", \"linecolor\": \"white\", \"ticks\": \"\", \"title\": {\"standoff\": 15}, \"zerolinecolor\": \"white\", \"zerolinewidth\": 2}}}, \"title\": {\"text\": \"Customers total spends by class\"}, \"xaxis\": {\"anchor\": \"y\", \"domain\": [0.0, 1.0], \"title\": {\"text\": \"\"}}, \"yaxis\": {\"anchor\": \"x\", \"domain\": [0.0, 1.0], \"title\": {\"text\": \"Total gatado al a\\u00f1o\"}}},\n",
       "                        {\"responsive\": true}\n",
       "                    ).then(function(){\n",
       "                            \n",
       "var gd = document.getElementById('c251dadb-b978-49ab-bc81-d179a19a9a0d');\n",
       "var x = new MutationObserver(function (mutations, observer) {{\n",
       "        var display = window.getComputedStyle(gd).display;\n",
       "        if (!display || display === 'none') {{\n",
       "            console.log([gd, 'removed!']);\n",
       "            Plotly.purge(gd);\n",
       "            observer.disconnect();\n",
       "        }}\n",
       "}});\n",
       "\n",
       "// Listen for the removal of the full notebook cells\n",
       "var notebookContainer = gd.closest('#notebook-container');\n",
       "if (notebookContainer) {{\n",
       "    x.observe(notebookContainer, {childList: true});\n",
       "}}\n",
       "\n",
       "// Listen for the clearing of the current output cell\n",
       "var outputEl = gd.closest('.output');\n",
       "if (outputEl) {{\n",
       "    x.observe(outputEl, {childList: true});\n",
       "}}\n",
       "\n",
       "                        })\n",
       "                };\n",
       "                });\n",
       "            </script>\n",
       "        </div>"
      ]
     },
     "metadata": {},
     "output_type": "display_data"
    }
   ],
   "source": [
    "fig = px.scatter(data, y=\"total_spends\", color=\"class\",title=\"Customers total spends by class\",\n",
    "                labels={\n",
    "                     \"total_spends\": \"Total gatado al año\",\n",
    "                     \"index\": \"\",\n",
    "                     \"class\": \"Clases\"\n",
    "                 })\n",
    "fig.show()"
   ]
  },
  {
   "cell_type": "markdown",
   "metadata": {},
   "source": [
    "# Conclusiones del analisis\n",
    "\n",
    "Como se puede observar tanto en el gráfico 3D como en el 2D se generaron 3 grandes grupos de clientes los cuáles podemos catalogar como:\n",
    "\n",
    " - Compradores menores: Los cuáles gastan usualmente menos de 50K al año, podrían tratarse de familias de pequeñas a   medianas.\n",
    " \n",
    " - Compradores medianos: Los cuáles gastan de 50K a 100K al año aproximadamente podrían en este caso tratarse de familias de medianas a grandes así como pequeños negocios de comida.\n",
    " \n",
    " - Grandes compradores: Los cuáles tienden a gastar mas de 100K al año los cuáles es muy probable que se traten de restaurantes o negocios de comida grandes.\n"
   ]
  },
  {
   "cell_type": "code",
   "execution_count": null,
   "metadata": {},
   "outputs": [],
   "source": []
  }
 ],
 "metadata": {
  "kernelspec": {
   "display_name": "Python 3",
   "language": "python",
   "name": "python3"
  },
  "language_info": {
   "codemirror_mode": {
    "name": "ipython",
    "version": 3
   },
   "file_extension": ".py",
   "mimetype": "text/x-python",
   "name": "python",
   "nbconvert_exporter": "python",
   "pygments_lexer": "ipython3",
   "version": "3.8.4"
  }
 },
 "nbformat": 4,
 "nbformat_minor": 4
}
