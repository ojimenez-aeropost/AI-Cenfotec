{
 "cells": [
  {
   "cell_type": "markdown",
   "metadata": {},
   "source": [
    "## Deep RNN - Clasificacion NMIST con LSTM & GRUs"
   ]
  },
  {
   "cell_type": "code",
   "execution_count": 27,
   "metadata": {},
   "outputs": [],
   "source": [
    "import warnings\n",
    "warnings.filterwarnings('ignore')\n",
    "\n",
    "import keras \n",
    "import numpy as np\n",
    "import matplotlib.pyplot as plt\n",
    "import matplotlib as mpl\n",
    "import pandas as pd\n",
    "import tensorflow as tf"
   ]
  },
  {
   "cell_type": "code",
   "execution_count": 2,
   "metadata": {},
   "outputs": [
    {
     "name": "stdout",
     "output_type": "stream",
     "text": [
      "(60000, 28, 28)\n",
      "(28, 28)\n"
     ]
    }
   ],
   "source": [
    "mnist = tf.keras.datasets.mnist;\n",
    "(x_train, y_train),(x_test, y_test) = mnist.load_data()\n",
    "\n",
    "x_train = x_train / 255.0 \n",
    "x_test = x_test / 255.0 \n",
    "\n",
    "print(x_train.shape)\n",
    "print(x_train[0].shape)"
   ]
  },
  {
   "cell_type": "code",
   "execution_count": 6,
   "metadata": {},
   "outputs": [
    {
     "name": "stdout",
     "output_type": "stream",
     "text": [
      "WARNING:tensorflow:From C:\\Users\\XPC\\anaconda3\\envs\\py36\\lib\\site-packages\\keras\\backend\\tensorflow_backend.py:422: The name tf.global_variables is deprecated. Please use tf.compat.v1.global_variables instead.\n",
      "\n",
      "Train on 60000 samples, validate on 10000 samples\n",
      "Epoch 1/3\n",
      "60000/60000 [==============================] - 59s 982us/step - loss: 0.3322 - accuracy: 0.8948 - val_loss: 0.0963 - val_accuracy: 0.9696\n",
      "Epoch 2/3\n",
      "60000/60000 [==============================] - 58s 969us/step - loss: 0.1033 - accuracy: 0.9707 - val_loss: 0.0659 - val_accuracy: 0.9803\n",
      "Epoch 3/3\n",
      "60000/60000 [==============================] - 58s 969us/step - loss: 0.0722 - accuracy: 0.9794 - val_loss: 0.0576 - val_accuracy: 0.9820\n"
     ]
    }
   ],
   "source": [
    "model = keras.models.Sequential([\n",
    "    keras.layers.LSTM(128, input_shape=(x_train.shape[1:]), return_sequences=True),\n",
    "    keras.layers.Dropout(0.2),\n",
    "    keras.layers.LSTM(128),\n",
    "    keras.layers.Dropout(0.2),\n",
    "    keras.layers.Dense(32),\n",
    "    keras.layers.Dropout(0.2),\n",
    "    keras.layers.Dense(10, activation='softmax')\n",
    "])\n",
    "\n",
    "optimizer = keras.optimizers.Adam(lr=1e-3, decay=1e-5)\n",
    "model.compile(loss=\"sparse_categorical_crossentropy\", optimizer=optimizer, metrics=[\"accuracy\"])\n",
    "history = model.fit(x_train, y_train, epochs=3, validation_data=(x_test, y_test))"
   ]
  },
  {
   "cell_type": "code",
   "execution_count": 7,
   "metadata": {},
   "outputs": [
    {
     "name": "stdout",
     "output_type": "stream",
     "text": [
      "Train on 60000 samples, validate on 10000 samples\n",
      "Epoch 1/3\n",
      "60000/60000 [==============================] - 66s 1ms/step - loss: 0.3207 - accuracy: 0.8958 - val_loss: 0.0930 - val_accuracy: 0.9717\n",
      "Epoch 2/3\n",
      "60000/60000 [==============================] - 65s 1ms/step - loss: 0.0871 - accuracy: 0.9750 - val_loss: 0.0581 - val_accuracy: 0.9849\n",
      "Epoch 3/3\n",
      "60000/60000 [==============================] - 65s 1ms/step - loss: 0.0614 - accuracy: 0.9827 - val_loss: 0.0467 - val_accuracy: 0.9852\n"
     ]
    }
   ],
   "source": [
    "model = keras.models.Sequential([\n",
    "    keras.layers.GRU(128, input_shape=(x_train.shape[1:]), return_sequences=True),\n",
    "    keras.layers.Dropout(0.2),\n",
    "    keras.layers.GRU(128),\n",
    "    keras.layers.Dropout(0.2),\n",
    "    keras.layers.Dense(32),\n",
    "    keras.layers.Dropout(0.2),\n",
    "    keras.layers.Dense(10, activation='softmax')\n",
    "])\n",
    "\n",
    "optimizer = keras.optimizers.Adam(lr=1e-3, decay=1e-5)\n",
    "model.compile(loss=\"sparse_categorical_crossentropy\", optimizer=optimizer, metrics=[\"accuracy\"])\n",
    "history = model.fit(x_train, y_train, epochs=3, validation_data=(x_test, y_test))"
   ]
  },
  {
   "cell_type": "code",
   "execution_count": 26,
   "metadata": {},
   "outputs": [
    {
     "name": "stdout",
     "output_type": "stream",
     "text": [
      "Prediccion: 4\n"
     ]
    },
    {
     "data": {
      "text/plain": [
       "<matplotlib.image.AxesImage at 0x1f201182a90>"
      ]
     },
     "execution_count": 26,
     "metadata": {},
     "output_type": "execute_result"
    },
    {
     "data": {
      "image/png": "[encoded data removed]",
      "text/plain": [
       "<Figure size 432x288 with 1 Axes>"
      ]
     },
     "metadata": {
      "needs_background": "light"
     },
     "output_type": "display_data"
    }
   ],
   "source": [
    "img = x_test[4]\n",
    "\n",
    "# prediction ===\n",
    "image = img\n",
    "#image = np.expand_dims(image, -1)\n",
    "y_pred = model.predict([[image]])\n",
    "# argmax saca la clase con la probabilidad mas alta\n",
    "y_class = y_pred.argmax(axis=-1)\n",
    "# imprimir la clase\n",
    "print(\"Prediccion:\",y_class[0])\n",
    "# prediction ===\n",
    "\n",
    "plt.imshow(img)"
   ]
  }
 ],
 "metadata": {
  "kernelspec": {
   "display_name": "Python 3",
   "language": "python",
   "name": "python3"
  },
  "language_info": {
   "codemirror_mode": {
    "name": "ipython",
    "version": 3
   },
   "file_extension": ".py",
   "mimetype": "text/x-python",
   "name": "python",
   "nbconvert_exporter": "python",
   "pygments_lexer": "ipython3",
   "version": "3.6.12"
  }
 },
 "nbformat": 4,
 "nbformat_minor": 4
}
