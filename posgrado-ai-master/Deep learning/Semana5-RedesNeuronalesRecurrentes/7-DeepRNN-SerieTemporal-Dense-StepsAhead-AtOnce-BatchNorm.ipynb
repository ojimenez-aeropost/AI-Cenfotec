{
 "cells": [
  {
   "cell_type": "markdown",
   "metadata": {},
   "source": [
    "## Deep RNN para Time Series - TimeDistributed and BatchNormalization"
   ]
  },
  {
   "cell_type": "code",
   "execution_count": 1,
   "metadata": {},
   "outputs": [
    {
     "name": "stderr",
     "output_type": "stream",
     "text": [
      "Using TensorFlow backend.\n"
     ]
    }
   ],
   "source": [
    "import warnings\n",
    "warnings.filterwarnings('ignore')\n",
    "\n",
    "import keras \n",
    "import numpy as np\n",
    "import matplotlib.pyplot as plt\n",
    "import matplotlib as mpl\n",
    "import pandas as pd\n",
    "import tensorflow as tf"
   ]
  },
  {
   "cell_type": "markdown",
   "metadata": {},
   "source": [
    "#### Generacion de series temporales Artificiales"
   ]
  },
  {
   "cell_type": "code",
   "execution_count": 10,
   "metadata": {},
   "outputs": [],
   "source": [
    "def generate_time_series(batch_size, n_steps):\n",
    "    freq1, freq2, offsets1, offsets2 = np.random.rand(4, batch_size, 1)\n",
    "    time = np.linspace(0, 1, n_steps)\n",
    "    series = 0.5 * np.sin((time - offsets1) * (freq1 * 10 + 10))\n",
    "    series += 0.2 * np.sin((time - offsets2) * (freq2 * 20 + 20)) \n",
    "    series += 0.1 * (np.random.rand(batch_size, n_steps) - 0.5)  \n",
    "    return series[..., np.newaxis].astype(np.float32)"
   ]
  },
  {
   "cell_type": "markdown",
   "metadata": {},
   "source": [
    "#### Creacion del Test y Train Set"
   ]
  },
  {
   "cell_type": "code",
   "execution_count": 11,
   "metadata": {},
   "outputs": [],
   "source": [
    "n_steps = 50\n",
    "series = generate_time_series(10000, n_steps + 10)\n",
    "X_train = series[:7000, :n_steps]\n",
    "X_valid = series[7000:9000, :n_steps]\n",
    "X_test = series[9000:, :n_steps]\n",
    "Y = np.empty((10000, n_steps, 10))\n",
    "for step_ahead in range(1, 10 + 1):\n",
    "    Y[..., step_ahead - 1] = series[..., step_ahead:step_ahead + n_steps, 0]\n",
    "Y_train = Y[:7000]\n",
    "Y_valid = Y[7000:9000]\n",
    "Y_test = Y[9000:]"
   ]
  },
  {
   "cell_type": "code",
   "execution_count": 8,
   "metadata": {},
   "outputs": [
    {
     "name": "stdout",
     "output_type": "stream",
     "text": [
      "WARNING:tensorflow:From C:\\Users\\XPC\\anaconda3\\envs\\py36\\lib\\site-packages\\keras\\backend\\tensorflow_backend.py:422: The name tf.global_variables is deprecated. Please use tf.compat.v1.global_variables instead.\n",
      "\n",
      "Train on 7000 samples, validate on 2000 samples\n",
      "Epoch 1/20\n",
      "7000/7000 [==============================] - 5s 741us/step - loss: 0.2482 - last_time_step_mse: 0.2132 - val_loss: 0.0867 - val_last_time_step_mse: 0.0732\n",
      "Epoch 2/20\n",
      "7000/7000 [==============================] - 5s 653us/step - loss: 0.0569 - last_time_step_mse: 0.0431 - val_loss: 0.0537 - val_last_time_step_mse: 0.0418\n",
      "Epoch 3/20\n",
      "7000/7000 [==============================] - 5s 654us/step - loss: 0.0482 - last_time_step_mse: 0.0366 - val_loss: 0.0468 - val_last_time_step_mse: 0.0344\n",
      "Epoch 4/20\n",
      "7000/7000 [==============================] - 5s 656us/step - loss: 0.0442 - last_time_step_mse: 0.0324 - val_loss: 0.0435 - val_last_time_step_mse: 0.0305\n",
      "Epoch 5/20\n",
      "7000/7000 [==============================] - 5s 652us/step - loss: 0.0410 - last_time_step_mse: 0.0282 - val_loss: 0.0402 - val_last_time_step_mse: 0.0268\n",
      "Epoch 6/20\n",
      "7000/7000 [==============================] - 5s 653us/step - loss: 0.0382 - last_time_step_mse: 0.0244 - val_loss: 0.0386 - val_last_time_step_mse: 0.0242\n",
      "Epoch 7/20\n",
      "7000/7000 [==============================] - 5s 659us/step - loss: 0.0362 - last_time_step_mse: 0.0219 - val_loss: 0.0354 - val_last_time_step_mse: 0.0208\n",
      "Epoch 8/20\n",
      "7000/7000 [==============================] - 5s 660us/step - loss: 0.0344 - last_time_step_mse: 0.0198 - val_loss: 0.0339 - val_last_time_step_mse: 0.0191\n",
      "Epoch 9/20\n",
      "7000/7000 [==============================] - 5s 662us/step - loss: 0.0332 - last_time_step_mse: 0.0186 - val_loss: 0.0325 - val_last_time_step_mse: 0.0176\n",
      "Epoch 10/20\n",
      "7000/7000 [==============================] - 5s 661us/step - loss: 0.0323 - last_time_step_mse: 0.0176 - val_loss: 0.0325 - val_last_time_step_mse: 0.0171\n",
      "Epoch 11/20\n",
      "7000/7000 [==============================] - 5s 662us/step - loss: 0.0315 - last_time_step_mse: 0.0169 - val_loss: 0.0311 - val_last_time_step_mse: 0.0158\n",
      "Epoch 12/20\n",
      "7000/7000 [==============================] - 5s 654us/step - loss: 0.0308 - last_time_step_mse: 0.0162 - val_loss: 0.0305 - val_last_time_step_mse: 0.0156\n",
      "Epoch 13/20\n",
      "7000/7000 [==============================] - 5s 656us/step - loss: 0.0303 - last_time_step_mse: 0.0158 - val_loss: 0.0305 - val_last_time_step_mse: 0.0165\n",
      "Epoch 14/20\n",
      "7000/7000 [==============================] - 5s 654us/step - loss: 0.0299 - last_time_step_mse: 0.0156 - val_loss: 0.0301 - val_last_time_step_mse: 0.0155\n",
      "Epoch 15/20\n",
      "7000/7000 [==============================] - 5s 657us/step - loss: 0.0296 - last_time_step_mse: 0.0154 - val_loss: 0.0290 - val_last_time_step_mse: 0.0147\n",
      "Epoch 16/20\n",
      "7000/7000 [==============================] - 5s 654us/step - loss: 0.0293 - last_time_step_mse: 0.0153 - val_loss: 0.0290 - val_last_time_step_mse: 0.0149\n",
      "Epoch 17/20\n",
      "7000/7000 [==============================] - 5s 657us/step - loss: 0.0288 - last_time_step_mse: 0.0148 - val_loss: 0.0291 - val_last_time_step_mse: 0.0155\n",
      "Epoch 18/20\n",
      "7000/7000 [==============================] - 5s 660us/step - loss: 0.0284 - last_time_step_mse: 0.0145 - val_loss: 0.0284 - val_last_time_step_mse: 0.0147\n",
      "Epoch 19/20\n",
      "7000/7000 [==============================] - 5s 654us/step - loss: 0.0282 - last_time_step_mse: 0.0144 - val_loss: 0.0284 - val_last_time_step_mse: 0.0149\n",
      "Epoch 20/20\n",
      "7000/7000 [==============================] - 5s 653us/step - loss: 0.0280 - last_time_step_mse: 0.0144 - val_loss: 0.0279 - val_last_time_step_mse: 0.0141\n"
     ]
    }
   ],
   "source": [
    "np.random.seed(42)\n",
    "\n",
    "def last_time_step_mse(Y_true, Y_pred):\n",
    "    return keras.metrics.mean_squared_error(Y_true[:, -1], Y_pred[:, -1])\n",
    "\n",
    "model = keras.models.Sequential([\n",
    "    keras.layers.SimpleRNN(20, return_sequences=True, input_shape=[None, 1]),\n",
    "    keras.layers.BatchNormalization(),\n",
    "    keras.layers.SimpleRNN(20, return_sequences=True),\n",
    "    keras.layers.BatchNormalization(),\n",
    "    keras.layers.TimeDistributed(keras.layers.Dense(10))\n",
    "])\n",
    "\n",
    "model.compile(loss=\"mse\", optimizer=\"adam\", metrics=[last_time_step_mse])\n",
    "history = model.fit(X_train, Y_train, epochs=20,\n",
    "                    validation_data=(X_valid, Y_valid))"
   ]
  },
  {
   "cell_type": "code",
   "execution_count": 9,
   "metadata": {},
   "outputs": [
    {
     "data": {
      "image/png": "[encoded data removed]",
      "text/plain": [
       "<Figure size 432x288 with 1 Axes>"
      ]
     },
     "metadata": {
      "needs_background": "light"
     },
     "output_type": "display_data"
    }
   ],
   "source": [
    "def plot_learning_curves(loss, val_loss):\n",
    "    plt.plot(np.arange(len(loss)) + 0.5, loss, \"b.-\", label=\"Training loss\")\n",
    "    plt.plot(np.arange(len(val_loss)) + 1, val_loss, \"r.-\", label=\"Validation loss\")\n",
    "    plt.gca().xaxis.set_major_locator(mpl.ticker.MaxNLocator(integer=True))\n",
    "    plt.axis([1, 20, 0, 0.05])\n",
    "    plt.legend(fontsize=14)\n",
    "    plt.xlabel(\"Epochs\")\n",
    "    plt.ylabel(\"Loss\")\n",
    "    plt.grid(True)\n",
    "\n",
    "plot_learning_curves(history.history[\"loss\"], history.history[\"val_loss\"])\n",
    "plt.show()"
   ]
  }
 ],
 "metadata": {
  "kernelspec": {
   "display_name": "Python 3",
   "language": "python",
   "name": "python3"
  },
  "language_info": {
   "codemirror_mode": {
    "name": "ipython",
    "version": 3
   },
   "file_extension": ".py",
   "mimetype": "text/x-python",
   "name": "python",
   "nbconvert_exporter": "python",
   "pygments_lexer": "ipython3",
   "version": "3.6.12"
  }
 },
 "nbformat": 4,
 "nbformat_minor": 4
}
