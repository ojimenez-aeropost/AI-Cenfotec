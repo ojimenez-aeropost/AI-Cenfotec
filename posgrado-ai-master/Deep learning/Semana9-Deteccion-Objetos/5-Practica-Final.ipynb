{
 "cells": [
  {
   "cell_type": "markdown",
   "metadata": {},
   "source": [
    "### Yolo v3 Para Covid-19 Mask Detection"
   ]
  },
  {
   "cell_type": "markdown",
   "metadata": {},
   "source": [
    "Felicidades, han llegado a semana 9 del curso de Deep Learning.\n",
    "\n",
    "Esta semana entrenaran Yolo v3 para generar un detector de mascarillas a partir de videos.\n",
    "\n",
    "Van a utilizar el proyecto de Yolov3 de https://github.com/zzh8829/yolov3-tf2\n",
    "\n",
    "La idea es que dado un video de personas caminando, uds deben analizar el video y detectar las personas que llevan mascarilla.\n",
    "\n",
    "A las personas que llevan Mascarilla, deberan dibujar un bounding box en el video.\n",
    "\n",
    "<img src=\"img/mask.jpg\" />\n",
    "\n",
    "Para este ejercicio, deberan crear un dataset y generar las etiquetas con el formato necesario segun los requerimientos del proyecto en github."
   ]
  },
  {
   "cell_type": "code",
   "execution_count": null,
   "metadata": {},
   "outputs": [],
   "source": []
  }
 ],
 "metadata": {
  "kernelspec": {
   "display_name": "Python 3",
   "language": "python",
   "name": "python3"
  },
  "language_info": {
   "codemirror_mode": {
    "name": "ipython",
    "version": 3
   },
   "file_extension": ".py",
   "mimetype": "text/x-python",
   "name": "python",
   "nbconvert_exporter": "python",
   "pygments_lexer": "ipython3",
   "version": "3.6.12"
  }
 },
 "nbformat": 4,
 "nbformat_minor": 4
}
