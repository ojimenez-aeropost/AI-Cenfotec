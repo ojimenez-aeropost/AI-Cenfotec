{
 "cells": [
  {
   "cell_type": "markdown",
   "metadata": {},
   "source": [
    "### 1) RNN Para Chistes\n",
    "\n",
    "Esta semana van a utilizar el archivo https://github.com/Daronspence/One-Liners/blob/master/jokes.txt para generar una RNN Stateful para generar chistes.\n",
    "\n",
    "Puede modificar la arquitetcura y aumentar los epocs para tratar de crear algo que tenga algun sentido gracioso (si es posible)!\n",
    "\n",
    "Se deja a su criterio el largo del chiste.\n",
    "\n",
    "Puede utilizar otro repositorio de chistes a su preferencia si necesita mas texto. \n",
    "\n",
    "Algunos otros (pueden combinarlos!):\n",
    "\n",
    "- http://www.textfiles.com/humor/TAGLINES/taglines.txt\n",
    "- https://github.com/simonaco/25daysofserverless/blob/master/jokes.txt\n",
    "\n",
    "\n",
    "### 2) (Opcional) Explore el Proyecto Magenta.\n",
    "\n",
    "Este es un proyecto que genera melodias utilizando RNN. Explore otra oportunidad para expandir sus fronteras sobre el uso de RNN. \n",
    "\n",
    "https://github.com/magenta/magenta"
   ]
  }
 ],
 "metadata": {
  "kernelspec": {
   "display_name": "Python 3",
   "language": "python",
   "name": "python3"
  },
  "language_info": {
   "codemirror_mode": {
    "name": "ipython",
    "version": 3
   },
   "file_extension": ".py",
   "mimetype": "text/x-python",
   "name": "python",
   "nbconvert_exporter": "python",
   "pygments_lexer": "ipython3",
   "version": "3.6.12"
  }
 },
 "nbformat": 4,
 "nbformat_minor": 4
}
