{
  "nbformat": 4,
  "nbformat_minor": 0,
  "metadata": {
    "colab": {
      "name": "1-TensorflowDataset-Funciones.ipynb",
      "provenance": [],
      "collapsed_sections": [],
      "toc_visible": true
    },
    "kernelspec": {
      "name": "python3",
      "display_name": "Python 3"
    }
  },
  "cells": [
    {
      "cell_type": "markdown",
      "metadata": {
        "id": "BvhRni8sP5aN"
      },
      "source": [
        "## Funciones Basicas de Tensorflow 2.x para NLP"
      ]
    },
    {
      "cell_type": "code",
      "metadata": {
        "id": "6bG0KH4TK5zs"
      },
      "source": [
        "import warnings\r\n",
        "warnings.filterwarnings('ignore')\r\n",
        "\r\n",
        "import keras \r\n",
        "import numpy as np\r\n",
        "import matplotlib.pyplot as plt\r\n",
        "import matplotlib as mpl\r\n",
        "import pandas as pd\r\n",
        "import tensorflow as tf\r\n",
        "from tensorflow import keras\r\n",
        "\r\n",
        "# Este notebook require Tensorflow 2.X"
      ],
      "execution_count": 3,
      "outputs": []
    },
    {
      "cell_type": "markdown",
      "metadata": {
        "id": "S9GJ8iDeLy1U"
      },
      "source": [
        "### Generacion de cadenas de largo 5.\r\n",
        "\r\n",
        "El siguiente codigo utiliza las funcionalidaders de Tensorflow 2.x para dividir una secuencia de 0 a 14 en ventanas de tamano 5. Despues de partir la sequencia en las ventanas, las baraja y luego las separa en batches de X y Y."
      ]
    },
    {
      "cell_type": "code",
      "metadata": {
        "colab": {
          "base_uri": "https://localhost:8080/"
        },
        "id": "w06jhgaxLUqG",
        "outputId": "bcefabb3-5ba8-41d4-b5e4-45e2d2f5eded"
      },
      "source": [
        "np.random.seed(42)\r\n",
        "tf.random.set_seed(42)\r\n",
        "n_steps = 5\r\n",
        "\r\n",
        "# carga la colleccion en tensor slices\r\n",
        "dataset = tf.data.Dataset.from_tensor_slices(tf.range(15)) \r\n",
        "# genera las series de tamano 5 con shift de 2\r\n",
        "dataset = dataset.window(n_steps, shift=2, drop_remainder=True)\r\n",
        "# genera las cadenas individuales.\r\n",
        "dataset = dataset.flat_map(lambda window: window.batch(n_steps))\r\n",
        "\r\n",
        "for item in enumerate(dataset):\r\n",
        "  print(item[1].numpy())"
      ],
      "execution_count": 29,
      "outputs": [
        {
          "output_type": "stream",
          "text": [
            "[0 1 2 3 4]\n",
            "[2 3 4 5 6]\n",
            "[4 5 6 7 8]\n",
            "[ 6  7  8  9 10]\n",
            "[ 8  9 10 11 12]\n",
            "[10 11 12 13 14]\n"
          ],
          "name": "stdout"
        }
      ]
    },
    {
      "cell_type": "code",
      "metadata": {
        "colab": {
          "base_uri": "https://localhost:8080/"
        },
        "id": "uUXLYkMSNkFX",
        "outputId": "507785ab-2d5c-4d5d-f281-0d23ea9d9f52"
      },
      "source": [
        "# Baraja el dataset y lo separa en 2 ventanas\r\n",
        "dataset = dataset.shuffle(10).map(lambda window: (window[:-1], window[1:]))\r\n",
        "# crea batches de 3 elementos\r\n",
        "dataset = dataset.batch(3).prefetch(1)\r\n",
        "\r\n",
        "for item, (X,Y) in enumerate(dataset):\r\n",
        "  print(\"**** Batch:\",item,\" ****\")\r\n",
        "  print(\"== X ==\")\r\n",
        "  print(X.numpy())\r\n",
        "  print(\"== Y ==\")\r\n",
        "  print(Y.numpy())"
      ],
      "execution_count": 30,
      "outputs": [
        {
          "output_type": "stream",
          "text": [
            "**** Batch: 0  ****\n",
            "== X ==\n",
            "[[0 1 2 3]\n",
            " [2 3 4 5]\n",
            " [4 5 6 7]]\n",
            "== Y ==\n",
            "[[1 2 3 4]\n",
            " [3 4 5 6]\n",
            " [5 6 7 8]]\n",
            "**** Batch: 1  ****\n",
            "== X ==\n",
            "[[ 6  7  8  9]\n",
            " [ 8  9 10 11]\n",
            " [10 11 12 13]]\n",
            "== Y ==\n",
            "[[ 7  8  9 10]\n",
            " [ 9 10 11 12]\n",
            " [11 12 13 14]]\n"
          ],
          "name": "stdout"
        }
      ]
    }
  ]
}