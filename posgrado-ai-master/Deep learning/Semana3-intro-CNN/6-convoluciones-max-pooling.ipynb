{
 "cells": [
  {
   "cell_type": "markdown",
   "metadata": {},
   "source": [
    "## Convoluciones y Max Pooling"
   ]
  },
  {
   "cell_type": "code",
   "execution_count": null,
   "metadata": {},
   "outputs": [],
   "source": [
    "import cv2\n",
    "import numpy as np\n",
    "import matplotlib.pyplot as plt\n",
    "from scipy import misc"
   ]
  },
  {
   "cell_type": "markdown",
   "metadata": {},
   "source": [
    "### Cargamos Imagen de Scipy\n",
    "\n",
    "Para ejemplificar la razón en el uso de las capas convolucionales y de max-pooling, vamos a implementar un pequeño ejemplo, donde utilizaremos una imagen de prueba de de Scipy para ver el efecto que se tiene sobre la imagen, después se haber aplicado las capas.\n",
    "\n",
    "<img src=\"img/c1.png\" />\n",
    "\n",
    "Por ejemplo, si tenemos una imagen de una “X” al pasar la imagen a blanco y negro, podemos hacer una representación del color negro como -1 y el blanco como +1. La imagen anterior representa esta conversión inicial. \n",
    "\n",
    "Ahora, vamos a usar una imagen real en blanco y negro de tamaño 512x512 y la vamos a desplegar en pantalla:"
   ]
  },
  {
   "cell_type": "code",
   "execution_count": null,
   "metadata": {},
   "outputs": [],
   "source": [
    "# desplegamos una imagen demo de Scipy\n",
    "i = misc.ascent()\n",
    "plt.grid(False)\n",
    "plt.gray()\n",
    "plt.imshow(i)\n",
    "plt.show()\n",
    "\n",
    "print(i.shape)"
   ]
  },
  {
   "cell_type": "markdown",
   "metadata": {},
   "source": [
    "### Creamos una Copia y un Filtro (3x3)\n",
    "\n",
    "El filtro es el patrón (normalmente una matriz de 3*3) que le ayuda a la capa convolucional a enfocarse en ciertos aspectos de la imagen. Por tanto, si se cambia el filtro, la convolución causa que la imagen resalte otros atributos. \n",
    "\n",
    "<img src=\"img/c2.png\" />\n",
    "\n",
    "Para ejemplificar esto, utilizando el ejemplo de la \"X\" vamos identificar 3 posibles filtros que se pueden utilizar para extraer atributos de la imagen. La operación convolucional, es aquella donde se aplica el filtro a una imagen de n x n y se devuelve otra imagen de n x n pero transformada por el filtro.\n",
    "\n",
    "En el siguiente código, tenemos varios filtros declarados, solamente vamos a usar uno de 3x3. Ud puede cambiar el filtro si gusta. También vamos a hacer una copia de la imagen en blanco y negro para ver efecto del filtro sobre la imagen original."
   ]
  },
  {
   "cell_type": "code",
   "execution_count": null,
   "metadata": {},
   "outputs": [],
   "source": [
    "# copia de la imagen y dimensiones\n",
    "i_transformed = np.copy(i)\n",
    "size_x = i_transformed.shape[0]\n",
    "size_y = i_transformed.shape[1]\n",
    "\n",
    "# creamos un filtro (puede probar con varios)\n",
    "filter = [[-1, -2, -1], [0, 0, 0], [1, 2, 1]]\n",
    "# filter = [[0, 1, 0], [1, -4, 1], [0, 1, 0]]\n",
    "# filter = [[-1, 0, 1], [-2, 0, 2], [-1, 0, 1]]\n",
    "\n",
    "print(filter)"
   ]
  },
  {
   "cell_type": "markdown",
   "metadata": {},
   "source": [
    "### Capa Convolucional\n",
    "\n",
    "<img src=\"img/c3.png\" />\n",
    "\n",
    "Utilizando el ejemplo de la “X” vamos a aplicar el “filtro” seleccionado a través de toda la imagen original. La operación del filtro se realiza de la siguiente forma:\n",
    "\n",
    "- Se inicia en la posición 0,0 de la imagen original. \n",
    "- Se trabaja con las posiciones de la imagen que son homologas al filtro.\n",
    "- Cada pixel del filtro, se multiplica por su equivalente en la posición de la imagen. \n",
    "- Se suman todas las multiplicaciones y se genera un promedio. \n",
    "- El promedio corresponde a la posición 0,0 de una nueva matriz.  \n",
    "- Ahora nos movemos a la posicion 0,1 de la imagen, y repetimos todo el proceso hasta abarcar toda la imagen i x j. \n"
   ]
  },
  {
   "cell_type": "code",
   "execution_count": null,
   "metadata": {},
   "outputs": [],
   "source": [
    "weight  = 1\n",
    "\n",
    "for x in range(1,size_x-1):\n",
    "    for y in range(1,size_y-1):\n",
    "        convolution = 0.0\n",
    "        convolution = convolution + (i[x - 1, y-1] * filter[0][0])\n",
    "        convolution = convolution + (i[x, y-1] * filter[0][1])\n",
    "        convolution = convolution + (i[x + 1, y-1] * filter[0][2])\n",
    "        convolution = convolution + (i[x-1, y] * filter[1][0])\n",
    "        convolution = convolution + (i[x, y] * filter[1][1])\n",
    "        convolution = convolution + (i[x+1, y] * filter[1][2])\n",
    "        convolution = convolution + (i[x-1, y+1] * filter[2][0])\n",
    "        convolution = convolution + (i[x, y+1] * filter[2][1])\n",
    "        convolution = convolution + (i[x+1, y+1] * filter[2][2])\n",
    "        convolution = convolution * weight\n",
    "        if(convolution<0):\n",
    "            convolution=0\n",
    "        if(convolution>255):\n",
    "            convolution=255\n",
    "        i_transformed[x, y] = convolution"
   ]
  },
  {
   "cell_type": "code",
   "execution_count": null,
   "metadata": {},
   "outputs": [],
   "source": [
    "plt.gray()\n",
    "plt.grid(False)\n",
    "plt.imshow(i_transformed)\n",
    "plt.show()   \n",
    "\n",
    "print(i_transformed.shape)"
   ]
  },
  {
   "cell_type": "markdown",
   "metadata": {},
   "source": [
    "### Capa de Max-Pooling\n",
    "\n",
    "La capa de max-pooling es una capa de reducción de dimensionalidad. La idea es reducir el tamaño de la imagen a la mitad, pero conservando los features lo mejor que se pueda.\n",
    "\n",
    "La capa de pooling usualmente se ejecuta después de una capa convolucional, para reducir el tamaño de la imagen, a tal punto de que cuando la imagen resultante llegue a la capa flatten de MLP (multilayer perceptron), la imagen que paso por las capas convolucionales y de max pooling conserven los features mas importantes, pero con un tamaño de imagen pequeño que acelera y mejora la calidad de las predicciones de cualquier tipo de datos que venga en forma de matriz.\n",
    "\n",
    "<img src=\"img/c4.png\">\n",
    "\n",
    "La idea del max-pooling (2,2) es que de una matriz de tamaño 2x2, se va a seleccionar el valor mas grande de la imagen resultante de la capa convolucional para generar una nueva matriz reducida pero representativa de los features seleccionados por el filtro en la capa convolucional.\n",
    "\n",
    "<img src=\"img/c5.png\">\n"
   ]
  },
  {
   "cell_type": "code",
   "execution_count": null,
   "metadata": {},
   "outputs": [],
   "source": [
    "new_x = int(size_x/2)\n",
    "new_y = int(size_y/2)\n",
    "newImage = np.zeros((new_x, new_y))\n",
    "for x in range(0, size_x, 2):\n",
    "    for y in range(0, size_y, 2):\n",
    "        pixels = []\n",
    "        pixels.append(i_transformed[x, y])\n",
    "        pixels.append(i_transformed[x+1, y])\n",
    "        pixels.append(i_transformed[x, y+1])\n",
    "        pixels.append(i_transformed[x+1, y+1])\n",
    "        newImage[int(x/2),int(y/2)] = max(pixels)"
   ]
  },
  {
   "cell_type": "code",
   "execution_count": null,
   "metadata": {},
   "outputs": [],
   "source": [
    "plt.gray()\n",
    "plt.grid(False)\n",
    "plt.imshow(newImage)\n",
    "plt.show()   \n",
    "\n",
    "print(newImage.shape)"
   ]
  }
 ],
 "metadata": {
  "kernelspec": {
   "display_name": "Python 3",
   "language": "python",
   "name": "python3"
  },
  "language_info": {
   "codemirror_mode": {
    "name": "ipython",
    "version": 3
   },
   "file_extension": ".py",
   "mimetype": "text/x-python",
   "name": "python",
   "nbconvert_exporter": "python",
   "pygments_lexer": "ipython3",
   "version": "3.6.10"
  }
 },
 "nbformat": 4,
 "nbformat_minor": 4
}
