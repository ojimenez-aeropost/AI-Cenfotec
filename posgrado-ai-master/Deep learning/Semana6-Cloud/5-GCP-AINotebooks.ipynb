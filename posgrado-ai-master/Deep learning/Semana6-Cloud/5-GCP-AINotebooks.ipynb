{
 "cells": [
  {
   "cell_type": "markdown",
   "metadata": {},
   "source": [
    "## Log into Google Cloud Platform\n",
    "- https://cloud.google.com\n",
    "\n",
    "## Genere un nuevo Notebook en:\n",
    "- https://cloud.google.com/ai-platform-notebooks\n",
    "- Go to Console\n",
    "\n",
    "## New Instance (Non GPU)\n",
    "- Seleccione Tensorflow 1.15 Enterprise without GPU\n",
    "- Seleccione una configuracion basica\n",
    "- Create (esto dura uno unos minutos...)\n",
    "- OPEN JUPYTER LAB\n",
    "\n",
    "## New Instance (GPU)\n",
    "- Seleccione Tensorflow Enterprise with 1 Tesla T4 GPU\n",
    "- Seleccione una configuracion basica\n",
    "- Create (esto dura uno unos minutos...)\n",
    "- OPEN JUPYTER LAB\n",
    "\n",
    "## Al terminar de usar su maquina!\n",
    "- Seleccione la instancia activa\n",
    "- STOP!"
   ]
  },
  {
   "cell_type": "code",
   "execution_count": null,
   "metadata": {},
   "outputs": [],
   "source": []
  }
 ],
 "metadata": {
  "kernelspec": {
   "display_name": "Python 3",
   "language": "python",
   "name": "python3"
  },
  "language_info": {
   "codemirror_mode": {
    "name": "ipython",
    "version": 3
   },
   "file_extension": ".py",
   "mimetype": "text/x-python",
   "name": "python",
   "nbconvert_exporter": "python",
   "pygments_lexer": "ipython3",
   "version": "3.6.10"
  }
 },
 "nbformat": 4,
 "nbformat_minor": 4
}
