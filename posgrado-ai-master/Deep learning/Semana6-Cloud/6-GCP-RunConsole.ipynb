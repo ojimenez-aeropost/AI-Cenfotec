{
 "cells": [
  {
   "cell_type": "markdown",
   "metadata": {},
   "source": [
    "## Correr modelos en como proceso en GCP\n",
    "\n",
    "### Arrancar la VM\n",
    "- Navigation Menu >> Compute Engine >> VM Instances\n",
    "- Seleccione la instancia de interes y dele START/RESUME\n",
    "- Espere a que este activa\n",
    "\n",
    "### Conectarse a la VM\n",
    "- En la VM de interes, en la seccion de connect, habra el drop down y seleccione \"open in browser window\"\n",
    "- esto abre una ventana web con el shell de linux de la maquina virtual."
   ]
  },
  {
   "cell_type": "markdown",
   "metadata": {},
   "source": [
    "## Clonar Repo de Prueba\n",
    "\n",
    "- git clone https://github.com/cnvrg/imdb_deploy.git\n",
    "- cd imdb_deploy/\n"
   ]
  },
  {
   "cell_type": "markdown",
   "metadata": {},
   "source": [
    "## Instalar NPM Forever (requiere node y npm que ya viene en GCP)\n",
    "\n",
    "- npm install forever -g"
   ]
  },
  {
   "cell_type": "markdown",
   "metadata": {},
   "source": [
    "## Ejecutar Train.py con Forever\n",
    "- desde imdb_deploy/\n",
    "- forever start -c python3 train.py\n",
    "\n",
    "## Revisar el Log\n",
    "\n",
    "- forever list\n",
    "- seleccione el nombre del log (a.k.a /home/juazammo/.forever/yutf.log)\n",
    "- tail /home/juazammo/.forever/yutf.log (para ver el progreso del training)\n",
    "\n",
    "## para parar el entrenamiento\n",
    "\n",
    "- info:    Forever processes running\n",
    "- data:        uid  command script   forever pid  id logfile                          uptime      \n",
    "- data:    [0] yutf python3 train.py 2989    3240    /home/juazammo/.forever/yutf.log 0:0:0:9.664 \n",
    "\n",
    "\n",
    "- forever list y copie el indice del proceso [0] - cero\n",
    "- forever stop 0"
   ]
  }
 ],
 "metadata": {
  "kernelspec": {
   "display_name": "Python 3",
   "language": "python",
   "name": "python3"
  },
  "language_info": {
   "codemirror_mode": {
    "name": "ipython",
    "version": 3
   },
   "file_extension": ".py",
   "mimetype": "text/x-python",
   "name": "python",
   "nbconvert_exporter": "python",
   "pygments_lexer": "ipython3",
   "version": "3.6.10"
  }
 },
 "nbformat": 4,
 "nbformat_minor": 4
}
