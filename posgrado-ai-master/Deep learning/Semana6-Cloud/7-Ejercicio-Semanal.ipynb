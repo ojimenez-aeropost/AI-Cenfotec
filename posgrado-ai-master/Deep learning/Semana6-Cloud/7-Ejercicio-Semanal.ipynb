{
 "cells": [
  {
   "cell_type": "markdown",
   "metadata": {},
   "source": [
    "## Youtube Transcriptor de Ingles a Espanol\n",
    "\n",
    "Van a crear una funcionalidad para convetir el sonido de un video de youtube en ingles a espanol y lo van a salvar en un mp3.\n",
    "\n",
    "Debe crear un programa llamado CenfoDownloader.py que recibe como parametro un video de youtube y este salva en un mp3 la traduccion del audio en espanol hablado por una voz artificial.\n",
    "\n",
    "Recursos:\n",
    "- 1) Descargue desde python un video de youtube con https://pypi.org/project/pytube/\n",
    "- 2) Obtenga el audio de un video con moviepy https://www.codespeedy.com/extract-audio-from-video-using-python/\n",
    "- 3) utilice un cloud de su preferencia AWS, GCP, Azure para convertir el audio file en texto.\n",
    "- 4) traduzca el texto capturado del audio en ingle a espanol.\n",
    "- 5) genere un nuevo audio en espanol a partir del texto traducido.\n",
    "\n",
    "Si existe tradiccion de audio de un idioma a otro en su cloud de preferencia, puede usar esta funcionalidad (if any)\n",
    "\n",
    "Ejemplo de un video a traducir (Emma Watson Equiality): https://www.youtube.com/watch?v=nIwU-9ZTTJc"
   ]
  }
 ],
 "metadata": {
  "kernelspec": {
   "display_name": "Python 3",
   "language": "python",
   "name": "python3"
  },
  "language_info": {
   "codemirror_mode": {
    "name": "ipython",
    "version": 3
   },
   "file_extension": ".py",
   "mimetype": "text/x-python",
   "name": "python",
   "nbconvert_exporter": "python",
   "pygments_lexer": "ipython3",
   "version": "3.6.12"
  }
 },
 "nbformat": 4,
 "nbformat_minor": 4
}
