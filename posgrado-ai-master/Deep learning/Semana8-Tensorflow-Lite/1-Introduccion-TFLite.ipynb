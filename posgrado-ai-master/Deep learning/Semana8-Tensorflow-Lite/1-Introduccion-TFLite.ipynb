{
 "cells": [
  {
   "cell_type": "markdown",
   "metadata": {},
   "source": [
    "### Introduccion\n",
    "\n",
    "Un modelo de TensorFlow es una estructura de datos que contiene la lógica y el conocimiento de una red de aprendizaje automático entrenada para resolver un problema en particular. Hay muchas formas de obtener un modelo de TensorFlow, desde el uso de modelos previamente entrenados hasta el entrenamiento propio.\n",
    "\n",
    "Para usar un modelo con TensorFlow Lite, debes convertir un modelo de TensorFlow completo al formato de TensorFlow Lite; **no puedes crear ni entrenar un modelo con TensorFlow Lite**. Por lo tanto, debe comenzar con un modelo de TensorFlow normal y luego convertir el modelo ."
   ]
  },
  {
   "cell_type": "markdown",
   "metadata": {},
   "source": [
    "### Utilizar Modelos Pre-Entrenados\n",
    "\n",
    "TensorFlow Lite proporciona un conjunto de modelos entrenados previamente que resuelven una variedad de problemas de aprendizaje automático. Estos modelos se han convertido para funcionar con TensorFlow Lite y están listos para usar en sus aplicaciones.\n",
    "\n",
    "Los modelos previamente entrenados incluyen:\n",
    "\n",
    "- Clasificación de imágenes https://www.tensorflow.org/lite/models/image_classification/overview\n",
    "- Detección de objetos https://www.tensorflow.org/lite/models/object_detection/overview\n",
    "- Respuesta inteligente https://www.tensorflow.org/lite/models/smart_reply/overview\n",
    "- Estimación de pose https://www.tensorflow.org/lite/models/pose_estimation/overview\n",
    "- Segmentación https://www.tensorflow.org/lite/models/segmentation/overview\n",
    "\n",
    "Todos: https://www.tensorflow.org/lite/models\n",
    "\n",
    "Hay muchos otros lugares donde puedes obtener modelos de TensorFlow entrenados previamente, incluido TensorFlow Hub . En la mayoría de los casos, estos modelos no se proporcionarán en el formato TensorFlow Lite y tendrás que convertirlos antes de usarlos.\n",
    "\n",
    "- Tensorflow Hub: https://www.tensorflow.org/hub"
   ]
  },
  {
   "cell_type": "markdown",
   "metadata": {},
   "source": [
    "### Como Convertir un modelo de Keras a TF Lite:"
   ]
  },
  {
   "cell_type": "code",
   "execution_count": 13,
   "metadata": {},
   "outputs": [
    {
     "data": {
      "text/plain": [
       "1322732"
      ]
     },
     "execution_count": 13,
     "metadata": {},
     "output_type": "execute_result"
    }
   ],
   "source": [
    "import tensorflow as tf\n",
    "import keras_preprocessing\n",
    "\n",
    "#cargar modelo de keras\n",
    "saved_model_dir = \"reconocedor_facial.h5\"\n",
    "modelo = tf.keras.models.load_model(saved_model_dir)\n",
    "\n",
    "# convertir en TF Lite\n",
    "converter = tf.lite.TFLiteConverter.from_keras_model(modelo)\n",
    "tflite_model = converter.convert()\n",
    "\n",
    "open(\"converted_model.tflite\", \"wb\").write(tflite_model)"
   ]
  },
  {
   "cell_type": "markdown",
   "metadata": {},
   "source": [
    "### Interprete + GPU\n",
    "\n",
    "**Interprete**\n",
    "\n",
    "El intérprete de TensorFlow Lite es una biblioteca que toma un archivo de modelo, ejecuta las operaciones que define en los datos de entrada y proporciona acceso a la salida.\n",
    "\n",
    "El intérprete funciona en múltiples plataformas y proporciona una API simple para ejecutar modelos de TensorFlow Lite desde Java, Swift, Objective-C, C ++ y Python.\n",
    "\n",
    "El siguiente código muestra el intérprete que se invoca desde Java:\n",
    "\n",
    "\n",
    "<img src=\"img/tf1.png\" />\n",
    "\n",
    "\n",
    "Algunos dispositivos proporcionan aceleración de hardware para operaciones de aprendizaje automático. Por ejemplo, la mayoría de los teléfonos móviles tienen GPU, que pueden realizar operaciones de matriz de punto flotante más rápido que una CPU.\n",
    "\n",
    "La aceleración puede ser sustancial. Por ejemplo, un modelo de clasificación de imágenes de MobileNet v1 se ejecuta 5,5 veces más rápido en un teléfono Pixel 3 cuando se utiliza la aceleración de GPU.\n",
    "\n",
    "El intérprete de TensorFlow Lite se puede configurar con Delegados para hacer uso de la aceleración de hardware en diferentes dispositivos. El delegado de GPU permite al intérprete ejecutar las operaciones adecuadas en la GPU del dispositivo.\n",
    "\n",
    "El siguiente código muestra el delegado de GPU que se usa desde Java:\n",
    "\n",
    "<img src=\"img/tf2.png\" />"
   ]
  },
  {
   "cell_type": "markdown",
   "metadata": {},
   "source": [
    "### Aplicaciones Android y iOS\n",
    "\n",
    "El intérprete de TensorFlow Lite es fácil de usar desde las dos principales plataformas móviles. Para comenzar, explore las guías de inicio rápido de Android y de iOS . Hay aplicaciones de ejemplo disponibles para ambas plataformas.\n",
    "\n",
    "Para obtener las bibliotecas necesarias, los desarrolladores de Android deben utilizar el AAR de TensorFlow Lite . Los desarrolladores de iOS deben usar CocoaPods para Swift u Objective-C .\n",
    "\n",
    "Ejemplos para Android, iOS y Raspberry Pi: https://www.tensorflow.org/lite/examples\n",
    "\n",
    "A continuacion vamos a explorar el ejemplo de Clasificacion de Imagenes en Android:\n",
    "\n",
    "https://github.com/tensorflow/examples/blob/master/lite/examples/image_classification/android/README.md"
   ]
  },
  {
   "cell_type": "markdown",
   "metadata": {},
   "source": [
    "### Que ocupo para empezar:\n",
    "\n",
    "- Descargar Android Studio: https://developer.android.com/studio\n",
    "- Para probar en su telefono Android debe configurarlo en Developer mode. \n",
    "- Developer options debe tener USB debugging = 1\n",
    "- Developer options debe tener Install via USB = 1\n",
    "\n",
    "Pueda que Android Studio le pida el API 28 (9.0 Pie):\n",
    "\n",
    "<img src=\"img/tf3.png\" />"
   ]
  },
  {
   "cell_type": "code",
   "execution_count": null,
   "metadata": {},
   "outputs": [],
   "source": []
  }
 ],
 "metadata": {
  "kernelspec": {
   "display_name": "Python 3",
   "language": "python",
   "name": "python3"
  },
  "language_info": {
   "codemirror_mode": {
    "name": "ipython",
    "version": 3
   },
   "file_extension": ".py",
   "mimetype": "text/x-python",
   "name": "python",
   "nbconvert_exporter": "python",
   "pygments_lexer": "ipython3",
   "version": "3.6.12"
  }
 },
 "nbformat": 4,
 "nbformat_minor": 4
}
