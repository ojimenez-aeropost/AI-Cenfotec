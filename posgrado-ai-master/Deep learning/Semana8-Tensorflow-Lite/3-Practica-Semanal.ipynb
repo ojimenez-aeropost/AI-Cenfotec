{
 "cells": [
  {
   "cell_type": "markdown",
   "metadata": {},
   "source": [
    "### Ejercicio 1 - TFLite\n",
    "\n",
    "En este ejercicio, debera descargar Android Studio y realizar as configuraciones vistas en el notebook #1 para ejecutar el ejemplo:\n",
    "\n",
    "- tf_lite_examples/bert_qa/android\n",
    "\n",
    "BERT es un tipo de arquitectura basada en transformadores (similar a un RNN) que puede aprender a constestar preguntas. \n",
    "BERT , o Representaciones de codificador bidireccional de Transformers, es un método de pre-entrenamiento de representaciones de lenguaje que obtiene resultados de vanguardia en una amplia gama de tareas de procesamiento de lenguaje natural.\n",
    "\n",
    "Para esta entrega, debe poder ejecutar el sample de BERT que viene en el directorio (tf_lite_examples/bert_qa/android) y de ser posible hacer deploy en su telefono. \n",
    "\n",
    "NO existe entregable, sino mas bien debera exponer el sample por Zoom.\n",
    "\n",
    "### Ejercicio 2 - Tensorflow.js\n",
    "\n",
    "Debera investigar como entrenar el Fashion-MNIST con tensorflow.js (https://www.tensorflow.org/datasets/catalog/fashion_mnist)\n",
    "\n",
    "Puede utilizar recursos de Github que tenga a su alcance para realizar dicha tarea.\n",
    "\n",
    "Este entregable si debe ser enviado al aula virtual."
   ]
  },
  {
   "cell_type": "code",
   "execution_count": null,
   "metadata": {},
   "outputs": [],
   "source": []
  }
 ],
 "metadata": {
  "kernelspec": {
   "display_name": "Python 3",
   "language": "python",
   "name": "python3"
  },
  "language_info": {
   "codemirror_mode": {
    "name": "ipython",
    "version": 3
   },
   "file_extension": ".py",
   "mimetype": "text/x-python",
   "name": "python",
   "nbconvert_exporter": "python",
   "pygments_lexer": "ipython3",
   "version": "3.6.10"
  }
 },
 "nbformat": 4,
 "nbformat_minor": 4
}
