{
 "cells": [
  {
   "cell_type": "markdown",
   "metadata": {},
   "source": [
    "<img src=\"https://bingvsdevportalprodgbl.blob.core.windows.net/preview-images/17da6816-2e2b-45bb-a0ef-539c7727bff7.png\" />\n",
    "\n",
    "## What breed is that dog?\n",
    "\n",
    "Debe disenar una red neuronal convolucional para la identificacion de razas de perros.\n",
    "La idea es hacer un modelo capaz de realizar algo similar a : https://www.bing.com/visualsearch/Microsoft/WhatDog\n",
    "\n",
    "- En esta tarea se require solo el desarrollo del modelo. Si ud desea hacer una pagina web para simular la pagina de bing, eso es opcional.\n",
    "\n",
    "- debe crear un cuaderno en Kaggle para el dataset https://www.kaggle.com/jessicali9530/stanford-dogs-dataset (750 Mb)\n",
    "- debe utilizar Transfer Learning para entrenar su modelo.\n",
    "- si su modelo no sirve con transfer learning, debe intentar crear su propia arq convolucional.\n",
    "- el dataset cuenta con 120 diferentes tipos de razas, con 100 imagenes en cada folder. approx 20,580 imagenes\n",
    "\n",
    "\n",
    "### Pruebas, recuerde probar su dataset con imagenes nuevas fuera del test set. Aqui les dejo algunas.\n",
    "\n",
    "#### Pitbull\n",
    "\n",
    "<img src=\"https://860797.smushcdn.com/1883351/wp-content/uploads/2020/09/grey-pitbull-standing-focused.jpeg?lossy=0&strip=1&webp=1\" />\n",
    "\n",
    "\n",
    "<img src=\"https://images.thestar.com/1GSur_7WEDCZE9NtGlygp7SXCZQ=/375x248/smart/http://media.zuza.com/3/3/3376e7b1-23f0-481d-9733-22d2b7dc946b/maryland%20pitbulls%20bba6f684%20e92a%2011e9%2085c0%2085a098e47b37_Super_Portrait.jpg\" />\n",
    "\n",
    "#### Boxer\n",
    "\n",
    "<img src=\"https://www.purinaproclub.com/sites/g/files/auxxlc346/files/styles/large/public/Resources_Dog%20Articles_Health_Line%2057_Thumb_0.jpg?itok=DhKA7Ye2\" />\n",
    "\n",
    "<img src=\"https://i.pinimg.com/originals/16/cf/a8/16cfa8b6ea2c773a6e6ca0308c0b65ee.jpg\" />\n",
    "\n",
    "### Beagle\n",
    "\n",
    "<img src=\"https://www.britannica.com/explore/savingearth/wp-content/uploads/sites/4/2020/05/beagle2-1.jpg\" />\n",
    "\n",
    "<img src=\"https://d17fnq9dkz9hgj.cloudfront.net/breed-uploads/2018/08/beagle-card-small.jpg?bust=1535569260\" />\n",
    "\n",
    "### Yo Quiero Taco Bell\n",
    "\n",
    "<img src=\"https://blog.myollie.com/content/images/2020/03/chihuahua-puppy-on-grey-background--1-.jpg\" />\n",
    "\n",
    "<img src=\"https://thehappypuppysite.com/wp-content/uploads/2019/02/Black-And-White-Chihuahua-long.jpg\" />\n"
   ]
  },
  {
   "cell_type": "code",
   "execution_count": null,
   "metadata": {},
   "outputs": [],
   "source": []
  }
 ],
 "metadata": {
  "kernelspec": {
   "display_name": "Python 3",
   "language": "python",
   "name": "python3"
  },
  "language_info": {
   "codemirror_mode": {
    "name": "ipython",
    "version": 3
   },
   "file_extension": ".py",
   "mimetype": "text/x-python",
   "name": "python",
   "nbconvert_exporter": "python",
   "pygments_lexer": "ipython3",
   "version": "3.6.10"
  }
 },
 "nbformat": 4,
 "nbformat_minor": 4
}
