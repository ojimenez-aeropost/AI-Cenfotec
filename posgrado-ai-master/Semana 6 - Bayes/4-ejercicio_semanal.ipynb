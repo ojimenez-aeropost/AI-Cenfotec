{
 "cells": [
  {
   "cell_type": "markdown",
   "metadata": {},
   "source": [
    "# Proyectos de Kickstarter\n",
    "\n",
    "Para esta semana, deberá utilizar los datos de (proyectos.csv aprox 58Mb) donde encontrará 378 mil proyectos de Kickstarter. No todos los proyectos son exitosos. Ud deberá construir un modelo con Naibe Bayes Gaussiano y KNN para predecir el estado del proyecto.\n",
    "\n",
    "## Datos:\n",
    "\n",
    "- y: state (failed, canceled, succesful, live, suspended, etc..)\n",
    "\n",
    "- X:\n",
    "    - ID: identificador del proyecto\n",
    "    - name: nombre del proyecto\n",
    "    - category: sub-categoria del proyecto\n",
    "    - main_category: categoria del proyecto\n",
    "    - currency: moneda de la peticion.\n",
    "    - deadline: fecha de vencimiento del proyecto\n",
    "    - goal: dinero a obtener en el proyecto\n",
    "    - launched: fecha de inicio del proyecto\n",
    "    - pledged: dinero solicitado por la comunidad\n",
    "    - backers: cantidad de donantes de dinero\n",
    "    - country: pais de origen del proyecto\n",
    "    - usd_pledged: conversion en dolares de la columna pledged\n",
    "    - usd_pledged_real: conversion en dolares de la columna pledged por Fixer.io API\n",
    "    - usd_goal_real: conversion en dolares de la columna goal por Fixer.io API\n",
    "    \n",
    "### Problema Semanal:\n",
    "\n",
    "Ud tiene duda de cual modelo de machine learning funciona mejor para este problema, si KNN o Naive Bayes Gaussiano. Para esto ud deberá realizar el analsis necesario de escogencia de modelos para determina cual es el mejor modelo.\n",
    "\n",
    "### Algunas recomendaciones:\n",
    "\n",
    "- considere no utilizar proyectos que estan con estado \"Live\".\n",
    "- puede crear o eliminar columnas segun lo considere necesario.\n",
    "- utilize transformaciones, scaling, normalizacion y feature engineering para \"tunear\" su modelo.\n",
    "- utilize la matrix de confusion y las metricas de F1Score, etc para comparar los modelos.\n",
    "- Puede utilizar test-train split. Considere un test set del (+-)30%.\n",
    "- utilize diversions hiperparametros para encontrar el mejor fit a su problema.\n",
    "- utilize el chat de WhatsApp para apoyar a sus companeros y hacer preguntas.\n",
    "- Si ud inicia este proyecto el viernes en la manana, probablemente no va a poder terminar. Do it on time. \n",
    "- haga drop de la columna name, ya que no hemos visto nada de NLP.\n",
    "\n",
    "### Descargar Datos:\n",
    "Los datos para este proyecto estan en el aula virtual en semana 6."
   ]
  },
  {
   "cell_type": "code",
   "execution_count": 1,
   "metadata": {},
   "outputs": [],
   "source": [
    "# ANTORCHA!\n",
    "# feature engineering (transformacion, norm, eliminar var, etc...): 5 pts\n",
    "# entrenamiento de modelos: 5pts\n",
    "# model selection: uso de metricas para comprar modelos y matrices de confusion: 5 pts\n",
    "# considere crear un resumen al final donde se puedan comparar las metricas \"taco-a-taco\" \n",
    "# para que quede bien explicado cual modelo es el mejor."
   ]
  },
  {
   "cell_type": "code",
   "execution_count": null,
   "metadata": {},
   "outputs": [],
   "source": []
  }
 ],
 "metadata": {
  "kernelspec": {
   "display_name": "Python 3",
   "language": "python",
   "name": "python3"
  },
  "language_info": {
   "codemirror_mode": {
    "name": "ipython",
    "version": 3
   },
   "file_extension": ".py",
   "mimetype": "text/x-python",
   "name": "python",
   "nbconvert_exporter": "python",
   "pygments_lexer": "ipython3",
   "version": "3.6.10"
  }
 },
 "nbformat": 4,
 "nbformat_minor": 4
}
