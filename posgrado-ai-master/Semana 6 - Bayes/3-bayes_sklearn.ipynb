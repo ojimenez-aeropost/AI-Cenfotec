{
 "cells": [
  {
   "cell_type": "markdown",
   "metadata": {},
   "source": [
    "# Naive Bayes con Sklearn"
   ]
  },
  {
   "cell_type": "code",
   "execution_count": null,
   "metadata": {},
   "outputs": [],
   "source": [
    "import numpy as np\n",
    "import pandas as pd\n",
    "from sklearn.model_selection import cross_val_score\n",
    "from sklearn.model_selection import train_test_split\n",
    "from sklearn.naive_bayes import GaussianNB\n",
    "from sklearn import datasets\n",
    "from sklearn.metrics import accuracy_score\n",
    "\n",
    "iris = datasets.load_iris()\n",
    "X = iris.data\n",
    "y = iris.target\n",
    "\n",
    "list(iris.target_names)"
   ]
  },
  {
   "cell_type": "markdown",
   "metadata": {},
   "source": [
    "## Naive Bayes Cross Validation"
   ]
  },
  {
   "cell_type": "code",
   "execution_count": null,
   "metadata": {},
   "outputs": [],
   "source": [
    "# NB Gaussiano\n",
    "model = GaussianNB()\n",
    "\n",
    "# 10-k-fold CV\n",
    "scores = cross_val_score(model, X, y, cv=10)\n",
    "\n",
    "print(\"CV:\",scores)\n",
    "print(\"Accuracy:\",scores.mean())"
   ]
  },
  {
   "cell_type": "markdown",
   "metadata": {},
   "source": [
    "## Naive Bayes Train-Test Split"
   ]
  },
  {
   "cell_type": "code",
   "execution_count": null,
   "metadata": {},
   "outputs": [],
   "source": [
    "X_train, X_test, y_train, y_test = train_test_split(X, y, test_size=0.5, random_state=0)\n",
    "\n",
    "model = GaussianNB()\n",
    "y_prima = model.fit(X_train, y_train).predict(X_test)\n",
    "\n",
    "print(\"Accuracy:\",accuracy_score(y_test, y_prima))"
   ]
  },
  {
   "cell_type": "markdown",
   "metadata": {},
   "source": [
    "## Naive Bayes Online Learning\n",
    "\n",
    "Normalmente cuando entrenamos un algoritmos, lo entrenamos con todos los datos. Sklearn GaussianNB tiene un método llamado partial_fit el cual permite ir ajustando el modelo con pequenos batches de datos. Esto es perfecto para cuando hay un dataset muy grande o bien los datos ocurren en el momento."
   ]
  },
  {
   "cell_type": "code",
   "execution_count": null,
   "metadata": {},
   "outputs": [],
   "source": [
    "# esto es solo para obtener un test set para la demo...\n",
    "_, X_test, _, y_test = train_test_split(X, y, test_size=0.2, random_state=0)\n",
    "\n",
    "X_test + 0.01\n",
    "\n",
    "x_10 = []\n",
    "y_10 = []\n",
    "\n",
    "model = GaussianNB(var_smoothing =  1e-6)\n",
    "\n",
    "# vamos a simular que los datos ingresan en batches de 10 datos.\n",
    "for i in np.arange(0,len(y)):\n",
    "    x_10.append(X[i,:])\n",
    "    y_10.append(y[i])\n",
    "    \n",
    "    # si ya hay 10 valores, vamos a entrenar el modelo (online learning)\n",
    "    if (i % 10 == 0):\n",
    "        model.partial_fit(x_10, y_10, classes = [0,1,2])\n",
    "        x_10 = []\n",
    "        y_10 = []\n",
    "        \n",
    "        # probar el accuracy\n",
    "        # dado que estamos usando los mismos datos esto\n",
    "        # va a causar overfitting.\n",
    "        np.seterr(divide='ignore', invalid='ignore')\n",
    "        y_prima = model.predict(X_test)\n",
    "        print(\"i:\",i, \"acc:\",accuracy_score(y_test, y_prima))        "
   ]
  },
  {
   "cell_type": "code",
   "execution_count": null,
   "metadata": {},
   "outputs": [],
   "source": []
  }
 ],
 "metadata": {
  "kernelspec": {
   "display_name": "Python 3",
   "language": "python",
   "name": "python3"
  },
  "language_info": {
   "codemirror_mode": {
    "name": "ipython",
    "version": 3
   },
   "file_extension": ".py",
   "mimetype": "text/x-python",
   "name": "python",
   "nbconvert_exporter": "python",
   "pygments_lexer": "ipython3",
   "version": "3.6.10"
  }
 },
 "nbformat": 4,
 "nbformat_minor": 4
}
