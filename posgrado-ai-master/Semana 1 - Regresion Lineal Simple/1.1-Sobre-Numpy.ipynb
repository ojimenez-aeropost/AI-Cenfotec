{
 "cells": [
  {
   "cell_type": "code",
   "execution_count": 10,
   "metadata": {},
   "outputs": [],
   "source": [
    "import time\n",
    "import numpy as np\n",
    "n = 100000000"
   ]
  },
  {
   "cell_type": "code",
   "execution_count": null,
   "metadata": {},
   "outputs": [],
   "source": [
    "# For Loop (Ciclos)\n",
    "\n",
    "start = time.time()\n",
    "\n",
    "suma = 0\n",
    "for x in range(1,n+1):\n",
    "    suma = suma + x\n",
    "\n",
    "print('total: ',suma)\n",
    "\n",
    "end = time.time()\n",
    "print('tiempo: ' \"{:.5f}\".format(end - start))"
   ]
  },
  {
   "cell_type": "code",
   "execution_count": null,
   "metadata": {},
   "outputs": [],
   "source": [
    "# Numpy Sum (Vectorizacion)\n",
    "\n",
    "start = time.time()\n",
    "\n",
    "suma = 0\n",
    "suma = np.sum(np.arange(n+1))\n",
    "\n",
    "print('total: ',suma)\n",
    "\n",
    "end = time.time()\n",
    "print('tiempo: ' \"{:.5f}\".format(end - start))"
   ]
  },
  {
   "cell_type": "code",
   "execution_count": null,
   "metadata": {},
   "outputs": [],
   "source": [
    "# Serie Aritmetica (Formula)\n",
    "\n",
    "start = time.time()\n",
    "\n",
    "suma = 0\n",
    "suma = (n*(n+1))/2\n",
    "\n",
    "print('total: ',suma)\n",
    "\n",
    "end = time.time()\n",
    "print('tiempo: ' \"{:.5f}\".format(end - start))"
   ]
  },
  {
   "cell_type": "code",
   "execution_count": null,
   "metadata": {},
   "outputs": [],
   "source": []
  }
 ],
 "metadata": {
  "kernelspec": {
   "display_name": "Python 3",
   "language": "python",
   "name": "python3"
  },
  "language_info": {
   "codemirror_mode": {
    "name": "ipython",
    "version": 3
   },
   "file_extension": ".py",
   "mimetype": "text/x-python",
   "name": "python",
   "nbconvert_exporter": "python",
   "pygments_lexer": "ipython3",
   "version": "3.8.4"
  }
 },
 "nbformat": 4,
 "nbformat_minor": 4
}
