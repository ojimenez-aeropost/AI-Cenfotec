{
 "cells": [
  {
   "cell_type": "code",
   "execution_count": null,
   "metadata": {},
   "outputs": [],
   "source": [
    "import numpy as np\n",
    "import matplotlib.pyplot as plt\n",
    "from scipy.io import loadmat"
   ]
  },
  {
   "cell_type": "code",
   "execution_count": null,
   "metadata": {},
   "outputs": [],
   "source": [
    "# archivo de Matlab con los datos.\n",
    "mat = loadmat(\"data/servers.mat\")\n",
    "X = mat[\"X\"]"
   ]
  },
  {
   "cell_type": "markdown",
   "metadata": {},
   "source": [
    "### Deplegamos la data de Servidores"
   ]
  },
  {
   "cell_type": "code",
   "execution_count": null,
   "metadata": {},
   "outputs": [],
   "source": [
    "plt.figure(figsize=(20,10))\n",
    "plt.scatter(X[:,0],X[:,1],marker=\"x\", c = 'green')\n",
    "plt.xlim(0,30)\n",
    "plt.ylim(0,30)\n",
    "plt.xlabel(\"Latencia (ms)\")\n",
    "plt.ylabel(\" Transferencia Datos (mb/s)\")\n",
    "plt.show()"
   ]
  },
  {
   "cell_type": "markdown",
   "metadata": {},
   "source": [
    "### Calculo de parametros Gaussianos\n",
    "\n",
    "Dada una variable x, vamos a estimar la media y la desviacion estandard.\n",
    "\n",
    "$p(x;\\mu,\\sigma^2) = \\frac{1}{\\sqrt{2\\pi\\sigma^2}}e^{\\frac{(x-\\mu)^2}{2\\sigma^2}}$\n",
    "\n",
    "$\\mu_i = \\frac{1}{m}\\sum^m_{j=1}x^{(j)}$\n",
    "\n",
    "$\\sigma^2_i = \\frac{1}{m}\\sum^m_{j=1}(x^{(j)} - \\mu_j)^2$"
   ]
  },
  {
   "cell_type": "code",
   "execution_count": null,
   "metadata": {},
   "outputs": [],
   "source": [
    "def estimarParametrosGaussianos(X):\n",
    "    \n",
    "    # cantidad de datos\n",
    "    m = X.shape[0]\n",
    "    \n",
    "    # se calcula la media\n",
    "    sum_ = np.sum(X,axis=0)\n",
    "    mu = 1/m *sum_\n",
    "    \n",
    "    # se calcula la varianza\n",
    "    var = 1/m * np.sum((X - mu)**2,axis=0)\n",
    "    \n",
    "    return mu,var\n",
    "\n",
    "# Estimacion de ejemplo de parametros para latencia...\n",
    "print(\"Parametros para Latencia:\", estimarParametrosGaussianos(X[:,0]))\n",
    "# Todos los parametros\n",
    "print(\"Todos los Parametros:\", estimarParametrosGaussianos(X))"
   ]
  },
  {
   "cell_type": "markdown",
   "metadata": {},
   "source": [
    "### Estimacion de la Distribucion Gaussiana con Muliples Variables\n",
    "\n",
    "$p(x;\\mu,\\Sigma) = \\frac{1}{(2\\pi)^{n/2}|\\Sigma|^{1/2}} exp(-\\frac{1}{2}(x-\\mu)^T\\Sigma^{-1}(x-\\mu))$"
   ]
  },
  {
   "cell_type": "code",
   "execution_count": null,
   "metadata": {},
   "outputs": [],
   "source": [
    "def distribucionGaussiana(X, mu, sigma):\n",
    "    \n",
    "    # cantidad de parametros mu (media)\n",
    "    k = len(mu)\n",
    "    \n",
    "    sigma=np.diag(sigma)\n",
    "    X = X - mu.T\n",
    "    \n",
    "    # calculo de la distribucion\n",
    "    d = 1/((2*np.pi)**(k/2)*(np.linalg.det(sigma)**0.5))* np.exp(-0.5* np.sum(X @ np.linalg.pinv(sigma) * X,axis=1))\n",
    "    \n",
    "    return d\n",
    "\n",
    "\n",
    "mu,sig = estimarParametrosGaussianos(X)\n",
    "dist = distribucionGaussiana(X,mu,sig)\n",
    "print(\"Distribucion Multivariada de X:\", dist[:10],\"...\")\n",
    "print(dist.shape)"
   ]
  },
  {
   "cell_type": "markdown",
   "metadata": {},
   "source": [
    "### Escoger el Threshold e"
   ]
  },
  {
   "cell_type": "code",
   "execution_count": null,
   "metadata": {},
   "outputs": [],
   "source": [
    "plt.figure(figsize=(20,10))\n",
    "plt.hist(dist, bins = 100)\n",
    "plt.xticks(np.arange(0, 0.09, 0.001))\n",
    "plt.xticks(rotation=90)\n",
    "plt.axvline(x=np.mean(dist), color='r', linestyle='dashed', linewidth=3)\n",
    "plt.axvline(x=np.mean(dist) - 2 *  np.std(dist), color='orange', linestyle='dashed', linewidth=1)\n",
    "plt.axvline(x=np.mean(dist) - 2.5 *  np.std(dist), color='green', linestyle='dashed', linewidth=1)\n",
    "plt.show()"
   ]
  },
  {
   "cell_type": "markdown",
   "metadata": {},
   "source": [
    "### Visualizar Anomalias"
   ]
  },
  {
   "cell_type": "code",
   "execution_count": null,
   "metadata": {},
   "outputs": [],
   "source": [
    "plt.figure(figsize=(20,10))\n",
    "plt.scatter(X[:,0],X[:,1],marker=\"x\", c = 'green')\n",
    "plt.xlim(0,30)\n",
    "plt.ylim(0,30)\n",
    "plt.xlabel(\"Latencia (ms)\")\n",
    "plt.ylabel(\" Transferencia Datos (mb/s)\")\n",
    "\n",
    "# Threshold...\n",
    "e = 0.001\n",
    "\n",
    "# anomalias (condicion)\n",
    "outliers = np.nonzero(dist<e)[0]\n",
    "plt.scatter(X[outliers,0],X[outliers,1],marker =\"o\",facecolor=\"none\",edgecolor=\"b\",s=120)\n",
    "\n",
    "plt.show()"
   ]
  },
  {
   "cell_type": "code",
   "execution_count": null,
   "metadata": {},
   "outputs": [],
   "source": []
  }
 ],
 "metadata": {
  "kernelspec": {
   "display_name": "Python 3",
   "language": "python",
   "name": "python3"
  },
  "language_info": {
   "codemirror_mode": {
    "name": "ipython",
    "version": 3
   },
   "file_extension": ".py",
   "mimetype": "text/x-python",
   "name": "python",
   "nbconvert_exporter": "python",
   "pygments_lexer": "ipython3",
   "version": "3.6.10"
  }
 },
 "nbformat": 4,
 "nbformat_minor": 4
}
