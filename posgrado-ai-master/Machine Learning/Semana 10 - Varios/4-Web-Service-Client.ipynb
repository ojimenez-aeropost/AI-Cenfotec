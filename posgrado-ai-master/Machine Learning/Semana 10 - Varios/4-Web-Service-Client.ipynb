{
 "cells": [
  {
   "cell_type": "markdown",
   "metadata": {},
   "source": [
    "## Web Service Client\n",
    "\n",
    "En este notebook vamos a consumir un servicio de machine learning. El servicio debe ser levantando con el script server.py por separado."
   ]
  },
  {
   "cell_type": "code",
   "execution_count": 2,
   "metadata": {},
   "outputs": [
    {
     "name": "stdout",
     "output_type": "stream",
     "text": [
      "{'Prediccion': 2}\n"
     ]
    }
   ],
   "source": [
    "import requests\n",
    "\n",
    "# url del servicio\n",
    "url = 'http://127.0.0.1:1080/predict'\n",
    "\n",
    "# cuerpo del mensaje\n",
    "body = {\n",
    "    \"petal_length\": \"2.1\",\n",
    "    \"sepal_length\": \"2\",\n",
    "    \"petal_width\": \"0.5\",\n",
    "    \"sepal_width\": \"3\"\n",
    "}\n",
    "\n",
    "# enviamos los datos por POST\n",
    "response = requests.post(url, data=body)\n",
    "\n",
    "# imprimimos el mensaje\n",
    "print(response.json())"
   ]
  },
  {
   "cell_type": "markdown",
   "metadata": {},
   "source": [
    "### EJERCICIO 1: \n",
    "\n",
    "Modifique el server.py para que acepte requests por GET. Modifique el codigo del cliente para enviar los datos por GET"
   ]
  },
  {
   "cell_type": "code",
   "execution_count": 5,
   "metadata": {},
   "outputs": [
    {
     "name": "stdout",
     "output_type": "stream",
     "text": [
      "<Response [200]>\n"
     ]
    }
   ],
   "source": [
    "# DEFINA SU CLIENTE GET AQUI:\n",
    "import requests\n",
    "\n",
    "# url del servicio\n",
    "url = 'http://127.0.0.1:1080/predict?pl=2.1&sl=2&pw=0.5&sw=3'\n",
    "\n",
    "# enviamos los datos por GET\n",
    "response = requests.get(url)\n",
    "\n",
    "# imprimimos el mensaje\n",
    "print(response.json())"
   ]
  },
  {
   "cell_type": "markdown",
   "metadata": {},
   "source": [
    "### EJERCICIO 2:\n",
    "\n",
    "* Entrene un modelo de machine learning con MNIST y salve su modelo en un archivo pickle. [https://scikit-learn.org/stable/auto_examples/linear_model/plot_sparse_logistic_regression_mnist.html]\n",
    "* Modifique el server.py para que agregue la ruta /predict-catvsdogs y que sea capaz de predecir si una imagen es un perro o un gato\n",
    "* Va a enviar la imagen desde el cliente (este notebook) como un base64 hacia el server.py\n",
    "* el server.py va recibir la imagen la reconstruye en una imagen nuevamente y la manda al modelo de ML\n",
    "* ademas de recibir la imagen, va a salvar la imagen en un folder con su formato (png, jpg, etc) con el nombre de la clase (ejemplo cat.098234.jpg), el numero en la imagen debe ser un numero aleatorio para que no se sobrescriba la imagen en el folder."
   ]
  },
  {
   "cell_type": "code",
   "execution_count": 65,
   "metadata": {},
   "outputs": [
    {
     "name": "stdout",
     "output_type": "stream",
     "text": [
      "{'digit': 1}\n"
     ]
    }
   ],
   "source": [
    "# DEFINA SU CLIENTE GET AQUI:\n",
    "import requests\n",
    "\n",
    "base64_img = \"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\"\n",
    "# url del servicio\n",
    "url = 'http://127.0.0.1:1080/predict/mnist'\n",
    "\n",
    "# cuerpo del mensaje\n",
    "body = {\n",
    "    'img':base64_img\n",
    "}\n",
    "\n",
    "# enviamos los datos por POST\n",
    "response = requests.post(url, data=body)\n",
    "\n",
    "# imprimimos el mensaje\n",
    "print(response.json())"
   ]
  },
  {
   "cell_type": "code",
   "execution_count": null,
   "metadata": {},
   "outputs": [],
   "source": []
  }
 ],
 "metadata": {
  "kernelspec": {
   "display_name": "Python 3",
   "language": "python",
   "name": "python3"
  },
  "language_info": {
   "codemirror_mode": {
    "name": "ipython",
    "version": 3
   },
   "file_extension": ".py",
   "mimetype": "text/x-python",
   "name": "python",
   "nbconvert_exporter": "python",
   "pygments_lexer": "ipython3",
   "version": "3.8.4"
  }
 },
 "nbformat": 4,
 "nbformat_minor": 4
}
