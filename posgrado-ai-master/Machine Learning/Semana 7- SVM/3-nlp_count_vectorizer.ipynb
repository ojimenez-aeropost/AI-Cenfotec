{
 "cells": [
  {
   "cell_type": "code",
   "execution_count": 1,
   "metadata": {},
   "outputs": [],
   "source": [
    "from sklearn.feature_extraction.text import CountVectorizer"
   ]
  },
  {
   "cell_type": "markdown",
   "metadata": {},
   "source": [
    "## CountVectorizer\n",
    "\n",
    "Convierte una colección de documentos de texto en una matriz de recuentos de tokens. Esta implementación produce una representación escasa de los recuentos utilizando scipy.sparse.csr_matrix. Si no proporciona un diccionario a priori y no utiliza un analizador que realice algún tipo de selección de características, entonces el número de características será igual al tamaño de vocabulario encontrado al analizar los datos."
   ]
  },
  {
   "cell_type": "code",
   "execution_count": 12,
   "metadata": {},
   "outputs": [
    {
     "name": "stdout",
     "output_type": "stream",
     "text": [
      "Tokens\n",
      "['and', 'document', 'first', 'is', 'one', 'second', 'the', 'third']\n"
     ]
    }
   ],
   "source": [
    "corpus = [\n",
    "    'This is the first document.',\n",
    "    'This document is the second document.',\n",
    "    'And this is the third one.',\n",
    "    'Is this the first document?',\n",
    "]\n",
    "\n",
    "my_stop_words = frozenset([\"this\"])\n",
    "\n",
    "vectorizer = CountVectorizer(stop_words= my_stop_words) # intente 'english'\n",
    "X = vectorizer.fit_transform(corpus)\n",
    "\n",
    "print('Tokens')\n",
    "print(vectorizer.get_feature_names())"
   ]
  },
  {
   "cell_type": "code",
   "execution_count": 13,
   "metadata": {},
   "outputs": [
    {
     "name": "stdout",
     "output_type": "stream",
     "text": [
      "Vectorized Corpus\n",
      "\n",
      "[[0 1 1 1 0 0 1 0]\n",
      " [0 2 0 1 0 1 1 0]\n",
      " [1 0 0 1 1 0 1 1]\n",
      " [0 1 1 1 0 0 1 0]]\n"
     ]
    }
   ],
   "source": [
    "print('Vectorized Corpus')\n",
    "print(\"\")\n",
    "print(X.toarray())  "
   ]
  },
  {
   "cell_type": "code",
   "execution_count": 23,
   "metadata": {},
   "outputs": [
    {
     "data": {
      "text/plain": [
       "[('document', 4),\n",
       " ('is', 4),\n",
       " ('the', 4),\n",
       " ('first', 2),\n",
       " ('and', 1),\n",
       " ('one', 1),\n",
       " ('second', 1),\n",
       " ('third', 1)]"
      ]
     },
     "execution_count": 23,
     "metadata": {},
     "output_type": "execute_result"
    }
   ],
   "source": [
    "# frecuencia de las palabras en el diccionario\n",
    "\n",
    "counts = X.toarray().sum(axis=0)\n",
    "words = vectorizer.get_feature_names();\n",
    "\n",
    "count_words = dict(zip(words,counts))\n",
    "\n",
    "import operator\n",
    "sorted_x = sorted(count_words.items(), key=lambda kv: kv[1], reverse=True)\n",
    "sorted_x"
   ]
  },
  {
   "cell_type": "code",
   "execution_count": null,
   "metadata": {},
   "outputs": [],
   "source": []
  }
 ],
 "metadata": {
  "kernelspec": {
   "display_name": "Python 3",
   "language": "python",
   "name": "python3"
  },
  "language_info": {
   "codemirror_mode": {
    "name": "ipython",
    "version": 3
   },
   "file_extension": ".py",
   "mimetype": "text/x-python",
   "name": "python",
   "nbconvert_exporter": "python",
   "pygments_lexer": "ipython3",
   "version": "3.8.4"
  }
 },
 "nbformat": 4,
 "nbformat_minor": 2
}
