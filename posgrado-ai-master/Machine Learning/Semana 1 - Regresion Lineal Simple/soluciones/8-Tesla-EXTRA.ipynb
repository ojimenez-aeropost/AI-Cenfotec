{
 "cells": [
  {
   "cell_type": "markdown",
   "metadata": {},
   "source": [
    "## Degradacion de la Bateria del Tesla Modelo S"
   ]
  },
  {
   "cell_type": "code",
   "execution_count": 26,
   "metadata": {},
   "outputs": [],
   "source": [
    "import pandas as pd\n",
    "import matplotlib.pyplot as plt\n",
    "import re\n",
    "import numpy as np\n",
    "from sklearn.linear_model import LinearRegression\n",
    "from sklearn.metrics import mean_squared_error"
   ]
  },
  {
   "cell_type": "code",
   "execution_count": 27,
   "metadata": {},
   "outputs": [
    {
     "name": "stdout",
     "output_type": "stream",
     "text": [
      "(99, 26)\n"
     ]
    },
    {
     "data": {
      "text/html": [
       "<div>\n",
       "<style scoped>\n",
       "    .dataframe tbody tr th:only-of-type {\n",
       "        vertical-align: middle;\n",
       "    }\n",
       "\n",
       "    .dataframe tbody tr th {\n",
       "        vertical-align: top;\n",
       "    }\n",
       "\n",
       "    .dataframe thead th {\n",
       "        text-align: right;\n",
       "    }\n",
       "</style>\n",
       "<table border=\"1\" class=\"dataframe\">\n",
       "  <thead>\n",
       "    <tr style=\"text-align: right;\">\n",
       "      <th></th>\n",
       "      <th>forumnaam</th>\n",
       "      <th>ID</th>\n",
       "      <th>firmwarerelease</th>\n",
       "      <th>gemiddeld verbruik (bin)</th>\n",
       "      <th>batterijtype</th>\n",
       "      <th>batterijvermogen</th>\n",
       "      <th>datum invoer</th>\n",
       "      <th>firmwareversie</th>\n",
       "      <th>forumnaam (copy)</th>\n",
       "      <th>leverdatum</th>\n",
       "      <th>...</th>\n",
       "      <th>gemiddeld verbruik</th>\n",
       "      <th>kmstand</th>\n",
       "      <th>kmstand berekening</th>\n",
       "      <th>kmstand bij vervanging batterij</th>\n",
       "      <th>kmstand huidige batterij</th>\n",
       "      <th>kmstand huidige batterij.1</th>\n",
       "      <th>Number of Records</th>\n",
       "      <th>percentage</th>\n",
       "      <th>rated range</th>\n",
       "      <th>typical range</th>\n",
       "    </tr>\n",
       "  </thead>\n",
       "  <tbody>\n",
       "    <tr>\n",
       "      <th>0</th>\n",
       "      <td>RealNuke</td>\n",
       "      <td>76</td>\n",
       "      <td>NaN</td>\n",
       "      <td>270 Wh/km</td>\n",
       "      <td>NaN</td>\n",
       "      <td>85 kWh</td>\n",
       "      <td>1/15/15</td>\n",
       "      <td>V6.1</td>\n",
       "      <td>realnuke</td>\n",
       "      <td>NaN</td>\n",
       "      <td>...</td>\n",
       "      <td>270 Wh/km</td>\n",
       "      <td>32080</td>\n",
       "      <td>32080</td>\n",
       "      <td>0</td>\n",
       "      <td>32,080 km</td>\n",
       "      <td>32080</td>\n",
       "      <td>1</td>\n",
       "      <td>95.00%</td>\n",
       "      <td>NaN</td>\n",
       "      <td>380 km</td>\n",
       "    </tr>\n",
       "    <tr>\n",
       "      <th>1</th>\n",
       "      <td>MisterGreen</td>\n",
       "      <td>101</td>\n",
       "      <td>NaN</td>\n",
       "      <td>NaN</td>\n",
       "      <td>NaN</td>\n",
       "      <td>85 kWh</td>\n",
       "      <td>2/2/15</td>\n",
       "      <td>NaN</td>\n",
       "      <td>mistergreen</td>\n",
       "      <td>NaN</td>\n",
       "      <td>...</td>\n",
       "      <td>NaN</td>\n",
       "      <td>50000</td>\n",
       "      <td>50000</td>\n",
       "      <td>0</td>\n",
       "      <td>50,000 km</td>\n",
       "      <td>50000</td>\n",
       "      <td>1</td>\n",
       "      <td>96.50%</td>\n",
       "      <td>NaN</td>\n",
       "      <td>386 km</td>\n",
       "    </tr>\n",
       "    <tr>\n",
       "      <th>2</th>\n",
       "      <td>Go4IT</td>\n",
       "      <td>7</td>\n",
       "      <td>1.65.15</td>\n",
       "      <td>220 Wh/km</td>\n",
       "      <td>B</td>\n",
       "      <td>85 kWh</td>\n",
       "      <td>9/19/14</td>\n",
       "      <td>V6.0</td>\n",
       "      <td>go4it</td>\n",
       "      <td>9/10/13</td>\n",
       "      <td>...</td>\n",
       "      <td>220 Wh/km</td>\n",
       "      <td>67000</td>\n",
       "      <td>67000</td>\n",
       "      <td>0</td>\n",
       "      <td>67,000 km</td>\n",
       "      <td>67000</td>\n",
       "      <td>1</td>\n",
       "      <td>96.30%</td>\n",
       "      <td>482.0</td>\n",
       "      <td>385 km</td>\n",
       "    </tr>\n",
       "    <tr>\n",
       "      <th>3</th>\n",
       "      <td>Go4IT</td>\n",
       "      <td>53</td>\n",
       "      <td>1.65.15</td>\n",
       "      <td>210 Wh/km</td>\n",
       "      <td>B</td>\n",
       "      <td>85 kWh</td>\n",
       "      <td>11/10/14</td>\n",
       "      <td>V6.0</td>\n",
       "      <td>go4it</td>\n",
       "      <td>9/10/13</td>\n",
       "      <td>...</td>\n",
       "      <td>218 Wh/km</td>\n",
       "      <td>73000</td>\n",
       "      <td>73000</td>\n",
       "      <td>0</td>\n",
       "      <td>73,000 km</td>\n",
       "      <td>73000</td>\n",
       "      <td>1</td>\n",
       "      <td>94.80%</td>\n",
       "      <td>475.0</td>\n",
       "      <td>379 km</td>\n",
       "    </tr>\n",
       "    <tr>\n",
       "      <th>4</th>\n",
       "      <td>Go4IT</td>\n",
       "      <td>60</td>\n",
       "      <td>1.65.15</td>\n",
       "      <td>220 Wh/km</td>\n",
       "      <td>B</td>\n",
       "      <td>85 kWh</td>\n",
       "      <td>11/25/14</td>\n",
       "      <td>V6.0</td>\n",
       "      <td>go4it</td>\n",
       "      <td>9/10/13</td>\n",
       "      <td>...</td>\n",
       "      <td>220 Wh/km</td>\n",
       "      <td>74500</td>\n",
       "      <td>74500</td>\n",
       "      <td>0</td>\n",
       "      <td>74,500 km</td>\n",
       "      <td>74500</td>\n",
       "      <td>1</td>\n",
       "      <td>95.00%</td>\n",
       "      <td>476.0</td>\n",
       "      <td>380 km</td>\n",
       "    </tr>\n",
       "  </tbody>\n",
       "</table>\n",
       "<p>5 rows × 26 columns</p>\n",
       "</div>"
      ],
      "text/plain": [
       "     forumnaam   ID firmwarerelease gemiddeld verbruik (bin) batterijtype  \\\n",
       "0     RealNuke   76             NaN                270 Wh/km          NaN   \n",
       "1  MisterGreen  101             NaN                      NaN          NaN   \n",
       "2        Go4IT    7         1.65.15                220 Wh/km            B   \n",
       "3        Go4IT   53         1.65.15                210 Wh/km            B   \n",
       "4        Go4IT   60         1.65.15                220 Wh/km            B   \n",
       "\n",
       "  batterijvermogen datum invoer firmwareversie forumnaam (copy) leverdatum  \\\n",
       "0           85 kWh      1/15/15           V6.1         realnuke        NaN   \n",
       "1           85 kWh       2/2/15            NaN      mistergreen        NaN   \n",
       "2           85 kWh      9/19/14           V6.0            go4it    9/10/13   \n",
       "3           85 kWh     11/10/14           V6.0            go4it    9/10/13   \n",
       "4           85 kWh     11/25/14           V6.0            go4it    9/10/13   \n",
       "\n",
       "   ... gemiddeld verbruik kmstand kmstand berekening  \\\n",
       "0  ...          270 Wh/km   32080              32080   \n",
       "1  ...                NaN   50000              50000   \n",
       "2  ...          220 Wh/km   67000              67000   \n",
       "3  ...          218 Wh/km   73000              73000   \n",
       "4  ...          220 Wh/km   74500              74500   \n",
       "\n",
       "   kmstand bij vervanging batterij  kmstand huidige batterij  \\\n",
       "0                                0                 32,080 km   \n",
       "1                                0                 50,000 km   \n",
       "2                                0                 67,000 km   \n",
       "3                                0                 73,000 km   \n",
       "4                                0                 74,500 km   \n",
       "\n",
       "   kmstand huidige batterij.1 Number of Records  percentage  rated range  \\\n",
       "0                       32080                 1      95.00%          NaN   \n",
       "1                       50000                 1      96.50%          NaN   \n",
       "2                       67000                 1      96.30%        482.0   \n",
       "3                       73000                 1      94.80%        475.0   \n",
       "4                       74500                 1      95.00%        476.0   \n",
       "\n",
       "   typical range  \n",
       "0         380 km  \n",
       "1         386 km  \n",
       "2         385 km  \n",
       "3         379 km  \n",
       "4         380 km  \n",
       "\n",
       "[5 rows x 26 columns]"
      ]
     },
     "execution_count": 27,
     "metadata": {},
     "output_type": "execute_result"
    }
   ],
   "source": [
    "# Cargar los datos de la bateria de Tesla\n",
    "\n",
    "data = pd.read_csv('../data/tesla-battery.csv')\n",
    "print(data.shape)\n",
    "data.head()"
   ]
  },
  {
   "cell_type": "code",
   "execution_count": 28,
   "metadata": {},
   "outputs": [],
   "source": [
    "# Kilometraje Actual de la Bateria (formato 32,080 km)\n",
    "X = data[\"kmstand huidige batterij\"]\n",
    "\n",
    "# Porcentaje del rango disponible (formato 95.00%)\n",
    "y = data[\"percentage\"]\n",
    "\n",
    "#  ====  Otros datos para formato ====\n",
    "\n",
    "# hay dos tipos de baterias 85kWh y 60kWh\n",
    "potencia = data[\"batterijvermogen\"]"
   ]
  },
  {
   "cell_type": "code",
   "execution_count": 29,
   "metadata": {},
   "outputs": [],
   "source": [
    "# limpieza de datos\n",
    "X = [int(re.sub(\"[^0-9]\", \"\", a)) for a in X]\n",
    "y = [int(re.sub(\"[^0-9]\", \"\", b.split(\".\")[0])) for b in y]"
   ]
  },
  {
   "cell_type": "code",
   "execution_count": 30,
   "metadata": {},
   "outputs": [
    {
     "data": {
      "image/png": "[encoded data removed]",
      "text/plain": [
       "<Figure size 1440x720 with 1 Axes>"
      ]
     },
     "metadata": {
      "needs_background": "light"
     },
     "output_type": "display_data"
    }
   ],
   "source": [
    "plt.figure(figsize=(20,10)) # tamano del cuadro\n",
    "\n",
    "plt.title(\"\")\n",
    "\n",
    "potencia_colores = {'85 kWh':'#26648E', '60 kWh':'#53D2DC'}\n",
    "colors = potencia.apply(lambda x: potencia_colores[x])\n",
    "\n",
    "plt.scatter(X,y, c = colors, s = 80, alpha = 0.8)\n",
    "\n",
    "plt.xlabel(\"Kilometraje de la Bateria\")\n",
    "plt.xticks(rotation=45) \n",
    "plt.xticks(np.arange(0, 95000, 5000.0))\n",
    "\n",
    "plt.yticks(np.arange(76, 105, 1.0))\n",
    "plt.ylabel(\"Porcentaje Del Rango Disponible\")\n",
    "\n",
    "plt.show()\n"
   ]
  },
  {
   "cell_type": "markdown",
   "metadata": {},
   "source": [
    "## Ejercicio Opcional:\n",
    "\n",
    "Utilice Sklearn para estimar un modelo que se ajuste a los datos recolectados.\n",
    "\n",
    "- Calcule los coeficientes\n",
    "- Estime el MSE\n",
    "- Realice la prediccion del rango disponible (y) para una bateria con (x = 80,000 km y x = 140,000) y despliegue su prediccion en el grafico como un punto de color rojo.\n",
    "- Para desplegar el grafico y el modelo **Utilize Plotly** no utilize matplotlib."
   ]
  },
  {
   "cell_type": "code",
   "execution_count": 31,
   "metadata": {},
   "outputs": [
    {
     "name": "stdout",
     "output_type": "stream",
     "text": [
      "b0: [97.46638223] b1: [-5.69854657e-05]\n"
     ]
    }
   ],
   "source": [
    "# 1. Estimacion de Coeficientes \n",
    "\n",
    "x_ = np.array(X).reshape(-1,1)\n",
    "y_ = np.array(y).reshape(-1,1)\n",
    "\n",
    "model = LinearRegression().fit(x_, y_)\n",
    "\n",
    "b_1 = model.coef_[0]\n",
    "b_0 = model.intercept_\n",
    "\n",
    "print(\"b0:\",b_0, \"b1:\", b_1)"
   ]
  },
  {
   "cell_type": "code",
   "execution_count": 32,
   "metadata": {},
   "outputs": [
    {
     "name": "stdout",
     "output_type": "stream",
     "text": [
      "MSE: 1.3716775330804307\n"
     ]
    }
   ],
   "source": [
    "# 2. Estimacion del MSE\n",
    "\n",
    "y_prima = model.predict(x_)\n",
    "\n",
    "mse = mean_squared_error(y, y_prima)\n",
    "print(\"MSE:\",mse)"
   ]
  },
  {
   "cell_type": "code",
   "execution_count": 69,
   "metadata": {},
   "outputs": [],
   "source": [
    "# 3. Prediccion de f(80,000)\n",
    "\n",
    "x1 = 80000\n",
    "y1 = model.predict([[x1]])\n",
    "\n",
    "x2 = 140000\n",
    "y2 = model.predict([[x2]])"
   ]
  },
  {
   "cell_type": "code",
   "execution_count": 122,
   "metadata": {},
   "outputs": [
    {
     "data": {
      "application/vnd.plotly.v1+json": {
       "config": {
        "plotlyServerURL": "https://plot.ly"
       },
       "data": [
        {
         "marker": {
          "color": [
           "#26648E",
           "#26648E",
           "#26648E",
           "#26648E",
           "#26648E",
           "#26648E",
           "#26648E",
           "#26648E",
           "#26648E",
           "#26648E",
           "#26648E",
           "#26648E",
           "#26648E",
           "#26648E",
           "#26648E",
           "#26648E",
           "#26648E",
           "#26648E",
           "#26648E",
           "#26648E",
           "#26648E",
           "#53D2DC",
           "#26648E",
           "#26648E",
           "#26648E",
           "#26648E",
           "#26648E",
           "#26648E",
           "#26648E",
           "#26648E",
           "#26648E",
           "#26648E",
           "#26648E",
           "#26648E",
           "#26648E",
           "#53D2DC",
           "#26648E",
           "#53D2DC",
           "#26648E",
           "#26648E",
           "#53D2DC",
           "#26648E",
           "#26648E",
           "#26648E",
           "#26648E",
           "#26648E",
           "#26648E",
           "#26648E",
           "#26648E",
           "#26648E",
           "#26648E",
           "#26648E",
           "#26648E",
           "#26648E",
           "#26648E",
           "#26648E",
           "#26648E",
           "#26648E",
           "#26648E",
           "#26648E",
           "#26648E",
           "#26648E",
           "#26648E",
           "#26648E",
           "#26648E",
           "#26648E",
           "#26648E",
           "#26648E",
           "#26648E",
           "#26648E",
           "#26648E",
           "#26648E",
           "#26648E",
           "#53D2DC",
           "#53D2DC",
           "#26648E",
           "#26648E",
           "#26648E",
           "#26648E",
           "#26648E",
           "#26648E",
           "#26648E",
           "#26648E",
           "#26648E",
           "#26648E",
           "#26648E",
           "#26648E",
           "#26648E",
           "#26648E",
           "#26648E",
           "#26648E",
           "#26648E",
           "#26648E",
           "#26648E",
           "#26648E",
           "#26648E",
           "#26648E",
           "#26648E",
           "#26648E"
          ]
         },
         "mode": "markers",
         "name": "Datos",
         "type": "scatter",
         "x": [
          32080,
          50000,
          67000,
          73000,
          74500,
          84000,
          6000,
          17000,
          39200,
          26000,
          22507,
          34000,
          29481,
          37000,
          49600,
          54000,
          59500,
          63000,
          21000,
          30650,
          16045,
          15300,
          21530,
          13526,
          36369,
          20302,
          7244,
          23700,
          35000,
          42000,
          45000,
          33366,
          27000,
          27000,
          39000,
          14995,
          11600,
          19700,
          45050,
          20500,
          23373,
          17800,
          36000,
          47352,
          20200,
          33150,
          45845,
          16100,
          3700,
          25776,
          25806,
          24000,
          21500,
          34000,
          32000,
          25050,
          65065,
          73353,
          23945,
          33000,
          33598,
          22850,
          33000,
          46000,
          21845,
          61500,
          14977,
          19800,
          24325,
          20509,
          32000,
          40670,
          12000,
          9161,
          14267,
          14000,
          6053,
          10000,
          6548,
          4397,
          8598,
          18500,
          7100,
          3434,
          8000,
          1136,
          4517,
          7024,
          9732,
          12199,
          13425,
          7330,
          950,
          2650,
          3600,
          4178,
          5500,
          980,
          23056
         ],
         "y": [
          95,
          96,
          96,
          94,
          95,
          93,
          98,
          96,
          96,
          97,
          95,
          95,
          96,
          93,
          96,
          94,
          93,
          93,
          94,
          95,
          95,
          98,
          97,
          97,
          94,
          97,
          97,
          97,
          95,
          95,
          94,
          98,
          95,
          95,
          94,
          97,
          96,
          98,
          94,
          94,
          97,
          96,
          94,
          94,
          96,
          94,
          97,
          95,
          96,
          95,
          95,
          95,
          95,
          95,
          95,
          97,
          93,
          95,
          96,
          96,
          96,
          96,
          93,
          95,
          98,
          93,
          98,
          96,
          96,
          97,
          98,
          96,
          97,
          96,
          93,
          97,
          98,
          97,
          96,
          98,
          97,
          95,
          97,
          98,
          97,
          99,
          98,
          98,
          98,
          98,
          97,
          97,
          98,
          98,
          98,
          99,
          98,
          98,
          96
         ]
        },
        {
         "mode": "lines",
         "name": "Tendencia",
         "type": "scatter",
         "x": [
          32080,
          50000,
          67000,
          73000,
          74500,
          84000,
          6000,
          17000,
          39200,
          26000,
          22507,
          34000,
          29481,
          37000,
          49600,
          54000,
          59500,
          63000,
          21000,
          30650,
          16045,
          15300,
          21530,
          13526,
          36369,
          20302,
          7244,
          23700,
          35000,
          42000,
          45000,
          33366,
          27000,
          27000,
          39000,
          14995,
          11600,
          19700,
          45050,
          20500,
          23373,
          17800,
          36000,
          47352,
          20200,
          33150,
          45845,
          16100,
          3700,
          25776,
          25806,
          24000,
          21500,
          34000,
          32000,
          25050,
          65065,
          73353,
          23945,
          33000,
          33598,
          22850,
          33000,
          46000,
          21845,
          61500,
          14977,
          19800,
          24325,
          20509,
          32000,
          40670,
          12000,
          9161,
          14267,
          14000,
          6053,
          10000,
          6548,
          4397,
          8598,
          18500,
          7100,
          3434,
          8000,
          1136,
          4517,
          7024,
          9732,
          12199,
          13425,
          7330,
          950,
          2650,
          3600,
          4178,
          5500,
          980,
          23056
         ],
         "y": [
          95.63828849657469,
          94.61710895195074,
          93.64835603573384,
          93.30644324177493,
          93.22096504328519,
          92.67960311951693,
          97.12446944098275,
          96.49762931872475,
          95.23255198107678,
          95.98476012778639,
          96.18381035933614,
          95.52887640250783,
          95.78639372182455,
          95.35792000552838,
          94.63990313821468,
          94.38916708931147,
          94.07574702818248,
          93.87629789837311,
          96.26968745608548,
          95.71977771246823,
          96.55205043842987,
          96.59450461034645,
          96.23948515928578,
          96.69559682642696,
          95.39387783435973,
          96.30946331111603,
          97.05357952170193,
          96.11582669880397,
          95.47189093684803,
          95.0729926772293,
          94.90203628024983,
          95.56500518773616,
          95.92777466212657,
          95.92777466212657,
          95.24394907420874,
          96.61188517737268,
          96.80535083328778,
          96.34376856144324,
          94.89918700696684,
          96.29818018891538,
          96.13446094607473,
          96.4520409461969,
          95.4149054711882,
          94.76800646501795,
          96.31527582861334,
          95.57731404831868,
          94.85388356176729,
          96.54891623781859,
          97.25553601200033,
          95.99752487209419,
          95.99581530812439,
          96.09873105910602,
          96.24119472325557,
          95.52887640250783,
          95.64284733382748,
          96.03889632016322,
          93.75862291178558,
          93.28632737239701,
          96.10186525971731,
          95.58586186816765,
          95.55178455970308,
          96.1642643446148,
          95.58586186816765,
          94.84505081459002,
          96.22153473760294,
          93.96177609686283,
          96.61291091575457,
          96.33807001487726,
          96.08021078276658,
          96.29766731972445,
          95.64284733382748,
          95.14878334655685,
          96.78255664702384,
          96.94433838403206,
          96.65337059637304,
          96.66858571570421,
          97.12144921130277,
          96.89652757834348,
          97.09324140580117,
          97.21581714243544,
          96.97642120119855,
          96.41215112023502,
          97.06178542875695,
          97.27069414586585,
          97.01049850966311,
          97.4016467459521,
          97.20897888655627,
          97.0661163241471,
          96.91179968314032,
          96.77121653935754,
          96.7013523584586,
          97.04867877165519,
          97.41224604256483,
          97.31537075094315,
          97.26123455856631,
          97.22829695941495,
          97.15296217381267,
          97.41053647859503,
          96.15252533868889
         ]
        },
        {
         "marker": {
          "color": "green",
          "size": [
           15
          ],
          "symbol": "star"
         },
         "mode": "markers",
         "name": "80k",
         "type": "scatter",
         "x": [
          80000
         ],
         "y": [
          92.9075449821562
         ]
        },
        {
         "marker": {
          "color": "red",
          "size": [
           15
          ],
          "symbol": "star"
         },
         "mode": "markers",
         "name": "140k",
         "type": "scatter",
         "x": [
          140000
         ],
         "y": [
          89.4884170425671
         ]
        }
       ],
       "layout": {
        "template": {
         "data": {
          "bar": [
           {
            "error_x": {
             "color": "#2a3f5f"
            },
            "error_y": {
             "color": "#2a3f5f"
            },
            "marker": {
             "line": {
              "color": "#E5ECF6",
              "width": 0.5
             }
            },
            "type": "bar"
           }
          ],
          "barpolar": [
           {
            "marker": {
             "line": {
              "color": "#E5ECF6",
              "width": 0.5
             }
            },
            "type": "barpolar"
           }
          ],
          "carpet": [
           {
            "aaxis": {
             "endlinecolor": "#2a3f5f",
             "gridcolor": "white",
             "linecolor": "white",
             "minorgridcolor": "white",
             "startlinecolor": "#2a3f5f"
            },
            "baxis": {
             "endlinecolor": "#2a3f5f",
             "gridcolor": "white",
             "linecolor": "white",
             "minorgridcolor": "white",
             "startlinecolor": "#2a3f5f"
            },
            "type": "carpet"
           }
          ],
          "choropleth": [
           {
            "colorbar": {
             "outlinewidth": 0,
             "ticks": ""
            },
            "type": "choropleth"
           }
          ],
          "contour": [
           {
            "colorbar": {
             "outlinewidth": 0,
             "ticks": ""
            },
            "colorscale": [
             [
              0,
              "#0d0887"
             ],
             [
              0.1111111111111111,
              "#46039f"
             ],
             [
              0.2222222222222222,
              "#7201a8"
             ],
             [
              0.3333333333333333,
              "#9c179e"
             ],
             [
              0.4444444444444444,
              "#bd3786"
             ],
             [
              0.5555555555555556,
              "#d8576b"
             ],
             [
              0.6666666666666666,
              "#ed7953"
             ],
             [
              0.7777777777777778,
              "#fb9f3a"
             ],
             [
              0.8888888888888888,
              "#fdca26"
             ],
             [
              1,
              "#f0f921"
             ]
            ],
            "type": "contour"
           }
          ],
          "contourcarpet": [
           {
            "colorbar": {
             "outlinewidth": 0,
             "ticks": ""
            },
            "type": "contourcarpet"
           }
          ],
          "heatmap": [
           {
            "colorbar": {
             "outlinewidth": 0,
             "ticks": ""
            },
            "colorscale": [
             [
              0,
              "#0d0887"
             ],
             [
              0.1111111111111111,
              "#46039f"
             ],
             [
              0.2222222222222222,
              "#7201a8"
             ],
             [
              0.3333333333333333,
              "#9c179e"
             ],
             [
              0.4444444444444444,
              "#bd3786"
             ],
             [
              0.5555555555555556,
              "#d8576b"
             ],
             [
              0.6666666666666666,
              "#ed7953"
             ],
             [
              0.7777777777777778,
              "#fb9f3a"
             ],
             [
              0.8888888888888888,
              "#fdca26"
             ],
             [
              1,
              "#f0f921"
             ]
            ],
            "type": "heatmap"
           }
          ],
          "heatmapgl": [
           {
            "colorbar": {
             "outlinewidth": 0,
             "ticks": ""
            },
            "colorscale": [
             [
              0,
              "#0d0887"
             ],
             [
              0.1111111111111111,
              "#46039f"
             ],
             [
              0.2222222222222222,
              "#7201a8"
             ],
             [
              0.3333333333333333,
              "#9c179e"
             ],
             [
              0.4444444444444444,
              "#bd3786"
             ],
             [
              0.5555555555555556,
              "#d8576b"
             ],
             [
              0.6666666666666666,
              "#ed7953"
             ],
             [
              0.7777777777777778,
              "#fb9f3a"
             ],
             [
              0.8888888888888888,
              "#fdca26"
             ],
             [
              1,
              "#f0f921"
             ]
            ],
            "type": "heatmapgl"
           }
          ],
          "histogram": [
           {
            "marker": {
             "colorbar": {
              "outlinewidth": 0,
              "ticks": ""
             }
            },
            "type": "histogram"
           }
          ],
          "histogram2d": [
           {
            "colorbar": {
             "outlinewidth": 0,
             "ticks": ""
            },
            "colorscale": [
             [
              0,
              "#0d0887"
             ],
             [
              0.1111111111111111,
              "#46039f"
             ],
             [
              0.2222222222222222,
              "#7201a8"
             ],
             [
              0.3333333333333333,
              "#9c179e"
             ],
             [
              0.4444444444444444,
              "#bd3786"
             ],
             [
              0.5555555555555556,
              "#d8576b"
             ],
             [
              0.6666666666666666,
              "#ed7953"
             ],
             [
              0.7777777777777778,
              "#fb9f3a"
             ],
             [
              0.8888888888888888,
              "#fdca26"
             ],
             [
              1,
              "#f0f921"
             ]
            ],
            "type": "histogram2d"
           }
          ],
          "histogram2dcontour": [
           {
            "colorbar": {
             "outlinewidth": 0,
             "ticks": ""
            },
            "colorscale": [
             [
              0,
              "#0d0887"
             ],
             [
              0.1111111111111111,
              "#46039f"
             ],
             [
              0.2222222222222222,
              "#7201a8"
             ],
             [
              0.3333333333333333,
              "#9c179e"
             ],
             [
              0.4444444444444444,
              "#bd3786"
             ],
             [
              0.5555555555555556,
              "#d8576b"
             ],
             [
              0.6666666666666666,
              "#ed7953"
             ],
             [
              0.7777777777777778,
              "#fb9f3a"
             ],
             [
              0.8888888888888888,
              "#fdca26"
             ],
             [
              1,
              "#f0f921"
             ]
            ],
            "type": "histogram2dcontour"
           }
          ],
          "mesh3d": [
           {
            "colorbar": {
             "outlinewidth": 0,
             "ticks": ""
            },
            "type": "mesh3d"
           }
          ],
          "parcoords": [
           {
            "line": {
             "colorbar": {
              "outlinewidth": 0,
              "ticks": ""
             }
            },
            "type": "parcoords"
           }
          ],
          "pie": [
           {
            "automargin": true,
            "type": "pie"
           }
          ],
          "scatter": [
           {
            "marker": {
             "colorbar": {
              "outlinewidth": 0,
              "ticks": ""
             }
            },
            "type": "scatter"
           }
          ],
          "scatter3d": [
           {
            "line": {
             "colorbar": {
              "outlinewidth": 0,
              "ticks": ""
             }
            },
            "marker": {
             "colorbar": {
              "outlinewidth": 0,
              "ticks": ""
             }
            },
            "type": "scatter3d"
           }
          ],
          "scattercarpet": [
           {
            "marker": {
             "colorbar": {
              "outlinewidth": 0,
              "ticks": ""
             }
            },
            "type": "scattercarpet"
           }
          ],
          "scattergeo": [
           {
            "marker": {
             "colorbar": {
              "outlinewidth": 0,
              "ticks": ""
             }
            },
            "type": "scattergeo"
           }
          ],
          "scattergl": [
           {
            "marker": {
             "colorbar": {
              "outlinewidth": 0,
              "ticks": ""
             }
            },
            "type": "scattergl"
           }
          ],
          "scattermapbox": [
           {
            "marker": {
             "colorbar": {
              "outlinewidth": 0,
              "ticks": ""
             }
            },
            "type": "scattermapbox"
           }
          ],
          "scatterpolar": [
           {
            "marker": {
             "colorbar": {
              "outlinewidth": 0,
              "ticks": ""
             }
            },
            "type": "scatterpolar"
           }
          ],
          "scatterpolargl": [
           {
            "marker": {
             "colorbar": {
              "outlinewidth": 0,
              "ticks": ""
             }
            },
            "type": "scatterpolargl"
           }
          ],
          "scatterternary": [
           {
            "marker": {
             "colorbar": {
              "outlinewidth": 0,
              "ticks": ""
             }
            },
            "type": "scatterternary"
           }
          ],
          "surface": [
           {
            "colorbar": {
             "outlinewidth": 0,
             "ticks": ""
            },
            "colorscale": [
             [
              0,
              "#0d0887"
             ],
             [
              0.1111111111111111,
              "#46039f"
             ],
             [
              0.2222222222222222,
              "#7201a8"
             ],
             [
              0.3333333333333333,
              "#9c179e"
             ],
             [
              0.4444444444444444,
              "#bd3786"
             ],
             [
              0.5555555555555556,
              "#d8576b"
             ],
             [
              0.6666666666666666,
              "#ed7953"
             ],
             [
              0.7777777777777778,
              "#fb9f3a"
             ],
             [
              0.8888888888888888,
              "#fdca26"
             ],
             [
              1,
              "#f0f921"
             ]
            ],
            "type": "surface"
           }
          ],
          "table": [
           {
            "cells": {
             "fill": {
              "color": "#EBF0F8"
             },
             "line": {
              "color": "white"
             }
            },
            "header": {
             "fill": {
              "color": "#C8D4E3"
             },
             "line": {
              "color": "white"
             }
            },
            "type": "table"
           }
          ]
         },
         "layout": {
          "annotationdefaults": {
           "arrowcolor": "#2a3f5f",
           "arrowhead": 0,
           "arrowwidth": 1
          },
          "coloraxis": {
           "colorbar": {
            "outlinewidth": 0,
            "ticks": ""
           }
          },
          "colorscale": {
           "diverging": [
            [
             0,
             "#8e0152"
            ],
            [
             0.1,
             "#c51b7d"
            ],
            [
             0.2,
             "#de77ae"
            ],
            [
             0.3,
             "#f1b6da"
            ],
            [
             0.4,
             "#fde0ef"
            ],
            [
             0.5,
             "#f7f7f7"
            ],
            [
             0.6,
             "#e6f5d0"
            ],
            [
             0.7,
             "#b8e186"
            ],
            [
             0.8,
             "#7fbc41"
            ],
            [
             0.9,
             "#4d9221"
            ],
            [
             1,
             "#276419"
            ]
           ],
           "sequential": [
            [
             0,
             "#0d0887"
            ],
            [
             0.1111111111111111,
             "#46039f"
            ],
            [
             0.2222222222222222,
             "#7201a8"
            ],
            [
             0.3333333333333333,
             "#9c179e"
            ],
            [
             0.4444444444444444,
             "#bd3786"
            ],
            [
             0.5555555555555556,
             "#d8576b"
            ],
            [
             0.6666666666666666,
             "#ed7953"
            ],
            [
             0.7777777777777778,
             "#fb9f3a"
            ],
            [
             0.8888888888888888,
             "#fdca26"
            ],
            [
             1,
             "#f0f921"
            ]
           ],
           "sequentialminus": [
            [
             0,
             "#0d0887"
            ],
            [
             0.1111111111111111,
             "#46039f"
            ],
            [
             0.2222222222222222,
             "#7201a8"
            ],
            [
             0.3333333333333333,
             "#9c179e"
            ],
            [
             0.4444444444444444,
             "#bd3786"
            ],
            [
             0.5555555555555556,
             "#d8576b"
            ],
            [
             0.6666666666666666,
             "#ed7953"
            ],
            [
             0.7777777777777778,
             "#fb9f3a"
            ],
            [
             0.8888888888888888,
             "#fdca26"
            ],
            [
             1,
             "#f0f921"
            ]
           ]
          },
          "colorway": [
           "#636efa",
           "#EF553B",
           "#00cc96",
           "#ab63fa",
           "#FFA15A",
           "#19d3f3",
           "#FF6692",
           "#B6E880",
           "#FF97FF",
           "#FECB52"
          ],
          "font": {
           "color": "#2a3f5f"
          },
          "geo": {
           "bgcolor": "white",
           "lakecolor": "white",
           "landcolor": "#E5ECF6",
           "showlakes": true,
           "showland": true,
           "subunitcolor": "white"
          },
          "hoverlabel": {
           "align": "left"
          },
          "hovermode": "closest",
          "mapbox": {
           "style": "light"
          },
          "paper_bgcolor": "white",
          "plot_bgcolor": "#E5ECF6",
          "polar": {
           "angularaxis": {
            "gridcolor": "white",
            "linecolor": "white",
            "ticks": ""
           },
           "bgcolor": "#E5ECF6",
           "radialaxis": {
            "gridcolor": "white",
            "linecolor": "white",
            "ticks": ""
           }
          },
          "scene": {
           "xaxis": {
            "backgroundcolor": "#E5ECF6",
            "gridcolor": "white",
            "gridwidth": 2,
            "linecolor": "white",
            "showbackground": true,
            "ticks": "",
            "zerolinecolor": "white"
           },
           "yaxis": {
            "backgroundcolor": "#E5ECF6",
            "gridcolor": "white",
            "gridwidth": 2,
            "linecolor": "white",
            "showbackground": true,
            "ticks": "",
            "zerolinecolor": "white"
           },
           "zaxis": {
            "backgroundcolor": "#E5ECF6",
            "gridcolor": "white",
            "gridwidth": 2,
            "linecolor": "white",
            "showbackground": true,
            "ticks": "",
            "zerolinecolor": "white"
           }
          },
          "shapedefaults": {
           "line": {
            "color": "#2a3f5f"
           }
          },
          "ternary": {
           "aaxis": {
            "gridcolor": "white",
            "linecolor": "white",
            "ticks": ""
           },
           "baxis": {
            "gridcolor": "white",
            "linecolor": "white",
            "ticks": ""
           },
           "bgcolor": "#E5ECF6",
           "caxis": {
            "gridcolor": "white",
            "linecolor": "white",
            "ticks": ""
           }
          },
          "title": {
           "x": 0.05
          },
          "xaxis": {
           "automargin": true,
           "gridcolor": "white",
           "linecolor": "white",
           "ticks": "",
           "title": {
            "standoff": 15
           },
           "zerolinecolor": "white",
           "zerolinewidth": 2
          },
          "yaxis": {
           "automargin": true,
           "gridcolor": "white",
           "linecolor": "white",
           "ticks": "",
           "title": {
            "standoff": 15
           },
           "zerolinecolor": "white",
           "zerolinewidth": 2
          }
         }
        },
        "title": {
         "text": "Porcentaje Disponible de la Bateria del Tesla Modelo S"
        },
        "yaxis": {
         "range": [
          50,
          100
         ]
        }
       }
      },
      "text/html": [
       "<div>\n",
       "        \n",
       "        \n",
       "            <div id=\"9adcbac3-0729-4a7d-ad4d-a86f0b4300c1\" class=\"plotly-graph-div\" style=\"height:525px; width:100%;\"></div>\n",
       "            <script type=\"text/javascript\">\n",
       "                require([\"plotly\"], function(Plotly) {\n",
       "                    window.PLOTLYENV=window.PLOTLYENV || {};\n",
       "                    \n",
       "                if (document.getElementById(\"9adcbac3-0729-4a7d-ad4d-a86f0b4300c1\")) {\n",
       "                    Plotly.newPlot(\n",
       "                        '9adcbac3-0729-4a7d-ad4d-a86f0b4300c1',\n",
       "                        [{\"marker\": {\"color\": [\"#26648E\", \"#26648E\", \"#26648E\", \"#26648E\", \"#26648E\", \"#26648E\", \"#26648E\", \"#26648E\", \"#26648E\", \"#26648E\", \"#26648E\", \"#26648E\", \"#26648E\", \"#26648E\", \"#26648E\", \"#26648E\", \"#26648E\", \"#26648E\", \"#26648E\", \"#26648E\", \"#26648E\", \"#53D2DC\", \"#26648E\", \"#26648E\", \"#26648E\", \"#26648E\", \"#26648E\", \"#26648E\", \"#26648E\", \"#26648E\", \"#26648E\", \"#26648E\", \"#26648E\", \"#26648E\", \"#26648E\", \"#53D2DC\", \"#26648E\", \"#53D2DC\", \"#26648E\", \"#26648E\", \"#53D2DC\", \"#26648E\", \"#26648E\", \"#26648E\", \"#26648E\", \"#26648E\", \"#26648E\", \"#26648E\", \"#26648E\", \"#26648E\", \"#26648E\", \"#26648E\", \"#26648E\", \"#26648E\", \"#26648E\", \"#26648E\", \"#26648E\", \"#26648E\", \"#26648E\", \"#26648E\", \"#26648E\", \"#26648E\", \"#26648E\", \"#26648E\", \"#26648E\", \"#26648E\", \"#26648E\", \"#26648E\", \"#26648E\", \"#26648E\", \"#26648E\", \"#26648E\", \"#26648E\", \"#53D2DC\", \"#53D2DC\", \"#26648E\", \"#26648E\", \"#26648E\", \"#26648E\", \"#26648E\", \"#26648E\", \"#26648E\", \"#26648E\", \"#26648E\", \"#26648E\", \"#26648E\", \"#26648E\", \"#26648E\", \"#26648E\", \"#26648E\", \"#26648E\", \"#26648E\", \"#26648E\", \"#26648E\", \"#26648E\", \"#26648E\", \"#26648E\", \"#26648E\", \"#26648E\"]}, \"mode\": \"markers\", \"name\": \"Datos\", \"type\": \"scatter\", \"x\": [32080, 50000, 67000, 73000, 74500, 84000, 6000, 17000, 39200, 26000, 22507, 34000, 29481, 37000, 49600, 54000, 59500, 63000, 21000, 30650, 16045, 15300, 21530, 13526, 36369, 20302, 7244, 23700, 35000, 42000, 45000, 33366, 27000, 27000, 39000, 14995, 11600, 19700, 45050, 20500, 23373, 17800, 36000, 47352, 20200, 33150, 45845, 16100, 3700, 25776, 25806, 24000, 21500, 34000, 32000, 25050, 65065, 73353, 23945, 33000, 33598, 22850, 33000, 46000, 21845, 61500, 14977, 19800, 24325, 20509, 32000, 40670, 12000, 9161, 14267, 14000, 6053, 10000, 6548, 4397, 8598, 18500, 7100, 3434, 8000, 1136, 4517, 7024, 9732, 12199, 13425, 7330, 950, 2650, 3600, 4178, 5500, 980, 23056], \"y\": [95, 96, 96, 94, 95, 93, 98, 96, 96, 97, 95, 95, 96, 93, 96, 94, 93, 93, 94, 95, 95, 98, 97, 97, 94, 97, 97, 97, 95, 95, 94, 98, 95, 95, 94, 97, 96, 98, 94, 94, 97, 96, 94, 94, 96, 94, 97, 95, 96, 95, 95, 95, 95, 95, 95, 97, 93, 95, 96, 96, 96, 96, 93, 95, 98, 93, 98, 96, 96, 97, 98, 96, 97, 96, 93, 97, 98, 97, 96, 98, 97, 95, 97, 98, 97, 99, 98, 98, 98, 98, 97, 97, 98, 98, 98, 99, 98, 98, 96]}, {\"mode\": \"lines\", \"name\": \"Tendencia\", \"type\": \"scatter\", \"x\": [32080, 50000, 67000, 73000, 74500, 84000, 6000, 17000, 39200, 26000, 22507, 34000, 29481, 37000, 49600, 54000, 59500, 63000, 21000, 30650, 16045, 15300, 21530, 13526, 36369, 20302, 7244, 23700, 35000, 42000, 45000, 33366, 27000, 27000, 39000, 14995, 11600, 19700, 45050, 20500, 23373, 17800, 36000, 47352, 20200, 33150, 45845, 16100, 3700, 25776, 25806, 24000, 21500, 34000, 32000, 25050, 65065, 73353, 23945, 33000, 33598, 22850, 33000, 46000, 21845, 61500, 14977, 19800, 24325, 20509, 32000, 40670, 12000, 9161, 14267, 14000, 6053, 10000, 6548, 4397, 8598, 18500, 7100, 3434, 8000, 1136, 4517, 7024, 9732, 12199, 13425, 7330, 950, 2650, 3600, 4178, 5500, 980, 23056], \"y\": [95.63828849657469, 94.61710895195074, 93.64835603573384, 93.30644324177493, 93.22096504328519, 92.67960311951693, 97.12446944098275, 96.49762931872475, 95.23255198107678, 95.98476012778639, 96.18381035933614, 95.52887640250783, 95.78639372182455, 95.35792000552838, 94.63990313821468, 94.38916708931147, 94.07574702818248, 93.87629789837311, 96.26968745608548, 95.71977771246823, 96.55205043842987, 96.59450461034645, 96.23948515928578, 96.69559682642696, 95.39387783435973, 96.30946331111603, 97.05357952170193, 96.11582669880397, 95.47189093684803, 95.0729926772293, 94.90203628024983, 95.56500518773616, 95.92777466212657, 95.92777466212657, 95.24394907420874, 96.61188517737268, 96.80535083328778, 96.34376856144324, 94.89918700696684, 96.29818018891538, 96.13446094607473, 96.4520409461969, 95.4149054711882, 94.76800646501795, 96.31527582861334, 95.57731404831868, 94.85388356176729, 96.54891623781859, 97.25553601200033, 95.99752487209419, 95.99581530812439, 96.09873105910602, 96.24119472325557, 95.52887640250783, 95.64284733382748, 96.03889632016322, 93.75862291178558, 93.28632737239701, 96.10186525971731, 95.58586186816765, 95.55178455970308, 96.1642643446148, 95.58586186816765, 94.84505081459002, 96.22153473760294, 93.96177609686283, 96.61291091575457, 96.33807001487726, 96.08021078276658, 96.29766731972445, 95.64284733382748, 95.14878334655685, 96.78255664702384, 96.94433838403206, 96.65337059637304, 96.66858571570421, 97.12144921130277, 96.89652757834348, 97.09324140580117, 97.21581714243544, 96.97642120119855, 96.41215112023502, 97.06178542875695, 97.27069414586585, 97.01049850966311, 97.4016467459521, 97.20897888655627, 97.0661163241471, 96.91179968314032, 96.77121653935754, 96.7013523584586, 97.04867877165519, 97.41224604256483, 97.31537075094315, 97.26123455856631, 97.22829695941495, 97.15296217381267, 97.41053647859503, 96.15252533868889]}, {\"marker\": {\"color\": \"green\", \"size\": [15], \"symbol\": \"star\"}, \"mode\": \"markers\", \"name\": \"80k\", \"type\": \"scatter\", \"x\": [80000], \"y\": [92.9075449821562]}, {\"marker\": {\"color\": \"red\", \"size\": [15], \"symbol\": \"star\"}, \"mode\": \"markers\", \"name\": \"140k\", \"type\": \"scatter\", \"x\": [140000], \"y\": [89.4884170425671]}],\n",
       "                        {\"template\": {\"data\": {\"bar\": [{\"error_x\": {\"color\": \"#2a3f5f\"}, \"error_y\": {\"color\": \"#2a3f5f\"}, \"marker\": {\"line\": {\"color\": \"#E5ECF6\", \"width\": 0.5}}, \"type\": \"bar\"}], \"barpolar\": [{\"marker\": {\"line\": {\"color\": \"#E5ECF6\", \"width\": 0.5}}, \"type\": \"barpolar\"}], \"carpet\": [{\"aaxis\": {\"endlinecolor\": \"#2a3f5f\", \"gridcolor\": \"white\", \"linecolor\": \"white\", \"minorgridcolor\": \"white\", \"startlinecolor\": \"#2a3f5f\"}, \"baxis\": {\"endlinecolor\": \"#2a3f5f\", \"gridcolor\": \"white\", \"linecolor\": \"white\", \"minorgridcolor\": \"white\", \"startlinecolor\": \"#2a3f5f\"}, \"type\": \"carpet\"}], \"choropleth\": [{\"colorbar\": {\"outlinewidth\": 0, \"ticks\": \"\"}, \"type\": \"choropleth\"}], \"contour\": [{\"colorbar\": {\"outlinewidth\": 0, \"ticks\": \"\"}, \"colorscale\": [[0.0, \"#0d0887\"], [0.1111111111111111, \"#46039f\"], [0.2222222222222222, \"#7201a8\"], [0.3333333333333333, \"#9c179e\"], [0.4444444444444444, \"#bd3786\"], [0.5555555555555556, \"#d8576b\"], [0.6666666666666666, \"#ed7953\"], [0.7777777777777778, \"#fb9f3a\"], [0.8888888888888888, \"#fdca26\"], [1.0, \"#f0f921\"]], \"type\": \"contour\"}], \"contourcarpet\": [{\"colorbar\": {\"outlinewidth\": 0, \"ticks\": \"\"}, \"type\": \"contourcarpet\"}], \"heatmap\": [{\"colorbar\": {\"outlinewidth\": 0, \"ticks\": \"\"}, \"colorscale\": [[0.0, \"#0d0887\"], [0.1111111111111111, \"#46039f\"], [0.2222222222222222, \"#7201a8\"], [0.3333333333333333, \"#9c179e\"], [0.4444444444444444, \"#bd3786\"], [0.5555555555555556, \"#d8576b\"], [0.6666666666666666, \"#ed7953\"], [0.7777777777777778, \"#fb9f3a\"], [0.8888888888888888, \"#fdca26\"], [1.0, \"#f0f921\"]], \"type\": \"heatmap\"}], \"heatmapgl\": [{\"colorbar\": {\"outlinewidth\": 0, \"ticks\": \"\"}, \"colorscale\": [[0.0, \"#0d0887\"], [0.1111111111111111, \"#46039f\"], [0.2222222222222222, \"#7201a8\"], [0.3333333333333333, \"#9c179e\"], [0.4444444444444444, \"#bd3786\"], [0.5555555555555556, \"#d8576b\"], [0.6666666666666666, \"#ed7953\"], [0.7777777777777778, \"#fb9f3a\"], [0.8888888888888888, \"#fdca26\"], [1.0, \"#f0f921\"]], \"type\": \"heatmapgl\"}], \"histogram\": [{\"marker\": {\"colorbar\": {\"outlinewidth\": 0, \"ticks\": \"\"}}, \"type\": \"histogram\"}], \"histogram2d\": [{\"colorbar\": {\"outlinewidth\": 0, \"ticks\": \"\"}, \"colorscale\": [[0.0, \"#0d0887\"], [0.1111111111111111, \"#46039f\"], [0.2222222222222222, \"#7201a8\"], [0.3333333333333333, \"#9c179e\"], [0.4444444444444444, \"#bd3786\"], [0.5555555555555556, \"#d8576b\"], [0.6666666666666666, \"#ed7953\"], [0.7777777777777778, \"#fb9f3a\"], [0.8888888888888888, \"#fdca26\"], [1.0, \"#f0f921\"]], \"type\": \"histogram2d\"}], \"histogram2dcontour\": [{\"colorbar\": {\"outlinewidth\": 0, \"ticks\": \"\"}, \"colorscale\": [[0.0, \"#0d0887\"], [0.1111111111111111, \"#46039f\"], [0.2222222222222222, \"#7201a8\"], [0.3333333333333333, \"#9c179e\"], [0.4444444444444444, \"#bd3786\"], [0.5555555555555556, \"#d8576b\"], [0.6666666666666666, \"#ed7953\"], [0.7777777777777778, \"#fb9f3a\"], [0.8888888888888888, \"#fdca26\"], [1.0, \"#f0f921\"]], \"type\": \"histogram2dcontour\"}], \"mesh3d\": [{\"colorbar\": {\"outlinewidth\": 0, \"ticks\": \"\"}, \"type\": \"mesh3d\"}], \"parcoords\": [{\"line\": {\"colorbar\": {\"outlinewidth\": 0, \"ticks\": \"\"}}, \"type\": \"parcoords\"}], \"pie\": [{\"automargin\": true, \"type\": \"pie\"}], \"scatter\": [{\"marker\": {\"colorbar\": {\"outlinewidth\": 0, \"ticks\": \"\"}}, \"type\": \"scatter\"}], \"scatter3d\": [{\"line\": {\"colorbar\": {\"outlinewidth\": 0, \"ticks\": \"\"}}, \"marker\": {\"colorbar\": {\"outlinewidth\": 0, \"ticks\": \"\"}}, \"type\": \"scatter3d\"}], \"scattercarpet\": [{\"marker\": {\"colorbar\": {\"outlinewidth\": 0, \"ticks\": \"\"}}, \"type\": \"scattercarpet\"}], \"scattergeo\": [{\"marker\": {\"colorbar\": {\"outlinewidth\": 0, \"ticks\": \"\"}}, \"type\": \"scattergeo\"}], \"scattergl\": [{\"marker\": {\"colorbar\": {\"outlinewidth\": 0, \"ticks\": \"\"}}, \"type\": \"scattergl\"}], \"scattermapbox\": [{\"marker\": {\"colorbar\": {\"outlinewidth\": 0, \"ticks\": \"\"}}, \"type\": \"scattermapbox\"}], \"scatterpolar\": [{\"marker\": {\"colorbar\": {\"outlinewidth\": 0, \"ticks\": \"\"}}, \"type\": \"scatterpolar\"}], \"scatterpolargl\": [{\"marker\": {\"colorbar\": {\"outlinewidth\": 0, \"ticks\": \"\"}}, \"type\": \"scatterpolargl\"}], \"scatterternary\": [{\"marker\": {\"colorbar\": {\"outlinewidth\": 0, \"ticks\": \"\"}}, \"type\": \"scatterternary\"}], \"surface\": [{\"colorbar\": {\"outlinewidth\": 0, \"ticks\": \"\"}, \"colorscale\": [[0.0, \"#0d0887\"], [0.1111111111111111, \"#46039f\"], [0.2222222222222222, \"#7201a8\"], [0.3333333333333333, \"#9c179e\"], [0.4444444444444444, \"#bd3786\"], [0.5555555555555556, \"#d8576b\"], [0.6666666666666666, \"#ed7953\"], [0.7777777777777778, \"#fb9f3a\"], [0.8888888888888888, \"#fdca26\"], [1.0, \"#f0f921\"]], \"type\": \"surface\"}], \"table\": [{\"cells\": {\"fill\": {\"color\": \"#EBF0F8\"}, \"line\": {\"color\": \"white\"}}, \"header\": {\"fill\": {\"color\": \"#C8D4E3\"}, \"line\": {\"color\": \"white\"}}, \"type\": \"table\"}]}, \"layout\": {\"annotationdefaults\": {\"arrowcolor\": \"#2a3f5f\", \"arrowhead\": 0, \"arrowwidth\": 1}, \"coloraxis\": {\"colorbar\": {\"outlinewidth\": 0, \"ticks\": \"\"}}, \"colorscale\": {\"diverging\": [[0, \"#8e0152\"], [0.1, \"#c51b7d\"], [0.2, \"#de77ae\"], [0.3, \"#f1b6da\"], [0.4, \"#fde0ef\"], [0.5, \"#f7f7f7\"], [0.6, \"#e6f5d0\"], [0.7, \"#b8e186\"], [0.8, \"#7fbc41\"], [0.9, \"#4d9221\"], [1, \"#276419\"]], \"sequential\": [[0.0, \"#0d0887\"], [0.1111111111111111, \"#46039f\"], [0.2222222222222222, \"#7201a8\"], [0.3333333333333333, \"#9c179e\"], [0.4444444444444444, \"#bd3786\"], [0.5555555555555556, \"#d8576b\"], [0.6666666666666666, \"#ed7953\"], [0.7777777777777778, \"#fb9f3a\"], [0.8888888888888888, \"#fdca26\"], [1.0, \"#f0f921\"]], \"sequentialminus\": [[0.0, \"#0d0887\"], [0.1111111111111111, \"#46039f\"], [0.2222222222222222, \"#7201a8\"], [0.3333333333333333, \"#9c179e\"], [0.4444444444444444, \"#bd3786\"], [0.5555555555555556, \"#d8576b\"], [0.6666666666666666, \"#ed7953\"], [0.7777777777777778, \"#fb9f3a\"], [0.8888888888888888, \"#fdca26\"], [1.0, \"#f0f921\"]]}, \"colorway\": [\"#636efa\", \"#EF553B\", \"#00cc96\", \"#ab63fa\", \"#FFA15A\", \"#19d3f3\", \"#FF6692\", \"#B6E880\", \"#FF97FF\", \"#FECB52\"], \"font\": {\"color\": \"#2a3f5f\"}, \"geo\": {\"bgcolor\": \"white\", \"lakecolor\": \"white\", \"landcolor\": \"#E5ECF6\", \"showlakes\": true, \"showland\": true, \"subunitcolor\": \"white\"}, \"hoverlabel\": {\"align\": \"left\"}, \"hovermode\": \"closest\", \"mapbox\": {\"style\": \"light\"}, \"paper_bgcolor\": \"white\", \"plot_bgcolor\": \"#E5ECF6\", \"polar\": {\"angularaxis\": {\"gridcolor\": \"white\", \"linecolor\": \"white\", \"ticks\": \"\"}, \"bgcolor\": \"#E5ECF6\", \"radialaxis\": {\"gridcolor\": \"white\", \"linecolor\": \"white\", \"ticks\": \"\"}}, \"scene\": {\"xaxis\": {\"backgroundcolor\": \"#E5ECF6\", \"gridcolor\": \"white\", \"gridwidth\": 2, \"linecolor\": \"white\", \"showbackground\": true, \"ticks\": \"\", \"zerolinecolor\": \"white\"}, \"yaxis\": {\"backgroundcolor\": \"#E5ECF6\", \"gridcolor\": \"white\", \"gridwidth\": 2, \"linecolor\": \"white\", \"showbackground\": true, \"ticks\": \"\", \"zerolinecolor\": \"white\"}, \"zaxis\": {\"backgroundcolor\": \"#E5ECF6\", \"gridcolor\": \"white\", \"gridwidth\": 2, \"linecolor\": \"white\", \"showbackground\": true, \"ticks\": \"\", \"zerolinecolor\": \"white\"}}, \"shapedefaults\": {\"line\": {\"color\": \"#2a3f5f\"}}, \"ternary\": {\"aaxis\": {\"gridcolor\": \"white\", \"linecolor\": \"white\", \"ticks\": \"\"}, \"baxis\": {\"gridcolor\": \"white\", \"linecolor\": \"white\", \"ticks\": \"\"}, \"bgcolor\": \"#E5ECF6\", \"caxis\": {\"gridcolor\": \"white\", \"linecolor\": \"white\", \"ticks\": \"\"}}, \"title\": {\"x\": 0.05}, \"xaxis\": {\"automargin\": true, \"gridcolor\": \"white\", \"linecolor\": \"white\", \"ticks\": \"\", \"title\": {\"standoff\": 15}, \"zerolinecolor\": \"white\", \"zerolinewidth\": 2}, \"yaxis\": {\"automargin\": true, \"gridcolor\": \"white\", \"linecolor\": \"white\", \"ticks\": \"\", \"title\": {\"standoff\": 15}, \"zerolinecolor\": \"white\", \"zerolinewidth\": 2}}}, \"title\": {\"text\": \"Porcentaje Disponible de la Bateria del Tesla Modelo S\"}, \"yaxis\": {\"range\": [50, 100]}},\n",
       "                        {\"responsive\": true}\n",
       "                    ).then(function(){\n",
       "                            \n",
       "var gd = document.getElementById('9adcbac3-0729-4a7d-ad4d-a86f0b4300c1');\n",
       "var x = new MutationObserver(function (mutations, observer) {{\n",
       "        var display = window.getComputedStyle(gd).display;\n",
       "        if (!display || display === 'none') {{\n",
       "            console.log([gd, 'removed!']);\n",
       "            Plotly.purge(gd);\n",
       "            observer.disconnect();\n",
       "        }}\n",
       "}});\n",
       "\n",
       "// Listen for the removal of the full notebook cells\n",
       "var notebookContainer = gd.closest('#notebook-container');\n",
       "if (notebookContainer) {{\n",
       "    x.observe(notebookContainer, {childList: true});\n",
       "}}\n",
       "\n",
       "// Listen for the clearing of the current output cell\n",
       "var outputEl = gd.closest('.output');\n",
       "if (outputEl) {{\n",
       "    x.observe(outputEl, {childList: true});\n",
       "}}\n",
       "\n",
       "                        })\n",
       "                };\n",
       "                });\n",
       "            </script>\n",
       "        </div>"
      ]
     },
     "metadata": {},
     "output_type": "display_data"
    }
   ],
   "source": [
    "# 4. Desplegar todos los datos + la prediccion como un punto rojo (2)\n",
    "\n",
    "import numpy as np\n",
    "import plotly.graph_objects as go\n",
    "\n",
    "\n",
    "t = np.linspace(0, 10, 100)\n",
    "\n",
    "fig = go.Figure()\n",
    "\n",
    "fig.add_trace(go.Scatter(\n",
    "    x=X, y=y,\n",
    "    name='Datos',\n",
    "    mode='markers',\n",
    "    marker_color=colors\n",
    "))\n",
    "\n",
    "fig.add_trace(go.Scatter(x=X, y=y_prima.transpose()[0],\n",
    "                    mode='lines',\n",
    "                    name='Tendencia'))\n",
    "\n",
    "fig.add_trace(go.Scatter(\n",
    "    x=[x1], y=y1[0],\n",
    "    name='80k',\n",
    "    mode='markers',\n",
    "    marker=dict(size=[15],color=\"green\", symbol=\"star\")\n",
    "))\n",
    "\n",
    "fig.add_trace(go.Scatter(\n",
    "    x=[x2], y=y2[0],\n",
    "    name='140k',\n",
    "    mode='markers',\n",
    "    marker=dict(size=[15],color=\"red\", symbol=\"star\")\n",
    "))\n",
    "\n",
    "fig.update_layout(yaxis=dict(range=[50,100]), title=\"Porcentaje Disponible de la Bateria del Tesla Modelo S\")\n",
    "\n",
    "fig.show()"
   ]
  }
 ],
 "metadata": {
  "kernelspec": {
   "display_name": "Python 3",
   "language": "python",
   "name": "python3"
  },
  "language_info": {
   "codemirror_mode": {
    "name": "ipython",
    "version": 3
   },
   "file_extension": ".py",
   "mimetype": "text/x-python",
   "name": "python",
   "nbconvert_exporter": "python",
   "pygments_lexer": "ipython3",
   "version": "3.6.9"
  }
 },
 "nbformat": 4,
 "nbformat_minor": 4
}
