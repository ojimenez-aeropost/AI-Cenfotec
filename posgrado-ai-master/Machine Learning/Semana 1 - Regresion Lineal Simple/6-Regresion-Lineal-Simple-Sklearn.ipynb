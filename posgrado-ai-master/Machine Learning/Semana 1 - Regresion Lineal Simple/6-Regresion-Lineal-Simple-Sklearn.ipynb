{
 "cells": [
  {
   "cell_type": "markdown",
   "metadata": {},
   "source": [
    "## Regresion Lineal Simple con Sklearn!\n",
    "\n",
    "Sklearn todo lo hace fácil. Sin embargo hay que conocer de ML para utilizar esta útil librería!"
   ]
  },
  {
   "cell_type": "code",
   "execution_count": 7,
   "metadata": {},
   "outputs": [],
   "source": [
    "from sklearn import datasets\n",
    "import numpy as np\n",
    "import matplotlib.pyplot as plt\n",
    "from sklearn.model_selection import train_test_split"
   ]
  },
  {
   "cell_type": "code",
   "execution_count": 8,
   "metadata": {},
   "outputs": [],
   "source": [
    "X, y = datasets.load_diabetes(return_X_y=True)"
   ]
  },
  {
   "cell_type": "code",
   "execution_count": 9,
   "metadata": {},
   "outputs": [],
   "source": [
    "# variables X & y\n",
    "bmi = X[:, np.newaxis, 2]\n",
    "progreso = y\n",
    "\n",
    "# separacion de test de entrenamiento y test de prueba.\n",
    "bmi_train, bmi_test, progreso_train, progreso_test = train_test_split(bmi, progreso, test_size=0.30, random_state=42)"
   ]
  },
  {
   "cell_type": "code",
   "execution_count": 10,
   "metadata": {},
   "outputs": [
    {
     "name": "stdout",
     "output_type": "stream",
     "text": [
      "b0: [151.04202449] b1: [988.41931249] rss: 1204931.5308257274\n"
     ]
    }
   ],
   "source": [
    "from sklearn.linear_model import LinearRegression\n",
    "\n",
    "x = bmi_train\n",
    "y = progreso_train.reshape(-1,1)\n",
    "\n",
    "model = LinearRegression().fit(x, y)\n",
    "\n",
    "b_1 = model.coef_[0]\n",
    "b_0 = model.intercept_\n",
    "rss = np.sum((y - b_0 - b_1 * x)**2)\n",
    "\n",
    "print(\"b0:\",b_0, \"b1:\", b_1, \"rss:\", rss)"
   ]
  },
  {
   "cell_type": "code",
   "execution_count": 11,
   "metadata": {},
   "outputs": [
    {
     "data": {
      "image/png": "[encoded data removed]",
      "text/plain": [
       "<Figure size 432x288 with 1 Axes>"
      ]
     },
     "metadata": {
      "needs_background": "light"
     },
     "output_type": "display_data"
    }
   ],
   "source": [
    "plt.scatter(bmi_train,progreso_train, marker = \".\", s = 60, c = \"blue\")\n",
    "plt.xlabel(\"Bmi\")\n",
    "plt.ylabel(\"Progreso de la Enfermedad\")\n",
    "\n",
    "# aqui estimamos la linea de regresion con unos parametros beta inventados.\n",
    "y_prima = model.predict(bmi_train)\n",
    "\n",
    "# desplegamos el modelo que minimiza RSS\n",
    "plt.plot(bmi_train, y_prima, 'r--', c = \"magenta\")\n",
    "\n",
    "plt.show()"
   ]
  },
  {
   "cell_type": "code",
   "execution_count": 6,
   "metadata": {},
   "outputs": [
    {
     "name": "stdout",
     "output_type": "stream",
     "text": [
      "MSE: 3899.45479231627\n"
     ]
    }
   ],
   "source": [
    "from sklearn.metrics import mean_squared_error\n",
    "mse = mean_squared_error(progreso_train.reshape(-1,1), y_prima)\n",
    "print(\"MSE:\",mse)"
   ]
  },
  {
   "cell_type": "markdown",
   "metadata": {},
   "source": [
    "### Ejercicio en Clase: \n",
    "\n",
    "- a) Aplique el modelo generado sobre el set de pruebas.\n",
    "- b) Obtenga el MSE del set de pruebas y comparelo con el MSE del set de entrenamiento\n",
    "- c) Despliegue el set de pruebas y el modelo (la función de regresión) con Matplotlib "
   ]
  },
  {
   "cell_type": "code",
   "execution_count": 12,
   "metadata": {},
   "outputs": [],
   "source": [
    "# a) Aplique el modelo generado sobre el set de pruebas.\n",
    "\n",
    "## <SU CODIGO AQUI>"
   ]
  },
  {
   "cell_type": "code",
   "execution_count": 13,
   "metadata": {},
   "outputs": [],
   "source": [
    "# b) Obtenga el MSE del set de pruebas y comparelo con el MSE del set de entrenamiento\n",
    "\n",
    "## <SU CODIGO AQUI>"
   ]
  },
  {
   "cell_type": "code",
   "execution_count": 14,
   "metadata": {},
   "outputs": [],
   "source": [
    "# c) Despliegue el set de pruebas y el modelo (la función de regresión) con Matplotlib\n",
    "\n",
    "## <SU CODIGO AQUI>"
   ]
  }
 ],
 "metadata": {
  "kernelspec": {
   "display_name": "Python 3",
   "language": "python",
   "name": "python3"
  },
  "language_info": {
   "codemirror_mode": {
    "name": "ipython",
    "version": 3
   },
   "file_extension": ".py",
   "mimetype": "text/x-python",
   "name": "python",
   "nbconvert_exporter": "python",
   "pygments_lexer": "ipython3",
   "version": "3.6.9"
  }
 },
 "nbformat": 4,
 "nbformat_minor": 4
}
