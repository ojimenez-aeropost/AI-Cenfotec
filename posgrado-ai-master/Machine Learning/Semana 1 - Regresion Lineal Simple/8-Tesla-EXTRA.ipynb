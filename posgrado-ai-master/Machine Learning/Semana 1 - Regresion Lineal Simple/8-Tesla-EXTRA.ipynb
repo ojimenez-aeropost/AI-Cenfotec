{
 "cells": [
  {
   "cell_type": "markdown",
   "metadata": {},
   "source": [
    "## Degradacion de la Bateria del Tesla Modelo S"
   ]
  },
  {
   "cell_type": "code",
   "execution_count": 1,
   "metadata": {},
   "outputs": [],
   "source": [
    "import pandas as pd\n",
    "import matplotlib.pyplot as plt\n",
    "import re\n",
    "import numpy as np"
   ]
  },
  {
   "cell_type": "code",
   "execution_count": 19,
   "metadata": {},
   "outputs": [
    {
     "name": "stdout",
     "output_type": "stream",
     "text": [
      "(99, 26)\n"
     ]
    },
    {
     "data": {
      "text/html": [
       "<div>\n",
       "<style scoped>\n",
       "    .dataframe tbody tr th:only-of-type {\n",
       "        vertical-align: middle;\n",
       "    }\n",
       "\n",
       "    .dataframe tbody tr th {\n",
       "        vertical-align: top;\n",
       "    }\n",
       "\n",
       "    .dataframe thead th {\n",
       "        text-align: right;\n",
       "    }\n",
       "</style>\n",
       "<table border=\"1\" class=\"dataframe\">\n",
       "  <thead>\n",
       "    <tr style=\"text-align: right;\">\n",
       "      <th></th>\n",
       "      <th>forumnaam</th>\n",
       "      <th>ID</th>\n",
       "      <th>firmwarerelease</th>\n",
       "      <th>gemiddeld verbruik (bin)</th>\n",
       "      <th>batterijtype</th>\n",
       "      <th>batterijvermogen</th>\n",
       "      <th>datum invoer</th>\n",
       "      <th>firmwareversie</th>\n",
       "      <th>forumnaam (copy)</th>\n",
       "      <th>leverdatum</th>\n",
       "      <th>...</th>\n",
       "      <th>gemiddeld verbruik</th>\n",
       "      <th>kmstand</th>\n",
       "      <th>kmstand berekening</th>\n",
       "      <th>kmstand bij vervanging batterij</th>\n",
       "      <th>kmstand huidige batterij</th>\n",
       "      <th>kmstand huidige batterij.1</th>\n",
       "      <th>Number of Records</th>\n",
       "      <th>percentage</th>\n",
       "      <th>rated range</th>\n",
       "      <th>typical range</th>\n",
       "    </tr>\n",
       "  </thead>\n",
       "  <tbody>\n",
       "    <tr>\n",
       "      <th>0</th>\n",
       "      <td>RealNuke</td>\n",
       "      <td>76</td>\n",
       "      <td>NaN</td>\n",
       "      <td>270 Wh/km</td>\n",
       "      <td>NaN</td>\n",
       "      <td>85 kWh</td>\n",
       "      <td>1/15/15</td>\n",
       "      <td>V6.1</td>\n",
       "      <td>realnuke</td>\n",
       "      <td>NaN</td>\n",
       "      <td>...</td>\n",
       "      <td>270 Wh/km</td>\n",
       "      <td>32080</td>\n",
       "      <td>32080</td>\n",
       "      <td>0</td>\n",
       "      <td>32,080 km</td>\n",
       "      <td>32080</td>\n",
       "      <td>1</td>\n",
       "      <td>95.00%</td>\n",
       "      <td>NaN</td>\n",
       "      <td>380 km</td>\n",
       "    </tr>\n",
       "    <tr>\n",
       "      <th>1</th>\n",
       "      <td>MisterGreen</td>\n",
       "      <td>101</td>\n",
       "      <td>NaN</td>\n",
       "      <td>NaN</td>\n",
       "      <td>NaN</td>\n",
       "      <td>85 kWh</td>\n",
       "      <td>2/2/15</td>\n",
       "      <td>NaN</td>\n",
       "      <td>mistergreen</td>\n",
       "      <td>NaN</td>\n",
       "      <td>...</td>\n",
       "      <td>NaN</td>\n",
       "      <td>50000</td>\n",
       "      <td>50000</td>\n",
       "      <td>0</td>\n",
       "      <td>50,000 km</td>\n",
       "      <td>50000</td>\n",
       "      <td>1</td>\n",
       "      <td>96.50%</td>\n",
       "      <td>NaN</td>\n",
       "      <td>386 km</td>\n",
       "    </tr>\n",
       "    <tr>\n",
       "      <th>2</th>\n",
       "      <td>Go4IT</td>\n",
       "      <td>7</td>\n",
       "      <td>1.65.15</td>\n",
       "      <td>220 Wh/km</td>\n",
       "      <td>B</td>\n",
       "      <td>85 kWh</td>\n",
       "      <td>9/19/14</td>\n",
       "      <td>V6.0</td>\n",
       "      <td>go4it</td>\n",
       "      <td>9/10/13</td>\n",
       "      <td>...</td>\n",
       "      <td>220 Wh/km</td>\n",
       "      <td>67000</td>\n",
       "      <td>67000</td>\n",
       "      <td>0</td>\n",
       "      <td>67,000 km</td>\n",
       "      <td>67000</td>\n",
       "      <td>1</td>\n",
       "      <td>96.30%</td>\n",
       "      <td>482.0</td>\n",
       "      <td>385 km</td>\n",
       "    </tr>\n",
       "    <tr>\n",
       "      <th>3</th>\n",
       "      <td>Go4IT</td>\n",
       "      <td>53</td>\n",
       "      <td>1.65.15</td>\n",
       "      <td>210 Wh/km</td>\n",
       "      <td>B</td>\n",
       "      <td>85 kWh</td>\n",
       "      <td>11/10/14</td>\n",
       "      <td>V6.0</td>\n",
       "      <td>go4it</td>\n",
       "      <td>9/10/13</td>\n",
       "      <td>...</td>\n",
       "      <td>218 Wh/km</td>\n",
       "      <td>73000</td>\n",
       "      <td>73000</td>\n",
       "      <td>0</td>\n",
       "      <td>73,000 km</td>\n",
       "      <td>73000</td>\n",
       "      <td>1</td>\n",
       "      <td>94.80%</td>\n",
       "      <td>475.0</td>\n",
       "      <td>379 km</td>\n",
       "    </tr>\n",
       "    <tr>\n",
       "      <th>4</th>\n",
       "      <td>Go4IT</td>\n",
       "      <td>60</td>\n",
       "      <td>1.65.15</td>\n",
       "      <td>220 Wh/km</td>\n",
       "      <td>B</td>\n",
       "      <td>85 kWh</td>\n",
       "      <td>11/25/14</td>\n",
       "      <td>V6.0</td>\n",
       "      <td>go4it</td>\n",
       "      <td>9/10/13</td>\n",
       "      <td>...</td>\n",
       "      <td>220 Wh/km</td>\n",
       "      <td>74500</td>\n",
       "      <td>74500</td>\n",
       "      <td>0</td>\n",
       "      <td>74,500 km</td>\n",
       "      <td>74500</td>\n",
       "      <td>1</td>\n",
       "      <td>95.00%</td>\n",
       "      <td>476.0</td>\n",
       "      <td>380 km</td>\n",
       "    </tr>\n",
       "  </tbody>\n",
       "</table>\n",
       "<p>5 rows × 26 columns</p>\n",
       "</div>"
      ],
      "text/plain": [
       "     forumnaam   ID firmwarerelease gemiddeld verbruik (bin) batterijtype  \\\n",
       "0     RealNuke   76             NaN                270 Wh/km          NaN   \n",
       "1  MisterGreen  101             NaN                      NaN          NaN   \n",
       "2        Go4IT    7         1.65.15                220 Wh/km            B   \n",
       "3        Go4IT   53         1.65.15                210 Wh/km            B   \n",
       "4        Go4IT   60         1.65.15                220 Wh/km            B   \n",
       "\n",
       "  batterijvermogen datum invoer firmwareversie forumnaam (copy) leverdatum  \\\n",
       "0           85 kWh      1/15/15           V6.1         realnuke        NaN   \n",
       "1           85 kWh       2/2/15            NaN      mistergreen        NaN   \n",
       "2           85 kWh      9/19/14           V6.0            go4it    9/10/13   \n",
       "3           85 kWh     11/10/14           V6.0            go4it    9/10/13   \n",
       "4           85 kWh     11/25/14           V6.0            go4it    9/10/13   \n",
       "\n",
       "   ... gemiddeld verbruik kmstand kmstand berekening  \\\n",
       "0  ...          270 Wh/km   32080              32080   \n",
       "1  ...                NaN   50000              50000   \n",
       "2  ...          220 Wh/km   67000              67000   \n",
       "3  ...          218 Wh/km   73000              73000   \n",
       "4  ...          220 Wh/km   74500              74500   \n",
       "\n",
       "   kmstand bij vervanging batterij  kmstand huidige batterij  \\\n",
       "0                                0                 32,080 km   \n",
       "1                                0                 50,000 km   \n",
       "2                                0                 67,000 km   \n",
       "3                                0                 73,000 km   \n",
       "4                                0                 74,500 km   \n",
       "\n",
       "   kmstand huidige batterij.1 Number of Records  percentage  rated range  \\\n",
       "0                       32080                 1      95.00%          NaN   \n",
       "1                       50000                 1      96.50%          NaN   \n",
       "2                       67000                 1      96.30%        482.0   \n",
       "3                       73000                 1      94.80%        475.0   \n",
       "4                       74500                 1      95.00%        476.0   \n",
       "\n",
       "   typical range  \n",
       "0         380 km  \n",
       "1         386 km  \n",
       "2         385 km  \n",
       "3         379 km  \n",
       "4         380 km  \n",
       "\n",
       "[5 rows x 26 columns]"
      ]
     },
     "execution_count": 19,
     "metadata": {},
     "output_type": "execute_result"
    }
   ],
   "source": [
    "# Cargar los datos de la bateria de Tesla\n",
    "\n",
    "data = pd.read_csv('data/tesla-battery.csv')\n",
    "print(data.shape)\n",
    "data.head()"
   ]
  },
  {
   "cell_type": "code",
   "execution_count": 18,
   "metadata": {},
   "outputs": [],
   "source": [
    "# Kilometraje Actual de la Bateria (formato 32,080 km)\n",
    "X = data[\"kmstand huidige batterij\"]\n",
    "\n",
    "# Porcentaje del rango disponible (formato 95.00%)\n",
    "y = data[\"percentage\"]\n",
    "\n",
    "#  ====  Otros datos para formato ====\n",
    "\n",
    "# hay dos tipos de baterias 85kWh y 60kWh\n",
    "potencia = data[\"batterijvermogen\"]"
   ]
  },
  {
   "cell_type": "code",
   "execution_count": 4,
   "metadata": {},
   "outputs": [],
   "source": [
    "# limpieza de datos\n",
    "X = [int(re.sub(\"[^0-9]\", \"\", a)) for a in X]\n",
    "y = [int(re.sub(\"[^0-9]\", \"\", b.split(\".\")[0])) for b in y]"
   ]
  },
  {
   "cell_type": "code",
   "execution_count": 17,
   "metadata": {},
   "outputs": [
    {
     "data": {
      "image/png": "[encoded data removed]",
      "text/plain": [
       "<Figure size 1440x720 with 1 Axes>"
      ]
     },
     "metadata": {
      "needs_background": "light"
     },
     "output_type": "display_data"
    }
   ],
   "source": [
    "plt.figure(figsize=(20,10)) # tamano del cuadro\n",
    "\n",
    "plt.title(\"\")\n",
    "\n",
    "potencia_colores = {'85 kWh':'#26648E', '60 kWh':'#53D2DC'}\n",
    "colors = potencia.apply(lambda x: potencia_colores[x])\n",
    "\n",
    "plt.scatter(X,y, c = colors, s = 80, alpha = 0.8)\n",
    "\n",
    "plt.xlabel(\"Kilometraje de la Bateria\")\n",
    "plt.xticks(rotation=45) \n",
    "plt.xticks(np.arange(0, 95000, 5000.0))\n",
    "\n",
    "plt.yticks(np.arange(76, 105, 1.0))\n",
    "plt.ylabel(\"Porcentaje Del Rango Disponible\")\n",
    "\n",
    "plt.show()\n"
   ]
  },
  {
   "cell_type": "markdown",
   "metadata": {},
   "source": [
    "## Ejercicio Opcional:\n",
    "\n",
    "Utilice Sklearn para estimar un modelo que se ajuste a los datos recolectados.\n",
    "\n",
    "- Calcule los coeficientes\n",
    "- Estime el MSE\n",
    "- Realice la prediccion del rango disponible (y) para una bateria con (x = 80,000 km y x = 140,000) y despliegue su prediccion en el grafico como un punto de color rojo.\n",
    "- Para desplegar el grafico y el modelo **Utilize Plotly** no utilize matplotlib."
   ]
  },
  {
   "cell_type": "code",
   "execution_count": 20,
   "metadata": {},
   "outputs": [],
   "source": [
    "# 1. Estimacion de Coeficientes \n",
    "\n",
    "## <SU CODIGO AQUI>"
   ]
  },
  {
   "cell_type": "code",
   "execution_count": 21,
   "metadata": {},
   "outputs": [],
   "source": [
    "# 2. Estimacion del MSE\n",
    "\n",
    "## <SU CODIGO AQUI>"
   ]
  },
  {
   "cell_type": "code",
   "execution_count": 22,
   "metadata": {},
   "outputs": [],
   "source": [
    "# 3. Prediccion de f(80,000)\n",
    "\n",
    "## <SU CODIGO AQUI>"
   ]
  },
  {
   "cell_type": "code",
   "execution_count": 23,
   "metadata": {},
   "outputs": [],
   "source": [
    "# 4. Desplegar todos los datos + la prediccion como un punto rojo (2)\n",
    "\n",
    "## <SU CODIGO AQUI>"
   ]
  },
  {
   "cell_type": "code",
   "execution_count": null,
   "metadata": {},
   "outputs": [],
   "source": []
  }
 ],
 "metadata": {
  "kernelspec": {
   "display_name": "Python 3",
   "language": "python",
   "name": "python3"
  },
  "language_info": {
   "codemirror_mode": {
    "name": "ipython",
    "version": 3
   },
   "file_extension": ".py",
   "mimetype": "text/x-python",
   "name": "python",
   "nbconvert_exporter": "python",
   "pygments_lexer": "ipython3",
   "version": "3.6.9"
  }
 },
 "nbformat": 4,
 "nbformat_minor": 4
}
