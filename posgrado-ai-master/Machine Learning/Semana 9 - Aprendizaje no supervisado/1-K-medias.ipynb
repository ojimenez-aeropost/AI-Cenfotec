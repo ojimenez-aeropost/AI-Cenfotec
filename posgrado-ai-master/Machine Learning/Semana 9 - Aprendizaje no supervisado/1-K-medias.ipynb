{
 "cells": [
  {
   "cell_type": "markdown",
   "metadata": {},
   "source": [
    "# Algoritmo k-medias\n",
    "\n",
    "La agrupación en clústeres de k-medias es un método de cuantificación vectorial, que es popular para el análisis de clústeres en la minería de datos. El agrupamiento de k-medias tiene como objetivo dividir n observaciones en k grupos en los que cada observación pertenece al grupo con la media más cercana, sirviendo como un prototipo del grupo.\n",
    "\n",
    "* k-means busca dividir n observaciones en k particiones.\n",
    "* el centro de una partición se conoce como centroide\n",
    "* el centroide del grupo representa la media o la nueva media."
   ]
  },
  {
   "cell_type": "code",
   "execution_count": null,
   "metadata": {},
   "outputs": [],
   "source": [
    "import numpy as np\n",
    "import pandas as pd\n",
    "import matplotlib.pyplot as plt"
   ]
  },
  {
   "cell_type": "markdown",
   "metadata": {},
   "source": [
    "## Datos Aleatorios\n",
    "\n",
    "Vamos a generar un dataset no etiquetado donde vamos a intentar utilizar el algoritmo k-medias para reconocer los clústeres. En nuestro dataset existe una separación evidente para facilitar la comprensión del algoritmo."
   ]
  },
  {
   "cell_type": "code",
   "execution_count": null,
   "metadata": {},
   "outputs": [],
   "source": [
    "seed = 31 \n",
    "np.random.seed(seed)\n",
    "X = -2 * np.random.rand(100,2)\n",
    "X1 = 1 + 2 * np.random.rand(50,2)\n",
    "X[50:100, :] = X1\n",
    "plt.scatter(X[ : , 0], X[ :, 1], s = 50, c = 'b')"
   ]
  },
  {
   "cell_type": "markdown",
   "metadata": {},
   "source": [
    "## K Centroides\n",
    "\n",
    "El primer paso para utilizar k-medias es definir una serie de puntos aleatorios (X1,X2) que van a servir para ubicar los clústeres. Como nuestro dataset visiblemente tiene 2 clústeres, vamos entonces a definir k = 2.\n",
    "\n",
    "En geometria, se llama centroide o baricentro al punto donde se produce la intersección de las medianas que forman parte de un triángulo. Cabe recordar que una mediana es una recta que se traza desde un vértice de la figura hasta el punto que está en el medio del lado opuesto.\n",
    "\n",
    "\n",
    "<img src=\"https://definicion.de/wp-content/uploads/2016/08/centroide.jpg\" alt=\"centroide\">\n",
    "\n",
    "El siguiente código genera 2 centroides con posiciones X1,X2 aleatorias en el ámbito de los datos de nuestro dataset."
   ]
  },
  {
   "cell_type": "code",
   "execution_count": null,
   "metadata": {},
   "outputs": [],
   "source": [
    "np.random.seed(seed)\n",
    "k = 2\n",
    "min_x1, max_x1 = np.round(np.min(X[ : , 0])), np.round(np.max(X[ : , 0]))\n",
    "min_x2, max_x2 = np.round(np.min(X[ : , 1])), np.round(np.max(X[ : , 1]))\n",
    "\n",
    "centroids = {\n",
    "    i+1: [np.random.randint(min_x1, max_x1), np.random.randint(min_x2, max_x2)]\n",
    "    for i in range(k)\n",
    "}\n",
    "\n",
    "print(centroids)"
   ]
  },
  {
   "cell_type": "markdown",
   "metadata": {},
   "source": [
    "Vamos a imprimir los centroides generados con una marca roja y otra verde para visualizar su ubicación."
   ]
  },
  {
   "cell_type": "code",
   "execution_count": null,
   "metadata": {},
   "outputs": [],
   "source": [
    "np.random.seed(seed)\n",
    "X = -2 * np.random.rand(100,2)\n",
    "X1 = 1 + 2 * np.random.rand(50,2)\n",
    "X[50:100, :] = X1\n",
    "plt.scatter(X[ : , 0], X[ :, 1], s = 50, c = 'b')\n",
    "\n",
    "# imprimir los centroides generados\n",
    "colmap = {1: 'g', 2: 'b'}\n",
    "for i in centroids.keys():\n",
    "    plt.scatter(*centroids[i], color=colmap[i], marker=\"x\")"
   ]
  },
  {
   "cell_type": "markdown",
   "metadata": {},
   "source": [
    "## Distancia Euclidiana\n",
    "\n",
    "Vamos a utilizar la fórmula de la distancia euclidiana (revisar Semana 5 - vecinos más cercanos para mas detalle) para calcular la distancia de cada punto hacia los centroides. "
   ]
  },
  {
   "cell_type": "code",
   "execution_count": null,
   "metadata": {},
   "outputs": [],
   "source": [
    "def Distance(x,c1,c2):\n",
    "    X1 = x[:,0]\n",
    "    X2 = x[:,1]\n",
    "    SquareDiff_X1 = (c1 - X1)**2\n",
    "    SquareDiff_X2 = (c2 - X2)**2\n",
    "    Sum_X1_X2 = SquareDiff_X1 + SquareDiff_X2\n",
    "    Euclidean_Distance = np.sqrt(Sum_X1_X2)\n",
    "    return Euclidean_Distance\n",
    "\n",
    "Distances = {\n",
    "    i: [Distance(X, *centroids[i])]\n",
    "    for i in centroids.keys()\n",
    "}\n",
    "\n",
    "# Vamos a generar un dataframe para las distancias y el centroide mas cercano\n",
    "df = pd.DataFrame(columns=['X1','X2','Dist_1', 'Dist_2', 'CloseTo'])\n",
    "df[\"X1\"] = X[:,0]\n",
    "df[\"X2\"] = X[:,1]\n",
    "df[\"Dist_1\"] = np.array(Distances[1]).T\n",
    "df[\"Dist_2\"] = np.array(Distances[2]).T\n",
    "df[\"CloseTo\"] = [2 if x >= y else 1 for x,y in zip(df[\"Dist_1\"],df[\"Dist_2\"])]\n",
    "\n",
    "df.head()"
   ]
  },
  {
   "cell_type": "markdown",
   "metadata": {},
   "source": [
    "Vamos a colorear los puntos basados en el centroide mas cercano."
   ]
  },
  {
   "cell_type": "code",
   "execution_count": null,
   "metadata": {},
   "outputs": [],
   "source": [
    "colors = [\"g\" if x == 1 else \"b\" for x in df[\"CloseTo\"]]\n",
    "plt.scatter(df[\"X1\"], df[\"X2\"], s = 50, c = colors )\n",
    "plt.title(\"Basado en los Centroides Originales\")\n",
    "\n",
    "# imprimir los centroides generados\n",
    "colmap = {1: 'g', 2: 'b'}\n",
    "for i in centroids.keys():\n",
    "    plt.scatter(*centroids[i], color=colmap[i], marker=\"x\")"
   ]
  },
  {
   "cell_type": "markdown",
   "metadata": {},
   "source": [
    "## Recalcular los Centroides basados en la nueva media del grupo\n",
    "\n",
    "Los centroides originales causaron una separacion del dataset en dos. Ahora toca mover los centroides para que se ubiquen nuevamente en el centro de los grupos."
   ]
  },
  {
   "cell_type": "code",
   "execution_count": null,
   "metadata": {},
   "outputs": [],
   "source": [
    "import copy\n",
    "old_centroids = copy.deepcopy(centroids)\n",
    "\n",
    "def UpdateCentroids(cents):\n",
    "    for i in cents.keys():\n",
    "        cents[i][0] = np.mean(df[df['CloseTo'] == i]['X1'])\n",
    "        cents[i][1] = np.mean(df[df['CloseTo'] == i]['X2'])\n",
    "    return cents\n",
    "\n",
    "new_centroids = UpdateCentroids(old_centroids)\n",
    "\n",
    "\n",
    "np.random.seed(seed)\n",
    "X = -2 * np.random.rand(100,2)\n",
    "X1 = 1 + 2 * np.random.rand(50,2)\n",
    "X[50:100, :] = X1\n",
    "plt.scatter(X[ : , 0], X[ :, 1], s = 50, c = 'gray')\n",
    "\n",
    "# imprimir los centroides iniciales y los nuevos centroides\n",
    "colmap = {1: 'g', 2: 'b'}\n",
    "for i in centroids.keys():\n",
    "    plt.scatter(*centroids[i], color=colmap[i], marker=\"x\", s = 60, alpha= 0.3)\n",
    "    plt.scatter(*new_centroids[i], color=colmap[i], marker=\"x\", s = 60)"
   ]
  },
  {
   "cell_type": "markdown",
   "metadata": {},
   "source": [
    "Como pueden observar, los datos se mantiene iguales. pero los centroides se han movido al centro del grupo. Ahora volvemos a repetir el proceso de colorear los datos basados en los nuevos centroides."
   ]
  },
  {
   "cell_type": "code",
   "execution_count": null,
   "metadata": {},
   "outputs": [],
   "source": [
    "Distances = {\n",
    "    i: [Distance(X, *new_centroids[i])]\n",
    "    for i in new_centroids.keys()\n",
    "}\n",
    "\n",
    "df = pd.DataFrame(columns=['X1','X2','Dist_1', 'Dist_2', 'CloseTo'])\n",
    "df[\"X1\"] = X[:,0]\n",
    "df[\"X2\"] = X[:,1]\n",
    "df[\"Dist_1\"] = np.array(Distances[1]).T\n",
    "df[\"Dist_2\"] = np.array(Distances[2]).T\n",
    "df[\"CloseTo\"] = [2 if x >= y else 1 for x,y in zip(df[\"Dist_1\"],df[\"Dist_2\"])]\n",
    "\n",
    "colors = [\"g\" if x == 1 else \"b\" for x in df[\"CloseTo\"]]\n",
    "plt.scatter(df[\"X1\"], df[\"X2\"], s = 50, c = colors )\n",
    "plt.title(\"Con los nuevos Centroides\")\n",
    "\n",
    "# imprimir los centroides generados\n",
    "colmap = {1: 'g', 2: 'b'}\n",
    "for i in centroids.keys():\n",
    "    plt.scatter(*new_centroids[i], color=colmap[i], marker=\"x\", s=120)"
   ]
  },
  {
   "cell_type": "markdown",
   "metadata": {},
   "source": [
    "Este proceso se repite n veces. Sklearn define este hiperparametro como (max_iterint, default=300).\n",
    "\n",
    "Para la escogencia de k existen múltiples criterios. Los dos más comunes son: \n",
    "\n",
    "* Criterio experto: Se sabe de antemano cuantos grupos existen, o bien, se tienen una idea cercana de las agrupaciones.\n",
    "* El metodo del codo (Elbow Method): El método del codo ejecuta la agrupación de k-medias en el conjunto de datos para un rango de valores para k (digamos de 1 a 10) y luego, para cada valor de k, calcula una puntuación promedio para todos los grupos.\n",
    "\n",
    "Vamos a ver el metodo del codo mas adelante con Sklearn."
   ]
  }
 ],
 "metadata": {
  "kernelspec": {
   "display_name": "Python 3",
   "language": "python",
   "name": "python3"
  },
  "language_info": {
   "codemirror_mode": {
    "name": "ipython",
    "version": 3
   },
   "file_extension": ".py",
   "mimetype": "text/x-python",
   "name": "python",
   "nbconvert_exporter": "python",
   "pygments_lexer": "ipython3",
   "version": "3.6.10"
  }
 },
 "nbformat": 4,
 "nbformat_minor": 2
}
