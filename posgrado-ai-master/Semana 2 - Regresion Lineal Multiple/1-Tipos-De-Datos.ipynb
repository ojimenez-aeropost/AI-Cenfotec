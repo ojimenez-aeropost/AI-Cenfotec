{
 "cells": [
  {
   "cell_type": "markdown",
   "metadata": {},
   "source": [
    "## Tipos de Datos\n",
    "\n",
    "En los años 60, Stanley Smith (1906-1973) creó 4 escalas de medición:\n",
    "\n",
    "Tipos Categóricos\n",
    "- **Ordinal**: son datos cuantitativos en los que existen variables en categorías ordenadas. 1 - Muy Bueno, 2 - Bueno, 3 - Regular, 4 - Malo, 5 - Muy Malo. En los datos ordinales, las distancias entre datos no siempre es uniforme. \n",
    "- **Nominal**: Los datos nominales son datos con etiquetas o con nombres que definen categorías.  Por ejemplo, Costarricense, Nicaragüense, Panameño y Honduerno, son gentilicios (tipos nominales) para describir el origen de una persona. \n",
    "\n",
    "Tipos Numéricos\n",
    "- **Ratio**: Datos que tienen un cero definido. El crimen en la ciudad bajo un 10%. \n",
    "- **Intervalo**: En este tipo de datos, existe una distancia uniforme entre los datos. Por ejemplo la definición de un intervalo de [0,1] donde donde los valores permitidos son 0.1, 0.2, 0.3,...,0.8,0.9. En python, comúnmente se utilizan los rangos, para trabajar con intervalos de cualquier tipo.\n",
    "\n",
    "Estas 4 categorías que hemos separado en 2 áreas: categóricos y numéricos, pues no representan todos los datos que podemos encontrar hoy en día. Por tanto, vamos a agregar más tipos como valores continuos, binarios, texto, series de tiempo e imágenes, entre otros.\n",
    "\n",
    "Otros tipos de datos:\n",
    "\n",
    "- **Numéricos - Continuo**: es el tipo de dato que toma cualquier valor en un rango determinado. Por ejemplo la temperatura puede ser de 37 grados o bien de 38. También puede ser de 37.51, 37.66 y 37.88. \n",
    "- **Numéricos - Discreto**: es un tipo de dato que solamente puede tomar un valor de un mínimo conjunto numerable. Por tanto no acepta cualquier valor, solo puede tomar uno que pertenezca al conjunto. Por ejemplo, una calificación de A, B, C, D o E para un estudiante es un tipo de variable discreta, al igual que el número de títulos de que tiene la liga (29). No existe el número 29.5. \n",
    "- **Únicos**: son aquellos valores que no establecen una relación con otras variables, y usualmente tienen una alta cardinalidad. Por ejemplo un GUID o bien un número de cédula. \n",
    "- **Binarios**: Es un tipo de dato nominal con 2 categorías. A o B, bueno o malo, cierto o falso, 1 o 0.\n",
    "- **Conteo**: es una variable que describe una distribución. Por ejemplo, después de una encuesta sabemos que tenemos una calificación de 500 muy buenos, 300 regulares y 100 malos.\n",
    "- **Tiempo**: las variables de tiempo permiten almacenar información sobre horas, minutos, segundos, milisegundos, meses, días y años.  Estas variables están sujetas a numerosas transformaciones para poder expresar el tiempo con distintos formatos. Por ejemplo dd/MM/yyyyThh:mm:ss o bien yyyy/MMM - hh:mm\n",
    "- **Texto**: representa una variable de tipo String que puede contener una cantidad limitada de caracteres alfanuméricos, espacios y caracteres especiales. “Hoy es 10 de enero de 2040, me he despertado sin saber quien soy...”\n",
    "- **Imágenes**: es un tipo de dato que normalmente almacena información en arreglos o estructuras rectangulares (matrices) \tque almacenan información de pixeles y sus canales de color (RGB). Una imagen puede ser descrita como 3 matrices; una para cada canal. Los diferentes formatos de imagen, por ejemplo PNG o JPG permiten almacenar información adicional para lograr efectos distintos (transparencias). \n",
    "- **Series de Tiempo**: representa una secuencia de datos que han sido determinados en un momento del tiempo; por tanto su orden es cronológico. Por ejemplo, el precio de las acciones de la bolsa de Apple (AAPL) son series temporales, ya que el valos de una acción representa el valor en un momento del día únicamente.El conjunto de precios a través del día, definen un ejemplo de serie temporal.\n"
   ]
  },
  {
   "cell_type": "code",
   "execution_count": 2,
   "metadata": {},
   "outputs": [],
   "source": [
    "import numpy as np\n",
    "import pandas as pd"
   ]
  },
  {
   "cell_type": "markdown",
   "metadata": {},
   "source": [
    "## Algunos Ejemplos en Python"
   ]
  },
  {
   "cell_type": "markdown",
   "metadata": {},
   "source": [
    "#### Datos Categoricos"
   ]
  },
  {
   "cell_type": "code",
   "execution_count": 6,
   "metadata": {},
   "outputs": [
    {
     "name": "stdout",
     "output_type": "stream",
     "text": [
      "[[1.]\n",
      " [0.]\n",
      " [2.]\n",
      " [2.]\n",
      " [0.]]\n",
      "\n",
      "[['Muy Bueno']\n",
      " ['Bueno']]\n"
     ]
    }
   ],
   "source": [
    "from sklearn.preprocessing import OrdinalEncoder\n",
    "\n",
    "enc = OrdinalEncoder()\n",
    "\n",
    "X = np.array([\"Muy Bueno\", \"Bueno\", \"Regular\", \"Regular\", \"Bueno\"]).reshape(-1,1)\n",
    "enc.fit(X)\n",
    "\n",
    "print(enc.transform(X))\n",
    "print(\"\")\n",
    "print(enc.inverse_transform(np.array([1,0]).reshape(-1,1)))"
   ]
  },
  {
   "cell_type": "markdown",
   "metadata": {},
   "source": [
    "#### Ordinal Encoding en Pandas DataFrame"
   ]
  },
  {
   "cell_type": "code",
   "execution_count": 7,
   "metadata": {},
   "outputs": [
    {
     "data": {
      "text/html": [
       "<div>\n",
       "<style scoped>\n",
       "    .dataframe tbody tr th:only-of-type {\n",
       "        vertical-align: middle;\n",
       "    }\n",
       "\n",
       "    .dataframe tbody tr th {\n",
       "        vertical-align: top;\n",
       "    }\n",
       "\n",
       "    .dataframe thead th {\n",
       "        text-align: right;\n",
       "    }\n",
       "</style>\n",
       "<table border=\"1\" class=\"dataframe\">\n",
       "  <thead>\n",
       "    <tr style=\"text-align: right;\">\n",
       "      <th></th>\n",
       "      <th>Equipo</th>\n",
       "      <th>Nombre</th>\n",
       "      <th>Provincia</th>\n",
       "    </tr>\n",
       "  </thead>\n",
       "  <tbody>\n",
       "    <tr>\n",
       "      <th>0</th>\n",
       "      <td>Limon FC</td>\n",
       "      <td>Juan</td>\n",
       "      <td>Heredia</td>\n",
       "    </tr>\n",
       "    <tr>\n",
       "      <th>1</th>\n",
       "      <td>Liga</td>\n",
       "      <td>Michael</td>\n",
       "      <td>San Jose</td>\n",
       "    </tr>\n",
       "    <tr>\n",
       "      <th>2</th>\n",
       "      <td>Saprissa</td>\n",
       "      <td>Ana</td>\n",
       "      <td>San Jose</td>\n",
       "    </tr>\n",
       "    <tr>\n",
       "      <th>3</th>\n",
       "      <td>Perez</td>\n",
       "      <td>Jualia</td>\n",
       "      <td>Alajuela</td>\n",
       "    </tr>\n",
       "  </tbody>\n",
       "</table>\n",
       "</div>"
      ],
      "text/plain": [
       "     Equipo   Nombre Provincia\n",
       "0  Limon FC     Juan   Heredia\n",
       "1      Liga  Michael  San Jose\n",
       "2  Saprissa      Ana  San Jose\n",
       "3     Perez   Jualia  Alajuela"
      ]
     },
     "execution_count": 7,
     "metadata": {},
     "output_type": "execute_result"
    }
   ],
   "source": [
    "df = pd.DataFrame()\n",
    "df = df.append({'Nombre':'Juan', 'Provincia': 'Heredia', 'Equipo':'Limon FC'},ignore_index=True)\n",
    "df = df.append({'Nombre':'Michael', 'Provincia': 'San Jose', 'Equipo':'Liga'},ignore_index=True)\n",
    "df = df.append({'Nombre':'Ana', 'Provincia': 'San Jose', 'Equipo':'Saprissa'},ignore_index=True)\n",
    "df = df.append({'Nombre':'Jualia', 'Provincia': 'Alajuela', 'Equipo':'Perez'},ignore_index=True)\n",
    "\n",
    "df"
   ]
  },
  {
   "cell_type": "code",
   "execution_count": 8,
   "metadata": {},
   "outputs": [],
   "source": [
    "enc = OrdinalEncoder()\n",
    "enc.fit(df[[\"Provincia\",\"Equipo\"]])\n",
    "\n",
    "df[[\"Provincia\",\"Equipo\"]] = enc.transform(df[[\"Provincia\",\"Equipo\"]])\n",
    "\n",
    "# Nota: df.Equipo es de typo dtype: object...\n",
    "#df.Equipo "
   ]
  },
  {
   "cell_type": "markdown",
   "metadata": {},
   "source": [
    "#### Categoricos con Pandas "
   ]
  },
  {
   "cell_type": "code",
   "execution_count": 9,
   "metadata": {},
   "outputs": [
    {
     "name": "stdout",
     "output_type": "stream",
     "text": [
      "Las categorias de los equipos son Index(['Liga', 'Limon FC', 'Perez', 'Saprissa'], dtype='object')\n",
      " \n",
      "tenemos los siguientes conteos por categoria: Saprissa    1\n",
      "Perez       1\n",
      "Limon FC    1\n",
      "Liga        1\n",
      "Name: Equipo, dtype: int64\n"
     ]
    }
   ],
   "source": [
    "df = pd.DataFrame()\n",
    "df = df.append({'Nombre':'Juan', 'Provincia': 'Heredia', 'Equipo':'Limon FC'},ignore_index=True)\n",
    "df = df.append({'Nombre':'Michael', 'Provincia': 'San Jose', 'Equipo':'Liga'},ignore_index=True)\n",
    "df = df.append({'Nombre':'Ana', 'Provincia': 'San Jose', 'Equipo':'Saprissa'},ignore_index=True)\n",
    "df = df.append({'Nombre':'Jualia', 'Provincia': 'Alajuela', 'Equipo':'Perez'},ignore_index=True)\n",
    "\n",
    "# convertir los datos en tipo categoria\n",
    "df[\"Provincia\"] =  df[\"Provincia\"].astype('category')\n",
    "df[\"Equipo\"] =  df[\"Equipo\"].astype('category')\n",
    "\n",
    "df\n",
    "\n",
    "# Nota: df.Equipo es de typo dtype: category!\n",
    "print(\"Las categorias de los equipos son\", df[\"Equipo\"].cat.categories.unique())\n",
    "print(\" \")\n",
    "print(\"tenemos los siguientes conteos por categoria:\", df[\"Equipo\"].value_counts())"
   ]
  },
  {
   "cell_type": "code",
   "execution_count": null,
   "metadata": {},
   "outputs": [],
   "source": [
    "# One Hot Encoding\n",
    "\n",
    "df = pd.DataFrame()\n",
    "df = df.append({'Nombre':'Juan', 'Provincia': 'Heredia'},ignore_index=True)\n",
    "df = df.append({'Nombre':'Michael', 'Provincia': 'San Jose'},ignore_index=True)\n",
    "df = df.append({'Nombre':'Ana', 'Provincia': 'San Jose'},ignore_index=True)\n",
    "df = df.append({'Nombre':'Jualia', 'Provincia': 'Alajuela'},ignore_index=True)\n",
    "\n",
    "# generamos las dummy variables (one hot encodings)\n",
    "dummies = pd.get_dummies(df.Provincia, prefix=\"provincia\")\n",
    "\n",
    "# removemos provincia\n",
    "df = df.drop('Provincia',axis = 1)\n",
    "\n",
    "# agregamos las nuevas columnas tipo one-hot encoding\n",
    "df = df.join(dummies)\n",
    "\n",
    "df"
   ]
  },
  {
   "cell_type": "markdown",
   "metadata": {},
   "source": [
    "#### Intervalos con Pandas"
   ]
  },
  {
   "cell_type": "code",
   "execution_count": null,
   "metadata": {},
   "outputs": [],
   "source": [
    "# Intervalo (0, 5]\n",
    "intervalo = pd.Interval(left=0, right=5)\n",
    "\n",
    "x = 1.99\n",
    "if(x in intervalo):\n",
    "    print(x,'si esta en el intervalo')\n",
    "else:\n",
    "    print(x,'no esta en el intervalo')"
   ]
  },
  {
   "cell_type": "code",
   "execution_count": null,
   "metadata": {},
   "outputs": [],
   "source": [
    "# Intervalo de tiempo! \n",
    "a2017 = pd.Interval(pd.Timestamp('2017-01-01 00:00:00'),pd.Timestamp('2018-01-01 00:00:00'),closed='right')\n",
    "\n",
    "x = pd.Timestamp('2019-05-05 00:00:00')\n",
    "if(x in a2017):\n",
    "    print(x,'si esta en el intervalo')\n",
    "else:\n",
    "    print(x,'no esta en el intervalo')"
   ]
  },
  {
   "cell_type": "markdown",
   "metadata": {},
   "source": [
    "#### Variable Conteo"
   ]
  },
  {
   "cell_type": "code",
   "execution_count": null,
   "metadata": {},
   "outputs": [],
   "source": [
    "import collections\n",
    "\n",
    "c = collections.Counter('abcdaabbbbbabababababababbaabbbbbbbabababababacccccccdcdcdcdcdcdca')\n",
    "\n",
    "c"
   ]
  },
  {
   "cell_type": "code",
   "execution_count": null,
   "metadata": {},
   "outputs": [],
   "source": [
    "c = collections.Counter(np.array(['a','a','a','b']))\n",
    "\n",
    "c"
   ]
  },
  {
   "cell_type": "markdown",
   "metadata": {},
   "source": [
    "#### Variable de Tiempo"
   ]
  },
  {
   "cell_type": "code",
   "execution_count": null,
   "metadata": {},
   "outputs": [],
   "source": [
    "from datetime import datetime \n",
    "from datetime import timedelta\n",
    "\n",
    "# agregar un dia\n",
    "print(datetime.now() + timedelta(days=1))\n",
    "\n",
    "# agregar 10 minutos\n",
    "print(datetime.now() + timedelta(minutes=10))\n",
    "\n",
    "# restar 1 hora y 30 minutos\n",
    "print(datetime.now() - timedelta(hours=1,minutes=30))"
   ]
  },
  {
   "cell_type": "code",
   "execution_count": null,
   "metadata": {},
   "outputs": [],
   "source": [
    "tiempo = np.array([\"2019-05-05T01:00:00\",\"2019-06-05T14:40:00\",\"2019-07-05T06:50:00\"])\n",
    "\n",
    "# se recorre el arreglo y se transforma cada elemento en DateTime\n",
    "tiempo_f = [datetime.strptime(t, '%Y-%m-%dT%H:%M:%S') for t in tiempo]\n",
    "\n",
    "tiempo_f"
   ]
  },
  {
   "cell_type": "markdown",
   "metadata": {},
   "source": [
    "#### Imagenes"
   ]
  },
  {
   "cell_type": "code",
   "execution_count": null,
   "metadata": {},
   "outputs": [],
   "source": [
    "#!pip3 install scikit-image==0.16.1"
   ]
  },
  {
   "cell_type": "code",
   "execution_count": null,
   "metadata": {},
   "outputs": [],
   "source": [
    "from skimage import io\n",
    "import matplotlib.pyplot as plt\n",
    "\n",
    "img = io.imread(\"img/jtopo.jpg\")\n",
    "io.imshow(img)\n",
    "plt.show()"
   ]
  },
  {
   "cell_type": "code",
   "execution_count": null,
   "metadata": {},
   "outputs": [],
   "source": [
    "from skimage.color import rgb2gray\n",
    "io.imshow(rgb2gray(img))\n",
    "plt.show()"
   ]
  },
  {
   "cell_type": "code",
   "execution_count": null,
   "metadata": {},
   "outputs": [],
   "source": [
    "from skimage.color import rgb2hsv # rgb2hsv\n",
    "io.imshow(rgb2hsv(img))\n",
    "plt.show()"
   ]
  },
  {
   "cell_type": "markdown",
   "metadata": {},
   "source": [
    "#### Series Temporales"
   ]
  },
  {
   "cell_type": "code",
   "execution_count": null,
   "metadata": {},
   "outputs": [],
   "source": [
    "df = pd.read_csv('https://raw.githubusercontent.com/selva86/datasets/master/a10.csv', parse_dates=['date'], index_col='date')\n",
    "\n",
    "# Dibujar la Serie Temporal\n",
    "def plot_df(df, x, y, title=\"\", xlabel='Date', ylabel='Value', dpi=100):\n",
    "    plt.figure(figsize=(10,5), dpi=dpi)\n",
    "    plt.plot(x, y, color='tab:red')\n",
    "    # gca = get current axes\n",
    "    plt.gca().set(title=title, xlabel=xlabel, ylabel=ylabel)\n",
    "    plt.show()\n",
    "\n",
    "df.head()"
   ]
  },
  {
   "cell_type": "code",
   "execution_count": null,
   "metadata": {},
   "outputs": [],
   "source": [
    "plot_df(df, x=df.index, y=df.value, \n",
    "        title='Ventas desde 1992 hasta 2008 de medicinas para diabetes en Australia')"
   ]
  }
 ],
 "metadata": {
  "kernelspec": {
   "display_name": "Python 3",
   "language": "python",
   "name": "python3"
  },
  "language_info": {
   "codemirror_mode": {
    "name": "ipython",
    "version": 3
   },
   "file_extension": ".py",
   "mimetype": "text/x-python",
   "name": "python",
   "nbconvert_exporter": "python",
   "pygments_lexer": "ipython3",
   "version": "3.8.4"
  }
 },
 "nbformat": 4,
 "nbformat_minor": 4
}
