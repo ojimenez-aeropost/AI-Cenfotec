{
 "cells": [
  {
   "cell_type": "markdown",
   "metadata": {},
   "source": [
    "## Regresión Lineal Múltiple\n",
    "\n",
    "En la regresión lineal múltiple se genera un modelo que predice la variable dependiente “y” a partir de un set de variables X1,X2,...,Nn. Esto implica por cada término X, calcular a partir de los datos una serie de parámetros beta, donde la ecuación queda de la siguiente forma: \n",
    "\n",
    "$$ y = \\beta_0 * 1 + \\beta_1 x_1 + \\beta_2 x_2 + ... + \\beta_k x_k $$  \n",
    "\n",
    "En el monomio $\\beta_0 * 1$ observamos un 1, esto es para poder calcular \"y\" como la multiplicacion de dos arreglos $\\beta$ y  $X$, donde $X=[1,45,67,98,12]$, el uno es para que ambos vectores tengan las mismas dimensiones.\n",
    "\n",
    "$$ y = \\beta X^T$$"
   ]
  },
  {
   "cell_type": "markdown",
   "metadata": {},
   "source": [
    "### Cálculo de los coeficientes beta utilizando mínimos cuadrados.\n",
    "\n",
    "$$ \\hat{\\beta} = (X^TX)'X^Ty$$"
   ]
  },
  {
   "cell_type": "code",
   "execution_count": null,
   "metadata": {},
   "outputs": [],
   "source": [
    "import numpy as np\n",
    "import pandas as pd"
   ]
  },
  {
   "cell_type": "code",
   "execution_count": null,
   "metadata": {},
   "outputs": [],
   "source": [
    "# vamos a cargar los datos del dataset de Autos\n",
    "data = pd.read_csv(\"data/auto-mpg.csv\")\n",
    "\n",
    "# Eliminar una columna (drop)\n",
    "data.drop('car name',axis=1,inplace=True)\n",
    "\n",
    "# convertir columnas en datos numericos\n",
    "for c in data.columns:\n",
    "    data[c] = pd.to_numeric(data[c], errors ='coerce')\n",
    "    \n",
    "# vamos a reemplazar los valores nulos por la mediana.\n",
    "data['horsepower'] = data['horsepower'].fillna(data['horsepower'].median())\n",
    "\n",
    "# vamos a meter una columna de 1s a X\n",
    "rows = data.shape[0]\n",
    "data.insert(1,'unos',np.ones(rows).reshape(-1,1))\n",
    "\n",
    "data.head()"
   ]
  },
  {
   "cell_type": "code",
   "execution_count": null,
   "metadata": {},
   "outputs": [],
   "source": [
    "# seleccionamos los datos (menos mpg que es y)\n",
    "\n",
    "X = data.iloc[:,1:]\n",
    "y = data.iloc[:,0]\n",
    "y = np.array(y).reshape(-1,1)"
   ]
  },
  {
   "cell_type": "code",
   "execution_count": null,
   "metadata": {},
   "outputs": [],
   "source": [
    "# calculos de los coeficientes Beta (vectorizados)\n",
    "from numpy.linalg import inv\n",
    "\n",
    "Xm = X.values # matriz\n",
    "\n",
    "a = inv(np.dot(Xm.transpose(), Xm)) #inv(xTx)\n",
    "b = np.dot(a, Xm.transpose()) # (xTx)^-1 * xT\n",
    "betas = np.dot(b,y) # (xTx)^-1 * xT * y\n",
    "\n",
    "for i,b in zip(np.arange(0,len(betas)+1), betas):\n",
    "    print(\"b\",i,\":\",\"%.2f\"%b)"
   ]
  },
  {
   "cell_type": "code",
   "execution_count": null,
   "metadata": {},
   "outputs": [],
   "source": [
    "# Realizamos la prediccion de y_prima!\n",
    "y_prima = np.dot(Xm, betas)"
   ]
  },
  {
   "cell_type": "code",
   "execution_count": null,
   "metadata": {},
   "outputs": [],
   "source": [
    "# calculamos el MSE con Sklearn!\n",
    "from sklearn.metrics import mean_squared_error\n",
    "mse = mean_squared_error(y, y_prima)\n",
    "print(\"MSE:\",mse)"
   ]
  },
  {
   "cell_type": "code",
   "execution_count": null,
   "metadata": {},
   "outputs": [],
   "source": []
  }
 ],
 "metadata": {
  "kernelspec": {
   "display_name": "Python 3",
   "language": "python",
   "name": "python3"
  },
  "language_info": {
   "codemirror_mode": {
    "name": "ipython",
    "version": 3
   },
   "file_extension": ".py",
   "mimetype": "text/x-python",
   "name": "python",
   "nbconvert_exporter": "python",
   "pygments_lexer": "ipython3",
   "version": "3.6.9"
  }
 },
 "nbformat": 4,
 "nbformat_minor": 4
}
