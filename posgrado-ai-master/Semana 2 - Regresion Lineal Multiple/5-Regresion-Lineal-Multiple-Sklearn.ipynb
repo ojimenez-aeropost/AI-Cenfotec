{
 "cells": [
  {
   "cell_type": "markdown",
   "metadata": {},
   "source": [
    "## Regresión Lineal Múltiple con SkLearn\n",
    "\n",
    "Vamos a replicar el cuaderno #4 pero con Sklearn!"
   ]
  },
  {
   "cell_type": "code",
   "execution_count": null,
   "metadata": {},
   "outputs": [],
   "source": [
    "import numpy as np\n",
    "import pandas as pd\n",
    "\n",
    "# vamos a cargar los datos del dataset de Autos\n",
    "data = pd.read_csv(\"data/auto-mpg.csv\")\n",
    "\n",
    "# Eliminar una columna (drop)\n",
    "data.drop('car name',axis=1,inplace=True)\n",
    "\n",
    "# convertir columnas en datos numericos\n",
    "for c in data.columns:\n",
    "    data[c] = pd.to_numeric(data[c], errors ='coerce')\n",
    "    \n",
    "# vamos a reemplazar los valores nulos por la mediana.\n",
    "data['horsepower'] = data['horsepower'].fillna(data['horsepower'].median())\n",
    "\n",
    "# seleccionamos los datos (menos mpg que es y)\n",
    "\n",
    "X = data.iloc[:,1:]\n",
    "y = data.iloc[:,0]\n"
   ]
  },
  {
   "cell_type": "code",
   "execution_count": null,
   "metadata": {},
   "outputs": [],
   "source": [
    "from sklearn.linear_model import LinearRegression\n",
    "\n",
    "model = LinearRegression().fit(X.values, y.values)\n",
    "\n",
    "print(\"b\",0,\":\",\"%.2f\"%model.intercept_)\n",
    "for i,b in zip(np.arange(1,len(model.coef_)+1), model.coef_):\n",
    "    print(\"b\",i,\":\", \"%.2f\"%b)"
   ]
  },
  {
   "cell_type": "code",
   "execution_count": null,
   "metadata": {},
   "outputs": [],
   "source": [
    "# Realizamos la prediccion de y_prima!\n",
    "y_prima = model.predict(X)\n",
    "\n",
    "# calculamos el MSE con Sklearn!\n",
    "from sklearn.metrics import mean_squared_error\n",
    "mse = mean_squared_error(y, y_prima)\n",
    "print(\"MSE:\",mse)"
   ]
  },
  {
   "cell_type": "markdown",
   "metadata": {},
   "source": [
    "## Estadisticas Adicionales con statsmodels\n",
    "\n",
    "Nos Interesan: \n",
    "- **R-squared** (Coeficiente de Determinación): R² es el cuadrado del coeficiente de correlación de Pearson.\n",
    "- **R-squared Adjusted**: lo mismo que R² que no penaliza la inclusión de variables no significativas.\n",
    "- **AIC** (Akaike Information Criteria): Teoria de la información: se utiliza para determinar la información perdida al utilizar el modelo. Entre menos información pieda el modelo, este se considera de mejor calidad.\n",
    "- **BIC** (Bayesian information Criteria): Es otra metrica para la seleccion de modelos donde el BIC menor es el modelo de preferencia.\n",
    "- **Coef**: los betas! donde const es el intercept ($\\beta_0$).\n",
    "- **P>|t|**: probablilidad calculada de cada valor en una distribucion t (t-distribution): se dice que un p-value menor o igual 0.05 es estadisticamente significativo. Entonces se asume un 5% de riesgo de que la contribucion del coeficiente al modelo es mera casualidad."
   ]
  },
  {
   "cell_type": "code",
   "execution_count": null,
   "metadata": {},
   "outputs": [],
   "source": [
    "# Sklearn No posee la funcion para calcular informacion adicional de regresion lineal...\n",
    "\n",
    "#!pip3 install statsmodels\n",
    "import statsmodels.api as sm\n",
    "\n",
    "X2 = sm.add_constant(X)\n",
    "model_ols = sm.OLS(y, X2)\n",
    "pred = model_ols.fit()\n",
    "print(pred.summary())"
   ]
  },
  {
   "cell_type": "code",
   "execution_count": null,
   "metadata": {},
   "outputs": [],
   "source": []
  }
 ],
 "metadata": {
  "kernelspec": {
   "display_name": "Python 3",
   "language": "python",
   "name": "python3"
  },
  "language_info": {
   "codemirror_mode": {
    "name": "ipython",
    "version": 3
   },
   "file_extension": ".py",
   "mimetype": "text/x-python",
   "name": "python",
   "nbconvert_exporter": "python",
   "pygments_lexer": "ipython3",
   "version": "3.8.4"
  }
 },
 "nbformat": 4,
 "nbformat_minor": 4
}
