{
 "cells": [
  {
   "cell_type": "markdown",
   "metadata": {},
   "source": [
    "## Regresión Lineal Múltiple con SkLearn\n",
    "\n",
    "Vamos a replicar el cuaderno #4 pero con Sklearn!"
   ]
  },
  {
   "cell_type": "code",
   "execution_count": 1,
   "metadata": {},
   "outputs": [],
   "source": [
    "import numpy as np\n",
    "import pandas as pd\n",
    "\n",
    "# vamos a cargar los datos del dataset de Autos\n",
    "data = pd.read_csv(\"data/auto-mpg.csv\")\n",
    "\n",
    "# Eliminar una columna (drop)\n",
    "data.drop('car name',axis=1,inplace=True)\n",
    "\n",
    "# convertir columnas en datos numericos\n",
    "for c in data.columns:\n",
    "    data[c] = pd.to_numeric(data[c], errors ='coerce')\n",
    "    \n",
    "# vamos a reemplazar los valores nulos por la mediana.\n",
    "data['horsepower'] = data['horsepower'].fillna(data['horsepower'].median())\n",
    "\n",
    "# seleccionamos los datos (menos mpg que es y)\n",
    "\n",
    "X = data.iloc[:,1:]\n",
    "y = data.iloc[:,0]\n"
   ]
  },
  {
   "cell_type": "code",
   "execution_count": 2,
   "metadata": {},
   "outputs": [
    {
     "name": "stdout",
     "output_type": "stream",
     "text": [
      "b 0 : -17.91\n",
      "b 1 : -0.42\n",
      "b 2 : 0.02\n",
      "b 3 : -0.01\n",
      "b 4 : -0.01\n",
      "b 5 : 0.10\n",
      "b 6 : 0.76\n",
      "b 7 : 1.42\n"
     ]
    }
   ],
   "source": [
    "from sklearn.linear_model import LinearRegression\n",
    "\n",
    "model = LinearRegression().fit(X.values, y.values)\n",
    "\n",
    "print(\"b\",0,\":\",\"%.2f\"%model.intercept_)\n",
    "for i,b in zip(np.arange(1,len(model.coef_)+1), model.coef_):\n",
    "    print(\"b\",i,\":\", \"%.2f\"%b)"
   ]
  },
  {
   "cell_type": "code",
   "execution_count": 3,
   "metadata": {},
   "outputs": [
    {
     "name": "stdout",
     "output_type": "stream",
     "text": [
      "MSE: 10.910811055666656\n"
     ]
    }
   ],
   "source": [
    "# Realizamos la prediccion de y_prima!\n",
    "y_prima = model.predict(X)\n",
    "\n",
    "# calculamos el MSE con Sklearn!\n",
    "from sklearn.metrics import mean_squared_error\n",
    "mse = mean_squared_error(y, y_prima)\n",
    "print(\"MSE:\",mse)"
   ]
  },
  {
   "cell_type": "markdown",
   "metadata": {},
   "source": [
    "## Estadisticas Adicionales con statsmodels\n",
    "\n",
    "Nos Interesan: \n",
    "- **R-squared** (Coeficiente de Determinación): R² es el cuadrado del coeficiente de correlación de Pearson.\n",
    "- **R-squared Adjusted**: lo mismo que R² que no penaliza la inclusión de variables no significativas.\n",
    "- **AIC** (Akaike Information Criteria): Teoria de la información: se utiliza para determinar la información perdida al utilizar el modelo. Entre menos información pieda el modelo, este se considera de mejor calidad.\n",
    "- **BIC** (Bayesian information Criteria): Es otra metrica para la seleccion de modelos donde el BIC menor es el modelo de preferencia.\n",
    "- **Coef**: los betas! donde const es el intercept ($\\beta_0$).\n",
    "- **P>|t|**: probablilidad calculada de cada valor en una distribucion t (t-distribution): se dice que un p-value menor o igual 0.05 es estadisticamente significativo. Entonces se asume un 5% de riesgo de que la contribucion del coeficiente al modelo es mera casualidad."
   ]
  },
  {
   "cell_type": "code",
   "execution_count": 6,
   "metadata": {},
   "outputs": [
    {
     "name": "stdout",
     "output_type": "stream",
     "text": [
      "                            OLS Regression Results                            \n",
      "==============================================================================\n",
      "Dep. Variable:                    mpg   R-squared:                       0.821\n",
      "Model:                            OLS   Adj. R-squared:                  0.818\n",
      "Method:                 Least Squares   F-statistic:                     255.4\n",
      "Date:                Sat, 15 Aug 2020   Prob (F-statistic):          2.15e-141\n",
      "Time:                        18:01:23   Log-Likelihood:                -1040.3\n",
      "No. Observations:                 398   AIC:                             2097.\n",
      "Df Residuals:                     390   BIC:                             2128.\n",
      "Df Model:                           7                                         \n",
      "Covariance Type:            nonrobust                                         \n",
      "================================================================================\n",
      "                   coef    std err          t      P>|t|      [0.025      0.975]\n",
      "--------------------------------------------------------------------------------\n",
      "const          -17.9066      4.604     -3.890      0.000     -26.957      -8.856\n",
      "cylinders       -0.4205      0.322     -1.306      0.192      -1.054       0.213\n",
      "displacement     0.0191      0.008      2.535      0.012       0.004       0.034\n",
      "horsepower      -0.0124      0.013     -0.919      0.358      -0.039       0.014\n",
      "weight          -0.0067      0.001    -10.401      0.000      -0.008      -0.005\n",
      "acceleration     0.0981      0.097      1.011      0.313      -0.093       0.289\n",
      "model year       0.7558      0.051     14.964      0.000       0.656       0.855\n",
      "origin           1.4243      0.276      5.163      0.000       0.882       1.967\n",
      "==============================================================================\n",
      "Omnibus:                       30.624   Durbin-Watson:                   1.289\n",
      "Prob(Omnibus):                  0.000   Jarque-Bera (JB):               49.353\n",
      "Skew:                           0.516   Prob(JB):                     1.92e-11\n",
      "Kurtosis:                       4.382   Cond. No.                     8.53e+04\n",
      "==============================================================================\n",
      "\n",
      "Warnings:\n",
      "[1] Standard Errors assume that the covariance matrix of the errors is correctly specified.\n",
      "[2] The condition number is large, 8.53e+04. This might indicate that there are\n",
      "strong multicollinearity or other numerical problems.\n"
     ]
    }
   ],
   "source": [
    "# Sklearn No posee la funcion para calcular informacion adicional de regresion lineal...\n",
    "\n",
    "#!pip3 install statsmodels\n",
    "import statsmodels.api as sm\n",
    "\n",
    "X2 = sm.add_constant(X)\n",
    "model_ols = sm.OLS(y, X2)\n",
    "pred = model_ols.fit()\n",
    "print(pred.summary())"
   ]
  },
  {
   "cell_type": "code",
   "execution_count": null,
   "metadata": {},
   "outputs": [],
   "source": []
  }
 ],
 "metadata": {
  "kernelspec": {
   "display_name": "Python 3",
   "language": "python",
   "name": "python3"
  },
  "language_info": {
   "codemirror_mode": {
    "name": "ipython",
    "version": 3
   },
   "file_extension": ".py",
   "mimetype": "text/x-python",
   "name": "python",
   "nbconvert_exporter": "python",
   "pygments_lexer": "ipython3",
   "version": "3.8.4"
  }
 },
 "nbformat": 4,
 "nbformat_minor": 4
}
