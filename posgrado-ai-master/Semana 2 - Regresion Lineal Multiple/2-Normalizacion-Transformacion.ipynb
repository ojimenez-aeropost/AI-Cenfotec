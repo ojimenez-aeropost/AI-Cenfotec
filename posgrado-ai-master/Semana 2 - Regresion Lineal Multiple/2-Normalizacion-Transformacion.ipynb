{
 "cells": [
  {
   "cell_type": "markdown",
   "metadata": {},
   "source": [
    "## Ingeniería de metadatos\n",
    "\n",
    "La ingeniería de metadatos (“feature engineering”) es una de las opciones para mejorar modelos de machine learning. Podemos crear nuevas variables (“nuevos features”), o bien transformarlas, adaptarlas o normalizarlas para que los modelos puedan realizar un uso más depurado de las mismas. \n",
    "\n",
    "En este notebook, vamos a explorar las técnicas más comunes que podemos utilizar para mejorar nuestros datasets.\n"
   ]
  },
  {
   "cell_type": "markdown",
   "metadata": {},
   "source": [
    "### Limpieza\n",
    "\n",
    "En ocaciones es conveniente eliminar algunas columnas, o bien cambiar los tipos (int, float, datetime etc). En nuestro dataset de carros, vamos a eliminar el nombre de los carros y vamos a “castear” las variables a un tipo numérico. "
   ]
  },
  {
   "cell_type": "code",
   "execution_count": 1,
   "metadata": {},
   "outputs": [
    {
     "data": {
      "text/html": [
       "<div>\n",
       "<style scoped>\n",
       "    .dataframe tbody tr th:only-of-type {\n",
       "        vertical-align: middle;\n",
       "    }\n",
       "\n",
       "    .dataframe tbody tr th {\n",
       "        vertical-align: top;\n",
       "    }\n",
       "\n",
       "    .dataframe thead th {\n",
       "        text-align: right;\n",
       "    }\n",
       "</style>\n",
       "<table border=\"1\" class=\"dataframe\">\n",
       "  <thead>\n",
       "    <tr style=\"text-align: right;\">\n",
       "      <th></th>\n",
       "      <th>mpg</th>\n",
       "      <th>cylinders</th>\n",
       "      <th>displacement</th>\n",
       "      <th>horsepower</th>\n",
       "      <th>weight</th>\n",
       "      <th>acceleration</th>\n",
       "      <th>model year</th>\n",
       "      <th>origin</th>\n",
       "      <th>car name</th>\n",
       "    </tr>\n",
       "  </thead>\n",
       "  <tbody>\n",
       "    <tr>\n",
       "      <th>0</th>\n",
       "      <td>18.0</td>\n",
       "      <td>8</td>\n",
       "      <td>307.0</td>\n",
       "      <td>130</td>\n",
       "      <td>3504</td>\n",
       "      <td>12.0</td>\n",
       "      <td>70</td>\n",
       "      <td>1</td>\n",
       "      <td>chevrolet chevelle malibu</td>\n",
       "    </tr>\n",
       "    <tr>\n",
       "      <th>1</th>\n",
       "      <td>15.0</td>\n",
       "      <td>8</td>\n",
       "      <td>350.0</td>\n",
       "      <td>165</td>\n",
       "      <td>3693</td>\n",
       "      <td>11.5</td>\n",
       "      <td>70</td>\n",
       "      <td>1</td>\n",
       "      <td>buick skylark 320</td>\n",
       "    </tr>\n",
       "    <tr>\n",
       "      <th>2</th>\n",
       "      <td>18.0</td>\n",
       "      <td>8</td>\n",
       "      <td>318.0</td>\n",
       "      <td>150</td>\n",
       "      <td>3436</td>\n",
       "      <td>11.0</td>\n",
       "      <td>70</td>\n",
       "      <td>1</td>\n",
       "      <td>plymouth satellite</td>\n",
       "    </tr>\n",
       "    <tr>\n",
       "      <th>3</th>\n",
       "      <td>16.0</td>\n",
       "      <td>8</td>\n",
       "      <td>304.0</td>\n",
       "      <td>150</td>\n",
       "      <td>3433</td>\n",
       "      <td>12.0</td>\n",
       "      <td>70</td>\n",
       "      <td>1</td>\n",
       "      <td>amc rebel sst</td>\n",
       "    </tr>\n",
       "    <tr>\n",
       "      <th>4</th>\n",
       "      <td>17.0</td>\n",
       "      <td>8</td>\n",
       "      <td>302.0</td>\n",
       "      <td>140</td>\n",
       "      <td>3449</td>\n",
       "      <td>10.5</td>\n",
       "      <td>70</td>\n",
       "      <td>1</td>\n",
       "      <td>ford torino</td>\n",
       "    </tr>\n",
       "  </tbody>\n",
       "</table>\n",
       "</div>"
      ],
      "text/plain": [
       "    mpg  cylinders  displacement horsepower  weight  acceleration  model year  \\\n",
       "0  18.0          8         307.0        130    3504          12.0          70   \n",
       "1  15.0          8         350.0        165    3693          11.5          70   \n",
       "2  18.0          8         318.0        150    3436          11.0          70   \n",
       "3  16.0          8         304.0        150    3433          12.0          70   \n",
       "4  17.0          8         302.0        140    3449          10.5          70   \n",
       "\n",
       "   origin                   car name  \n",
       "0       1  chevrolet chevelle malibu  \n",
       "1       1          buick skylark 320  \n",
       "2       1         plymouth satellite  \n",
       "3       1              amc rebel sst  \n",
       "4       1                ford torino  "
      ]
     },
     "execution_count": 1,
     "metadata": {},
     "output_type": "execute_result"
    }
   ],
   "source": [
    "import pandas as pd\n",
    "\n",
    "data = pd.read_csv(\"data/auto-mpg.csv\")\n",
    "data.head()"
   ]
  },
  {
   "cell_type": "code",
   "execution_count": 2,
   "metadata": {},
   "outputs": [
    {
     "data": {
      "text/html": [
       "<div>\n",
       "<style scoped>\n",
       "    .dataframe tbody tr th:only-of-type {\n",
       "        vertical-align: middle;\n",
       "    }\n",
       "\n",
       "    .dataframe tbody tr th {\n",
       "        vertical-align: top;\n",
       "    }\n",
       "\n",
       "    .dataframe thead th {\n",
       "        text-align: right;\n",
       "    }\n",
       "</style>\n",
       "<table border=\"1\" class=\"dataframe\">\n",
       "  <thead>\n",
       "    <tr style=\"text-align: right;\">\n",
       "      <th></th>\n",
       "      <th>mpg</th>\n",
       "      <th>cylinders</th>\n",
       "      <th>displacement</th>\n",
       "      <th>horsepower</th>\n",
       "      <th>weight</th>\n",
       "      <th>acceleration</th>\n",
       "      <th>model year</th>\n",
       "      <th>origin</th>\n",
       "    </tr>\n",
       "  </thead>\n",
       "  <tbody>\n",
       "    <tr>\n",
       "      <th>0</th>\n",
       "      <td>18.0</td>\n",
       "      <td>8</td>\n",
       "      <td>307.0</td>\n",
       "      <td>130</td>\n",
       "      <td>3504</td>\n",
       "      <td>12.0</td>\n",
       "      <td>70</td>\n",
       "      <td>1</td>\n",
       "    </tr>\n",
       "    <tr>\n",
       "      <th>1</th>\n",
       "      <td>15.0</td>\n",
       "      <td>8</td>\n",
       "      <td>350.0</td>\n",
       "      <td>165</td>\n",
       "      <td>3693</td>\n",
       "      <td>11.5</td>\n",
       "      <td>70</td>\n",
       "      <td>1</td>\n",
       "    </tr>\n",
       "    <tr>\n",
       "      <th>2</th>\n",
       "      <td>18.0</td>\n",
       "      <td>8</td>\n",
       "      <td>318.0</td>\n",
       "      <td>150</td>\n",
       "      <td>3436</td>\n",
       "      <td>11.0</td>\n",
       "      <td>70</td>\n",
       "      <td>1</td>\n",
       "    </tr>\n",
       "    <tr>\n",
       "      <th>3</th>\n",
       "      <td>16.0</td>\n",
       "      <td>8</td>\n",
       "      <td>304.0</td>\n",
       "      <td>150</td>\n",
       "      <td>3433</td>\n",
       "      <td>12.0</td>\n",
       "      <td>70</td>\n",
       "      <td>1</td>\n",
       "    </tr>\n",
       "    <tr>\n",
       "      <th>4</th>\n",
       "      <td>17.0</td>\n",
       "      <td>8</td>\n",
       "      <td>302.0</td>\n",
       "      <td>140</td>\n",
       "      <td>3449</td>\n",
       "      <td>10.5</td>\n",
       "      <td>70</td>\n",
       "      <td>1</td>\n",
       "    </tr>\n",
       "  </tbody>\n",
       "</table>\n",
       "</div>"
      ],
      "text/plain": [
       "    mpg  cylinders  displacement horsepower  weight  acceleration  model year  \\\n",
       "0  18.0          8         307.0        130    3504          12.0          70   \n",
       "1  15.0          8         350.0        165    3693          11.5          70   \n",
       "2  18.0          8         318.0        150    3436          11.0          70   \n",
       "3  16.0          8         304.0        150    3433          12.0          70   \n",
       "4  17.0          8         302.0        140    3449          10.5          70   \n",
       "\n",
       "   origin  \n",
       "0       1  \n",
       "1       1  \n",
       "2       1  \n",
       "3       1  \n",
       "4       1  "
      ]
     },
     "execution_count": 2,
     "metadata": {},
     "output_type": "execute_result"
    }
   ],
   "source": [
    "# Eliminar una columna (drop)\n",
    "data.drop('car name',axis=1,inplace=True)\n",
    "data.head()"
   ]
  },
  {
   "cell_type": "code",
   "execution_count": 3,
   "metadata": {},
   "outputs": [],
   "source": [
    "# Las columnas son tipo object, vamos a convertir los datos en tipo numerico\n",
    "\n",
    "# convertir columnas en datos numericos\n",
    "for c in data.columns:\n",
    "    data[c] = pd.to_numeric(data[c], errors ='coerce')\n",
    "    \n",
    "# coerce conviete datos invalidos en NaN"
   ]
  },
  {
   "cell_type": "code",
   "execution_count": 6,
   "metadata": {},
   "outputs": [
    {
     "data": {
      "text/plain": [
       "<AxesSubplot:>"
      ]
     },
     "execution_count": 6,
     "metadata": {},
     "output_type": "execute_result"
    },
    {
     "data": {
      "image/png": "[encoded data removed]",
      "text/plain": [
       "<Figure size 432x288 with 1 Axes>"
      ]
     },
     "metadata": {
      "needs_background": "light"
     },
     "output_type": "display_data"
    }
   ],
   "source": [
    "# vamos a revisar a ver si existen columnas con valores NaN. Para esto podemos usar Seaborn!\n",
    "#!pip3 install seaborn\n",
    "\n",
    "import seaborn as sns\n",
    "\n",
    "sns.heatmap(data.isnull(), cbar=False)"
   ]
  },
  {
   "cell_type": "code",
   "execution_count": 7,
   "metadata": {},
   "outputs": [
    {
     "data": {
      "text/plain": [
       "<AxesSubplot:>"
      ]
     },
     "execution_count": 7,
     "metadata": {},
     "output_type": "execute_result"
    },
    {
     "data": {
      "image/png": "[encoded data removed]",
      "text/plain": [
       "<Figure size 432x288 with 1 Axes>"
      ]
     },
     "metadata": {
      "needs_background": "light"
     },
     "output_type": "display_data"
    }
   ],
   "source": [
    "# vamos a reemplazar los valores nulos por la mediana. (mediana vs media?)\n",
    "data['horsepower'] = data['horsepower'].fillna(data['horsepower'].median())\n",
    "\n",
    "# vamos a revisar si los valores nulos\n",
    "sns.heatmap(data.isnull(), cbar=False)"
   ]
  },
  {
   "cell_type": "markdown",
   "metadata": {},
   "source": [
    "### Interacciones\n",
    "\n",
    "Las interacciones son uniones de 2 o más variables para crear una nueva. Las interacciones se pueden ejecutar con variables numéricas o categóricas.\n",
    "\n",
    "Si encontramos una relacion entre dos variables, podemos combinarlas en una sola variable. Vamos a realizar esto con las columnas \"horsepower\" y \"acceleration\". Podemos realizar tantas interacciones como queramos, pero no todas van a contribuir con la capacidad predictiva del modelo.\n",
    "\n",
    "**Nota** las interacciones pueden ayudar en mejorar la capacidad predictiva, pero disminuyen la interpretabilidad del modelo. Por ejemplo, que significa hp_acc = 1560 ?"
   ]
  },
  {
   "cell_type": "code",
   "execution_count": 8,
   "metadata": {},
   "outputs": [
    {
     "data": {
      "text/html": [
       "<div>\n",
       "<style scoped>\n",
       "    .dataframe tbody tr th:only-of-type {\n",
       "        vertical-align: middle;\n",
       "    }\n",
       "\n",
       "    .dataframe tbody tr th {\n",
       "        vertical-align: top;\n",
       "    }\n",
       "\n",
       "    .dataframe thead th {\n",
       "        text-align: right;\n",
       "    }\n",
       "</style>\n",
       "<table border=\"1\" class=\"dataframe\">\n",
       "  <thead>\n",
       "    <tr style=\"text-align: right;\">\n",
       "      <th></th>\n",
       "      <th>mpg</th>\n",
       "      <th>cylinders</th>\n",
       "      <th>displacement</th>\n",
       "      <th>horsepower</th>\n",
       "      <th>weight</th>\n",
       "      <th>acceleration</th>\n",
       "      <th>model year</th>\n",
       "      <th>origin</th>\n",
       "      <th>hp_acc</th>\n",
       "    </tr>\n",
       "  </thead>\n",
       "  <tbody>\n",
       "    <tr>\n",
       "      <th>0</th>\n",
       "      <td>18.0</td>\n",
       "      <td>8</td>\n",
       "      <td>307.0</td>\n",
       "      <td>130.0</td>\n",
       "      <td>3504</td>\n",
       "      <td>12.0</td>\n",
       "      <td>70</td>\n",
       "      <td>1</td>\n",
       "      <td>1560.0</td>\n",
       "    </tr>\n",
       "    <tr>\n",
       "      <th>1</th>\n",
       "      <td>15.0</td>\n",
       "      <td>8</td>\n",
       "      <td>350.0</td>\n",
       "      <td>165.0</td>\n",
       "      <td>3693</td>\n",
       "      <td>11.5</td>\n",
       "      <td>70</td>\n",
       "      <td>1</td>\n",
       "      <td>1897.5</td>\n",
       "    </tr>\n",
       "    <tr>\n",
       "      <th>2</th>\n",
       "      <td>18.0</td>\n",
       "      <td>8</td>\n",
       "      <td>318.0</td>\n",
       "      <td>150.0</td>\n",
       "      <td>3436</td>\n",
       "      <td>11.0</td>\n",
       "      <td>70</td>\n",
       "      <td>1</td>\n",
       "      <td>1650.0</td>\n",
       "    </tr>\n",
       "    <tr>\n",
       "      <th>3</th>\n",
       "      <td>16.0</td>\n",
       "      <td>8</td>\n",
       "      <td>304.0</td>\n",
       "      <td>150.0</td>\n",
       "      <td>3433</td>\n",
       "      <td>12.0</td>\n",
       "      <td>70</td>\n",
       "      <td>1</td>\n",
       "      <td>1800.0</td>\n",
       "    </tr>\n",
       "    <tr>\n",
       "      <th>4</th>\n",
       "      <td>17.0</td>\n",
       "      <td>8</td>\n",
       "      <td>302.0</td>\n",
       "      <td>140.0</td>\n",
       "      <td>3449</td>\n",
       "      <td>10.5</td>\n",
       "      <td>70</td>\n",
       "      <td>1</td>\n",
       "      <td>1470.0</td>\n",
       "    </tr>\n",
       "  </tbody>\n",
       "</table>\n",
       "</div>"
      ],
      "text/plain": [
       "    mpg  cylinders  displacement  horsepower  weight  acceleration  \\\n",
       "0  18.0          8         307.0       130.0    3504          12.0   \n",
       "1  15.0          8         350.0       165.0    3693          11.5   \n",
       "2  18.0          8         318.0       150.0    3436          11.0   \n",
       "3  16.0          8         304.0       150.0    3433          12.0   \n",
       "4  17.0          8         302.0       140.0    3449          10.5   \n",
       "\n",
       "   model year  origin  hp_acc  \n",
       "0          70       1  1560.0  \n",
       "1          70       1  1897.5  \n",
       "2          70       1  1650.0  \n",
       "3          70       1  1800.0  \n",
       "4          70       1  1470.0  "
      ]
     },
     "execution_count": 8,
     "metadata": {},
     "output_type": "execute_result"
    }
   ],
   "source": [
    "# vamos a crear una nueva columna: hp_acc\n",
    "data[\"hp_acc\"] = data[\"horsepower\"] * data[\"acceleration\"]\n",
    "\n",
    "data.head()"
   ]
  },
  {
   "cell_type": "markdown",
   "metadata": {},
   "source": [
    "tambien podemos crear interacciones con variables de texto o categoricas. veamos el ejemplo del dataset de Kaggle de los restaurantes de Chipotle en Estados Unidos. "
   ]
  },
  {
   "cell_type": "code",
   "execution_count": 9,
   "metadata": {},
   "outputs": [
    {
     "data": {
      "text/html": [
       "<div>\n",
       "<style scoped>\n",
       "    .dataframe tbody tr th:only-of-type {\n",
       "        vertical-align: middle;\n",
       "    }\n",
       "\n",
       "    .dataframe tbody tr th {\n",
       "        vertical-align: top;\n",
       "    }\n",
       "\n",
       "    .dataframe thead th {\n",
       "        text-align: right;\n",
       "    }\n",
       "</style>\n",
       "<table border=\"1\" class=\"dataframe\">\n",
       "  <thead>\n",
       "    <tr style=\"text-align: right;\">\n",
       "      <th></th>\n",
       "      <th>state</th>\n",
       "      <th>location</th>\n",
       "      <th>address</th>\n",
       "      <th>latitude</th>\n",
       "      <th>longitude</th>\n",
       "    </tr>\n",
       "  </thead>\n",
       "  <tbody>\n",
       "    <tr>\n",
       "      <th>0</th>\n",
       "      <td>Alabama</td>\n",
       "      <td>Auburn</td>\n",
       "      <td>346 W Magnolia Ave Auburn, AL 36832 US</td>\n",
       "      <td>32.606813</td>\n",
       "      <td>-85.487328</td>\n",
       "    </tr>\n",
       "    <tr>\n",
       "      <th>1</th>\n",
       "      <td>Alabama</td>\n",
       "      <td>Birmingham</td>\n",
       "      <td>300 20th St S Birmingham, AL 35233 US</td>\n",
       "      <td>33.509721</td>\n",
       "      <td>-86.802756</td>\n",
       "    </tr>\n",
       "    <tr>\n",
       "      <th>2</th>\n",
       "      <td>Alabama</td>\n",
       "      <td>Birmingham</td>\n",
       "      <td>3220 Morrow Rd Birmingham, AL 35235 US</td>\n",
       "      <td>33.595581</td>\n",
       "      <td>-86.647437</td>\n",
       "    </tr>\n",
       "    <tr>\n",
       "      <th>3</th>\n",
       "      <td>Alabama</td>\n",
       "      <td>Birmingham</td>\n",
       "      <td>4719 Highway 280 Birmingham, AL 35242 US</td>\n",
       "      <td>33.422582</td>\n",
       "      <td>-86.698279</td>\n",
       "    </tr>\n",
       "    <tr>\n",
       "      <th>4</th>\n",
       "      <td>Alabama</td>\n",
       "      <td>Cullman</td>\n",
       "      <td>1821 Cherokee Ave SW Cullman, AL 35055 US</td>\n",
       "      <td>34.154134</td>\n",
       "      <td>-86.841220</td>\n",
       "    </tr>\n",
       "  </tbody>\n",
       "</table>\n",
       "</div>"
      ],
      "text/plain": [
       "     state    location                                    address   latitude  \\\n",
       "0  Alabama      Auburn     346 W Magnolia Ave Auburn, AL 36832 US  32.606813   \n",
       "1  Alabama  Birmingham      300 20th St S Birmingham, AL 35233 US  33.509721   \n",
       "2  Alabama  Birmingham     3220 Morrow Rd Birmingham, AL 35235 US  33.595581   \n",
       "3  Alabama  Birmingham   4719 Highway 280 Birmingham, AL 35242 US  33.422582   \n",
       "4  Alabama     Cullman  1821 Cherokee Ave SW Cullman, AL 35055 US  34.154134   \n",
       "\n",
       "   longitude  \n",
       "0 -85.487328  \n",
       "1 -86.802756  \n",
       "2 -86.647437  \n",
       "3 -86.698279  \n",
       "4 -86.841220  "
      ]
     },
     "execution_count": 9,
     "metadata": {},
     "output_type": "execute_result"
    }
   ],
   "source": [
    "data = pd.read_csv(\"data/chipotle_stores.csv\")\n",
    "data.head()"
   ]
  },
  {
   "cell_type": "code",
   "execution_count": 10,
   "metadata": {},
   "outputs": [
    {
     "data": {
      "text/html": [
       "<div>\n",
       "<style scoped>\n",
       "    .dataframe tbody tr th:only-of-type {\n",
       "        vertical-align: middle;\n",
       "    }\n",
       "\n",
       "    .dataframe tbody tr th {\n",
       "        vertical-align: top;\n",
       "    }\n",
       "\n",
       "    .dataframe thead th {\n",
       "        text-align: right;\n",
       "    }\n",
       "</style>\n",
       "<table border=\"1\" class=\"dataframe\">\n",
       "  <thead>\n",
       "    <tr style=\"text-align: right;\">\n",
       "      <th></th>\n",
       "      <th>address</th>\n",
       "      <th>latitude</th>\n",
       "      <th>longitude</th>\n",
       "      <th>st_loc</th>\n",
       "    </tr>\n",
       "  </thead>\n",
       "  <tbody>\n",
       "    <tr>\n",
       "      <th>0</th>\n",
       "      <td>346 W Magnolia Ave Auburn, AL 36832 US</td>\n",
       "      <td>32.606813</td>\n",
       "      <td>-85.487328</td>\n",
       "      <td>Alabama_Auburn</td>\n",
       "    </tr>\n",
       "    <tr>\n",
       "      <th>1</th>\n",
       "      <td>300 20th St S Birmingham, AL 35233 US</td>\n",
       "      <td>33.509721</td>\n",
       "      <td>-86.802756</td>\n",
       "      <td>Alabama_Birmingham</td>\n",
       "    </tr>\n",
       "    <tr>\n",
       "      <th>2</th>\n",
       "      <td>3220 Morrow Rd Birmingham, AL 35235 US</td>\n",
       "      <td>33.595581</td>\n",
       "      <td>-86.647437</td>\n",
       "      <td>Alabama_Birmingham</td>\n",
       "    </tr>\n",
       "    <tr>\n",
       "      <th>3</th>\n",
       "      <td>4719 Highway 280 Birmingham, AL 35242 US</td>\n",
       "      <td>33.422582</td>\n",
       "      <td>-86.698279</td>\n",
       "      <td>Alabama_Birmingham</td>\n",
       "    </tr>\n",
       "    <tr>\n",
       "      <th>4</th>\n",
       "      <td>1821 Cherokee Ave SW Cullman, AL 35055 US</td>\n",
       "      <td>34.154134</td>\n",
       "      <td>-86.841220</td>\n",
       "      <td>Alabama_Cullman</td>\n",
       "    </tr>\n",
       "  </tbody>\n",
       "</table>\n",
       "</div>"
      ],
      "text/plain": [
       "                                     address   latitude  longitude  \\\n",
       "0     346 W Magnolia Ave Auburn, AL 36832 US  32.606813 -85.487328   \n",
       "1      300 20th St S Birmingham, AL 35233 US  33.509721 -86.802756   \n",
       "2     3220 Morrow Rd Birmingham, AL 35235 US  33.595581 -86.647437   \n",
       "3   4719 Highway 280 Birmingham, AL 35242 US  33.422582 -86.698279   \n",
       "4  1821 Cherokee Ave SW Cullman, AL 35055 US  34.154134 -86.841220   \n",
       "\n",
       "               st_loc  \n",
       "0      Alabama_Auburn  \n",
       "1  Alabama_Birmingham  \n",
       "2  Alabama_Birmingham  \n",
       "3  Alabama_Birmingham  \n",
       "4     Alabama_Cullman  "
      ]
     },
     "execution_count": 10,
     "metadata": {},
     "output_type": "execute_result"
    }
   ],
   "source": [
    "# Vamos a crear una nueva columna donde combinamos el state y location en una sola columna, \n",
    "# y eliminanamos state y location.\n",
    "\n",
    "data[\"st_loc\"] = data[\"state\"] + \"_\" +  data[\"location\"]\n",
    "data[\"st_loc\"] = data[\"st_loc\"].astype('category')\n",
    "\n",
    "# eliminamos las variables individuales\n",
    "data.drop('state',axis=1,inplace=True)\n",
    "data.drop('location',axis=1,inplace=True)\n",
    "\n",
    "data.head()"
   ]
  },
  {
   "cell_type": "code",
   "execution_count": 11,
   "metadata": {},
   "outputs": [
    {
     "data": {
      "text/plain": [
       "Index(['Alabama_Auburn', 'Alabama_Birmingham', 'Alabama_Cullman',\n",
       "       'Alabama_Hoover', 'Alabama_Huntsville', 'Alabama_Mobile',\n",
       "       'Alabama_Montgomery', 'Alabama_Opelika', 'Alabama_Prattville',\n",
       "       'Alabama_Tuscaloosa',\n",
       "       ...\n",
       "       'Wisconsin_Hudson', 'Wisconsin_Janesville', 'Wisconsin_Madison',\n",
       "       'Wisconsin_Menomonee Falls', 'Wisconsin_Middleton',\n",
       "       'Wisconsin_Milwaukee', 'Wisconsin_Mount Pleasant',\n",
       "       'Wisconsin_Pleasant Prairie', 'Wisconsin_Wauwatosa',\n",
       "       'Wyoming_Cheyenne'],\n",
       "      dtype='object', length=1521)"
      ]
     },
     "execution_count": 11,
     "metadata": {},
     "output_type": "execute_result"
    }
   ],
   "source": [
    "# revismos cuantas categorias hay en st_loc\n",
    "data[\"st_loc\"].cat.categories.unique()"
   ]
  },
  {
   "cell_type": "markdown",
   "metadata": {},
   "source": [
    "### Normalizacion\n",
    "\n",
    "Muchos algoritmos de aprendizaje automático son sensibles a las dimensiones, grados de libertad y magnitudes de las columnas de los dataset. Por tanto es importante conocer algunas formas de reducir este impacto mediante técnicas de normalizacion: escalamiento y estandarización. "
   ]
  },
  {
   "cell_type": "markdown",
   "metadata": {},
   "source": [
    "#### Escalas\n",
    "\n",
    "Cuando pensamos en escalas, tratamos de transformar los datos de su estado actual a un rango tal como [0,1] o [-1,1]. Cuando escalamos datos, la distribución de los datos no cambia, solamente cambiamos la proporción. Esta técnica es particularmente útil para algoritmos sensibles a las distancias entre los datos tales como SVM y KNN. \n",
    "\n",
    "A continuación, vamos a explorar las técnicas más populares de “scaling” con Sklearn.\n",
    "\n",
    "Existen otras opciones tambien como:\n",
    "- Student t-statistic\n",
    "- Standarized Moment"
   ]
  },
  {
   "cell_type": "markdown",
   "metadata": {},
   "source": [
    "#### **MinMaxScaler**\n",
    "\n",
    "Transforma los datos en el rango de [0,1]\n",
    "\n",
    "Fórmula:\n",
    "\n",
    "$x_{scaled}=\\frac{x-min(X)}{max(X)-min(X)}$"
   ]
  },
  {
   "cell_type": "code",
   "execution_count": 12,
   "metadata": {},
   "outputs": [
    {
     "data": {
      "text/plain": [
       "array([[0.  ],\n",
       "       [0.25],\n",
       "       [0.7 ],\n",
       "       [0.55],\n",
       "       [0.5 ],\n",
       "       [0.6 ],\n",
       "       [0.7 ],\n",
       "       [0.8 ],\n",
       "       [0.9 ],\n",
       "       [1.  ]])"
      ]
     },
     "execution_count": 12,
     "metadata": {},
     "output_type": "execute_result"
    }
   ],
   "source": [
    "from sklearn.preprocessing import MinMaxScaler\n",
    "import numpy as np\n",
    "\n",
    "X = np.array([-10,-5,4,1,0,2,4,6,8,10]).reshape(-1,1)\n",
    "scaler = MinMaxScaler().fit(X)\n",
    "\n",
    "scaler.transform(X)"
   ]
  },
  {
   "cell_type": "markdown",
   "metadata": {},
   "source": [
    "#### **StandardScaler**\n",
    "\n",
    "Esta técnica hace que la media de los datos generados sea 0 con una desviación standard de 0.  Esto causa que el 68% de los datos quede entre -1 y 1.\n",
    "\n",
    "Fórmula:\n",
    "\n",
    "$z=\\frac{x-u}{s}$\n",
    "\n",
    "donde:\n",
    "- u: es la media del training set\n",
    "- s: es la desviacion standard"
   ]
  },
  {
   "cell_type": "code",
   "execution_count": 13,
   "metadata": {},
   "outputs": [
    {
     "data": {
      "text/plain": [
       "array([[-2.11472213],\n",
       "       [-1.23358791],\n",
       "       [ 0.35245369],\n",
       "       [-0.17622684],\n",
       "       [-0.35245369],\n",
       "       [ 0.        ],\n",
       "       [ 0.35245369],\n",
       "       [ 0.70490738],\n",
       "       [ 1.05736107],\n",
       "       [ 1.40981475]])"
      ]
     },
     "execution_count": 13,
     "metadata": {},
     "output_type": "execute_result"
    }
   ],
   "source": [
    "from sklearn.preprocessing import StandardScaler\n",
    "import numpy as np\n",
    "\n",
    "X = np.array([-10,-5,4,1,0,2,4,6,8,10]).reshape(-1,1)\n",
    "scaler = StandardScaler().fit(X)\n",
    "\n",
    "scaler.transform(X)"
   ]
  },
  {
   "cell_type": "markdown",
   "metadata": {},
   "source": [
    "#### **RobustScaler**\n",
    "\n",
    "Esta técnica hace uso de estadísticas que son robustas en la presencia de “outliers”. Es similar al MinMaxScaler, solo que en lugar de usar el min y el max, usa el IQR.\n",
    "\n",
    "Este escalador elimina la mediana y escala los datos de acuerdo con el rango de cuantiles (el valor predeterminado es IQR: rango intercuartílico). El IQR es el rango entre el primer cuartil (cuantil 25) y el tercer cuartil (cuantil 75).\n",
    "\n",
    "Fórmula:\n",
    "\n",
    "$x_{scaled}=\\frac{x-Q_1(x)}{Q_3(x)-x-Q_1(x)}$\n",
    "\n",
    "donde:\n",
    "- Q: son los IQRs\n",
    "\n",
    "<a href=\"https://www.khanacademy.org/math/ap-statistics/summarizing-quantitative-data-ap/measuring-spread-quantitative/v/calculating-interquartile-range-iqr\">Que es el IQR?</a>"
   ]
  },
  {
   "cell_type": "code",
   "execution_count": 14,
   "metadata": {},
   "outputs": [
    {
     "data": {
      "text/plain": [
       "array([[ -2.15384615],\n",
       "       [ -1.38461538],\n",
       "       [  0.        ],\n",
       "       [ -0.46153846],\n",
       "       [ -0.61538462],\n",
       "       [ -0.30769231],\n",
       "       [  0.        ],\n",
       "       [  0.30769231],\n",
       "       [  0.61538462],\n",
       "       [  0.92307692],\n",
       "       [153.23076923]])"
      ]
     },
     "execution_count": 14,
     "metadata": {},
     "output_type": "execute_result"
    }
   ],
   "source": [
    "from sklearn.preprocessing import RobustScaler\n",
    "import numpy as np\n",
    "\n",
    "X = np.array([-10,-5,4,1,0,2,4,6,8,10,1000]).reshape(-1,1)\n",
    "scaler = RobustScaler().fit(X)\n",
    "\n",
    "scaler.transform(X)"
   ]
  },
  {
   "cell_type": "markdown",
   "metadata": {},
   "source": [
    "#### Estandarización (Transformaciones)"
   ]
  },
  {
   "cell_type": "markdown",
   "metadata": {},
   "source": [
    "#### **Mapeo de datos hacia una distribución Gaussiana (Box-Cox & Yeo-johnson)** \n",
    "\n",
    "Esta es una técnica útil cuando los datos presentan heterocedasticidad.  Algo que pasa con regularidad en modelos de regresión lineal.\n",
    "\n",
    "PowerTransformer permite la transformación Box-Cox y la transformación Yeo-Johnson. Box-Cox requiere que los datos de entrada sean estrictamente positivos, mientras que Yeo-Johnson admite datos tanto positivos como negativos."
   ]
  },
  {
   "cell_type": "code",
   "execution_count": 15,
   "metadata": {},
   "outputs": [
    {
     "data": {
      "image/png": "[encoded data removed]",
      "text/plain": [
       "<Figure size 432x288 with 1 Axes>"
      ]
     },
     "metadata": {
      "needs_background": "light"
     },
     "output_type": "display_data"
    }
   ],
   "source": [
    "import pandas as pd\n",
    "import matplotlib.pyplot as plt \n",
    "data = pd.read_csv('https://gist.githubusercontent.com/sachinsdate/c2a92fd009c62fee9364c835aff7e2f0/raw/424abc43c42647f5d8831241ee92c7d3093dc610/monthly_gold_price_index_fred.csv')\n",
    "\n",
    "plt.scatter(data.DATE, data.Export_Price_Index_of_Gold)\n",
    "plt.xticks([])\n",
    "plt.show()"
   ]
  },
  {
   "cell_type": "code",
   "execution_count": 16,
   "metadata": {},
   "outputs": [
    {
     "data": {
      "image/png": "[encoded data removed]",
      "text/plain": [
       "<Figure size 432x288 with 1 Axes>"
      ]
     },
     "metadata": {
      "needs_background": "light"
     },
     "output_type": "display_data"
    }
   ],
   "source": [
    "import numpy as np\n",
    "from sklearn.preprocessing import PowerTransformer # Yeo-johnson por defecto.\n",
    "\n",
    "x = data.Export_Price_Index_of_Gold\n",
    "\n",
    "pt = PowerTransformer().fit(np.array(x).reshape(-1,1))\n",
    "price = pt.transform(np.array(x).reshape(-1,1))\n",
    "\n",
    "plt.scatter(data.DATE, price)\n",
    "plt.xticks([])\n",
    "plt.show()"
   ]
  },
  {
   "cell_type": "markdown",
   "metadata": {},
   "source": [
    "#### Transformacion con np.log"
   ]
  },
  {
   "cell_type": "code",
   "execution_count": 17,
   "metadata": {},
   "outputs": [
    {
     "data": {
      "image/png": "[encoded data removed]",
      "text/plain": [
       "<Figure size 432x288 with 1 Axes>"
      ]
     },
     "metadata": {
      "needs_background": "light"
     },
     "output_type": "display_data"
    }
   ],
   "source": [
    "x = data.Export_Price_Index_of_Gold\n",
    "price = np.array(x).reshape(-1,1)\n",
    "\n",
    "# Log Transform!\n",
    "price = np.log(price)\n",
    "\n",
    "plt.scatter(data.DATE, price)\n",
    "plt.xticks([])\n",
    "plt.show()"
   ]
  },
  {
   "cell_type": "markdown",
   "metadata": {},
   "source": [
    "#### **Normalización L1 y L2**\n",
    "\n",
    "La normalización es el proceso de escalar muestras individuales para tener una norma unitaria. Esto permite calcular la magnitud de los vectores o matrices. \n",
    "\n",
    "- L1: es la suma de los values absolutos del vector. L1(v) = ||v||1\n",
    "- L2: es raiz de la suma de los de los valores del vector al cuadrado. L2(v) = sqrt(a1^2 + ... + ak^2)"
   ]
  },
  {
   "cell_type": "code",
   "execution_count": null,
   "metadata": {},
   "outputs": [],
   "source": [
    "from sklearn.preprocessing import normalize\n",
    "\n",
    "X = [[ 1., -1.,  2.],\n",
    "     [ 2.,  0.,  0.],\n",
    "     [ 0.,  1., -1.]]\n",
    "\n",
    "X_normalized = normalize(X, norm='l2')\n",
    "\n",
    "X_normalized"
   ]
  },
  {
   "cell_type": "code",
   "execution_count": null,
   "metadata": {},
   "outputs": [],
   "source": [
    "from sklearn.preprocessing import normalize\n",
    "\n",
    "X = [[ 1., -1.,  2.],\n",
    "     [ 2.,  0.,  0.],\n",
    "     [ 0.,  1., -1.]]\n",
    "\n",
    "X_normalized = normalize(X, norm='l1')\n",
    "\n",
    "X_normalized"
   ]
  }
 ],
 "metadata": {
  "kernelspec": {
   "display_name": "Python 3",
   "language": "python",
   "name": "python3"
  },
  "language_info": {
   "codemirror_mode": {
    "name": "ipython",
    "version": 3
   },
   "file_extension": ".py",
   "mimetype": "text/x-python",
   "name": "python",
   "nbconvert_exporter": "python",
   "pygments_lexer": "ipython3",
   "version": "3.8.4"
  }
 },
 "nbformat": 4,
 "nbformat_minor": 4
}
