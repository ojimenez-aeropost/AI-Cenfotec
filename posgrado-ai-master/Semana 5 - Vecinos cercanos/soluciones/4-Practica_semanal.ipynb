{
 "cells": [
  {
   "cell_type": "markdown",
   "metadata": {},
   "source": [
    "# Práctica semanal\n",
    "\n",
    "## Primer ejercicio: *k*-NN\n",
    "\n",
    "Retomemos nuestro dataset geográfico de provincias"
   ]
  },
  {
   "cell_type": "code",
   "execution_count": null,
   "metadata": {},
   "outputs": [],
   "source": [
    "# Cargamos bibliotecas importantes\n",
    "import pandas as pd\n",
    "import numpy as np\n",
    "import matplotlib.pyplot as plt\n",
    "from sklearn.linear_model import LogisticRegression\n",
    "from sklearn import preprocessing\n",
    "\n",
    "# Cargamos el dataset de provincias\n",
    "provincias_data = pd.read_csv('../data/provincias_scaled.csv')\n",
    "\n",
    "# Y mostramos los puntos en el mapa\n",
    "# Primero, codifiquemos las provincias en 0-6\n",
    "le = preprocessing.LabelEncoder()\n",
    "le.fit(provincias_data['provincia'])\n",
    "c = le.transform(provincias_data['provincia'])\n",
    "\n",
    "# Leemos el archivo\n",
    "im = plt.imread('../data/mapaCR.png')\n",
    "implot = plt.imshow(im)\n",
    "\n",
    "# Escalamos los arrays en 0-1\n",
    "p_long = provincias_data['long']\n",
    "p_lat = provincias_data['lat']\n",
    "\n",
    "# Dibujamos (con un pequeño offset empírico para que caiga en la imágen)\n",
    "plt.scatter((im.shape[0]*p_long)*0.95 + 25, (im.shape[1]*(1-p_lat))*0.8 + 20, c=c)\n",
    "plt.show()"
   ]
  },
  {
   "cell_type": "markdown",
   "metadata": {},
   "source": [
    "Vamos a probar distintos valores de $k$ en nuestro clasificador *k*-NN para ver su efecto en un dataset multiclase."
   ]
  },
  {
   "cell_type": "code",
   "execution_count": null,
   "metadata": {},
   "outputs": [],
   "source": [
    "# Obtenemos la envolvente convexa del territorio nacional\n",
    "from scipy.spatial import Delaunay\n",
    "points = np.array((p_long, p_lat)).T\n",
    "hull = Delaunay(points)\n",
    "\n",
    "# Generaremos un grid de prueba filtrado por la envolvente convexa\n",
    "XX, YY = np.meshgrid(np.linspace(0, 1, 100), np.linspace(0, 1, 100))\n",
    "pos = np.vstack([XX.ravel(), YY.ravel()]).T\n",
    "samples = np.array([x for x in pos if hull.find_simplex(x) >= 0]).T"
   ]
  },
  {
   "cell_type": "code",
   "execution_count": null,
   "metadata": {},
   "outputs": [],
   "source": [
    "### EJERCICIO 1 (5pt)\n",
    "### Entrenar modelos de clasificación KNN para k={1, 3, 5, 10, 30, 100, 200}\n",
    "from sklearn.neighbors import KNeighborsClassifier\n",
    "\n",
    "## Entrenaremos los modelos usando los datos 'points' contra la variable provincias_data['provincia'] como target\n",
    "\n",
    "knn_1 = KNeighborsClassifier(n_neighbors=1).fit(points, provincias_data['provincia'])\n",
    "knn_3 = KNeighborsClassifier(n_neighbors=3).fit(points, provincias_data['provincia'])\n",
    "knn_5 = KNeighborsClassifier(n_neighbors=5).fit(points, provincias_data['provincia'])\n",
    "knn_10 = KNeighborsClassifier(n_neighbors=10).fit(points, provincias_data['provincia'])\n",
    "knn_30 = KNeighborsClassifier(n_neighbors=30).fit(points, provincias_data['provincia'])\n",
    "knn_100 = KNeighborsClassifier(n_neighbors=100).fit(points, provincias_data['provincia'])\n",
    "knn_200 = KNeighborsClassifier(n_neighbors=200).fit(points, provincias_data['provincia'])\n",
    "\n",
    "## Luego, evaluaremos las predicciones con los valores del array \"samples\"\n",
    "preds_knn_1 = knn_1.predict(samples.T)\n",
    "preds_knn_3 = knn_3.predict(samples.T)\n",
    "preds_knn_5 = knn_5.predict(samples.T)\n",
    "preds_knn_10 = knn_10.predict(samples.T)\n",
    "preds_knn_30 = knn_30.predict(samples.T)\n",
    "preds_knn_100 = knn_100.predict(samples.T)\n",
    "preds_knn_200 = knn_200.predict(samples.T)\n",
    "\n",
    "knn = KNeighborsClassifier(n_neighbors=2)\n",
    "knn.fit(points, provincias_data['provincia'])\n",
    "preds_knn = knn.predict(samples.T)"
   ]
  },
  {
   "cell_type": "code",
   "execution_count": null,
   "metadata": {},
   "outputs": [],
   "source": [
    "### Utilice esta celda para probar los resultados de sus modelos ###\n",
    "\n",
    "im = plt.imread('../data/mapaCR.png')\n",
    "implot = plt.imshow(im)\n",
    "plt.scatter((samples[0]*im.shape[0])*0.95 + 25, ((1.0-samples[1])*im.shape[1])*0.8 + 20,c=le.transform(preds_knn_1), alpha=0.1)\n",
    "plt.title(\"k=1\")\n",
    "plt.show()\n",
    "\n",
    "im = plt.imread('../data/mapaCR.png')\n",
    "implot = plt.imshow(im)\n",
    "plt.scatter((samples[0]*im.shape[0])*0.95 + 25, ((1.0-samples[1])*im.shape[1])*0.8 + 20,c=le.transform(preds_knn_3), alpha=0.1)\n",
    "plt.title(\"k=3\")\n",
    "plt.show()\n",
    "\n",
    "im = plt.imread('../data/mapaCR.png')\n",
    "implot = plt.imshow(im)\n",
    "plt.scatter((samples[0]*im.shape[0])*0.95 + 25, ((1.0-samples[1])*im.shape[1])*0.8 + 20,c=le.transform(preds_knn_5), alpha=0.1)\n",
    "plt.title(\"k=5\")\n",
    "plt.show()\n",
    "\n",
    "im = plt.imread('../data/mapaCR.png')\n",
    "implot = plt.imshow(im)\n",
    "plt.scatter((samples[0]*im.shape[0])*0.95 + 25, ((1.0-samples[1])*im.shape[1])*0.8 + 20,c=le.transform(preds_knn_10), alpha=0.1)\n",
    "plt.title(\"k=10\")\n",
    "plt.show()\n",
    "\n",
    "im = plt.imread('../data/mapaCR.png')\n",
    "implot = plt.imshow(im)\n",
    "plt.scatter((samples[0]*im.shape[0])*0.95 + 25, ((1.0-samples[1])*im.shape[1])*0.8 + 20,c=le.transform(preds_knn_30), alpha=0.1)\n",
    "plt.title(\"k=30\")\n",
    "plt.show()\n",
    "\n",
    "im = plt.imread('../data/mapaCR.png')\n",
    "implot = plt.imshow(im)\n",
    "plt.scatter((samples[0]*im.shape[0])*0.95 + 25, ((1.0-samples[1])*im.shape[1])*0.8 + 20,c=le.transform(preds_knn_100), alpha=0.1)\n",
    "plt.title(\"k=100\")\n",
    "plt.show()\n",
    "\n",
    "im = plt.imread('../data/mapaCR.png')\n",
    "implot = plt.imshow(im)\n",
    "plt.scatter((samples[0]*im.shape[0])*0.95 + 25, ((1.0-samples[1])*im.shape[1])*0.8 + 20,c=le.transform(preds_knn_200), alpha=0.1)\n",
    "plt.title(\"k=200\")\n",
    "plt.show()"
   ]
  },
  {
   "cell_type": "markdown",
   "metadata": {},
   "source": [
    "## Segundo ejercicio: reducción de la dimensionalidad\n",
    "\n",
    "Utilizaremos un dataset llamado ``waveform``, que tiene 40 columnas numéricas para clasificar formas de onda en tres clases ``0``, ``1`` y ``2``. "
   ]
  },
  {
   "cell_type": "code",
   "execution_count": null,
   "metadata": {},
   "outputs": [],
   "source": [
    "# Leemos el dataset\n",
    "waveform = pd.read_csv('../data/waveform.csv')\n",
    "\n",
    "# Tomamos las columnas independientes\n",
    "wave_x_all = np.array(waveform.loc[:, waveform.columns != 'class'])\n",
    "\n",
    "# Y la dependiente\n",
    "wave_y_all = np.array(waveform['class'])\n",
    "\n",
    "# Los separamos en dos conjuntos entrenamiento/pruebas\n",
    "wave_x_train = wave_x_all[:4000]\n",
    "wave_y_train = wave_y_all[:4000]\n",
    "wave_x_test = wave_x_all[4000:]\n",
    "wave_y_test = wave_y_all[4000:]"
   ]
  },
  {
   "cell_type": "code",
   "execution_count": null,
   "metadata": {},
   "outputs": [],
   "source": [
    "## EJERCICIO 1 (1pt): Entrenar un modelo k-NN con k=10 y reportar la precisión\n",
    "\n",
    "knn = KNeighborsClassifier(n_neighbors=10).fit(wave_x_train, wave_y_train)\n",
    "(knn.predict(wave_x_test) == wave_y_test).mean()"
   ]
  },
  {
   "cell_type": "code",
   "execution_count": null,
   "metadata": {},
   "outputs": [],
   "source": [
    "## EJERCICIO 2 (2pt): Reducir la dimensionalidad utilizando análisis de discriminante lineal a 2 dimensiones y dibujarlo\n",
    "## IMPORTANTE: utilizar el mismo modelo para reducir los datos de prueba\n",
    "from sklearn.discriminant_analysis import LinearDiscriminantAnalysis\n",
    "\n",
    "lda = LinearDiscriminantAnalysis(n_components=2).fit(wave_x_train, wave_y_train)\n",
    "\n",
    "wave_x_reduced_train = lda.transform(wave_x_train).T\n",
    "wave_x_reduced_test = lda.transform(wave_x_test).T\n",
    "\n",
    "plt.scatter(wave_x_reduced_train[0], wave_x_reduced_train[1], c=['red' if x==0 else 'blue' if x==1 else 'black' for x in wave_y_train])"
   ]
  },
  {
   "cell_type": "code",
   "execution_count": null,
   "metadata": {},
   "outputs": [],
   "source": [
    "## EJERCICIO 3 (2pt): Entrenar un clasificador k-NN con los datos reducidos por discriminante lineal. \n",
    "\n",
    "knn = KNeighborsClassifier(n_neighbors=10).fit(wave_x_reduced_train.T, wave_y_train)\n",
    "\n",
    "(knn.predict(wave_x_reduced_test.T) == wave_y_test).mean()"
   ]
  },
  {
   "cell_type": "code",
   "execution_count": null,
   "metadata": {},
   "outputs": [],
   "source": []
  }
 ],
 "metadata": {
  "kernelspec": {
   "display_name": "Python 3",
   "language": "python",
   "name": "python3"
  },
  "language_info": {
   "codemirror_mode": {
    "name": "ipython",
    "version": 3
   },
   "file_extension": ".py",
   "mimetype": "text/x-python",
   "name": "python",
   "nbconvert_exporter": "python",
   "pygments_lexer": "ipython3",
   "version": "3.6.10"
  }
 },
 "nbformat": 4,
 "nbformat_minor": 2
}
