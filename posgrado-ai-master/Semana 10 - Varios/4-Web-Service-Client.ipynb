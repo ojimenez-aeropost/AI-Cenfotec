{
 "cells": [
  {
   "cell_type": "markdown",
   "metadata": {},
   "source": [
    "## Web Service Client\n",
    "\n",
    "En este notebook vamos a consumir un servicio de machine learning. El servicio debe ser levantando con el script server.py por separado."
   ]
  },
  {
   "cell_type": "code",
   "execution_count": 16,
   "metadata": {},
   "outputs": [
    {
     "name": "stdout",
     "output_type": "stream",
     "text": [
      "{'Prediccion': 2}\n"
     ]
    }
   ],
   "source": [
    "import requests\n",
    "\n",
    "# url del servicio\n",
    "url = 'http://127.0.0.1:1080/predict'\n",
    "\n",
    "# cuerpo del mensaje\n",
    "body = {\n",
    "    \"petal_length\": \"2.1\",\n",
    "    \"sepal_length\": \"2\",\n",
    "    \"petal_width\": \"0.5\",\n",
    "    \"sepal_width\": \"3\"\n",
    "}\n",
    "\n",
    "# enviamos los datos por POST\n",
    "response = requests.post(url, data=body)\n",
    "\n",
    "# imprimimos el mensaje\n",
    "print(response.json())"
   ]
  },
  {
   "cell_type": "markdown",
   "metadata": {},
   "source": [
    "### EJERCICIO 1: \n",
    "\n",
    "Modifique el server.py para que acepte requests por GET. Modifique el codigo del cliente para enviar los datos por GET"
   ]
  },
  {
   "cell_type": "code",
   "execution_count": 17,
   "metadata": {},
   "outputs": [],
   "source": [
    "# DEFINA SU CLIENTE GET AQUI:"
   ]
  },
  {
   "cell_type": "markdown",
   "metadata": {},
   "source": [
    "### EJERCICIO 2:\n",
    "\n",
    "* Entrene un modelo de machine learning con MNIST y salve su modelo en un archivo pickle. [https://scikit-learn.org/stable/auto_examples/linear_model/plot_sparse_logistic_regression_mnist.html]\n",
    "* Modifique el server.py para que agregue la ruta /predict-catvsdogs y que sea capaz de predecir si una imagen es un perro o un gato\n",
    "* Va a enviar la imagen desde el cliente (este notebook) como un base64 hacia el server.py\n",
    "* el server.py va recibir la imagen la reconstruye en una imagen nuevamente y la manda al modelo de ML\n",
    "* ademas de recibir la imagen, va a salvar la imagen en un folder con su formato (png, jpg, etc) con el nombre de la clase (ejemplo cat.098234.jpg), el numero en la imagen debe ser un numero aleatorio para que no se sobrescriba la imagen en el folder."
   ]
  },
  {
   "cell_type": "code",
   "execution_count": null,
   "metadata": {},
   "outputs": [],
   "source": [
    "# DEFINA SU CLIENTE GET AQUI:"
   ]
  }
 ],
 "metadata": {
  "kernelspec": {
   "display_name": "Python 3",
   "language": "python",
   "name": "python3"
  },
  "language_info": {
   "codemirror_mode": {
    "name": "ipython",
    "version": 3
   },
   "file_extension": ".py",
   "mimetype": "text/x-python",
   "name": "python",
   "nbconvert_exporter": "python",
   "pygments_lexer": "ipython3",
   "version": "3.6.10"
  }
 },
 "nbformat": 4,
 "nbformat_minor": 4
}
