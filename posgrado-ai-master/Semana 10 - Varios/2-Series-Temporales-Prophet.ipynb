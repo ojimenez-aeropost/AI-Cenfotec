{
 "cells": [
  {
   "cell_type": "markdown",
   "metadata": {},
   "source": [
    "## Series Temporales con quandl & Facebook Prophet\n",
    "\n",
    "La predicción de series temporales puede ser algo complejo. Esta tarea se facilita con el paquete Prophet de facebook. A continuación, vamos a explorar las acciones de la empresa Tesla (TSLA) del 2011 al 2018. Vamos a ver lo sencillo que es crear una proyección para el 2019.\n",
    "\n",
    "Para descargar los datos de TESLA, lo podemos hacer a traves del API de quandl. Obtener un key es gratuito y podemos realizarlo en https://www.quandl.com/. Para obtener una llave sin costo, registrese como estudiante con su cuenta de ucenfotec. Debe activar el link en su correo para que funcione."
   ]
  },
  {
   "cell_type": "code",
   "execution_count": null,
   "metadata": {},
   "outputs": [],
   "source": [
    "quandl_key = 'mzbz-NvFsKvi5nu9uZ4x'\n",
    "#!pip3 install quandl"
   ]
  },
  {
   "cell_type": "code",
   "execution_count": null,
   "metadata": {},
   "outputs": [],
   "source": [
    "import quandl\n",
    "import pandas as pd\n",
    "import matplotlib.pyplot as plt"
   ]
  },
  {
   "cell_type": "code",
   "execution_count": null,
   "metadata": {},
   "outputs": [],
   "source": [
    "# obtener acciones de TESLA de quandl\n",
    "quandl.ApiConfig.api_key = quandl_key\n",
    "data = quandl.get('WIKI/TSLA')\n",
    "\n",
    "data.head()"
   ]
  },
  {
   "cell_type": "markdown",
   "metadata": {},
   "source": [
    "### Cargar los datos de TESLA "
   ]
  },
  {
   "cell_type": "code",
   "execution_count": null,
   "metadata": {},
   "outputs": [],
   "source": [
    "plt.plot(data.index, data['Adj. Close'], 'r')\n",
    "plt.title('Tesla Stock al Cierre')\n",
    "plt.ylabel('Precio ($)');\n",
    "plt.show();"
   ]
  },
  {
   "cell_type": "markdown",
   "metadata": {},
   "source": [
    "### Instalar Prophet y crear el dataframe"
   ]
  },
  {
   "cell_type": "code",
   "execution_count": null,
   "metadata": {},
   "outputs": [],
   "source": [
    "import os\n",
    "os.environ['NUMEXPR_MAX_THREADS'] = '16'\n",
    "os.environ['NUMEXPR_NUM_THREADS'] = '8'\n",
    "import numexpr as ne"
   ]
  },
  {
   "cell_type": "code",
   "execution_count": null,
   "metadata": {},
   "outputs": [],
   "source": [
    "# https://facebook.github.io/prophet/docs/quick_start.html\n",
    "# https://en.wikipedia.org/wiki/Additive_model\n",
    "#!pip3 install fbprophet\n",
    "import fbprophet as pf"
   ]
  },
  {
   "cell_type": "code",
   "execution_count": null,
   "metadata": {},
   "outputs": [],
   "source": [
    "# vamos a crear un nuevo dataframe para simplificar el analisis\n",
    "tesla = pd.DataFrame({'ds': data.index.values, 'y': data['Adj. Close']})\n",
    "tesla.head()"
   ]
  },
  {
   "cell_type": "code",
   "execution_count": null,
   "metadata": {},
   "outputs": [],
   "source": [
    "# si hay error upgrade pystan 2.19.1.1\n",
    "# model fitting!\n",
    "m = pf.Prophet(daily_seasonality=True)\n",
    "m.fit(tesla)"
   ]
  },
  {
   "cell_type": "code",
   "execution_count": null,
   "metadata": {},
   "outputs": [],
   "source": [
    "# vamos a crear la prediccion a futuro con intervalos de confianza.\n",
    "future = m.make_future_dataframe(periods=365)\n",
    "forecast = m.predict(future)\n",
    "forecast[['ds', 'yhat', 'yhat_lower', 'yhat_upper']].tail()"
   ]
  },
  {
   "cell_type": "code",
   "execution_count": null,
   "metadata": {},
   "outputs": [],
   "source": [
    "fig = m.plot(forecast)"
   ]
  },
  {
   "cell_type": "markdown",
   "metadata": {},
   "source": [
    "### Desplegar Prediccion y Componentes"
   ]
  },
  {
   "cell_type": "code",
   "execution_count": null,
   "metadata": {},
   "outputs": [],
   "source": [
    "fig2 = m.plot_components(forecast)"
   ]
  },
  {
   "cell_type": "markdown",
   "metadata": {},
   "source": [
    "### Visualizacion Interactiva con Plotly"
   ]
  },
  {
   "cell_type": "code",
   "execution_count": null,
   "metadata": {},
   "outputs": [],
   "source": [
    "from fbprophet.plot import plot_plotly, plot_components_plotly\n",
    "\n",
    "plot_plotly(m, forecast)"
   ]
  },
  {
   "cell_type": "code",
   "execution_count": null,
   "metadata": {},
   "outputs": [],
   "source": [
    "# componentes intectactivos con plotly\n",
    "plot_components_plotly(m, forecast)"
   ]
  },
  {
   "cell_type": "markdown",
   "metadata": {},
   "source": [
    "## Resampling & Rolling Windows"
   ]
  },
  {
   "cell_type": "code",
   "execution_count": null,
   "metadata": {},
   "outputs": [],
   "source": [
    "resample_weekly = data['Adj. Close'].resample('Y').mean()\n",
    "\n",
    "plt.plot(tesla.index, data['Adj. Close'], 'r')\n",
    "plt.plot(resample_weekly)\n",
    "plt.title('Tesla Stock al Cierre (Resampled)')\n",
    "plt.ylabel('Precio ($)');\n",
    "plt.show();"
   ]
  },
  {
   "cell_type": "code",
   "execution_count": null,
   "metadata": {},
   "outputs": [],
   "source": [
    "window_365d = data['Adj. Close'].rolling(window=100, center=True).mean()\n",
    "\n",
    "plt.plot(data.index, data['Adj. Close'], 'r')\n",
    "plt.plot(window_365d)\n",
    "plt.title('Tesla Stock al Cierre (Rolling Window)')\n",
    "plt.ylabel('Precio ($)');\n",
    "plt.show();"
   ]
  },
  {
   "cell_type": "markdown",
   "metadata": {},
   "source": [
    "## Auto-Regression\n",
    "\n",
    "El método de autorregresión (AR) modela el siguiente paso en la secuencia como una función lineal de las observaciones en los pasos de tiempo anteriores.\n",
    "\n",
    "La notación del modelo implica especificar el orden del modelo p como parámetro de la función AR, p. Ej. AR (p). Por ejemplo, AR (1) es un modelo de autorregresión de primer orden.\n",
    "\n",
    "El método es adecuado para series de tiempo univariadas sin tendencia ni componentes estacionales.\n",
    "\n",
    "<img src=\"https://wikimedia.org/api/rest_v1/media/math/render/svg/7252143f217525cfbf556ff59ebafacf13e638cb\" />"
   ]
  },
  {
   "cell_type": "code",
   "execution_count": null,
   "metadata": {},
   "outputs": [],
   "source": [
    "# https://www.statsmodels.org/stable/generated/statsmodels.tsa.ar_model.AutoReg.html\n",
    "\n",
    "from statsmodels.tsa.ar_model import AutoReg\n",
    "x = data['Adj. Close'].values\n",
    "\n",
    "# modelo\n",
    "model = AutoReg(x, lags=1, seasonal=True, period=365)\n",
    "model_fit = model.fit()\n",
    "\n",
    "# prediccion\n",
    "predict = model_fit.predict(\n",
    "    start=len(x), \n",
    "    end=len(x) + len(x)-1, \n",
    "    dynamic=True)\n",
    "\n",
    "plt.plot(data.index, data['Adj. Close'], 'r')\n",
    "plt.plot(data.index, predict)\n",
    "plt.title('Tesla Stock al Cierre (Prediccion: AR)')\n",
    "plt.ylabel('Precio ($)');\n",
    "plt.show();"
   ]
  }
 ],
 "metadata": {
  "kernelspec": {
   "display_name": "Python 3",
   "language": "python",
   "name": "python3"
  },
  "language_info": {
   "codemirror_mode": {
    "name": "ipython",
    "version": 3
   },
   "file_extension": ".py",
   "mimetype": "text/x-python",
   "name": "python",
   "nbconvert_exporter": "python",
   "pygments_lexer": "ipython3",
   "version": "3.6.10"
  }
 },
 "nbformat": 4,
 "nbformat_minor": 4
}
